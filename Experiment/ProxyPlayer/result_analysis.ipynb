{
 "cells": [
  {
   "cell_type": "code",
   "execution_count": 1209,
   "metadata": {
    "collapsed": true
   },
   "outputs": [],
   "source": [
    "import pandas as pd\n",
    "import matplotlib.pyplot as plt\n",
    "from sklearn.manifold import TSNE\n",
    "import seaborn as sns\n",
    "import re\n",
    "from os import path\n",
    "from glob import glob\n",
    "from tqdm import tqdm\n",
    "import numpy as np\n",
    "from matplotlib import cm\n",
    "from pprint import pprint"
   ]
  },
  {
   "cell_type": "code",
   "execution_count": 1210,
   "metadata": {
    "collapsed": false,
    "pycharm": {
     "name": "#%%\n"
    }
   },
   "outputs": [],
   "source": [
    "ROOT_PATH = '\\\\\\\\CILab_NAS_Data/homes/inchang/PuzzlePCG/ProxyPlayer'"
   ]
  },
  {
   "cell_type": "code",
   "execution_count": 1211,
   "metadata": {
    "collapsed": false,
    "pycharm": {
     "name": "#%%\n"
    }
   },
   "outputs": [],
   "source": [
    "files = glob(path.join(ROOT_PATH, '*', 'MatchResult_*.csv'))\n"
   ]
  },
  {
   "cell_type": "code",
   "execution_count": 1212,
   "metadata": {
    "collapsed": false,
    "pycharm": {
     "name": "#%%\n"
    }
   },
   "outputs": [],
   "source": [
    "StatisticsColumns = [\n",
    "    'ReachedKnowledgeStep',\n",
    "    #'AlmostReachedKnowledgeStep',\n",
    "    'Matched_HorizontalPiece', 'Matched_VerticalPiece', 'Matched_CrossPiece', 'Matched_RocketPiece', 'Matched_BombPiece', 'Matched_RainbowPiece']"
   ]
  },
  {
   "cell_type": "code",
   "execution_count": 1213,
   "metadata": {
    "collapsed": false,
    "pycharm": {
     "name": "#%%\n"
    }
   },
   "outputs": [],
   "source": [
    "replacements = {\n",
    "    'met': 'method',\n",
    "    'pla': 'player',\n",
    "    'eff': 'simpleEffect',\n",
    "    'obj': 'objective',\n",
    "    'sim': 'simulation',\n",
    "    'rat': 'almostRatio',\n",
    "    'pdep': 'playerDepth',\n",
    "}\n",
    "\n",
    "def parse_filename(data):\n",
    "    result = dict()\n",
    "    for i in range(0, len(data), 2):\n",
    "        if data[i] in replacements.keys():\n",
    "            data[i] = replacements[data[i]]\n",
    "\n",
    "        result[data[i]] = data[i+1]\n",
    "\n",
    "    return result"
   ]
  },
  {
   "cell_type": "code",
   "metadata": {
    "collapsed": false,
    "pycharm": {
     "name": "#%%\n"
    }
   },
   "source": [
    "\n",
    "dfs = []\n",
    "for file_path in tqdm(files):\n",
    "    # print(file_path)\n",
    "    file_name = path.basename(file_path)\n",
    "\n",
    "    _file_name = file_name.split('_')[1:-1]\n",
    "    args = parse_filename(_file_name)\n",
    "\n",
    "    df = pd.read_csv(file_path)\n",
    "\n",
    "    for key, value in args.items():\n",
    "        df[key] = value\n",
    "    dfs.append(df)\n",
    "\n",
    "original_df = pd.concat(dfs)\n",
    "\n",
    "original_df['Sum_Matched'] = original_df['Matched_HorizontalPiece'] + original_df['Matched_HorizontalPiece'] + original_df['Matched_HorizontalPiece']  + \\\n",
    "    original_df['Matched_HorizontalPiece'] + original_df['Matched_HorizontalPiece'] + original_df['Matched_HorizontalPiece']\n",
    "original_df.loc[original_df['method'] == 'random', 'simulation'] = 0\n",
    "\n",
    "original_df['simpleEffect'] = original_df['simpleEffect'].replace(np.nan, 0)\n",
    "original_df['objective'] = original_df['objective'].replace(np.nan, '-')\n",
    "\n",
    "original_df.loc[original_df['method'] == 'random', 'playerDepth'] = '-'\n",
    "original_df.loc[original_df['method'] == 'random', 'simulation'] = '-'\n",
    "original_df.loc[original_df['method'] == 'random', 'almostRatio'] = '-'\n",
    "original_df.loc[original_df['objective'] == 'kp', 'almostRatio'] = '-'\n",
    "original_df.loc[original_df['objective'] == 'score', 'almostRatio'] = '-'\n",
    "\n",
    "original_df.to_csv('original_df.csv')\n"
   ],
   "execution_count": 1214,
   "outputs": [
    {
     "name": "stderr",
     "output_type": "stream",
     "text": [
      "100%|██████████| 40/40 [00:00<00:00, 71.64it/s]\n"
     ]
    }
   ]
  },
  {
   "cell_type": "code",
   "execution_count": 1215,
   "outputs": [
    {
     "name": "stdout",
     "output_type": "stream",
     "text": [
      "{'-', 'knowledge', 'score'}\n"
     ]
    }
   ],
   "source": [
    "# original_df = pd.read_csv('original_df.csv')\n",
    "print(set(original_df['objective']))"
   ],
   "metadata": {
    "collapsed": false,
    "pycharm": {
     "name": "#%%\n"
    }
   }
  },
  {
   "cell_type": "code",
   "execution_count": 1216,
   "outputs": [
    {
     "data": {
      "text/plain": "{'-', '1', '2', '3'}"
     },
     "execution_count": 1216,
     "metadata": {},
     "output_type": "execute_result"
    }
   ],
   "source": [
    "set(original_df['playerDepth'])\n"
   ],
   "metadata": {
    "collapsed": false,
    "pycharm": {
     "name": "#%%\n"
    }
   }
  },
  {
   "cell_type": "code",
   "execution_count": 1217,
   "outputs": [
    {
     "data": {
      "text/plain": "   EpisodeCount  StepCount                     Time InstanceUUID  SettleCount  \\\n0             1        200  2023-05-24 16:16:25.854     698d9ebc            0   \n1             2        200  2023-05-24 16:17:37.429     698d9ebc            0   \n2             3        200  2023-05-24 16:18:59.495     698d9ebc            0   \n0             1        200  2023-05-24 16:17:17.056     6eda4694            0   \n0             1        200  2023-05-24 16:19:01.150     0849180e            0   \n\n   ChangedCount  MeanComparisonCount  StdComparisonCount  \\\n0           223             0.910543            0.723894   \n1           243             0.926605            0.669764   \n2           261             1.037618            0.667174   \n0           318             2.281065            1.100713   \n0           340             3.170455            1.492405   \n\n   ReachedKnowledgeStep  Q1ReachedKnowledgeStep  ...  Target_BombPiece  \\\n0                    30                      23  ...                 2   \n1                    33                      33  ...                 2   \n2                    31                      26  ...                 2   \n0                   147                      73  ...                 2   \n0                   161                     126  ...                 2   \n\n   Target_RainbowPiece  method  player  simpleEffect  objective  simulation  \\\n0                    3    mcts       0             1  knowledge         200   \n1                    3    mcts       0             1  knowledge         200   \n2                    3    mcts       0             1  knowledge         200   \n0                    3    mcts       0             1  knowledge         200   \n0                    3    mcts       0             1  knowledge         200   \n\n   almostRatio  playerDepth  Sum_Matched  \n0          1.0            1          366  \n1          1.0            1          468  \n2          1.0            1          312  \n0          1.0            2          348  \n0          1.0            3          498  \n\n[5 rows x 32 columns]",
      "text/html": "<div>\n<style scoped>\n    .dataframe tbody tr th:only-of-type {\n        vertical-align: middle;\n    }\n\n    .dataframe tbody tr th {\n        vertical-align: top;\n    }\n\n    .dataframe thead th {\n        text-align: right;\n    }\n</style>\n<table border=\"1\" class=\"dataframe\">\n  <thead>\n    <tr style=\"text-align: right;\">\n      <th></th>\n      <th>EpisodeCount</th>\n      <th>StepCount</th>\n      <th>Time</th>\n      <th>InstanceUUID</th>\n      <th>SettleCount</th>\n      <th>ChangedCount</th>\n      <th>MeanComparisonCount</th>\n      <th>StdComparisonCount</th>\n      <th>ReachedKnowledgeStep</th>\n      <th>Q1ReachedKnowledgeStep</th>\n      <th>...</th>\n      <th>Target_BombPiece</th>\n      <th>Target_RainbowPiece</th>\n      <th>method</th>\n      <th>player</th>\n      <th>simpleEffect</th>\n      <th>objective</th>\n      <th>simulation</th>\n      <th>almostRatio</th>\n      <th>playerDepth</th>\n      <th>Sum_Matched</th>\n    </tr>\n  </thead>\n  <tbody>\n    <tr>\n      <th>0</th>\n      <td>1</td>\n      <td>200</td>\n      <td>2023-05-24 16:16:25.854</td>\n      <td>698d9ebc</td>\n      <td>0</td>\n      <td>223</td>\n      <td>0.910543</td>\n      <td>0.723894</td>\n      <td>30</td>\n      <td>23</td>\n      <td>...</td>\n      <td>2</td>\n      <td>3</td>\n      <td>mcts</td>\n      <td>0</td>\n      <td>1</td>\n      <td>knowledge</td>\n      <td>200</td>\n      <td>1.0</td>\n      <td>1</td>\n      <td>366</td>\n    </tr>\n    <tr>\n      <th>1</th>\n      <td>2</td>\n      <td>200</td>\n      <td>2023-05-24 16:17:37.429</td>\n      <td>698d9ebc</td>\n      <td>0</td>\n      <td>243</td>\n      <td>0.926605</td>\n      <td>0.669764</td>\n      <td>33</td>\n      <td>33</td>\n      <td>...</td>\n      <td>2</td>\n      <td>3</td>\n      <td>mcts</td>\n      <td>0</td>\n      <td>1</td>\n      <td>knowledge</td>\n      <td>200</td>\n      <td>1.0</td>\n      <td>1</td>\n      <td>468</td>\n    </tr>\n    <tr>\n      <th>2</th>\n      <td>3</td>\n      <td>200</td>\n      <td>2023-05-24 16:18:59.495</td>\n      <td>698d9ebc</td>\n      <td>0</td>\n      <td>261</td>\n      <td>1.037618</td>\n      <td>0.667174</td>\n      <td>31</td>\n      <td>26</td>\n      <td>...</td>\n      <td>2</td>\n      <td>3</td>\n      <td>mcts</td>\n      <td>0</td>\n      <td>1</td>\n      <td>knowledge</td>\n      <td>200</td>\n      <td>1.0</td>\n      <td>1</td>\n      <td>312</td>\n    </tr>\n    <tr>\n      <th>0</th>\n      <td>1</td>\n      <td>200</td>\n      <td>2023-05-24 16:17:17.056</td>\n      <td>6eda4694</td>\n      <td>0</td>\n      <td>318</td>\n      <td>2.281065</td>\n      <td>1.100713</td>\n      <td>147</td>\n      <td>73</td>\n      <td>...</td>\n      <td>2</td>\n      <td>3</td>\n      <td>mcts</td>\n      <td>0</td>\n      <td>1</td>\n      <td>knowledge</td>\n      <td>200</td>\n      <td>1.0</td>\n      <td>2</td>\n      <td>348</td>\n    </tr>\n    <tr>\n      <th>0</th>\n      <td>1</td>\n      <td>200</td>\n      <td>2023-05-24 16:19:01.150</td>\n      <td>0849180e</td>\n      <td>0</td>\n      <td>340</td>\n      <td>3.170455</td>\n      <td>1.492405</td>\n      <td>161</td>\n      <td>126</td>\n      <td>...</td>\n      <td>2</td>\n      <td>3</td>\n      <td>mcts</td>\n      <td>0</td>\n      <td>1</td>\n      <td>knowledge</td>\n      <td>200</td>\n      <td>1.0</td>\n      <td>3</td>\n      <td>498</td>\n    </tr>\n  </tbody>\n</table>\n<p>5 rows × 32 columns</p>\n</div>"
     },
     "execution_count": 1217,
     "metadata": {},
     "output_type": "execute_result"
    }
   ],
   "source": [
    "original_df.head()\n"
   ],
   "metadata": {
    "collapsed": false,
    "pycharm": {
     "name": "#%%\n"
    }
   }
  },
  {
   "cell_type": "code",
   "execution_count": 1218,
   "outputs": [
    {
     "data": {
      "text/plain": "['EpisodeCount',\n 'StepCount',\n 'Time',\n 'InstanceUUID',\n 'SettleCount',\n 'ChangedCount',\n 'MeanComparisonCount',\n 'StdComparisonCount',\n 'ReachedKnowledgeStep',\n 'Q1ReachedKnowledgeStep',\n 'Q2ReachedKnowledgeStep',\n 'Q3ReachedKnowledgeStep',\n 'Matched_HorizontalPiece',\n 'Matched_VerticalPiece',\n 'Matched_CrossPiece',\n 'Matched_RocketPiece',\n 'Matched_BombPiece',\n 'Matched_RainbowPiece',\n 'Target_HorizontalPiece',\n 'Target_VerticalPiece',\n 'Target_CrossPiece',\n 'Target_RocketPiece',\n 'Target_BombPiece',\n 'Target_RainbowPiece',\n 'method',\n 'player',\n 'simpleEffect',\n 'objective',\n 'simulation',\n 'almostRatio',\n 'playerDepth',\n 'Sum_Matched']"
     },
     "execution_count": 1218,
     "metadata": {},
     "output_type": "execute_result"
    }
   ],
   "source": [
    "original_df.columns.values.tolist()"
   ],
   "metadata": {
    "collapsed": false,
    "pycharm": {
     "name": "#%%\n"
    }
   }
  },
  {
   "cell_type": "code",
   "execution_count": 1219,
   "metadata": {
    "collapsed": false,
    "pycharm": {
     "name": "#%%\n"
    }
   },
   "outputs": [
    {
     "name": "stderr",
     "output_type": "stream",
     "text": [
      "C:\\Users\\GIST\\.conda\\envs\\mlagents\\lib\\site-packages\\ipykernel_launcher.py:3: FutureWarning: Indexing with multiple keys (implicitly converted to a tuple of keys) will be deprecated, use a list instead.\n",
      "  This is separate from the ipykernel package so we can avoid doing imports until\n"
     ]
    },
    {
     "data": {
      "text/plain": "                                                           method  \\\n                                                            count   \nplayer method objective playerDepth almostRatio simulation          \n0      mcts   knowledge 1           1.0         200             3   \n                        2           1.0         200             1   \n                        3           1.0         200             1   \n              score     1           -           200             2   \n                        2           -           200             1   \n                        3           -           200             1   \n       random -         -           -           -              34   \n1      mcts   knowledge 1           1.0         200             3   \n                        2           1.0         200             1   \n                        3           1.0         200             1   \n              score     1           -           200             3   \n                        2           -           200             1   \n                        3           -           200             1   \n       random -         -           -           -              34   \n2      mcts   knowledge 1           1.0         200             2   \n                        2           1.0         200             1   \n                        3           1.0         200             1   \n              score     1           -           200             2   \n                        2           -           200             1   \n                        3           -           200             1   \n       random -         -           -           -              35   \n3      mcts   knowledge 1           1.0         200             3   \n                        2           1.0         200             1   \n                        3           1.0         200             1   \n              score     1           -           200             2   \n                        2           -           200             1   \n                        3           -           200             1   \n       random -         -           -           -              36   \n4      mcts   knowledge 1           1.0         200             3   \n                        2           1.0         200             1   \n                        3           1.0         200             1   \n              score     1           -           200             3   \n                        2           -           200             1   \n                        3           -           200             1   \n       random -         -           -           -              36   \n\n                                                           Q1ReachedKnowledgeStep  \\\n                                                                             mean   \nplayer method objective playerDepth almostRatio simulation                          \n0      mcts   knowledge 1           1.0         200                     27.333333   \n                        2           1.0         200                     73.000000   \n                        3           1.0         200                    126.000000   \n              score     1           -           200                     37.500000   \n                        2           -           200                     70.000000   \n                        3           -           200                     30.000000   \n       random -         -           -           -                       55.882353   \n1      mcts   knowledge 1           1.0         200                     39.333333   \n                        2           1.0         200                     51.000000   \n                        3           1.0         200                     25.000000   \n              score     1           -           200                     29.666667   \n                        2           -           200                     68.000000   \n                        3           -           200                     24.000000   \n       random -         -           -           -                       68.147059   \n2      mcts   knowledge 1           1.0         200                     26.500000   \n                        2           1.0         200                     59.000000   \n                        3           1.0         200                     60.000000   \n              score     1           -           200                     31.000000   \n                        2           -           200                     43.000000   \n                        3           -           200                    143.000000   \n       random -         -           -           -                       72.514286   \n3      mcts   knowledge 1           1.0         200                     36.333333   \n                        2           1.0         200                     44.000000   \n                        3           1.0         200                     54.000000   \n              score     1           -           200                     52.000000   \n                        2           -           200                     52.000000   \n                        3           -           200                     10.000000   \n       random -         -           -           -                       74.500000   \n4      mcts   knowledge 1           1.0         200                     40.333333   \n                        2           1.0         200                     36.000000   \n                        3           1.0         200                     56.000000   \n              score     1           -           200                     29.333333   \n                        2           -           200                     37.000000   \n                        3           -           200                    117.000000   \n       random -         -           -           -                       65.416667   \n\n                                                           Q2ReachedKnowledgeStep  \\\n                                                                             mean   \nplayer method objective playerDepth almostRatio simulation                          \n0      mcts   knowledge 1           1.0         200                     29.666667   \n                        2           1.0         200                     73.000000   \n                        3           1.0         200                    126.000000   \n              score     1           -           200                     74.000000   \n                        2           -           200                     70.000000   \n                        3           -           200                     43.000000   \n       random -         -           -           -                       65.029412   \n1      mcts   knowledge 1           1.0         200                     72.000000   \n                        2           1.0         200                     72.000000   \n                        3           1.0         200                     30.000000   \n              score     1           -           200                     56.666667   \n                        2           -           200                     68.000000   \n                        3           -           200                     92.000000   \n       random -         -           -           -                       92.911765   \n2      mcts   knowledge 1           1.0         200                     35.000000   \n                        2           1.0         200                    125.000000   \n                        3           1.0         200                     88.000000   \n              score     1           -           200                     31.000000   \n                        2           -           200                     43.000000   \n                        3           -           200                    143.000000   \n       random -         -           -           -                       87.000000   \n3      mcts   knowledge 1           1.0         200                    103.000000   \n                        2           1.0         200                     44.000000   \n                        3           1.0         200                     78.000000   \n              score     1           -           200                     74.500000   \n                        2           -           200                     52.000000   \n                        3           -           200                     41.000000   \n       random -         -           -           -                       96.750000   \n4      mcts   knowledge 1           1.0         200                     45.000000   \n                        2           1.0         200                     36.000000   \n                        3           1.0         200                     56.000000   \n              score     1           -           200                     33.333333   \n                        2           -           200                     37.000000   \n                        3           -           200                    117.000000   \n       random -         -           -           -                       71.722222   \n\n                                                           Q3ReachedKnowledgeStep  \\\n                                                                             mean   \nplayer method objective playerDepth almostRatio simulation                          \n0      mcts   knowledge 1           1.0         200                     31.333333   \n                        2           1.0         200                    147.000000   \n                        3           1.0         200                    161.000000   \n              score     1           -           200                     87.000000   \n                        2           -           200                     89.000000   \n                        3           -           200                     59.000000   \n       random -         -           -           -                       95.588235   \n1      mcts   knowledge 1           1.0         200                     75.000000   \n                        2           1.0         200                     92.000000   \n                        3           1.0         200                     30.000000   \n              score     1           -           200                     26.000000   \n                        2           -           200                    114.000000   \n                        3           -           200                    114.000000   \n       random -         -           -           -                       82.147059   \n2      mcts   knowledge 1           1.0         200                     49.000000   \n                        2           1.0         200                    135.000000   \n                        3           1.0         200                     88.000000   \n              score     1           -           200                     65.500000   \n                        2           -           200                     43.000000   \n                        3           -           200                    156.000000   \n       random -         -           -           -                       84.714286   \n3      mcts   knowledge 1           1.0         200                    108.333333   \n                        2           1.0         200                     54.000000   \n                        3           1.0         200                    106.000000   \n              score     1           -           200                     96.500000   \n                        2           -           200                     76.000000   \n                        3           -           200                     44.000000   \n       random -         -           -           -                      100.361111   \n4      mcts   knowledge 1           1.0         200                     87.333333   \n                        2           1.0         200                     36.000000   \n                        3           1.0         200                     56.000000   \n              score     1           -           200                     38.333333   \n                        2           -           200                     51.000000   \n                        3           -           200                    117.000000   \n       random -         -           -           -                       95.444444   \n\n                                                           ReachedKnowledgeStep  \\\n                                                                           mean   \nplayer method objective playerDepth almostRatio simulation                        \n0      mcts   knowledge 1           1.0         200                   31.333333   \n                        2           1.0         200                  147.000000   \n                        3           1.0         200                  161.000000   \n              score     1           -           200                   87.000000   \n                        2           -           200                   89.000000   \n                        3           -           200                   59.000000   \n       random -         -           -           -                     96.500000   \n1      mcts   knowledge 1           1.0         200                   83.000000   \n                        2           1.0         200                   92.000000   \n                        3           1.0         200                   37.000000   \n              score     1           -           200                   28.000000   \n                        2           -           200                  114.000000   \n                        3           -           200                  125.000000   \n       random -         -           -           -                     72.147059   \n2      mcts   knowledge 1           1.0         200                   70.000000   \n                        2           1.0         200                  135.000000   \n                        3           1.0         200                  164.000000   \n              score     1           -           200                   65.500000   \n                        2           -           200                   43.000000   \n                        3           -           200                  161.000000   \n       random -         -           -           -                     75.657143   \n3      mcts   knowledge 1           1.0         200                  108.666667   \n                        2           1.0         200                   54.000000   \n                        3           1.0         200                  106.000000   \n              score     1           -           200                   96.500000   \n                        2           -           200                   76.000000   \n                        3           -           200                   47.000000   \n       random -         -           -           -                    102.277778   \n4      mcts   knowledge 1           1.0         200                  110.333333   \n                        2           1.0         200                   36.000000   \n                        3           1.0         200                   56.000000   \n              score     1           -           200                   60.000000   \n                        2           -           200                   82.000000   \n                        3           -           200                  117.000000   \n       random -         -           -           -                    103.027778   \n\n                                                           Matched_HorizontalPiece  \\\n                                                                              mean   \nplayer method objective playerDepth almostRatio simulation                           \n0      mcts   knowledge 1           1.0         200                      63.666667   \n                        2           1.0         200                      58.000000   \n                        3           1.0         200                      83.000000   \n              score     1           -           200                      60.500000   \n                        2           -           200                      59.000000   \n                        3           -           200                      54.000000   \n       random -         -           -           -                        41.970588   \n1      mcts   knowledge 1           1.0         200                      66.000000   \n                        2           1.0         200                      67.000000   \n                        3           1.0         200                      73.000000   \n              score     1           -           200                      55.000000   \n                        2           -           200                      71.000000   \n                        3           -           200                      96.000000   \n       random -         -           -           -                        40.058824   \n2      mcts   knowledge 1           1.0         200                      69.500000   \n                        2           1.0         200                      77.000000   \n                        3           1.0         200                      76.000000   \n              score     1           -           200                      71.000000   \n                        2           -           200                      87.000000   \n                        3           -           200                      63.000000   \n       random -         -           -           -                        41.457143   \n3      mcts   knowledge 1           1.0         200                      75.333333   \n                        2           1.0         200                      90.000000   \n                        3           1.0         200                      44.000000   \n              score     1           -           200                      74.000000   \n                        2           -           200                      57.000000   \n                        3           -           200                      60.000000   \n       random -         -           -           -                        41.000000   \n4      mcts   knowledge 1           1.0         200                      72.333333   \n                        2           1.0         200                      71.000000   \n                        3           1.0         200                      54.000000   \n              score     1           -           200                      70.333333   \n                        2           -           200                      68.000000   \n                        3           -           200                      63.000000   \n       random -         -           -           -                        41.083333   \n\n                                                           Matched_VerticalPiece  \\\n                                                                            mean   \nplayer method objective playerDepth almostRatio simulation                         \n0      mcts   knowledge 1           1.0         200                    61.333333   \n                        2           1.0         200                    61.000000   \n                        3           1.0         200                    68.000000   \n              score     1           -           200                    59.000000   \n                        2           -           200                    68.000000   \n                        3           -           200                    59.000000   \n       random -         -           -           -                      34.147059   \n1      mcts   knowledge 1           1.0         200                    60.333333   \n                        2           1.0         200                    57.000000   \n                        3           1.0         200                    44.000000   \n              score     1           -           200                    48.666667   \n                        2           -           200                    39.000000   \n                        3           -           200                    52.000000   \n       random -         -           -           -                      32.235294   \n2      mcts   knowledge 1           1.0         200                    49.000000   \n                        2           1.0         200                    46.000000   \n                        3           1.0         200                    60.000000   \n              score     1           -           200                    62.500000   \n                        2           -           200                    61.000000   \n                        3           -           200                    53.000000   \n       random -         -           -           -                      34.228571   \n3      mcts   knowledge 1           1.0         200                    54.666667   \n                        2           1.0         200                    63.000000   \n                        3           1.0         200                    50.000000   \n              score     1           -           200                    54.500000   \n                        2           -           200                    39.000000   \n                        3           -           200                    50.000000   \n       random -         -           -           -                      32.750000   \n4      mcts   knowledge 1           1.0         200                    53.000000   \n                        2           1.0         200                    77.000000   \n                        3           1.0         200                    55.000000   \n              score     1           -           200                    56.000000   \n                        2           -           200                    46.000000   \n                        3           -           200                    50.000000   \n       random -         -           -           -                      32.833333   \n\n                                                           Matched_CrossPiece  \\\n                                                                         mean   \nplayer method objective playerDepth almostRatio simulation                      \n0      mcts   knowledge 1           1.0         200                  8.666667   \n                        2           1.0         200                 15.000000   \n                        3           1.0         200                  3.000000   \n              score     1           -           200                 14.000000   \n                        2           -           200                 26.000000   \n                        3           -           200                 12.000000   \n       random -         -           -           -                    7.147059   \n1      mcts   knowledge 1           1.0         200                 14.000000   \n                        2           1.0         200                 17.000000   \n                        3           1.0         200                 25.000000   \n              score     1           -           200                 19.000000   \n                        2           -           200                 20.000000   \n                        3           -           200                  9.000000   \n       random -         -           -           -                    8.176471   \n2      mcts   knowledge 1           1.0         200                 21.500000   \n                        2           1.0         200                 17.000000   \n                        3           1.0         200                 14.000000   \n              score     1           -           200                 18.000000   \n                        2           -           200                 30.000000   \n                        3           -           200                 19.000000   \n       random -         -           -           -                    7.542857   \n3      mcts   knowledge 1           1.0         200                 11.000000   \n                        2           1.0         200                 18.000000   \n                        3           1.0         200                 14.000000   \n              score     1           -           200                 13.500000   \n                        2           -           200                 14.000000   \n                        3           -           200                 14.000000   \n       random -         -           -           -                    7.416667   \n4      mcts   knowledge 1           1.0         200                 13.000000   \n                        2           1.0         200                 23.000000   \n                        3           1.0         200                 10.000000   \n              score     1           -           200                 20.666667   \n                        2           -           200                 38.000000   \n                        3           -           200                  6.000000   \n       random -         -           -           -                    7.527778   \n\n                                                           Matched_RocketPiece  \\\n                                                                          mean   \nplayer method objective playerDepth almostRatio simulation                       \n0      mcts   knowledge 1           1.0         200                 128.666667   \n                        2           1.0         200                 169.000000   \n                        3           1.0         200                 197.000000   \n              score     1           -           200                 147.500000   \n                        2           -           200                 186.000000   \n                        3           -           200                 187.000000   \n       random -         -           -           -                   115.264706   \n1      mcts   knowledge 1           1.0         200                 176.666667   \n                        2           1.0         200                 252.000000   \n                        3           1.0         200                 197.000000   \n              score     1           -           200                 148.333333   \n                        2           -           200                 175.000000   \n                        3           -           200                 258.000000   \n       random -         -           -           -                   115.352941   \n2      mcts   knowledge 1           1.0         200                 198.000000   \n                        2           1.0         200                 226.000000   \n                        3           1.0         200                 206.000000   \n              score     1           -           200                 195.000000   \n                        2           -           200                 197.000000   \n                        3           -           200                 212.000000   \n       random -         -           -           -                   116.628571   \n3      mcts   knowledge 1           1.0         200                 185.333333   \n                        2           1.0         200                 183.000000   \n                        3           1.0         200                 141.000000   \n              score     1           -           200                 165.500000   \n                        2           -           200                 187.000000   \n                        3           -           200                 209.000000   \n       random -         -           -           -                   113.777778   \n4      mcts   knowledge 1           1.0         200                 159.000000   \n                        2           1.0         200                 187.000000   \n                        3           1.0         200                 173.000000   \n              score     1           -           200                 197.000000   \n                        2           -           200                 209.000000   \n                        3           -           200                 161.000000   \n       random -         -           -           -                   113.333333   \n\n                                                           Matched_BombPiece  \\\n                                                                        mean   \nplayer method objective playerDepth almostRatio simulation                     \n0      mcts   knowledge 1           1.0         200                12.333333   \n                        2           1.0         200                 7.000000   \n                        3           1.0         200                 3.000000   \n              score     1           -           200                10.000000   \n                        2           -           200                13.000000   \n                        3           -           200                 6.000000   \n       random -         -           -           -                   7.617647   \n1      mcts   knowledge 1           1.0         200                 8.666667   \n                        2           1.0         200                13.000000   \n                        3           1.0         200                12.000000   \n              score     1           -           200                 6.333333   \n                        2           -           200                11.000000   \n                        3           -           200                 8.000000   \n       random -         -           -           -                   7.676471   \n2      mcts   knowledge 1           1.0         200                13.500000   \n                        2           1.0         200                 6.000000   \n                        3           1.0         200                 8.000000   \n              score     1           -           200                11.000000   \n                        2           -           200                31.000000   \n                        3           -           200                 6.000000   \n       random -         -           -           -                   7.571429   \n3      mcts   knowledge 1           1.0         200                11.333333   \n                        2           1.0         200                20.000000   \n                        3           1.0         200                15.000000   \n              score     1           -           200                 6.500000   \n                        2           -           200                 5.000000   \n                        3           -           200                17.000000   \n       random -         -           -           -                   7.416667   \n4      mcts   knowledge 1           1.0         200                 8.333333   \n                        2           1.0         200                11.000000   \n                        3           1.0         200                19.000000   \n              score     1           -           200                 9.666667   \n                        2           -           200                20.000000   \n                        3           -           200                17.000000   \n       random -         -           -           -                   7.388889   \n\n                                                           Matched_RainbowPiece  \\\n                                                                           mean   \nplayer method objective playerDepth almostRatio simulation                        \n0      mcts   knowledge 1           1.0         200                   18.333333   \n                        2           1.0         200                   33.000000   \n                        3           1.0         200                   15.000000   \n              score     1           -           200                   13.500000   \n                        2           -           200                   26.000000   \n                        3           -           200                   13.000000   \n       random -         -           -           -                     11.911765   \n1      mcts   knowledge 1           1.0         200                   21.666667   \n                        2           1.0         200                   17.000000   \n                        3           1.0         200                   29.000000   \n              score     1           -           200                   15.333333   \n                        2           -           200                   16.000000   \n                        3           -           200                   18.000000   \n       random -         -           -           -                     12.382353   \n2      mcts   knowledge 1           1.0         200                   18.500000   \n                        2           1.0         200                   14.000000   \n                        3           1.0         200                   26.000000   \n              score     1           -           200                   21.000000   \n                        2           -           200                   38.000000   \n                        3           -           200                   19.000000   \n       random -         -           -           -                     12.828571   \n3      mcts   knowledge 1           1.0         200                   20.333333   \n                        2           1.0         200                   21.000000   \n                        3           1.0         200                   17.000000   \n              score     1           -           200                   13.000000   \n                        2           -           200                   15.000000   \n                        3           -           200                   23.000000   \n       random -         -           -           -                     11.638889   \n4      mcts   knowledge 1           1.0         200                   15.666667   \n                        2           1.0         200                   29.000000   \n                        3           1.0         200                   25.000000   \n              score     1           -           200                   17.000000   \n                        2           -           200                   24.000000   \n                        3           -           200                   24.000000   \n       random -         -           -           -                     11.972222   \n\n                                                           Sum_Matched  \n                                                                  mean  \nplayer method objective playerDepth almostRatio simulation              \n0      mcts   knowledge 1           1.0         200         382.000000  \n                        2           1.0         200         348.000000  \n                        3           1.0         200         498.000000  \n              score     1           -           200         363.000000  \n                        2           -           200         354.000000  \n                        3           -           200         324.000000  \n       random -         -           -           -           251.823529  \n1      mcts   knowledge 1           1.0         200         396.000000  \n                        2           1.0         200         402.000000  \n                        3           1.0         200         438.000000  \n              score     1           -           200         330.000000  \n                        2           -           200         426.000000  \n                        3           -           200         576.000000  \n       random -         -           -           -           240.352941  \n2      mcts   knowledge 1           1.0         200         417.000000  \n                        2           1.0         200         462.000000  \n                        3           1.0         200         456.000000  \n              score     1           -           200         426.000000  \n                        2           -           200         522.000000  \n                        3           -           200         378.000000  \n       random -         -           -           -           248.742857  \n3      mcts   knowledge 1           1.0         200         452.000000  \n                        2           1.0         200         540.000000  \n                        3           1.0         200         264.000000  \n              score     1           -           200         444.000000  \n                        2           -           200         342.000000  \n                        3           -           200         360.000000  \n       random -         -           -           -           246.000000  \n4      mcts   knowledge 1           1.0         200         434.000000  \n                        2           1.0         200         426.000000  \n                        3           1.0         200         324.000000  \n              score     1           -           200         422.000000  \n                        2           -           200         408.000000  \n                        3           -           200         378.000000  \n       random -         -           -           -           246.500000  ",
      "text/html": "<div>\n<style scoped>\n    .dataframe tbody tr th:only-of-type {\n        vertical-align: middle;\n    }\n\n    .dataframe tbody tr th {\n        vertical-align: top;\n    }\n\n    .dataframe thead tr th {\n        text-align: left;\n    }\n\n    .dataframe thead tr:last-of-type th {\n        text-align: right;\n    }\n</style>\n<table border=\"1\" class=\"dataframe\">\n  <thead>\n    <tr>\n      <th></th>\n      <th></th>\n      <th></th>\n      <th></th>\n      <th></th>\n      <th></th>\n      <th>method</th>\n      <th>Q1ReachedKnowledgeStep</th>\n      <th>Q2ReachedKnowledgeStep</th>\n      <th>Q3ReachedKnowledgeStep</th>\n      <th>ReachedKnowledgeStep</th>\n      <th>Matched_HorizontalPiece</th>\n      <th>Matched_VerticalPiece</th>\n      <th>Matched_CrossPiece</th>\n      <th>Matched_RocketPiece</th>\n      <th>Matched_BombPiece</th>\n      <th>Matched_RainbowPiece</th>\n      <th>Sum_Matched</th>\n    </tr>\n    <tr>\n      <th></th>\n      <th></th>\n      <th></th>\n      <th></th>\n      <th></th>\n      <th></th>\n      <th>count</th>\n      <th>mean</th>\n      <th>mean</th>\n      <th>mean</th>\n      <th>mean</th>\n      <th>mean</th>\n      <th>mean</th>\n      <th>mean</th>\n      <th>mean</th>\n      <th>mean</th>\n      <th>mean</th>\n      <th>mean</th>\n    </tr>\n    <tr>\n      <th>player</th>\n      <th>method</th>\n      <th>objective</th>\n      <th>playerDepth</th>\n      <th>almostRatio</th>\n      <th>simulation</th>\n      <th></th>\n      <th></th>\n      <th></th>\n      <th></th>\n      <th></th>\n      <th></th>\n      <th></th>\n      <th></th>\n      <th></th>\n      <th></th>\n      <th></th>\n      <th></th>\n    </tr>\n  </thead>\n  <tbody>\n    <tr>\n      <th rowspan=\"7\" valign=\"top\">0</th>\n      <th rowspan=\"6\" valign=\"top\">mcts</th>\n      <th rowspan=\"3\" valign=\"top\">knowledge</th>\n      <th>1</th>\n      <th>1.0</th>\n      <th>200</th>\n      <td>3</td>\n      <td>27.333333</td>\n      <td>29.666667</td>\n      <td>31.333333</td>\n      <td>31.333333</td>\n      <td>63.666667</td>\n      <td>61.333333</td>\n      <td>8.666667</td>\n      <td>128.666667</td>\n      <td>12.333333</td>\n      <td>18.333333</td>\n      <td>382.000000</td>\n    </tr>\n    <tr>\n      <th>2</th>\n      <th>1.0</th>\n      <th>200</th>\n      <td>1</td>\n      <td>73.000000</td>\n      <td>73.000000</td>\n      <td>147.000000</td>\n      <td>147.000000</td>\n      <td>58.000000</td>\n      <td>61.000000</td>\n      <td>15.000000</td>\n      <td>169.000000</td>\n      <td>7.000000</td>\n      <td>33.000000</td>\n      <td>348.000000</td>\n    </tr>\n    <tr>\n      <th>3</th>\n      <th>1.0</th>\n      <th>200</th>\n      <td>1</td>\n      <td>126.000000</td>\n      <td>126.000000</td>\n      <td>161.000000</td>\n      <td>161.000000</td>\n      <td>83.000000</td>\n      <td>68.000000</td>\n      <td>3.000000</td>\n      <td>197.000000</td>\n      <td>3.000000</td>\n      <td>15.000000</td>\n      <td>498.000000</td>\n    </tr>\n    <tr>\n      <th rowspan=\"3\" valign=\"top\">score</th>\n      <th>1</th>\n      <th>-</th>\n      <th>200</th>\n      <td>2</td>\n      <td>37.500000</td>\n      <td>74.000000</td>\n      <td>87.000000</td>\n      <td>87.000000</td>\n      <td>60.500000</td>\n      <td>59.000000</td>\n      <td>14.000000</td>\n      <td>147.500000</td>\n      <td>10.000000</td>\n      <td>13.500000</td>\n      <td>363.000000</td>\n    </tr>\n    <tr>\n      <th>2</th>\n      <th>-</th>\n      <th>200</th>\n      <td>1</td>\n      <td>70.000000</td>\n      <td>70.000000</td>\n      <td>89.000000</td>\n      <td>89.000000</td>\n      <td>59.000000</td>\n      <td>68.000000</td>\n      <td>26.000000</td>\n      <td>186.000000</td>\n      <td>13.000000</td>\n      <td>26.000000</td>\n      <td>354.000000</td>\n    </tr>\n    <tr>\n      <th>3</th>\n      <th>-</th>\n      <th>200</th>\n      <td>1</td>\n      <td>30.000000</td>\n      <td>43.000000</td>\n      <td>59.000000</td>\n      <td>59.000000</td>\n      <td>54.000000</td>\n      <td>59.000000</td>\n      <td>12.000000</td>\n      <td>187.000000</td>\n      <td>6.000000</td>\n      <td>13.000000</td>\n      <td>324.000000</td>\n    </tr>\n    <tr>\n      <th>random</th>\n      <th>-</th>\n      <th>-</th>\n      <th>-</th>\n      <th>-</th>\n      <td>34</td>\n      <td>55.882353</td>\n      <td>65.029412</td>\n      <td>95.588235</td>\n      <td>96.500000</td>\n      <td>41.970588</td>\n      <td>34.147059</td>\n      <td>7.147059</td>\n      <td>115.264706</td>\n      <td>7.617647</td>\n      <td>11.911765</td>\n      <td>251.823529</td>\n    </tr>\n    <tr>\n      <th rowspan=\"7\" valign=\"top\">1</th>\n      <th rowspan=\"6\" valign=\"top\">mcts</th>\n      <th rowspan=\"3\" valign=\"top\">knowledge</th>\n      <th>1</th>\n      <th>1.0</th>\n      <th>200</th>\n      <td>3</td>\n      <td>39.333333</td>\n      <td>72.000000</td>\n      <td>75.000000</td>\n      <td>83.000000</td>\n      <td>66.000000</td>\n      <td>60.333333</td>\n      <td>14.000000</td>\n      <td>176.666667</td>\n      <td>8.666667</td>\n      <td>21.666667</td>\n      <td>396.000000</td>\n    </tr>\n    <tr>\n      <th>2</th>\n      <th>1.0</th>\n      <th>200</th>\n      <td>1</td>\n      <td>51.000000</td>\n      <td>72.000000</td>\n      <td>92.000000</td>\n      <td>92.000000</td>\n      <td>67.000000</td>\n      <td>57.000000</td>\n      <td>17.000000</td>\n      <td>252.000000</td>\n      <td>13.000000</td>\n      <td>17.000000</td>\n      <td>402.000000</td>\n    </tr>\n    <tr>\n      <th>3</th>\n      <th>1.0</th>\n      <th>200</th>\n      <td>1</td>\n      <td>25.000000</td>\n      <td>30.000000</td>\n      <td>30.000000</td>\n      <td>37.000000</td>\n      <td>73.000000</td>\n      <td>44.000000</td>\n      <td>25.000000</td>\n      <td>197.000000</td>\n      <td>12.000000</td>\n      <td>29.000000</td>\n      <td>438.000000</td>\n    </tr>\n    <tr>\n      <th rowspan=\"3\" valign=\"top\">score</th>\n      <th>1</th>\n      <th>-</th>\n      <th>200</th>\n      <td>3</td>\n      <td>29.666667</td>\n      <td>56.666667</td>\n      <td>26.000000</td>\n      <td>28.000000</td>\n      <td>55.000000</td>\n      <td>48.666667</td>\n      <td>19.000000</td>\n      <td>148.333333</td>\n      <td>6.333333</td>\n      <td>15.333333</td>\n      <td>330.000000</td>\n    </tr>\n    <tr>\n      <th>2</th>\n      <th>-</th>\n      <th>200</th>\n      <td>1</td>\n      <td>68.000000</td>\n      <td>68.000000</td>\n      <td>114.000000</td>\n      <td>114.000000</td>\n      <td>71.000000</td>\n      <td>39.000000</td>\n      <td>20.000000</td>\n      <td>175.000000</td>\n      <td>11.000000</td>\n      <td>16.000000</td>\n      <td>426.000000</td>\n    </tr>\n    <tr>\n      <th>3</th>\n      <th>-</th>\n      <th>200</th>\n      <td>1</td>\n      <td>24.000000</td>\n      <td>92.000000</td>\n      <td>114.000000</td>\n      <td>125.000000</td>\n      <td>96.000000</td>\n      <td>52.000000</td>\n      <td>9.000000</td>\n      <td>258.000000</td>\n      <td>8.000000</td>\n      <td>18.000000</td>\n      <td>576.000000</td>\n    </tr>\n    <tr>\n      <th>random</th>\n      <th>-</th>\n      <th>-</th>\n      <th>-</th>\n      <th>-</th>\n      <td>34</td>\n      <td>68.147059</td>\n      <td>92.911765</td>\n      <td>82.147059</td>\n      <td>72.147059</td>\n      <td>40.058824</td>\n      <td>32.235294</td>\n      <td>8.176471</td>\n      <td>115.352941</td>\n      <td>7.676471</td>\n      <td>12.382353</td>\n      <td>240.352941</td>\n    </tr>\n    <tr>\n      <th rowspan=\"7\" valign=\"top\">2</th>\n      <th rowspan=\"6\" valign=\"top\">mcts</th>\n      <th rowspan=\"3\" valign=\"top\">knowledge</th>\n      <th>1</th>\n      <th>1.0</th>\n      <th>200</th>\n      <td>2</td>\n      <td>26.500000</td>\n      <td>35.000000</td>\n      <td>49.000000</td>\n      <td>70.000000</td>\n      <td>69.500000</td>\n      <td>49.000000</td>\n      <td>21.500000</td>\n      <td>198.000000</td>\n      <td>13.500000</td>\n      <td>18.500000</td>\n      <td>417.000000</td>\n    </tr>\n    <tr>\n      <th>2</th>\n      <th>1.0</th>\n      <th>200</th>\n      <td>1</td>\n      <td>59.000000</td>\n      <td>125.000000</td>\n      <td>135.000000</td>\n      <td>135.000000</td>\n      <td>77.000000</td>\n      <td>46.000000</td>\n      <td>17.000000</td>\n      <td>226.000000</td>\n      <td>6.000000</td>\n      <td>14.000000</td>\n      <td>462.000000</td>\n    </tr>\n    <tr>\n      <th>3</th>\n      <th>1.0</th>\n      <th>200</th>\n      <td>1</td>\n      <td>60.000000</td>\n      <td>88.000000</td>\n      <td>88.000000</td>\n      <td>164.000000</td>\n      <td>76.000000</td>\n      <td>60.000000</td>\n      <td>14.000000</td>\n      <td>206.000000</td>\n      <td>8.000000</td>\n      <td>26.000000</td>\n      <td>456.000000</td>\n    </tr>\n    <tr>\n      <th rowspan=\"3\" valign=\"top\">score</th>\n      <th>1</th>\n      <th>-</th>\n      <th>200</th>\n      <td>2</td>\n      <td>31.000000</td>\n      <td>31.000000</td>\n      <td>65.500000</td>\n      <td>65.500000</td>\n      <td>71.000000</td>\n      <td>62.500000</td>\n      <td>18.000000</td>\n      <td>195.000000</td>\n      <td>11.000000</td>\n      <td>21.000000</td>\n      <td>426.000000</td>\n    </tr>\n    <tr>\n      <th>2</th>\n      <th>-</th>\n      <th>200</th>\n      <td>1</td>\n      <td>43.000000</td>\n      <td>43.000000</td>\n      <td>43.000000</td>\n      <td>43.000000</td>\n      <td>87.000000</td>\n      <td>61.000000</td>\n      <td>30.000000</td>\n      <td>197.000000</td>\n      <td>31.000000</td>\n      <td>38.000000</td>\n      <td>522.000000</td>\n    </tr>\n    <tr>\n      <th>3</th>\n      <th>-</th>\n      <th>200</th>\n      <td>1</td>\n      <td>143.000000</td>\n      <td>143.000000</td>\n      <td>156.000000</td>\n      <td>161.000000</td>\n      <td>63.000000</td>\n      <td>53.000000</td>\n      <td>19.000000</td>\n      <td>212.000000</td>\n      <td>6.000000</td>\n      <td>19.000000</td>\n      <td>378.000000</td>\n    </tr>\n    <tr>\n      <th>random</th>\n      <th>-</th>\n      <th>-</th>\n      <th>-</th>\n      <th>-</th>\n      <td>35</td>\n      <td>72.514286</td>\n      <td>87.000000</td>\n      <td>84.714286</td>\n      <td>75.657143</td>\n      <td>41.457143</td>\n      <td>34.228571</td>\n      <td>7.542857</td>\n      <td>116.628571</td>\n      <td>7.571429</td>\n      <td>12.828571</td>\n      <td>248.742857</td>\n    </tr>\n    <tr>\n      <th rowspan=\"7\" valign=\"top\">3</th>\n      <th rowspan=\"6\" valign=\"top\">mcts</th>\n      <th rowspan=\"3\" valign=\"top\">knowledge</th>\n      <th>1</th>\n      <th>1.0</th>\n      <th>200</th>\n      <td>3</td>\n      <td>36.333333</td>\n      <td>103.000000</td>\n      <td>108.333333</td>\n      <td>108.666667</td>\n      <td>75.333333</td>\n      <td>54.666667</td>\n      <td>11.000000</td>\n      <td>185.333333</td>\n      <td>11.333333</td>\n      <td>20.333333</td>\n      <td>452.000000</td>\n    </tr>\n    <tr>\n      <th>2</th>\n      <th>1.0</th>\n      <th>200</th>\n      <td>1</td>\n      <td>44.000000</td>\n      <td>44.000000</td>\n      <td>54.000000</td>\n      <td>54.000000</td>\n      <td>90.000000</td>\n      <td>63.000000</td>\n      <td>18.000000</td>\n      <td>183.000000</td>\n      <td>20.000000</td>\n      <td>21.000000</td>\n      <td>540.000000</td>\n    </tr>\n    <tr>\n      <th>3</th>\n      <th>1.0</th>\n      <th>200</th>\n      <td>1</td>\n      <td>54.000000</td>\n      <td>78.000000</td>\n      <td>106.000000</td>\n      <td>106.000000</td>\n      <td>44.000000</td>\n      <td>50.000000</td>\n      <td>14.000000</td>\n      <td>141.000000</td>\n      <td>15.000000</td>\n      <td>17.000000</td>\n      <td>264.000000</td>\n    </tr>\n    <tr>\n      <th rowspan=\"3\" valign=\"top\">score</th>\n      <th>1</th>\n      <th>-</th>\n      <th>200</th>\n      <td>2</td>\n      <td>52.000000</td>\n      <td>74.500000</td>\n      <td>96.500000</td>\n      <td>96.500000</td>\n      <td>74.000000</td>\n      <td>54.500000</td>\n      <td>13.500000</td>\n      <td>165.500000</td>\n      <td>6.500000</td>\n      <td>13.000000</td>\n      <td>444.000000</td>\n    </tr>\n    <tr>\n      <th>2</th>\n      <th>-</th>\n      <th>200</th>\n      <td>1</td>\n      <td>52.000000</td>\n      <td>52.000000</td>\n      <td>76.000000</td>\n      <td>76.000000</td>\n      <td>57.000000</td>\n      <td>39.000000</td>\n      <td>14.000000</td>\n      <td>187.000000</td>\n      <td>5.000000</td>\n      <td>15.000000</td>\n      <td>342.000000</td>\n    </tr>\n    <tr>\n      <th>3</th>\n      <th>-</th>\n      <th>200</th>\n      <td>1</td>\n      <td>10.000000</td>\n      <td>41.000000</td>\n      <td>44.000000</td>\n      <td>47.000000</td>\n      <td>60.000000</td>\n      <td>50.000000</td>\n      <td>14.000000</td>\n      <td>209.000000</td>\n      <td>17.000000</td>\n      <td>23.000000</td>\n      <td>360.000000</td>\n    </tr>\n    <tr>\n      <th>random</th>\n      <th>-</th>\n      <th>-</th>\n      <th>-</th>\n      <th>-</th>\n      <td>36</td>\n      <td>74.500000</td>\n      <td>96.750000</td>\n      <td>100.361111</td>\n      <td>102.277778</td>\n      <td>41.000000</td>\n      <td>32.750000</td>\n      <td>7.416667</td>\n      <td>113.777778</td>\n      <td>7.416667</td>\n      <td>11.638889</td>\n      <td>246.000000</td>\n    </tr>\n    <tr>\n      <th rowspan=\"7\" valign=\"top\">4</th>\n      <th rowspan=\"6\" valign=\"top\">mcts</th>\n      <th rowspan=\"3\" valign=\"top\">knowledge</th>\n      <th>1</th>\n      <th>1.0</th>\n      <th>200</th>\n      <td>3</td>\n      <td>40.333333</td>\n      <td>45.000000</td>\n      <td>87.333333</td>\n      <td>110.333333</td>\n      <td>72.333333</td>\n      <td>53.000000</td>\n      <td>13.000000</td>\n      <td>159.000000</td>\n      <td>8.333333</td>\n      <td>15.666667</td>\n      <td>434.000000</td>\n    </tr>\n    <tr>\n      <th>2</th>\n      <th>1.0</th>\n      <th>200</th>\n      <td>1</td>\n      <td>36.000000</td>\n      <td>36.000000</td>\n      <td>36.000000</td>\n      <td>36.000000</td>\n      <td>71.000000</td>\n      <td>77.000000</td>\n      <td>23.000000</td>\n      <td>187.000000</td>\n      <td>11.000000</td>\n      <td>29.000000</td>\n      <td>426.000000</td>\n    </tr>\n    <tr>\n      <th>3</th>\n      <th>1.0</th>\n      <th>200</th>\n      <td>1</td>\n      <td>56.000000</td>\n      <td>56.000000</td>\n      <td>56.000000</td>\n      <td>56.000000</td>\n      <td>54.000000</td>\n      <td>55.000000</td>\n      <td>10.000000</td>\n      <td>173.000000</td>\n      <td>19.000000</td>\n      <td>25.000000</td>\n      <td>324.000000</td>\n    </tr>\n    <tr>\n      <th rowspan=\"3\" valign=\"top\">score</th>\n      <th>1</th>\n      <th>-</th>\n      <th>200</th>\n      <td>3</td>\n      <td>29.333333</td>\n      <td>33.333333</td>\n      <td>38.333333</td>\n      <td>60.000000</td>\n      <td>70.333333</td>\n      <td>56.000000</td>\n      <td>20.666667</td>\n      <td>197.000000</td>\n      <td>9.666667</td>\n      <td>17.000000</td>\n      <td>422.000000</td>\n    </tr>\n    <tr>\n      <th>2</th>\n      <th>-</th>\n      <th>200</th>\n      <td>1</td>\n      <td>37.000000</td>\n      <td>37.000000</td>\n      <td>51.000000</td>\n      <td>82.000000</td>\n      <td>68.000000</td>\n      <td>46.000000</td>\n      <td>38.000000</td>\n      <td>209.000000</td>\n      <td>20.000000</td>\n      <td>24.000000</td>\n      <td>408.000000</td>\n    </tr>\n    <tr>\n      <th>3</th>\n      <th>-</th>\n      <th>200</th>\n      <td>1</td>\n      <td>117.000000</td>\n      <td>117.000000</td>\n      <td>117.000000</td>\n      <td>117.000000</td>\n      <td>63.000000</td>\n      <td>50.000000</td>\n      <td>6.000000</td>\n      <td>161.000000</td>\n      <td>17.000000</td>\n      <td>24.000000</td>\n      <td>378.000000</td>\n    </tr>\n    <tr>\n      <th>random</th>\n      <th>-</th>\n      <th>-</th>\n      <th>-</th>\n      <th>-</th>\n      <td>36</td>\n      <td>65.416667</td>\n      <td>71.722222</td>\n      <td>95.444444</td>\n      <td>103.027778</td>\n      <td>41.083333</td>\n      <td>32.833333</td>\n      <td>7.527778</td>\n      <td>113.333333</td>\n      <td>7.388889</td>\n      <td>11.972222</td>\n      <td>246.500000</td>\n    </tr>\n  </tbody>\n</table>\n</div>"
     },
     "execution_count": 1219,
     "metadata": {},
     "output_type": "execute_result"
    }
   ],
   "source": [
    "pd.set_option('display.max_rows', None)\n",
    "match_result = original_df.groupby(['player', 'method', 'objective', 'playerDepth', 'almostRatio', 'simulation'])[\n",
    "                                      'method',\n",
    "                                      'Matched_HorizontalPiece',\n",
    "                                      'Matched_VerticalPiece',\n",
    "                                      'Matched_CrossPiece',\n",
    "                                      'Matched_RocketPiece',\n",
    "                                      'Matched_BombPiece',\n",
    "                                      'Matched_RainbowPiece',\n",
    "                                      #'AlmostReachedKnowledgeStep',\n",
    "                                      'Q1ReachedKnowledgeStep',\n",
    "                                      'Q2ReachedKnowledgeStep',\n",
    "                                      'Q3ReachedKnowledgeStep',\n",
    "                                      'ReachedKnowledgeStep',\n",
    "                                      'Sum_Matched'].agg(\n",
    "    {\n",
    "        'method': ['count'],\n",
    "        #'AlmostReachedKnowledgeStep': ['mean'],\n",
    "        'Q1ReachedKnowledgeStep': ['mean'],\n",
    "        'Q2ReachedKnowledgeStep': ['mean'],\n",
    "        'Q3ReachedKnowledgeStep': ['mean'],\n",
    "        'ReachedKnowledgeStep': ['mean'],\n",
    "        'Matched_HorizontalPiece':['mean'],\n",
    "        'Matched_VerticalPiece':['mean'],\n",
    "        'Matched_CrossPiece':['mean'],\n",
    "        'Matched_RocketPiece':['mean'],\n",
    "        'Matched_BombPiece':['mean'],\n",
    "        'Matched_RainbowPiece':['mean'],\n",
    "        'Sum_Matched':['mean'],\n",
    "     }\n",
    ")\n",
    "match_result\n"
   ]
  },
  {
   "cell_type": "code",
   "execution_count": 1220,
   "outputs": [],
   "source": [
    "original_df = original_df[\n",
    "    (original_df['ReachedKnowledgeStep'] != -1) &\n",
    "    (original_df['Q1ReachedKnowledgeStep'] != -1) &\n",
    "    (original_df['Q2ReachedKnowledgeStep'] != -1) &\n",
    "    (original_df['Q3ReachedKnowledgeStep'] != -1)\n",
    "]\n",
    "\n",
    "for i in range(5):\n",
    "    original_df['playerDepth'] = original_df['playerDepth'].replace(str(i), i)\n",
    "for i in range(100, 1000, 100):\n",
    "    original_df['simulation'] = original_df['simulation'].replace(str(i), i)"
   ],
   "metadata": {
    "collapsed": false,
    "pycharm": {
     "name": "#%%\n"
    }
   }
  },
  {
   "cell_type": "code",
   "execution_count": 1221,
   "outputs": [
    {
     "name": "stderr",
     "output_type": "stream",
     "text": [
      "C:\\Users\\GIST\\.conda\\envs\\mlagents\\lib\\site-packages\\ipykernel_launcher.py:3: FutureWarning: Indexing with multiple keys (implicitly converted to a tuple of keys) will be deprecated, use a list instead.\n",
      "  This is separate from the ipykernel package so we can avoid doing imports until\n"
     ]
    },
    {
     "data": {
      "text/plain": "                                                           method  \\\n                                                            count   \nplayer method objective playerDepth almostRatio simulation          \n0      mcts   knowledge 1           1.0         200             3   \n                        2           1.0         200             1   \n                        3           1.0         200             1   \n              score     1           -           200             2   \n                        2           -           200             1   \n                        3           -           200             1   \n       random -         -           -           -              33   \n1      mcts   knowledge 1           1.0         200             3   \n                        2           1.0         200             1   \n                        3           1.0         200             1   \n              score     1           -           200             2   \n                        2           -           200             1   \n                        3           -           200             1   \n       random -         -           -           -              20   \n2      mcts   knowledge 1           1.0         200             2   \n                        2           1.0         200             1   \n                        3           1.0         200             1   \n              score     1           -           200             2   \n                        2           -           200             1   \n                        3           -           200             1   \n       random -         -           -           -              27   \n3      mcts   knowledge 1           1.0         200             3   \n                        2           1.0         200             1   \n                        3           1.0         200             1   \n              score     1           -           200             2   \n                        2           -           200             1   \n                        3           -           200             1   \n       random -         -           -           -              30   \n4      mcts   knowledge 1           1.0         200             3   \n                        2           1.0         200             1   \n                        3           1.0         200             1   \n              score     1           -           200             3   \n                        2           -           200             1   \n                        3           -           200             1   \n       random -         -           -           -              35   \n\n                                                           Q1ReachedKnowledgeStep  \\\n                                                                             mean   \nplayer method objective playerDepth almostRatio simulation                          \n0      mcts   knowledge 1           1.0         200                     27.333333   \n                        2           1.0         200                     73.000000   \n                        3           1.0         200                    126.000000   \n              score     1           -           200                     37.500000   \n                        2           -           200                     70.000000   \n                        3           -           200                     30.000000   \n       random -         -           -           -                       54.727273   \n1      mcts   knowledge 1           1.0         200                     39.333333   \n                        2           1.0         200                     51.000000   \n                        3           1.0         200                     25.000000   \n              score     1           -           200                     16.500000   \n                        2           -           200                     68.000000   \n                        3           -           200                     24.000000   \n       random -         -           -           -                       58.700000   \n2      mcts   knowledge 1           1.0         200                     26.500000   \n                        2           1.0         200                     59.000000   \n                        3           1.0         200                     60.000000   \n              score     1           -           200                     31.000000   \n                        2           -           200                     43.000000   \n                        3           -           200                    143.000000   \n       random -         -           -           -                       62.111111   \n3      mcts   knowledge 1           1.0         200                     36.333333   \n                        2           1.0         200                     44.000000   \n                        3           1.0         200                     54.000000   \n              score     1           -           200                     52.000000   \n                        2           -           200                     52.000000   \n                        3           -           200                     10.000000   \n       random -         -           -           -                       68.433333   \n4      mcts   knowledge 1           1.0         200                     40.333333   \n                        2           1.0         200                     36.000000   \n                        3           1.0         200                     56.000000   \n              score     1           -           200                     29.333333   \n                        2           -           200                     37.000000   \n                        3           -           200                    117.000000   \n       random -         -           -           -                       64.600000   \n\n                                                           Q2ReachedKnowledgeStep  \\\n                                                                             mean   \nplayer method objective playerDepth almostRatio simulation                          \n0      mcts   knowledge 1           1.0         200                     29.666667   \n                        2           1.0         200                     73.000000   \n                        3           1.0         200                    126.000000   \n              score     1           -           200                     74.000000   \n                        2           -           200                     70.000000   \n                        3           -           200                     43.000000   \n       random -         -           -           -                       64.151515   \n1      mcts   knowledge 1           1.0         200                     72.000000   \n                        2           1.0         200                     72.000000   \n                        3           1.0         200                     30.000000   \n              score     1           -           200                     29.000000   \n                        2           -           200                     68.000000   \n                        3           -           200                     92.000000   \n       random -         -           -           -                       94.300000   \n2      mcts   knowledge 1           1.0         200                     35.000000   \n                        2           1.0         200                    125.000000   \n                        3           1.0         200                     88.000000   \n              score     1           -           200                     31.000000   \n                        2           -           200                     43.000000   \n                        3           -           200                    143.000000   \n       random -         -           -           -                       74.111111   \n3      mcts   knowledge 1           1.0         200                    103.000000   \n                        2           1.0         200                     44.000000   \n                        3           1.0         200                     78.000000   \n              score     1           -           200                     74.500000   \n                        2           -           200                     52.000000   \n                        3           -           200                     41.000000   \n       random -         -           -           -                       93.500000   \n4      mcts   knowledge 1           1.0         200                     45.000000   \n                        2           1.0         200                     36.000000   \n                        3           1.0         200                     56.000000   \n              score     1           -           200                     33.333333   \n                        2           -           200                     37.000000   \n                        3           -           200                    117.000000   \n       random -         -           -           -                       71.085714   \n\n                                                           Q3ReachedKnowledgeStep  \\\n                                                                             mean   \nplayer method objective playerDepth almostRatio simulation                          \n0      mcts   knowledge 1           1.0         200                     31.333333   \n                        2           1.0         200                    147.000000   \n                        3           1.0         200                    161.000000   \n              score     1           -           200                     87.000000   \n                        2           -           200                     89.000000   \n                        3           -           200                     59.000000   \n       random -         -           -           -                       98.515152   \n1      mcts   knowledge 1           1.0         200                     75.000000   \n                        2           1.0         200                     92.000000   \n                        3           1.0         200                     30.000000   \n              score     1           -           200                     39.500000   \n                        2           -           200                    114.000000   \n                        3           -           200                    114.000000   \n       random -         -           -           -                      118.450000   \n2      mcts   knowledge 1           1.0         200                     49.000000   \n                        2           1.0         200                    135.000000   \n                        3           1.0         200                     88.000000   \n              score     1           -           200                     65.500000   \n                        2           -           200                     43.000000   \n                        3           -           200                    156.000000   \n       random -         -           -           -                       90.000000   \n3      mcts   knowledge 1           1.0         200                    108.333333   \n                        2           1.0         200                     54.000000   \n                        3           1.0         200                    106.000000   \n              score     1           -           200                     96.500000   \n                        2           -           200                     76.000000   \n                        3           -           200                     44.000000   \n       random -         -           -           -                      120.633333   \n4      mcts   knowledge 1           1.0         200                     87.333333   \n                        2           1.0         200                     36.000000   \n                        3           1.0         200                     56.000000   \n              score     1           -           200                     38.333333   \n                        2           -           200                     51.000000   \n                        3           -           200                    117.000000   \n       random -         -           -           -                       98.200000   \n\n                                                           ReachedKnowledgeStep  \\\n                                                                           mean   \nplayer method objective playerDepth almostRatio simulation                        \n0      mcts   knowledge 1           1.0         200                   31.333333   \n                        2           1.0         200                  147.000000   \n                        3           1.0         200                  161.000000   \n              score     1           -           200                   87.000000   \n                        2           -           200                   89.000000   \n                        3           -           200                   59.000000   \n       random -         -           -           -                     99.454545   \n1      mcts   knowledge 1           1.0         200                   83.000000   \n                        2           1.0         200                   92.000000   \n                        3           1.0         200                   37.000000   \n              score     1           -           200                   42.500000   \n                        2           -           200                  114.000000   \n                        3           -           200                  125.000000   \n       random -         -           -           -                    123.350000   \n2      mcts   knowledge 1           1.0         200                   70.000000   \n                        2           1.0         200                  135.000000   \n                        3           1.0         200                  164.000000   \n              score     1           -           200                   65.500000   \n                        2           -           200                   43.000000   \n                        3           -           200                  161.000000   \n       random -         -           -           -                     98.370370   \n3      mcts   knowledge 1           1.0         200                  108.666667   \n                        2           1.0         200                   54.000000   \n                        3           1.0         200                  106.000000   \n              score     1           -           200                   96.500000   \n                        2           -           200                   76.000000   \n                        3           -           200                   47.000000   \n       random -         -           -           -                    122.933333   \n4      mcts   knowledge 1           1.0         200                  110.333333   \n                        2           1.0         200                   36.000000   \n                        3           1.0         200                   56.000000   \n              score     1           -           200                   60.000000   \n                        2           -           200                   82.000000   \n                        3           -           200                  117.000000   \n       random -         -           -           -                    106.000000   \n\n                                                           Matched_HorizontalPiece  \\\n                                                                              mean   \nplayer method objective playerDepth almostRatio simulation                           \n0      mcts   knowledge 1           1.0         200                      63.666667   \n                        2           1.0         200                      58.000000   \n                        3           1.0         200                      83.000000   \n              score     1           -           200                      60.500000   \n                        2           -           200                      59.000000   \n                        3           -           200                      54.000000   \n       random -         -           -           -                        42.090909   \n1      mcts   knowledge 1           1.0         200                      66.000000   \n                        2           1.0         200                      67.000000   \n                        3           1.0         200                      73.000000   \n              score     1           -           200                      54.000000   \n                        2           -           200                      71.000000   \n                        3           -           200                      96.000000   \n       random -         -           -           -                        40.550000   \n2      mcts   knowledge 1           1.0         200                      69.500000   \n                        2           1.0         200                      77.000000   \n                        3           1.0         200                      76.000000   \n              score     1           -           200                      71.000000   \n                        2           -           200                      87.000000   \n                        3           -           200                      63.000000   \n       random -         -           -           -                        41.481481   \n3      mcts   knowledge 1           1.0         200                      75.333333   \n                        2           1.0         200                      90.000000   \n                        3           1.0         200                      44.000000   \n              score     1           -           200                      74.000000   \n                        2           -           200                      57.000000   \n                        3           -           200                      60.000000   \n       random -         -           -           -                        41.333333   \n4      mcts   knowledge 1           1.0         200                      72.333333   \n                        2           1.0         200                      71.000000   \n                        3           1.0         200                      54.000000   \n              score     1           -           200                      70.333333   \n                        2           -           200                      68.000000   \n                        3           -           200                      63.000000   \n       random -         -           -           -                        41.171429   \n\n                                                           Matched_VerticalPiece  \\\n                                                                            mean   \nplayer method objective playerDepth almostRatio simulation                         \n0      mcts   knowledge 1           1.0         200                    61.333333   \n                        2           1.0         200                    61.000000   \n                        3           1.0         200                    68.000000   \n              score     1           -           200                    59.000000   \n                        2           -           200                    68.000000   \n                        3           -           200                    59.000000   \n       random -         -           -           -                      34.151515   \n1      mcts   knowledge 1           1.0         200                    60.333333   \n                        2           1.0         200                    57.000000   \n                        3           1.0         200                    44.000000   \n              score     1           -           200                    45.500000   \n                        2           -           200                    39.000000   \n                        3           -           200                    52.000000   \n       random -         -           -           -                      33.050000   \n2      mcts   knowledge 1           1.0         200                    49.000000   \n                        2           1.0         200                    46.000000   \n                        3           1.0         200                    60.000000   \n              score     1           -           200                    62.500000   \n                        2           -           200                    61.000000   \n                        3           -           200                    53.000000   \n       random -         -           -           -                      34.703704   \n3      mcts   knowledge 1           1.0         200                    54.666667   \n                        2           1.0         200                    63.000000   \n                        3           1.0         200                    50.000000   \n              score     1           -           200                    54.500000   \n                        2           -           200                    39.000000   \n                        3           -           200                    50.000000   \n       random -         -           -           -                      32.933333   \n4      mcts   knowledge 1           1.0         200                    53.000000   \n                        2           1.0         200                    77.000000   \n                        3           1.0         200                    55.000000   \n              score     1           -           200                    56.000000   \n                        2           -           200                    46.000000   \n                        3           -           200                    50.000000   \n       random -         -           -           -                      32.800000   \n\n                                                           Matched_CrossPiece  \\\n                                                                         mean   \nplayer method objective playerDepth almostRatio simulation                      \n0      mcts   knowledge 1           1.0         200                  8.666667   \n                        2           1.0         200                 15.000000   \n                        3           1.0         200                  3.000000   \n              score     1           -           200                 14.000000   \n                        2           -           200                 26.000000   \n                        3           -           200                 12.000000   \n       random -         -           -           -                    7.151515   \n1      mcts   knowledge 1           1.0         200                 14.000000   \n                        2           1.0         200                 17.000000   \n                        3           1.0         200                 25.000000   \n              score     1           -           200                 18.000000   \n                        2           -           200                 20.000000   \n                        3           -           200                  9.000000   \n       random -         -           -           -                   11.100000   \n2      mcts   knowledge 1           1.0         200                 21.500000   \n                        2           1.0         200                 17.000000   \n                        3           1.0         200                 14.000000   \n              score     1           -           200                 18.000000   \n                        2           -           200                 30.000000   \n                        3           -           200                 19.000000   \n       random -         -           -           -                    7.592593   \n3      mcts   knowledge 1           1.0         200                 11.000000   \n                        2           1.0         200                 18.000000   \n                        3           1.0         200                 14.000000   \n              score     1           -           200                 13.500000   \n                        2           -           200                 14.000000   \n                        3           -           200                 14.000000   \n       random -         -           -           -                    7.900000   \n4      mcts   knowledge 1           1.0         200                 13.000000   \n                        2           1.0         200                 23.000000   \n                        3           1.0         200                 10.000000   \n              score     1           -           200                 20.666667   \n                        2           -           200                 38.000000   \n                        3           -           200                  6.000000   \n       random -         -           -           -                    7.542857   \n\n                                                           Matched_RocketPiece  \\\n                                                                          mean   \nplayer method objective playerDepth almostRatio simulation                       \n0      mcts   knowledge 1           1.0         200                 128.666667   \n                        2           1.0         200                 169.000000   \n                        3           1.0         200                 197.000000   \n              score     1           -           200                 147.500000   \n                        2           -           200                 186.000000   \n                        3           -           200                 187.000000   \n       random -         -           -           -                   114.181818   \n1      mcts   knowledge 1           1.0         200                 176.666667   \n                        2           1.0         200                 252.000000   \n                        3           1.0         200                 197.000000   \n              score     1           -           200                 160.500000   \n                        2           -           200                 175.000000   \n                        3           -           200                 258.000000   \n       random -         -           -           -                   120.500000   \n2      mcts   knowledge 1           1.0         200                 198.000000   \n                        2           1.0         200                 226.000000   \n                        3           1.0         200                 206.000000   \n              score     1           -           200                 195.000000   \n                        2           -           200                 197.000000   \n                        3           -           200                 212.000000   \n       random -         -           -           -                   119.000000   \n3      mcts   knowledge 1           1.0         200                 185.333333   \n                        2           1.0         200                 183.000000   \n                        3           1.0         200                 141.000000   \n              score     1           -           200                 165.500000   \n                        2           -           200                 187.000000   \n                        3           -           200                 209.000000   \n       random -         -           -           -                   114.733333   \n4      mcts   knowledge 1           1.0         200                 159.000000   \n                        2           1.0         200                 187.000000   \n                        3           1.0         200                 173.000000   \n              score     1           -           200                 197.000000   \n                        2           -           200                 209.000000   \n                        3           -           200                 161.000000   \n       random -         -           -           -                   112.257143   \n\n                                                           Matched_BombPiece  \\\n                                                                        mean   \nplayer method objective playerDepth almostRatio simulation                     \n0      mcts   knowledge 1           1.0         200                12.333333   \n                        2           1.0         200                 7.000000   \n                        3           1.0         200                 3.000000   \n              score     1           -           200                10.000000   \n                        2           -           200                13.000000   \n                        3           -           200                 6.000000   \n       random -         -           -           -                   7.818182   \n1      mcts   knowledge 1           1.0         200                 8.666667   \n                        2           1.0         200                13.000000   \n                        3           1.0         200                12.000000   \n              score     1           -           200                 8.500000   \n                        2           -           200                11.000000   \n                        3           -           200                 8.000000   \n       random -         -           -           -                   8.050000   \n2      mcts   knowledge 1           1.0         200                13.500000   \n                        2           1.0         200                 6.000000   \n                        3           1.0         200                 8.000000   \n              score     1           -           200                11.000000   \n                        2           -           200                31.000000   \n                        3           -           200                 6.000000   \n       random -         -           -           -                   9.148148   \n3      mcts   knowledge 1           1.0         200                11.333333   \n                        2           1.0         200                20.000000   \n                        3           1.0         200                15.000000   \n              score     1           -           200                 6.500000   \n                        2           -           200                 5.000000   \n                        3           -           200                17.000000   \n       random -         -           -           -                   8.133333   \n4      mcts   knowledge 1           1.0         200                 8.333333   \n                        2           1.0         200                11.000000   \n                        3           1.0         200                19.000000   \n              score     1           -           200                 9.666667   \n                        2           -           200                20.000000   \n                        3           -           200                17.000000   \n       random -         -           -           -                   7.571429   \n\n                                                           Matched_RainbowPiece  \\\n                                                                           mean   \nplayer method objective playerDepth almostRatio simulation                        \n0      mcts   knowledge 1           1.0         200                   18.333333   \n                        2           1.0         200                   33.000000   \n                        3           1.0         200                   15.000000   \n              score     1           -           200                   13.500000   \n                        2           -           200                   26.000000   \n                        3           -           200                   13.000000   \n       random -         -           -           -                     11.757576   \n1      mcts   knowledge 1           1.0         200                   21.666667   \n                        2           1.0         200                   17.000000   \n                        3           1.0         200                   29.000000   \n              score     1           -           200                   16.000000   \n                        2           -           200                   16.000000   \n                        3           -           200                   18.000000   \n       random -         -           -           -                     13.350000   \n2      mcts   knowledge 1           1.0         200                   18.500000   \n                        2           1.0         200                   14.000000   \n                        3           1.0         200                   26.000000   \n              score     1           -           200                   21.000000   \n                        2           -           200                   38.000000   \n                        3           -           200                   19.000000   \n       random -         -           -           -                     12.777778   \n3      mcts   knowledge 1           1.0         200                   20.333333   \n                        2           1.0         200                   21.000000   \n                        3           1.0         200                   17.000000   \n              score     1           -           200                   13.000000   \n                        2           -           200                   15.000000   \n                        3           -           200                   23.000000   \n       random -         -           -           -                     11.900000   \n4      mcts   knowledge 1           1.0         200                   15.666667   \n                        2           1.0         200                   29.000000   \n                        3           1.0         200                   25.000000   \n              score     1           -           200                   17.000000   \n                        2           -           200                   24.000000   \n                        3           -           200                   24.000000   \n       random -         -           -           -                     11.828571   \n\n                                                           Sum_Matched  \n                                                                  mean  \nplayer method objective playerDepth almostRatio simulation              \n0      mcts   knowledge 1           1.0         200         382.000000  \n                        2           1.0         200         348.000000  \n                        3           1.0         200         498.000000  \n              score     1           -           200         363.000000  \n                        2           -           200         354.000000  \n                        3           -           200         324.000000  \n       random -         -           -           -           252.545455  \n1      mcts   knowledge 1           1.0         200         396.000000  \n                        2           1.0         200         402.000000  \n                        3           1.0         200         438.000000  \n              score     1           -           200         324.000000  \n                        2           -           200         426.000000  \n                        3           -           200         576.000000  \n       random -         -           -           -           243.300000  \n2      mcts   knowledge 1           1.0         200         417.000000  \n                        2           1.0         200         462.000000  \n                        3           1.0         200         456.000000  \n              score     1           -           200         426.000000  \n                        2           -           200         522.000000  \n                        3           -           200         378.000000  \n       random -         -           -           -           248.888889  \n3      mcts   knowledge 1           1.0         200         452.000000  \n                        2           1.0         200         540.000000  \n                        3           1.0         200         264.000000  \n              score     1           -           200         444.000000  \n                        2           -           200         342.000000  \n                        3           -           200         360.000000  \n       random -         -           -           -           248.000000  \n4      mcts   knowledge 1           1.0         200         434.000000  \n                        2           1.0         200         426.000000  \n                        3           1.0         200         324.000000  \n              score     1           -           200         422.000000  \n                        2           -           200         408.000000  \n                        3           -           200         378.000000  \n       random -         -           -           -           247.028571  ",
      "text/html": "<div>\n<style scoped>\n    .dataframe tbody tr th:only-of-type {\n        vertical-align: middle;\n    }\n\n    .dataframe tbody tr th {\n        vertical-align: top;\n    }\n\n    .dataframe thead tr th {\n        text-align: left;\n    }\n\n    .dataframe thead tr:last-of-type th {\n        text-align: right;\n    }\n</style>\n<table border=\"1\" class=\"dataframe\">\n  <thead>\n    <tr>\n      <th></th>\n      <th></th>\n      <th></th>\n      <th></th>\n      <th></th>\n      <th></th>\n      <th>method</th>\n      <th>Q1ReachedKnowledgeStep</th>\n      <th>Q2ReachedKnowledgeStep</th>\n      <th>Q3ReachedKnowledgeStep</th>\n      <th>ReachedKnowledgeStep</th>\n      <th>Matched_HorizontalPiece</th>\n      <th>Matched_VerticalPiece</th>\n      <th>Matched_CrossPiece</th>\n      <th>Matched_RocketPiece</th>\n      <th>Matched_BombPiece</th>\n      <th>Matched_RainbowPiece</th>\n      <th>Sum_Matched</th>\n    </tr>\n    <tr>\n      <th></th>\n      <th></th>\n      <th></th>\n      <th></th>\n      <th></th>\n      <th></th>\n      <th>count</th>\n      <th>mean</th>\n      <th>mean</th>\n      <th>mean</th>\n      <th>mean</th>\n      <th>mean</th>\n      <th>mean</th>\n      <th>mean</th>\n      <th>mean</th>\n      <th>mean</th>\n      <th>mean</th>\n      <th>mean</th>\n    </tr>\n    <tr>\n      <th>player</th>\n      <th>method</th>\n      <th>objective</th>\n      <th>playerDepth</th>\n      <th>almostRatio</th>\n      <th>simulation</th>\n      <th></th>\n      <th></th>\n      <th></th>\n      <th></th>\n      <th></th>\n      <th></th>\n      <th></th>\n      <th></th>\n      <th></th>\n      <th></th>\n      <th></th>\n      <th></th>\n    </tr>\n  </thead>\n  <tbody>\n    <tr>\n      <th rowspan=\"7\" valign=\"top\">0</th>\n      <th rowspan=\"6\" valign=\"top\">mcts</th>\n      <th rowspan=\"3\" valign=\"top\">knowledge</th>\n      <th>1</th>\n      <th>1.0</th>\n      <th>200</th>\n      <td>3</td>\n      <td>27.333333</td>\n      <td>29.666667</td>\n      <td>31.333333</td>\n      <td>31.333333</td>\n      <td>63.666667</td>\n      <td>61.333333</td>\n      <td>8.666667</td>\n      <td>128.666667</td>\n      <td>12.333333</td>\n      <td>18.333333</td>\n      <td>382.000000</td>\n    </tr>\n    <tr>\n      <th>2</th>\n      <th>1.0</th>\n      <th>200</th>\n      <td>1</td>\n      <td>73.000000</td>\n      <td>73.000000</td>\n      <td>147.000000</td>\n      <td>147.000000</td>\n      <td>58.000000</td>\n      <td>61.000000</td>\n      <td>15.000000</td>\n      <td>169.000000</td>\n      <td>7.000000</td>\n      <td>33.000000</td>\n      <td>348.000000</td>\n    </tr>\n    <tr>\n      <th>3</th>\n      <th>1.0</th>\n      <th>200</th>\n      <td>1</td>\n      <td>126.000000</td>\n      <td>126.000000</td>\n      <td>161.000000</td>\n      <td>161.000000</td>\n      <td>83.000000</td>\n      <td>68.000000</td>\n      <td>3.000000</td>\n      <td>197.000000</td>\n      <td>3.000000</td>\n      <td>15.000000</td>\n      <td>498.000000</td>\n    </tr>\n    <tr>\n      <th rowspan=\"3\" valign=\"top\">score</th>\n      <th>1</th>\n      <th>-</th>\n      <th>200</th>\n      <td>2</td>\n      <td>37.500000</td>\n      <td>74.000000</td>\n      <td>87.000000</td>\n      <td>87.000000</td>\n      <td>60.500000</td>\n      <td>59.000000</td>\n      <td>14.000000</td>\n      <td>147.500000</td>\n      <td>10.000000</td>\n      <td>13.500000</td>\n      <td>363.000000</td>\n    </tr>\n    <tr>\n      <th>2</th>\n      <th>-</th>\n      <th>200</th>\n      <td>1</td>\n      <td>70.000000</td>\n      <td>70.000000</td>\n      <td>89.000000</td>\n      <td>89.000000</td>\n      <td>59.000000</td>\n      <td>68.000000</td>\n      <td>26.000000</td>\n      <td>186.000000</td>\n      <td>13.000000</td>\n      <td>26.000000</td>\n      <td>354.000000</td>\n    </tr>\n    <tr>\n      <th>3</th>\n      <th>-</th>\n      <th>200</th>\n      <td>1</td>\n      <td>30.000000</td>\n      <td>43.000000</td>\n      <td>59.000000</td>\n      <td>59.000000</td>\n      <td>54.000000</td>\n      <td>59.000000</td>\n      <td>12.000000</td>\n      <td>187.000000</td>\n      <td>6.000000</td>\n      <td>13.000000</td>\n      <td>324.000000</td>\n    </tr>\n    <tr>\n      <th>random</th>\n      <th>-</th>\n      <th>-</th>\n      <th>-</th>\n      <th>-</th>\n      <td>33</td>\n      <td>54.727273</td>\n      <td>64.151515</td>\n      <td>98.515152</td>\n      <td>99.454545</td>\n      <td>42.090909</td>\n      <td>34.151515</td>\n      <td>7.151515</td>\n      <td>114.181818</td>\n      <td>7.818182</td>\n      <td>11.757576</td>\n      <td>252.545455</td>\n    </tr>\n    <tr>\n      <th rowspan=\"7\" valign=\"top\">1</th>\n      <th rowspan=\"6\" valign=\"top\">mcts</th>\n      <th rowspan=\"3\" valign=\"top\">knowledge</th>\n      <th>1</th>\n      <th>1.0</th>\n      <th>200</th>\n      <td>3</td>\n      <td>39.333333</td>\n      <td>72.000000</td>\n      <td>75.000000</td>\n      <td>83.000000</td>\n      <td>66.000000</td>\n      <td>60.333333</td>\n      <td>14.000000</td>\n      <td>176.666667</td>\n      <td>8.666667</td>\n      <td>21.666667</td>\n      <td>396.000000</td>\n    </tr>\n    <tr>\n      <th>2</th>\n      <th>1.0</th>\n      <th>200</th>\n      <td>1</td>\n      <td>51.000000</td>\n      <td>72.000000</td>\n      <td>92.000000</td>\n      <td>92.000000</td>\n      <td>67.000000</td>\n      <td>57.000000</td>\n      <td>17.000000</td>\n      <td>252.000000</td>\n      <td>13.000000</td>\n      <td>17.000000</td>\n      <td>402.000000</td>\n    </tr>\n    <tr>\n      <th>3</th>\n      <th>1.0</th>\n      <th>200</th>\n      <td>1</td>\n      <td>25.000000</td>\n      <td>30.000000</td>\n      <td>30.000000</td>\n      <td>37.000000</td>\n      <td>73.000000</td>\n      <td>44.000000</td>\n      <td>25.000000</td>\n      <td>197.000000</td>\n      <td>12.000000</td>\n      <td>29.000000</td>\n      <td>438.000000</td>\n    </tr>\n    <tr>\n      <th rowspan=\"3\" valign=\"top\">score</th>\n      <th>1</th>\n      <th>-</th>\n      <th>200</th>\n      <td>2</td>\n      <td>16.500000</td>\n      <td>29.000000</td>\n      <td>39.500000</td>\n      <td>42.500000</td>\n      <td>54.000000</td>\n      <td>45.500000</td>\n      <td>18.000000</td>\n      <td>160.500000</td>\n      <td>8.500000</td>\n      <td>16.000000</td>\n      <td>324.000000</td>\n    </tr>\n    <tr>\n      <th>2</th>\n      <th>-</th>\n      <th>200</th>\n      <td>1</td>\n      <td>68.000000</td>\n      <td>68.000000</td>\n      <td>114.000000</td>\n      <td>114.000000</td>\n      <td>71.000000</td>\n      <td>39.000000</td>\n      <td>20.000000</td>\n      <td>175.000000</td>\n      <td>11.000000</td>\n      <td>16.000000</td>\n      <td>426.000000</td>\n    </tr>\n    <tr>\n      <th>3</th>\n      <th>-</th>\n      <th>200</th>\n      <td>1</td>\n      <td>24.000000</td>\n      <td>92.000000</td>\n      <td>114.000000</td>\n      <td>125.000000</td>\n      <td>96.000000</td>\n      <td>52.000000</td>\n      <td>9.000000</td>\n      <td>258.000000</td>\n      <td>8.000000</td>\n      <td>18.000000</td>\n      <td>576.000000</td>\n    </tr>\n    <tr>\n      <th>random</th>\n      <th>-</th>\n      <th>-</th>\n      <th>-</th>\n      <th>-</th>\n      <td>20</td>\n      <td>58.700000</td>\n      <td>94.300000</td>\n      <td>118.450000</td>\n      <td>123.350000</td>\n      <td>40.550000</td>\n      <td>33.050000</td>\n      <td>11.100000</td>\n      <td>120.500000</td>\n      <td>8.050000</td>\n      <td>13.350000</td>\n      <td>243.300000</td>\n    </tr>\n    <tr>\n      <th rowspan=\"7\" valign=\"top\">2</th>\n      <th rowspan=\"6\" valign=\"top\">mcts</th>\n      <th rowspan=\"3\" valign=\"top\">knowledge</th>\n      <th>1</th>\n      <th>1.0</th>\n      <th>200</th>\n      <td>2</td>\n      <td>26.500000</td>\n      <td>35.000000</td>\n      <td>49.000000</td>\n      <td>70.000000</td>\n      <td>69.500000</td>\n      <td>49.000000</td>\n      <td>21.500000</td>\n      <td>198.000000</td>\n      <td>13.500000</td>\n      <td>18.500000</td>\n      <td>417.000000</td>\n    </tr>\n    <tr>\n      <th>2</th>\n      <th>1.0</th>\n      <th>200</th>\n      <td>1</td>\n      <td>59.000000</td>\n      <td>125.000000</td>\n      <td>135.000000</td>\n      <td>135.000000</td>\n      <td>77.000000</td>\n      <td>46.000000</td>\n      <td>17.000000</td>\n      <td>226.000000</td>\n      <td>6.000000</td>\n      <td>14.000000</td>\n      <td>462.000000</td>\n    </tr>\n    <tr>\n      <th>3</th>\n      <th>1.0</th>\n      <th>200</th>\n      <td>1</td>\n      <td>60.000000</td>\n      <td>88.000000</td>\n      <td>88.000000</td>\n      <td>164.000000</td>\n      <td>76.000000</td>\n      <td>60.000000</td>\n      <td>14.000000</td>\n      <td>206.000000</td>\n      <td>8.000000</td>\n      <td>26.000000</td>\n      <td>456.000000</td>\n    </tr>\n    <tr>\n      <th rowspan=\"3\" valign=\"top\">score</th>\n      <th>1</th>\n      <th>-</th>\n      <th>200</th>\n      <td>2</td>\n      <td>31.000000</td>\n      <td>31.000000</td>\n      <td>65.500000</td>\n      <td>65.500000</td>\n      <td>71.000000</td>\n      <td>62.500000</td>\n      <td>18.000000</td>\n      <td>195.000000</td>\n      <td>11.000000</td>\n      <td>21.000000</td>\n      <td>426.000000</td>\n    </tr>\n    <tr>\n      <th>2</th>\n      <th>-</th>\n      <th>200</th>\n      <td>1</td>\n      <td>43.000000</td>\n      <td>43.000000</td>\n      <td>43.000000</td>\n      <td>43.000000</td>\n      <td>87.000000</td>\n      <td>61.000000</td>\n      <td>30.000000</td>\n      <td>197.000000</td>\n      <td>31.000000</td>\n      <td>38.000000</td>\n      <td>522.000000</td>\n    </tr>\n    <tr>\n      <th>3</th>\n      <th>-</th>\n      <th>200</th>\n      <td>1</td>\n      <td>143.000000</td>\n      <td>143.000000</td>\n      <td>156.000000</td>\n      <td>161.000000</td>\n      <td>63.000000</td>\n      <td>53.000000</td>\n      <td>19.000000</td>\n      <td>212.000000</td>\n      <td>6.000000</td>\n      <td>19.000000</td>\n      <td>378.000000</td>\n    </tr>\n    <tr>\n      <th>random</th>\n      <th>-</th>\n      <th>-</th>\n      <th>-</th>\n      <th>-</th>\n      <td>27</td>\n      <td>62.111111</td>\n      <td>74.111111</td>\n      <td>90.000000</td>\n      <td>98.370370</td>\n      <td>41.481481</td>\n      <td>34.703704</td>\n      <td>7.592593</td>\n      <td>119.000000</td>\n      <td>9.148148</td>\n      <td>12.777778</td>\n      <td>248.888889</td>\n    </tr>\n    <tr>\n      <th rowspan=\"7\" valign=\"top\">3</th>\n      <th rowspan=\"6\" valign=\"top\">mcts</th>\n      <th rowspan=\"3\" valign=\"top\">knowledge</th>\n      <th>1</th>\n      <th>1.0</th>\n      <th>200</th>\n      <td>3</td>\n      <td>36.333333</td>\n      <td>103.000000</td>\n      <td>108.333333</td>\n      <td>108.666667</td>\n      <td>75.333333</td>\n      <td>54.666667</td>\n      <td>11.000000</td>\n      <td>185.333333</td>\n      <td>11.333333</td>\n      <td>20.333333</td>\n      <td>452.000000</td>\n    </tr>\n    <tr>\n      <th>2</th>\n      <th>1.0</th>\n      <th>200</th>\n      <td>1</td>\n      <td>44.000000</td>\n      <td>44.000000</td>\n      <td>54.000000</td>\n      <td>54.000000</td>\n      <td>90.000000</td>\n      <td>63.000000</td>\n      <td>18.000000</td>\n      <td>183.000000</td>\n      <td>20.000000</td>\n      <td>21.000000</td>\n      <td>540.000000</td>\n    </tr>\n    <tr>\n      <th>3</th>\n      <th>1.0</th>\n      <th>200</th>\n      <td>1</td>\n      <td>54.000000</td>\n      <td>78.000000</td>\n      <td>106.000000</td>\n      <td>106.000000</td>\n      <td>44.000000</td>\n      <td>50.000000</td>\n      <td>14.000000</td>\n      <td>141.000000</td>\n      <td>15.000000</td>\n      <td>17.000000</td>\n      <td>264.000000</td>\n    </tr>\n    <tr>\n      <th rowspan=\"3\" valign=\"top\">score</th>\n      <th>1</th>\n      <th>-</th>\n      <th>200</th>\n      <td>2</td>\n      <td>52.000000</td>\n      <td>74.500000</td>\n      <td>96.500000</td>\n      <td>96.500000</td>\n      <td>74.000000</td>\n      <td>54.500000</td>\n      <td>13.500000</td>\n      <td>165.500000</td>\n      <td>6.500000</td>\n      <td>13.000000</td>\n      <td>444.000000</td>\n    </tr>\n    <tr>\n      <th>2</th>\n      <th>-</th>\n      <th>200</th>\n      <td>1</td>\n      <td>52.000000</td>\n      <td>52.000000</td>\n      <td>76.000000</td>\n      <td>76.000000</td>\n      <td>57.000000</td>\n      <td>39.000000</td>\n      <td>14.000000</td>\n      <td>187.000000</td>\n      <td>5.000000</td>\n      <td>15.000000</td>\n      <td>342.000000</td>\n    </tr>\n    <tr>\n      <th>3</th>\n      <th>-</th>\n      <th>200</th>\n      <td>1</td>\n      <td>10.000000</td>\n      <td>41.000000</td>\n      <td>44.000000</td>\n      <td>47.000000</td>\n      <td>60.000000</td>\n      <td>50.000000</td>\n      <td>14.000000</td>\n      <td>209.000000</td>\n      <td>17.000000</td>\n      <td>23.000000</td>\n      <td>360.000000</td>\n    </tr>\n    <tr>\n      <th>random</th>\n      <th>-</th>\n      <th>-</th>\n      <th>-</th>\n      <th>-</th>\n      <td>30</td>\n      <td>68.433333</td>\n      <td>93.500000</td>\n      <td>120.633333</td>\n      <td>122.933333</td>\n      <td>41.333333</td>\n      <td>32.933333</td>\n      <td>7.900000</td>\n      <td>114.733333</td>\n      <td>8.133333</td>\n      <td>11.900000</td>\n      <td>248.000000</td>\n    </tr>\n    <tr>\n      <th rowspan=\"7\" valign=\"top\">4</th>\n      <th rowspan=\"6\" valign=\"top\">mcts</th>\n      <th rowspan=\"3\" valign=\"top\">knowledge</th>\n      <th>1</th>\n      <th>1.0</th>\n      <th>200</th>\n      <td>3</td>\n      <td>40.333333</td>\n      <td>45.000000</td>\n      <td>87.333333</td>\n      <td>110.333333</td>\n      <td>72.333333</td>\n      <td>53.000000</td>\n      <td>13.000000</td>\n      <td>159.000000</td>\n      <td>8.333333</td>\n      <td>15.666667</td>\n      <td>434.000000</td>\n    </tr>\n    <tr>\n      <th>2</th>\n      <th>1.0</th>\n      <th>200</th>\n      <td>1</td>\n      <td>36.000000</td>\n      <td>36.000000</td>\n      <td>36.000000</td>\n      <td>36.000000</td>\n      <td>71.000000</td>\n      <td>77.000000</td>\n      <td>23.000000</td>\n      <td>187.000000</td>\n      <td>11.000000</td>\n      <td>29.000000</td>\n      <td>426.000000</td>\n    </tr>\n    <tr>\n      <th>3</th>\n      <th>1.0</th>\n      <th>200</th>\n      <td>1</td>\n      <td>56.000000</td>\n      <td>56.000000</td>\n      <td>56.000000</td>\n      <td>56.000000</td>\n      <td>54.000000</td>\n      <td>55.000000</td>\n      <td>10.000000</td>\n      <td>173.000000</td>\n      <td>19.000000</td>\n      <td>25.000000</td>\n      <td>324.000000</td>\n    </tr>\n    <tr>\n      <th rowspan=\"3\" valign=\"top\">score</th>\n      <th>1</th>\n      <th>-</th>\n      <th>200</th>\n      <td>3</td>\n      <td>29.333333</td>\n      <td>33.333333</td>\n      <td>38.333333</td>\n      <td>60.000000</td>\n      <td>70.333333</td>\n      <td>56.000000</td>\n      <td>20.666667</td>\n      <td>197.000000</td>\n      <td>9.666667</td>\n      <td>17.000000</td>\n      <td>422.000000</td>\n    </tr>\n    <tr>\n      <th>2</th>\n      <th>-</th>\n      <th>200</th>\n      <td>1</td>\n      <td>37.000000</td>\n      <td>37.000000</td>\n      <td>51.000000</td>\n      <td>82.000000</td>\n      <td>68.000000</td>\n      <td>46.000000</td>\n      <td>38.000000</td>\n      <td>209.000000</td>\n      <td>20.000000</td>\n      <td>24.000000</td>\n      <td>408.000000</td>\n    </tr>\n    <tr>\n      <th>3</th>\n      <th>-</th>\n      <th>200</th>\n      <td>1</td>\n      <td>117.000000</td>\n      <td>117.000000</td>\n      <td>117.000000</td>\n      <td>117.000000</td>\n      <td>63.000000</td>\n      <td>50.000000</td>\n      <td>6.000000</td>\n      <td>161.000000</td>\n      <td>17.000000</td>\n      <td>24.000000</td>\n      <td>378.000000</td>\n    </tr>\n    <tr>\n      <th>random</th>\n      <th>-</th>\n      <th>-</th>\n      <th>-</th>\n      <th>-</th>\n      <td>35</td>\n      <td>64.600000</td>\n      <td>71.085714</td>\n      <td>98.200000</td>\n      <td>106.000000</td>\n      <td>41.171429</td>\n      <td>32.800000</td>\n      <td>7.542857</td>\n      <td>112.257143</td>\n      <td>7.571429</td>\n      <td>11.828571</td>\n      <td>247.028571</td>\n    </tr>\n  </tbody>\n</table>\n</div>"
     },
     "execution_count": 1221,
     "metadata": {},
     "output_type": "execute_result"
    }
   ],
   "source": [
    "pd.set_option('display.max_rows', None)\n",
    "match_result = original_df.groupby(['player', 'method', 'objective', 'playerDepth', 'almostRatio', 'simulation'])[\n",
    "                                      'method',\n",
    "                                      'Matched_HorizontalPiece',\n",
    "                                      'Matched_VerticalPiece',\n",
    "                                      'Matched_CrossPiece',\n",
    "                                      'Matched_RocketPiece',\n",
    "                                      'Matched_BombPiece',\n",
    "                                      'Matched_RainbowPiece',\n",
    "                                      #'AlmostReachedKnowledgeStep',\n",
    "                                      'Q1ReachedKnowledgeStep',\n",
    "                                      'Q2ReachedKnowledgeStep',\n",
    "                                      'Q3ReachedKnowledgeStep',\n",
    "                                      'ReachedKnowledgeStep',\n",
    "                                      'Sum_Matched'].agg(\n",
    "    {\n",
    "        'method': ['count'],\n",
    "        #'AlmostReachedKnowledgeStep': ['mean'],\n",
    "        'Q1ReachedKnowledgeStep': ['mean'],\n",
    "        'Q2ReachedKnowledgeStep': ['mean'],\n",
    "        'Q3ReachedKnowledgeStep': ['mean'],\n",
    "        'ReachedKnowledgeStep': ['mean'],\n",
    "        'Matched_HorizontalPiece':['mean'],\n",
    "        'Matched_VerticalPiece':['mean'],\n",
    "        'Matched_CrossPiece':['mean'],\n",
    "        'Matched_RocketPiece':['mean'],\n",
    "        'Matched_BombPiece':['mean'],\n",
    "        'Matched_RainbowPiece':['mean'],\n",
    "        'Sum_Matched':['mean'],\n",
    "     }\n",
    ")\n",
    "match_result\n"
   ],
   "metadata": {
    "collapsed": false,
    "pycharm": {
     "name": "#%%\n"
    }
   }
  },
  {
   "cell_type": "code",
   "execution_count": 1222,
   "outputs": [
    {
     "name": "stderr",
     "output_type": "stream",
     "text": [
      "C:\\Users\\GIST\\.conda\\envs\\mlagents\\lib\\site-packages\\ipykernel_launcher.py:12: FutureWarning: Indexing with multiple keys (implicitly converted to a tuple of keys) will be deprecated, use a list instead.\n",
      "  if sys.path[0] == \"\":\n"
     ]
    },
    {
     "data": {
      "text/plain": "                                                     method  \\\n                                                      count   \nmethod simpleEffect objective playerDepth simulation          \nmcts   1            knowledge 1           200            14   \n                              2           200             5   \n                              3           200             5   \n                    score     1           200            11   \n                              2           200             5   \n                              3           200             5   \nrandom 1            -         -           -             145   \n\n                                                     Q1ReachedKnowledgeStep  \\\n                                                                       mean   \nmethod simpleEffect objective playerDepth simulation                          \nmcts   1            knowledge 1           200                     34.500000   \n                              2           200                     52.600000   \n                              3           200                     64.200000   \n                    score     1           200                     32.909091   \n                              2           200                     54.000000   \n                              3           200                     64.800000   \nrandom 1            -         -           -                       61.868966   \n\n                                                     Q2ReachedKnowledgeStep  \\\n                                                                       mean   \nmethod simpleEffect objective playerDepth simulation                          \nmcts   1            knowledge 1           200                     58.500000   \n                              2           200                     70.000000   \n                              3           200                     75.600000   \n                    score     1           200                     47.000000   \n                              2           200                     54.000000   \n                              3           200                     87.200000   \nrandom 1            -         -           -                       77.910345   \n\n                                                     Q3ReachedKnowledgeStep  \\\n                                                                       mean   \nmethod simpleEffect objective playerDepth simulation                          \nmcts   1            knowledge 1           200                     71.714286   \n                              2           200                     92.800000   \n                              3           200                     88.200000   \n                    score     1           200                     62.909091   \n                              2           200                     74.600000   \n                              3           200                     98.000000   \nrandom 1            -         -           -                      104.179310   \n\n                                                     ReachedKnowledgeStep  \\\n                                                                     mean   \nmethod simpleEffect objective playerDepth simulation                        \nmcts   1            knowledge 1           200                   81.428571   \n                              2           200                   92.800000   \n                              3           200                  104.800000   \n                    score     1           200                   69.363636   \n                              2           200                   80.800000   \n                              3           200                  101.800000   \nrandom 1            -         -           -                    108.986207   \n\n                                                     Matched_HorizontalPiece  \\\n                                                                        mean   \nmethod simpleEffect objective playerDepth simulation                           \nmcts   1            knowledge 1           200                      69.357143   \n                              2           200                      72.600000   \n                              3           200                      66.000000   \n                    score     1           200                      66.363636   \n                              2           200                      68.400000   \n                              3           200                      67.200000   \nrandom 1            -         -           -                        41.386207   \n\n                                                     Matched_VerticalPiece  \\\n                                                                      mean   \nmethod simpleEffect objective playerDepth simulation                         \nmcts   1            knowledge 1           200                    56.142857   \n                              2           200                    60.800000   \n                              3           200                    55.400000   \n                    score     1           200                    55.545455   \n                              2           200                    50.600000   \n                              3           200                    52.800000   \nrandom 1            -         -           -                      33.524138   \n\n                                                     Matched_CrossPiece  \\\n                                                                   mean   \nmethod simpleEffect objective playerDepth simulation                      \nmcts   1            knowledge 1           200                 13.071429   \n                              2           200                 18.000000   \n                              3           200                 13.200000   \n                    score     1           200                 17.181818   \n                              2           200                 25.600000   \n                              3           200                 12.000000   \nrandom 1            -         -           -                    8.027586   \n\n                                                     Matched_RocketPiece  \\\n                                                                    mean   \nmethod simpleEffect objective playerDepth simulation                       \nmcts   1            knowledge 1           200                 167.500000   \n                              2           200                 203.400000   \n                              3           200                 182.800000   \n                    score     1           200                 175.272727   \n                              2           200                 190.800000   \n                              3           200                 205.400000   \nrandom 1            -         -           -                   115.600000   \n\n                                                     Matched_BombPiece  \\\n                                                                  mean   \nmethod simpleEffect objective playerDepth simulation                     \nmcts   1            knowledge 1           200                10.642857   \n                              2           200                11.400000   \n                              3           200                11.400000   \n                    score     1           200                 9.181818   \n                              2           200                16.000000   \n                              3           200                10.800000   \nrandom 1            -         -           -                   8.103448   \n\n                                                     Matched_RainbowPiece  \\\n                                                                     mean   \nmethod simpleEffect objective playerDepth simulation                        \nmcts   1            knowledge 1           200                   18.928571   \n                              2           200                   22.800000   \n                              3           200                   22.400000   \n                    score     1           200                   16.181818   \n                              2           200                   23.800000   \n                              3           200                   19.400000   \nrandom 1            -         -           -                     12.213793   \n\n                                                     Sum_Matched  \n                                                            mean  \nmethod simpleEffect objective playerDepth simulation              \nmcts   1            knowledge 1           200         416.142857  \n                              2           200         435.600000  \n                              3           200         396.000000  \n                    score     1           200         398.181818  \n                              2           200         410.400000  \n                              3           200         403.200000  \nrandom 1            -         -           -           248.317241  ",
      "text/html": "<div>\n<style scoped>\n    .dataframe tbody tr th:only-of-type {\n        vertical-align: middle;\n    }\n\n    .dataframe tbody tr th {\n        vertical-align: top;\n    }\n\n    .dataframe thead tr th {\n        text-align: left;\n    }\n\n    .dataframe thead tr:last-of-type th {\n        text-align: right;\n    }\n</style>\n<table border=\"1\" class=\"dataframe\">\n  <thead>\n    <tr>\n      <th></th>\n      <th></th>\n      <th></th>\n      <th></th>\n      <th></th>\n      <th>method</th>\n      <th>Q1ReachedKnowledgeStep</th>\n      <th>Q2ReachedKnowledgeStep</th>\n      <th>Q3ReachedKnowledgeStep</th>\n      <th>ReachedKnowledgeStep</th>\n      <th>Matched_HorizontalPiece</th>\n      <th>Matched_VerticalPiece</th>\n      <th>Matched_CrossPiece</th>\n      <th>Matched_RocketPiece</th>\n      <th>Matched_BombPiece</th>\n      <th>Matched_RainbowPiece</th>\n      <th>Sum_Matched</th>\n    </tr>\n    <tr>\n      <th></th>\n      <th></th>\n      <th></th>\n      <th></th>\n      <th></th>\n      <th>count</th>\n      <th>mean</th>\n      <th>mean</th>\n      <th>mean</th>\n      <th>mean</th>\n      <th>mean</th>\n      <th>mean</th>\n      <th>mean</th>\n      <th>mean</th>\n      <th>mean</th>\n      <th>mean</th>\n      <th>mean</th>\n    </tr>\n    <tr>\n      <th>method</th>\n      <th>simpleEffect</th>\n      <th>objective</th>\n      <th>playerDepth</th>\n      <th>simulation</th>\n      <th></th>\n      <th></th>\n      <th></th>\n      <th></th>\n      <th></th>\n      <th></th>\n      <th></th>\n      <th></th>\n      <th></th>\n      <th></th>\n      <th></th>\n      <th></th>\n    </tr>\n  </thead>\n  <tbody>\n    <tr>\n      <th rowspan=\"6\" valign=\"top\">mcts</th>\n      <th rowspan=\"6\" valign=\"top\">1</th>\n      <th rowspan=\"3\" valign=\"top\">knowledge</th>\n      <th>1</th>\n      <th>200</th>\n      <td>14</td>\n      <td>34.500000</td>\n      <td>58.500000</td>\n      <td>71.714286</td>\n      <td>81.428571</td>\n      <td>69.357143</td>\n      <td>56.142857</td>\n      <td>13.071429</td>\n      <td>167.500000</td>\n      <td>10.642857</td>\n      <td>18.928571</td>\n      <td>416.142857</td>\n    </tr>\n    <tr>\n      <th>2</th>\n      <th>200</th>\n      <td>5</td>\n      <td>52.600000</td>\n      <td>70.000000</td>\n      <td>92.800000</td>\n      <td>92.800000</td>\n      <td>72.600000</td>\n      <td>60.800000</td>\n      <td>18.000000</td>\n      <td>203.400000</td>\n      <td>11.400000</td>\n      <td>22.800000</td>\n      <td>435.600000</td>\n    </tr>\n    <tr>\n      <th>3</th>\n      <th>200</th>\n      <td>5</td>\n      <td>64.200000</td>\n      <td>75.600000</td>\n      <td>88.200000</td>\n      <td>104.800000</td>\n      <td>66.000000</td>\n      <td>55.400000</td>\n      <td>13.200000</td>\n      <td>182.800000</td>\n      <td>11.400000</td>\n      <td>22.400000</td>\n      <td>396.000000</td>\n    </tr>\n    <tr>\n      <th rowspan=\"3\" valign=\"top\">score</th>\n      <th>1</th>\n      <th>200</th>\n      <td>11</td>\n      <td>32.909091</td>\n      <td>47.000000</td>\n      <td>62.909091</td>\n      <td>69.363636</td>\n      <td>66.363636</td>\n      <td>55.545455</td>\n      <td>17.181818</td>\n      <td>175.272727</td>\n      <td>9.181818</td>\n      <td>16.181818</td>\n      <td>398.181818</td>\n    </tr>\n    <tr>\n      <th>2</th>\n      <th>200</th>\n      <td>5</td>\n      <td>54.000000</td>\n      <td>54.000000</td>\n      <td>74.600000</td>\n      <td>80.800000</td>\n      <td>68.400000</td>\n      <td>50.600000</td>\n      <td>25.600000</td>\n      <td>190.800000</td>\n      <td>16.000000</td>\n      <td>23.800000</td>\n      <td>410.400000</td>\n    </tr>\n    <tr>\n      <th>3</th>\n      <th>200</th>\n      <td>5</td>\n      <td>64.800000</td>\n      <td>87.200000</td>\n      <td>98.000000</td>\n      <td>101.800000</td>\n      <td>67.200000</td>\n      <td>52.800000</td>\n      <td>12.000000</td>\n      <td>205.400000</td>\n      <td>10.800000</td>\n      <td>19.400000</td>\n      <td>403.200000</td>\n    </tr>\n    <tr>\n      <th>random</th>\n      <th>1</th>\n      <th>-</th>\n      <th>-</th>\n      <th>-</th>\n      <td>145</td>\n      <td>61.868966</td>\n      <td>77.910345</td>\n      <td>104.179310</td>\n      <td>108.986207</td>\n      <td>41.386207</td>\n      <td>33.524138</td>\n      <td>8.027586</td>\n      <td>115.600000</td>\n      <td>8.103448</td>\n      <td>12.213793</td>\n      <td>248.317241</td>\n    </tr>\n  </tbody>\n</table>\n</div>"
     },
     "execution_count": 1222,
     "metadata": {},
     "output_type": "execute_result"
    }
   ],
   "source": [
    "pd.set_option('display.max_rows', None)\n",
    "\n",
    "\n",
    "match_result = original_df.copy()\n",
    "match_result = match_result[~match_result['almostRatio'].isin(['0.75'])]\n",
    "# match_result = match_result[~match_result['playerDepth'].isin([2])]\n",
    "match_result = match_result[~match_result['simulation'].isin([100, 400])]\n",
    "\n",
    "# print(set(match_result['playerDepth']))\n",
    "pd.set_option('display.max_rows', None)\n",
    "match_result = match_result.groupby(['method', 'simpleEffect','objective', 'playerDepth', 'simulation'])[\n",
    "                                      'method',\n",
    "                                      'Matched_HorizontalPiece',\n",
    "                                      'Matched_VerticalPiece',\n",
    "                                      'Matched_CrossPiece',\n",
    "                                      'Matched_RocketPiece',\n",
    "                                      'Matched_BombPiece',\n",
    "                                      'Matched_RainbowPiece',\n",
    "                                      #'AlmostReachedKnowledgeStep',\n",
    "                                      'Q1ReachedKnowledgeStep',\n",
    "                                      'Q2ReachedKnowledgeStep',\n",
    "                                      'Q3ReachedKnowledgeStep',\n",
    "                                      'ReachedKnowledgeStep',\n",
    "                                      'Sum_Matched'].agg(\n",
    "    {\n",
    "        'method': ['count'],\n",
    "        #'AlmostReachedKnowledgeStep': ['mean'],\n",
    "        'Q1ReachedKnowledgeStep': ['mean'],\n",
    "        'Q2ReachedKnowledgeStep': ['mean'],\n",
    "        'Q3ReachedKnowledgeStep': ['mean'],\n",
    "        'ReachedKnowledgeStep': ['mean'],\n",
    "        'Matched_HorizontalPiece':['mean'],\n",
    "        'Matched_VerticalPiece':['mean'],\n",
    "        'Matched_CrossPiece':['mean'],\n",
    "        'Matched_RocketPiece':['mean'],\n",
    "        'Matched_BombPiece':['mean'],\n",
    "        'Matched_RainbowPiece':['mean'],\n",
    "        'Sum_Matched':['mean'],\n",
    "     }\n",
    ")\n",
    "match_result\n"
   ],
   "metadata": {
    "collapsed": false,
    "pycharm": {
     "name": "#%%\n"
    }
   }
  },
  {
   "cell_type": "code",
   "execution_count": 1223,
   "outputs": [],
   "source": [
    "def get_legend_name(x):\n",
    "    if x['method'] == 'mcts':\n",
    "        if x['objective'] == 'score':\n",
    "            return f\"{x['method']}_{x['objective']}_{x['simulation']}_{x['playerDepth']}\"\n",
    "        elif x['objective'] == 'knowledge':\n",
    "            return f\"{x['method']}_{x['objective']}_{x['almostRatio']}_{x['simulation']}_{x['playerDepth']}\"\n",
    "        elif x['objective'] == 'kp':\n",
    "            return f\"{x['method']}_{x['objective']}_{x['almostRatio']}_{x['simulation']}_{x['playerDepth']}\"\n",
    "    else:\n",
    "        return f\"{x['method']}\""
   ],
   "metadata": {
    "collapsed": false,
    "pycharm": {
     "name": "#%%\n"
    }
   }
  },
  {
   "cell_type": "code",
   "metadata": {
    "collapsed": false,
    "pycharm": {
     "name": "#%% md raw\n"
    }
   },
   "source": [
    "melted_df = original_df.copy()\n",
    "\n",
    "melted_df = melted_df.groupby(['method', 'objective', 'playerDepth', 'simulation', 'player']).sample(n=100, random_state=1)\n",
    "melted_df['concat_method'] = melted_df.agg(lambda x: get_legend_name(x), axis=1)\n",
    "pprint(set(melted_df['concat_method']))\n",
    "# Display Target\n",
    "melted_df = melted_df[melted_df['concat_method'].isin(['random',\n",
    "                                                       'mcts_knowledge_1.0_400_1',\n",
    "                                                       'mcts_knowledge_0.75_400_1',\n",
    "                                                       'mcts_knowledge_1.0_400_2',\n",
    "                                                       'mcts_knowledge_0.75_400_2',\n",
    "                                                       'mcts_score_400_2'])]\n",
    "\n",
    "plt.figure(figsize=(7, 5))\n",
    "melted_df = pd.melt(melted_df, id_vars=['EpisodeCount', 'objective', 'concat_method', 'simulation', 'player'],\n",
    "                    value_vars=[*StatisticsColumns], ignore_index=False)\n",
    "\n",
    "melted_df['x'] = melted_df['variable']\n",
    "# melted_df['x'] = melted_df['x'].str.replace('AlmostReachedKnowledgeStep', 'ar_step')\t125.0\n",
    "melted_df['x'] = melted_df['x'].str.replace('ReachedKnowledgeStep', 'r_step')\n",
    "\n",
    "melted_df['x'] = melted_df['x'].str.replace('Matched_HorizontalPiece', 'b0')\n",
    "melted_df['x'] = melted_df['x'].str.replace('Matched_VerticalPiece', 'b1')\n",
    "melted_df['x'] = melted_df['x'].str.replace('Matched_CrossPiece', 'b2')\n",
    "melted_df['x'] = melted_df['x'].str.replace('Matched_RocketPiece', 'b3')\n",
    "melted_df['x'] = melted_df['x'].str.replace('Matched_BombPiece', 'b4')\n",
    "melted_df['x'] = melted_df['x'].str.replace('Matched_RainbowPiece', 'b5')\n",
    "\n",
    "ax = sns.boxplot(x=\"x\", y=\"value\", hue=\"player\", data=melted_df)\n",
    "plt.xticks(rotation=45)"
   ],
   "execution_count": 1224,
   "outputs": [
    {
     "ename": "ValueError",
     "evalue": "Cannot take a larger sample than population when 'replace=False'",
     "output_type": "error",
     "traceback": [
      "\u001B[1;31m---------------------------------------------------------------------------\u001B[0m",
      "\u001B[1;31mValueError\u001B[0m                                Traceback (most recent call last)",
      "\u001B[1;32m~\\AppData\\Local\\Temp\\ipykernel_267068\\705714689.py\u001B[0m in \u001B[0;36m<module>\u001B[1;34m\u001B[0m\n\u001B[0;32m      1\u001B[0m \u001B[0mmelted_df\u001B[0m \u001B[1;33m=\u001B[0m \u001B[0moriginal_df\u001B[0m\u001B[1;33m.\u001B[0m\u001B[0mcopy\u001B[0m\u001B[1;33m(\u001B[0m\u001B[1;33m)\u001B[0m\u001B[1;33m\u001B[0m\u001B[1;33m\u001B[0m\u001B[0m\n\u001B[0;32m      2\u001B[0m \u001B[1;33m\u001B[0m\u001B[0m\n\u001B[1;32m----> 3\u001B[1;33m \u001B[0mmelted_df\u001B[0m \u001B[1;33m=\u001B[0m \u001B[0mmelted_df\u001B[0m\u001B[1;33m.\u001B[0m\u001B[0mgroupby\u001B[0m\u001B[1;33m(\u001B[0m\u001B[1;33m[\u001B[0m\u001B[1;34m'method'\u001B[0m\u001B[1;33m,\u001B[0m \u001B[1;34m'objective'\u001B[0m\u001B[1;33m,\u001B[0m \u001B[1;34m'playerDepth'\u001B[0m\u001B[1;33m,\u001B[0m \u001B[1;34m'simulation'\u001B[0m\u001B[1;33m,\u001B[0m \u001B[1;34m'player'\u001B[0m\u001B[1;33m]\u001B[0m\u001B[1;33m)\u001B[0m\u001B[1;33m.\u001B[0m\u001B[0msample\u001B[0m\u001B[1;33m(\u001B[0m\u001B[0mn\u001B[0m\u001B[1;33m=\u001B[0m\u001B[1;36m100\u001B[0m\u001B[1;33m,\u001B[0m \u001B[0mrandom_state\u001B[0m\u001B[1;33m=\u001B[0m\u001B[1;36m1\u001B[0m\u001B[1;33m)\u001B[0m\u001B[1;33m\u001B[0m\u001B[1;33m\u001B[0m\u001B[0m\n\u001B[0m\u001B[0;32m      4\u001B[0m \u001B[0mmelted_df\u001B[0m\u001B[1;33m[\u001B[0m\u001B[1;34m'concat_method'\u001B[0m\u001B[1;33m]\u001B[0m \u001B[1;33m=\u001B[0m \u001B[0mmelted_df\u001B[0m\u001B[1;33m.\u001B[0m\u001B[0magg\u001B[0m\u001B[1;33m(\u001B[0m\u001B[1;32mlambda\u001B[0m \u001B[0mx\u001B[0m\u001B[1;33m:\u001B[0m \u001B[0mget_legend_name\u001B[0m\u001B[1;33m(\u001B[0m\u001B[0mx\u001B[0m\u001B[1;33m)\u001B[0m\u001B[1;33m,\u001B[0m \u001B[0maxis\u001B[0m\u001B[1;33m=\u001B[0m\u001B[1;36m1\u001B[0m\u001B[1;33m)\u001B[0m\u001B[1;33m\u001B[0m\u001B[1;33m\u001B[0m\u001B[0m\n\u001B[0;32m      5\u001B[0m \u001B[0mpprint\u001B[0m\u001B[1;33m(\u001B[0m\u001B[0mset\u001B[0m\u001B[1;33m(\u001B[0m\u001B[0mmelted_df\u001B[0m\u001B[1;33m[\u001B[0m\u001B[1;34m'concat_method'\u001B[0m\u001B[1;33m]\u001B[0m\u001B[1;33m)\u001B[0m\u001B[1;33m)\u001B[0m\u001B[1;33m\u001B[0m\u001B[1;33m\u001B[0m\u001B[0m\n",
      "\u001B[1;32m~\\.conda\\envs\\mlagents\\lib\\site-packages\\pandas\\core\\groupby\\groupby.py\u001B[0m in \u001B[0;36msample\u001B[1;34m(self, n, frac, replace, weights, random_state)\u001B[0m\n\u001B[0;32m   3312\u001B[0m                 \u001B[0mn\u001B[0m\u001B[1;33m=\u001B[0m\u001B[0mn\u001B[0m\u001B[1;33m,\u001B[0m \u001B[0mfrac\u001B[0m\u001B[1;33m=\u001B[0m\u001B[0mfrac\u001B[0m\u001B[1;33m,\u001B[0m \u001B[0mreplace\u001B[0m\u001B[1;33m=\u001B[0m\u001B[0mreplace\u001B[0m\u001B[1;33m,\u001B[0m \u001B[0mweights\u001B[0m\u001B[1;33m=\u001B[0m\u001B[0mw\u001B[0m\u001B[1;33m,\u001B[0m \u001B[0mrandom_state\u001B[0m\u001B[1;33m=\u001B[0m\u001B[0mrandom_state\u001B[0m\u001B[1;33m\u001B[0m\u001B[1;33m\u001B[0m\u001B[0m\n\u001B[0;32m   3313\u001B[0m             )\n\u001B[1;32m-> 3314\u001B[1;33m             \u001B[1;32mfor\u001B[0m \u001B[1;33m(\u001B[0m\u001B[0m_\u001B[0m\u001B[1;33m,\u001B[0m \u001B[0mobj\u001B[0m\u001B[1;33m)\u001B[0m\u001B[1;33m,\u001B[0m \u001B[0mw\u001B[0m \u001B[1;32min\u001B[0m \u001B[0mzip\u001B[0m\u001B[1;33m(\u001B[0m\u001B[0mgroup_iterator\u001B[0m\u001B[1;33m,\u001B[0m \u001B[0mws\u001B[0m\u001B[1;33m)\u001B[0m\u001B[1;33m\u001B[0m\u001B[1;33m\u001B[0m\u001B[0m\n\u001B[0m\u001B[0;32m   3315\u001B[0m         ]\n\u001B[0;32m   3316\u001B[0m \u001B[1;33m\u001B[0m\u001B[0m\n",
      "\u001B[1;32m~\\.conda\\envs\\mlagents\\lib\\site-packages\\pandas\\core\\groupby\\groupby.py\u001B[0m in \u001B[0;36m<listcomp>\u001B[1;34m(.0)\u001B[0m\n\u001B[0;32m   3312\u001B[0m                 \u001B[0mn\u001B[0m\u001B[1;33m=\u001B[0m\u001B[0mn\u001B[0m\u001B[1;33m,\u001B[0m \u001B[0mfrac\u001B[0m\u001B[1;33m=\u001B[0m\u001B[0mfrac\u001B[0m\u001B[1;33m,\u001B[0m \u001B[0mreplace\u001B[0m\u001B[1;33m=\u001B[0m\u001B[0mreplace\u001B[0m\u001B[1;33m,\u001B[0m \u001B[0mweights\u001B[0m\u001B[1;33m=\u001B[0m\u001B[0mw\u001B[0m\u001B[1;33m,\u001B[0m \u001B[0mrandom_state\u001B[0m\u001B[1;33m=\u001B[0m\u001B[0mrandom_state\u001B[0m\u001B[1;33m\u001B[0m\u001B[1;33m\u001B[0m\u001B[0m\n\u001B[0;32m   3313\u001B[0m             )\n\u001B[1;32m-> 3314\u001B[1;33m             \u001B[1;32mfor\u001B[0m \u001B[1;33m(\u001B[0m\u001B[0m_\u001B[0m\u001B[1;33m,\u001B[0m \u001B[0mobj\u001B[0m\u001B[1;33m)\u001B[0m\u001B[1;33m,\u001B[0m \u001B[0mw\u001B[0m \u001B[1;32min\u001B[0m \u001B[0mzip\u001B[0m\u001B[1;33m(\u001B[0m\u001B[0mgroup_iterator\u001B[0m\u001B[1;33m,\u001B[0m \u001B[0mws\u001B[0m\u001B[1;33m)\u001B[0m\u001B[1;33m\u001B[0m\u001B[1;33m\u001B[0m\u001B[0m\n\u001B[0m\u001B[0;32m   3315\u001B[0m         ]\n\u001B[0;32m   3316\u001B[0m \u001B[1;33m\u001B[0m\u001B[0m\n",
      "\u001B[1;32m~\\.conda\\envs\\mlagents\\lib\\site-packages\\pandas\\core\\generic.py\u001B[0m in \u001B[0;36msample\u001B[1;34m(self, n, frac, replace, weights, random_state, axis, ignore_index)\u001B[0m\n\u001B[0;32m   5363\u001B[0m             )\n\u001B[0;32m   5364\u001B[0m \u001B[1;33m\u001B[0m\u001B[0m\n\u001B[1;32m-> 5365\u001B[1;33m         \u001B[0mlocs\u001B[0m \u001B[1;33m=\u001B[0m \u001B[0mrs\u001B[0m\u001B[1;33m.\u001B[0m\u001B[0mchoice\u001B[0m\u001B[1;33m(\u001B[0m\u001B[0maxis_length\u001B[0m\u001B[1;33m,\u001B[0m \u001B[0msize\u001B[0m\u001B[1;33m=\u001B[0m\u001B[0mn\u001B[0m\u001B[1;33m,\u001B[0m \u001B[0mreplace\u001B[0m\u001B[1;33m=\u001B[0m\u001B[0mreplace\u001B[0m\u001B[1;33m,\u001B[0m \u001B[0mp\u001B[0m\u001B[1;33m=\u001B[0m\u001B[0mweights\u001B[0m\u001B[1;33m)\u001B[0m\u001B[1;33m\u001B[0m\u001B[1;33m\u001B[0m\u001B[0m\n\u001B[0m\u001B[0;32m   5366\u001B[0m         \u001B[0mresult\u001B[0m \u001B[1;33m=\u001B[0m \u001B[0mself\u001B[0m\u001B[1;33m.\u001B[0m\u001B[0mtake\u001B[0m\u001B[1;33m(\u001B[0m\u001B[0mlocs\u001B[0m\u001B[1;33m,\u001B[0m \u001B[0maxis\u001B[0m\u001B[1;33m=\u001B[0m\u001B[0maxis\u001B[0m\u001B[1;33m)\u001B[0m\u001B[1;33m\u001B[0m\u001B[1;33m\u001B[0m\u001B[0m\n\u001B[0;32m   5367\u001B[0m         \u001B[1;32mif\u001B[0m \u001B[0mignore_index\u001B[0m\u001B[1;33m:\u001B[0m\u001B[1;33m\u001B[0m\u001B[1;33m\u001B[0m\u001B[0m\n",
      "\u001B[1;32mmtrand.pyx\u001B[0m in \u001B[0;36mnumpy.random.mtrand.RandomState.choice\u001B[1;34m()\u001B[0m\n",
      "\u001B[1;31mValueError\u001B[0m: Cannot take a larger sample than population when 'replace=False'"
     ]
    }
   ]
  },
  {
   "cell_type": "code",
   "execution_count": null,
   "outputs": [],
   "source": [
    "for player_no in range(0, 4):\n",
    "    player_df = original_df[original_df['player'] == player_no]\n",
    "    melted_df = player_df.copy()\n",
    "\n",
    "    melted_df.rename(columns={\n",
    "        'ReachedKnowledgeStep':'100',\n",
    "        'Q1ReachedKnowledgeStep':'25',\n",
    "        'Q2ReachedKnowledgeStep':'50',\n",
    "        'Q3ReachedKnowledgeStep':'75'\n",
    "    }, inplace=True)\n",
    "\n",
    "    _columns = [\n",
    "    '25', '50', '75', '100',\n",
    "    # Matched_HorizontalPiece', 'Matched_VerticalPiece', 'Matched_CrossPiece', 'Matched_RocketPiece', 'Matched_BombPiece', 'Matched_RainbowPiece'\n",
    "    ]\n",
    "\n",
    "    # print(player_df.keys())\n",
    "    sns.set_palette('Set2')\n",
    "    melted_df = melted_df.groupby(['method', 'objective', 'playerDepth', 'simulation']).sample(n=400, random_state=1, replace=True)\n",
    "    melted_df['concat_method'] = melted_df.agg(lambda x: get_legend_name(x), axis=1)\n",
    "    melted_df = pd.melt(melted_df, id_vars=['EpisodeCount', 'objective', 'concat_method', 'simulation', 'player'],\n",
    "                        value_vars=[*_columns], ignore_index=False)\n",
    "    # pprint(set(melted_df['concat_method']))\n",
    "    _methods = [\n",
    "        'mcts_kp_-_400_2',\n",
    "        'mcts_knowledge_1.0_400_2',\n",
    "        'mcts_score_400_2',\n",
    "        'random'\n",
    "    ]\n",
    "    melted_df = melted_df[melted_df['concat_method'].isin(_methods)]\n",
    "\n",
    "    plt.figure(figsize=(5, 4))\n",
    "    plt.clf()\n",
    "    ax = sns.boxplot(x=\"variable\", y=\"value\", hue=\"concat_method\", data=melted_df, dodge=True, linewidth=0.8)\n",
    "\n",
    "    plt.legend(loc='upper left')\n",
    "    ax.set_title(f'Required Steps for Learning Skill (Player: {player_no})')\n",
    "    ax.set_xlabel('Progress (%)')\n",
    "    ax.set_ylabel('Step')\n",
    "    plt.savefig(f'./figures/learning_steps_p{player_no}', dpi=300)\n",
    "    plt.show()"
   ],
   "metadata": {
    "collapsed": false,
    "pycharm": {
     "name": "#%%\n"
    }
   }
  },
  {
   "cell_type": "code",
   "execution_count": null,
   "outputs": [],
   "source": [
    "player_df = original_df.copy()\n",
    "melted_df = player_df.copy()\n",
    "\n",
    "melted_df.rename(columns={\n",
    "    'ReachedKnowledgeStep':'100',\n",
    "    'Q1ReachedKnowledgeStep':'25',\n",
    "    'Q2ReachedKnowledgeStep':'50',\n",
    "    'Q3ReachedKnowledgeStep':'75'\n",
    "}, inplace=True)\n",
    "\n",
    "_columns = [\n",
    "'25', '50', '75', '100',\n",
    "# Matched_HorizontalPiece', 'Matched_VerticalPiece', 'Matched_CrossPiece', 'Matched_RocketPiece', 'Matched_BombPiece', 'Matched_RainbowPiece'\n",
    "]\n",
    "\n",
    "# print(player_df.keys())\n",
    "sns.set_palette('Set2')\n",
    "melted_df = melted_df.groupby(['method', 'objective', 'playerDepth', 'simulation']).sample(n=400, random_state=1, replace=True)\n",
    "melted_df['concat_method'] = melted_df.agg(lambda x: get_legend_name(x), axis=1)\n",
    "melted_df = pd.melt(melted_df, id_vars=['EpisodeCount', 'objective', 'concat_method', 'simulation', 'player'],\n",
    "                    value_vars=[*_columns], ignore_index=False)\n",
    "# pprint(set(melted_df['concat_method']))\n",
    "_methods = [\n",
    "    'mcts_kp_-_400_2',\n",
    "    'mcts_knowledge_1.0_400_2',\n",
    "    'mcts_score_400_2',\n",
    "    'random'\n",
    "]\n",
    "melted_df = melted_df[melted_df['concat_method'].isin(_methods)]\n",
    "\n",
    "plt.figure(figsize=(5, 4))\n",
    "plt.clf()\n",
    "ax = sns.boxplot(x=\"variable\", y=\"value\", hue=\"concat_method\", data=melted_df, dodge=True, linewidth=0.8)\n",
    "\n",
    "plt.legend(loc='upper left')\n",
    "ax.set_title(f'Required Steps for Learning Skill (Player: All)')\n",
    "ax.set_xlabel('Progress (%)')\n",
    "ax.set_ylabel('Step')\n",
    "plt.savefig(f'./figures/learning_steps_pA', dpi=300)\n",
    "plt.show()\n",
    "\n"
   ],
   "metadata": {
    "collapsed": false,
    "pycharm": {
     "name": "#%%\n"
    }
   }
  },
  {
   "cell_type": "code",
   "execution_count": null,
   "outputs": [],
   "source": [
    "for player_no in range(0, 4):\n",
    "    player_df = original_df[original_df['player'] == player_no]\n",
    "    melted_df = player_df.copy()\n",
    "\n",
    "    melted_df.rename(columns={\n",
    "        'ReachedKnowledgeStep':'100',\n",
    "        'Q1ReachedKnowledgeStep':'25',\n",
    "        'Q2ReachedKnowledgeStep':'50',\n",
    "        'Q3ReachedKnowledgeStep':'75',\n",
    "        'Matched_HorizontalPiece':'Horizon',\n",
    "        'Matched_VerticalPiece':'Vertical',\n",
    "        'Matched_CrossPiece':'Cross',\n",
    "        'Matched_RocketPiece':'Rocket',\n",
    "        'Matched_BombPiece':'Bomb',\n",
    "        'Matched_RainbowPiece':'Rainbow',\n",
    "\n",
    "    }, inplace=True)\n",
    "\n",
    "    _columns = [\n",
    "    # '25', '50', '75', '100',\n",
    "    'Horizon', 'Vertical', 'Cross', 'Rocket', 'Bomb', 'Rainbow'\n",
    "    ]\n",
    "\n",
    "    # print(player_df.keys())\n",
    "    sns.set_palette('Set3')\n",
    "    melted_df = melted_df.groupby(['method', 'objective', 'playerDepth', 'simulation']).sample(n=300, random_state=1, replace=True)\n",
    "    melted_df['concat_method'] = melted_df.agg(lambda x: get_legend_name(x), axis=1)\n",
    "    melted_df = pd.melt(melted_df, id_vars=['EpisodeCount', 'objective', 'concat_method', 'simulation', 'player'],\n",
    "                        value_vars=[*_columns], ignore_index=False)\n",
    "    # pprint(set(melted_df['concat_method']))\n",
    "    _methods = [\n",
    "        'mcts_kp_-_400_2',\n",
    "        'mcts_knowledge_1.0_400_2',\n",
    "        'mcts_score_400_2',\n",
    "        'random'\n",
    "    ]\n",
    "    melted_df = melted_df[melted_df['concat_method'].isin(_methods)]\n",
    "\n",
    "    plt.figure(figsize=(5, 4))\n",
    "    plt.clf()\n",
    "    ax = sns.boxplot(x=\"variable\", y=\"value\", hue=\"concat_method\", data=melted_df, linewidth=0.8)\n",
    "\n",
    "    plt.legend(loc='upper left')\n",
    "    ax.set_title(f'Matched Blocks (Player: {player_no})')\n",
    "    ax.set_xlabel('Block Type')\n",
    "    ax.set_ylabel('Count')\n",
    "    plt.xticks(rotation=45)\n",
    "    plt.savefig(f'./figures/block_counts_p{player_no}', dpi=300)\n",
    "    plt.show()"
   ],
   "metadata": {
    "collapsed": false,
    "pycharm": {
     "name": "#%%\n"
    }
   }
  },
  {
   "cell_type": "code",
   "execution_count": null,
   "outputs": [],
   "source": [
    "\n",
    "player_df = original_df.copy()\n",
    "melted_df = player_df.copy()\n",
    "\n",
    "melted_df.rename(columns={\n",
    "    'ReachedKnowledgeStep':'100',\n",
    "    'Q1ReachedKnowledgeStep':'25',\n",
    "    'Q2ReachedKnowledgeStep':'50',\n",
    "    'Q3ReachedKnowledgeStep':'75',\n",
    "    'Matched_HorizontalPiece':'Horizon',\n",
    "    'Matched_VerticalPiece':'Vertical',\n",
    "    'Matched_CrossPiece':'Cross',\n",
    "    'Matched_RocketPiece':'Rocket',\n",
    "    'Matched_BombPiece':'Bomb',\n",
    "    'Matched_RainbowPiece':'Rainbow',\n",
    "\n",
    "}, inplace=True)\n",
    "\n",
    "_columns = [\n",
    "# '25', '50', '75', '100',\n",
    "'Horizon', 'Vertical', 'Cross', 'Rocket', 'Bomb', 'Rainbow'\n",
    "]\n",
    "\n",
    "# print(player_df.keys())\n",
    "sns.set_palette('Set3')\n",
    "melted_df = melted_df.groupby(['method', 'objective', 'playerDepth', 'simulation']).sample(n=300, random_state=1, replace=True)\n",
    "melted_df['concat_method'] = melted_df.agg(lambda x: get_legend_name(x), axis=1)\n",
    "melted_df = pd.melt(melted_df, id_vars=['EpisodeCount', 'objective', 'concat_method', 'simulation', 'player'],\n",
    "                    value_vars=[*_columns], ignore_index=False)\n",
    "# pprint(set(melted_df['concat_method']))\n",
    "_methods = [\n",
    "    'mcts_kp_-_400_2',\n",
    "    'mcts_knowledge_1.0_400_2',\n",
    "    'mcts_score_400_2',\n",
    "    'random'\n",
    "]\n",
    "melted_df = melted_df[melted_df['concat_method'].isin(_methods)]\n",
    "\n",
    "plt.figure(figsize=(5, 4))\n",
    "plt.clf()\n",
    "ax = sns.boxplot(x=\"variable\", y=\"value\", hue=\"concat_method\", data=melted_df, linewidth=0.8)\n",
    "\n",
    "plt.legend(loc='upper left')\n",
    "ax.set_title(f'Matched Blocks (Player: All)')\n",
    "ax.set_xlabel('Block Type')\n",
    "ax.set_ylabel('Count')\n",
    "plt.xticks(rotation=45)\n",
    "plt.savefig(f'./figures/block_counts_pA', dpi=300)\n",
    "plt.show()"
   ],
   "metadata": {
    "collapsed": false,
    "pycharm": {
     "name": "#%%\n"
    }
   }
  },
  {
   "cell_type": "code",
   "execution_count": null,
   "outputs": [],
   "source": [
    "\n",
    "for player_no in range(0, 4):\n",
    "    player_df = original_df[original_df['player'] == player_no]\n",
    "    melted_df = player_df.copy()\n",
    "\n",
    "    melted_df.rename(columns={\n",
    "        'ReachedKnowledgeStep':'100',\n",
    "        'Q1ReachedKnowledgeStep':'25',\n",
    "        'Q2ReachedKnowledgeStep':'50',\n",
    "        'Q3ReachedKnowledgeStep':'75'\n",
    "    }, inplace=True)\n",
    "\n",
    "    _columns = [\n",
    "    '25', '50', '75', '100',\n",
    "    # Matched_HorizontalPiece', 'Matched_VerticalPiece', 'Matched_CrossPiece', 'Matched_RocketPiece', 'Matched_BombPiece', 'Matched_RainbowPiece'\n",
    "    ]\n",
    "\n",
    "    # print(player_df.keys())\n",
    "    sns.set_palette('Set2')\n",
    "    melted_df = melted_df.groupby(['method', 'objective', 'playerDepth', 'simulation']).sample(n=400, random_state=1, replace=True)\n",
    "    melted_df['concat_method'] = melted_df.agg(lambda x: get_legend_name(x), axis=1)\n",
    "    melted_df = pd.melt(melted_df, id_vars=['EpisodeCount', 'objective', 'concat_method', 'simulation', 'player'],\n",
    "                        value_vars=[*_columns], ignore_index=False)\n",
    "    # pprint(set(melted_df['concat_method']))\n",
    "    _methods = [\n",
    "        'mcts_kp_-_400_2',\n",
    "        'mcts_knowledge_1.0_400_2',\n",
    "        'mcts_score_400_2',\n",
    "        'random'\n",
    "    ]\n",
    "    melted_df = melted_df[melted_df['concat_method'].isin(_methods)]\n",
    "\n",
    "    plt.figure(figsize=(5, 4))\n",
    "    plt.clf()\n",
    "    ax = sns.boxplot(x=\"variable\", y=\"value\", hue=\"concat_method\", data=melted_df, dodge=True, linewidth=0.8)\n",
    "\n",
    "    plt.legend(loc='upper left')\n",
    "    ax.set_title(f'Required Steps for Learning Skill (Player: {player_no})')\n",
    "    ax.set_xlabel('Progress (%)')\n",
    "    ax.set_ylabel('Step')\n",
    "    plt.savefig(f'./figures/learning_steps_p{player_no}', dpi=300)\n",
    "    plt.show()"
   ],
   "metadata": {
    "collapsed": false,
    "pycharm": {
     "name": "#%%\n"
    }
   }
  },
  {
   "cell_type": "code",
   "execution_count": null,
   "outputs": [],
   "source": [
    "\n",
    "player_df = original_df.copy()\n",
    "melted_df = player_df.copy()\n",
    "\n",
    "melted_df.rename(columns={\n",
    "    'ReachedKnowledgeStep':'100',\n",
    "    'Q1ReachedKnowledgeStep':'25',\n",
    "    'Q2ReachedKnowledgeStep':'50',\n",
    "    'Q3ReachedKnowledgeStep':'75',\n",
    "    'Matched_HorizontalPiece':'Horizon',\n",
    "    'Matched_VerticalPiece':'Vertical',\n",
    "    'Matched_CrossPiece':'Cross',\n",
    "    'Matched_RocketPiece':'Rocket',\n",
    "    'Matched_BombPiece':'Bomb',\n",
    "    'Matched_RainbowPiece':'Rainbow',\n",
    "\n",
    "}, inplace=True)\n",
    "\n",
    "_columns = [\n",
    "# '25', '50', '75', '100',\n",
    "'Horizon', 'Vertical', 'Cross', 'Rocket', 'Bomb', 'Rainbow'\n",
    "]\n",
    "\n",
    "# print(player_df.keys())\n",
    "sns.set_palette('Set3')\n",
    "melted_df = melted_df.groupby(['method', 'objective', 'playerDepth', 'simulation']).sample(n=300, random_state=1, replace=True)\n",
    "melted_df['concat_method'] = melted_df.agg(lambda x: get_legend_name(x), axis=1)\n",
    "melted_df = pd.melt(melted_df, id_vars=['EpisodeCount', 'objective', 'concat_method', 'simulation', 'player'],\n",
    "                    value_vars=[*_columns], ignore_index=False)\n",
    "# pprint(set(melted_df['concat_method']))\n",
    "_methods = [\n",
    "    'mcts_kp_-_400_2',\n",
    "    'mcts_knowledge_1.0_400_2',\n",
    "    'mcts_score_400_2',\n",
    "    'random'\n",
    "]\n",
    "melted_df = melted_df[melted_df['concat_method'].isin(_methods)]\n",
    "\n",
    "plt.figure(figsize=(5, 4))\n",
    "plt.clf()\n",
    "ax = sns.boxplot(x=\"variable\", y=\"value\", hue=\"concat_method\", data=melted_df, linewidth=0.8)\n",
    "\n",
    "plt.legend(loc='upper left')\n",
    "ax.set_title(f'Matched Blocks (Player: All)')\n",
    "ax.set_xlabel('Block Type')\n",
    "ax.set_ylabel('Count')\n",
    "plt.xticks(rotation=45)\n",
    "plt.savefig(f'./figures/block_counts_pA', dpi=300)\n",
    "plt.show()\n"
   ],
   "metadata": {
    "collapsed": false,
    "pycharm": {
     "name": "#%%\n"
    }
   }
  }
 ],
 "metadata": {
  "kernelspec": {
   "name": "python3",
   "language": "python",
   "display_name": "Python 3 (ipykernel)"
  },
  "language_info": {
   "codemirror_mode": {
    "name": "ipython",
    "version": 2
   },
   "file_extension": ".py",
   "mimetype": "text/x-python",
   "name": "python",
   "nbconvert_exporter": "python",
   "pygments_lexer": "ipython2",
   "version": "2.7.6"
  }
 },
 "nbformat": 4,
 "nbformat_minor": 0
}