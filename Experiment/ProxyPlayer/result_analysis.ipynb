{
 "cells": [
  {
   "cell_type": "code",
   "execution_count": 76,
   "metadata": {
    "collapsed": true
   },
   "outputs": [],
   "source": [
    "import pandas as pd\n",
    "import matplotlib.pyplot as plt\n",
    "from sklearn.manifold import TSNE\n",
    "import seaborn as sns\n",
    "import re\n",
    "from os import path\n",
    "from glob import glob\n",
    "from tqdm import tqdm\n",
    "import numpy as np\n",
    "from matplotlib import cm\n"
   ]
  },
  {
   "cell_type": "code",
   "execution_count": 77,
   "outputs": [],
   "source": [
    "ROOT_PATH = '\\\\\\\\CILab_NAS_Data/homes/inchang/PuzzlePCG/ProxyPlayer'"
   ],
   "metadata": {
    "collapsed": false,
    "pycharm": {
     "name": "#%%\n"
    }
   }
  },
  {
   "cell_type": "code",
   "execution_count": 78,
   "outputs": [
    {
     "data": {
      "text/plain": "['\\\\\\\\CILab_NAS_Data/homes/inchang/PuzzlePCG/ProxyPlayer\\\\method_mcts_player_0_objective_score_simulation_500\\\\MatchResult_method_mcts_player_0_objective_score_simulation_500_264c4b52-f819-41f3-b845-769d75890a50.csv',\n '\\\\\\\\CILab_NAS_Data/homes/inchang/PuzzlePCG/ProxyPlayer\\\\method_mcts_player_0_objective_score_simulation_500\\\\MatchResult_method_mcts_player_0_objective_score_simulation_500_8c1d7068-9881-46ce-b67f-9b3a712bfa4b.csv',\n '\\\\\\\\CILab_NAS_Data/homes/inchang/PuzzlePCG/ProxyPlayer\\\\method_random_player_0\\\\MatchResult_method_random_player_0_76153839-f9f2-460b-9d84-f0282065e924.csv',\n '\\\\\\\\CILab_NAS_Data/homes/inchang/PuzzlePCG/ProxyPlayer\\\\method_random_player_0\\\\MatchResult_method_random_player_0_f50f015e-9f58-47b9-a330-8aafa82120a0.csv']"
     },
     "execution_count": 78,
     "metadata": {},
     "output_type": "execute_result"
    }
   ],
   "source": [
    "files = glob(path.join(ROOT_PATH, '*', 'MatchResult_*.csv'))\n",
    "files"
   ],
   "metadata": {
    "collapsed": false,
    "pycharm": {
     "name": "#%%\n"
    }
   }
  },
  {
   "cell_type": "code",
   "execution_count": 79,
   "outputs": [],
   "source": [
    "StatisticsColumns = ['Matched_HorizontalPiece', 'Matched_VerticalPiece', 'Matched_CrossPiece', 'Matched_RocketPiece', 'Matched_BombPiece', 'Matched_RainbowPiece']"
   ],
   "metadata": {
    "collapsed": false,
    "pycharm": {
     "name": "#%%\n"
    }
   }
  },
  {
   "cell_type": "code",
   "execution_count": 80,
   "outputs": [],
   "source": [
    "def parse_filename(data):\n",
    "    result = dict()\n",
    "    for i in range(0, len(data), 2):\n",
    "        result[data[i]] = data[i+1]\n",
    "    return result"
   ],
   "metadata": {
    "collapsed": false,
    "pycharm": {
     "name": "#%%\n"
    }
   }
  },
  {
   "cell_type": "code",
   "execution_count": 103,
   "outputs": [
    {
     "name": "stderr",
     "output_type": "stream",
     "text": [
      "100%|██████████| 4/4 [00:00<00:00, 190.43it/s]\n"
     ]
    },
    {
     "data": {
      "text/plain": "     EpisodeCount  StepCount                     Time  \\\n0               1        300  2023-05-14 11:28:22.575   \n1               2        300  2023-05-14 11:29:22.519   \n2               3        301  2023-05-14 11:30:22.419   \n3               4        302  2023-05-14 11:31:21.785   \n4               5        301  2023-05-14 11:32:20.636   \n..            ...        ...                      ...   \n995           996        300  2023-05-14 14:10:41.623   \n996           997        303  2023-05-14 14:10:51.083   \n997           998        300  2023-05-14 14:11:01.196   \n998           999        302  2023-05-14 14:11:10.520   \n999          1000        300  2023-05-14 14:11:20.040   \n\n                             InstanceUUID  SettleCount  ChangedCount  \\\n0    264c4b52-f819-41f3-b845-769d75890a50            0           102   \n1    264c4b52-f819-41f3-b845-769d75890a50            0            90   \n2    264c4b52-f819-41f3-b845-769d75890a50            0            89   \n3    264c4b52-f819-41f3-b845-769d75890a50            0            95   \n4    264c4b52-f819-41f3-b845-769d75890a50            0            81   \n..                                    ...          ...           ...   \n995  f50f015e-9f58-47b9-a330-8aafa82120a0            0             0   \n996  f50f015e-9f58-47b9-a330-8aafa82120a0            0             0   \n997  f50f015e-9f58-47b9-a330-8aafa82120a0            0             0   \n998  f50f015e-9f58-47b9-a330-8aafa82120a0            0             0   \n999  f50f015e-9f58-47b9-a330-8aafa82120a0            0             0   \n\n     MeanComparisonCount  StdComparisonCount  Matched_HorizontalPiece  \\\n0               18.39333            71.38317                       44   \n1               18.29667            73.23780                       56   \n2               15.30565            63.59476                      102   \n3               13.88742            60.08361                       70   \n4               17.11628            72.40711                       46   \n..                   ...                 ...                      ...   \n995              0.00000             0.00000                       44   \n996              0.00000             0.00000                       57   \n997              0.00000             0.00000                       53   \n998              0.00000             0.00000                       40   \n999              0.00000             0.00000                       48   \n\n     Matched_VerticalPiece  ...  Target_VerticalPiece  Target_CrossPiece  \\\n0                       37  ...                     3                  0   \n1                       37  ...                     3                  0   \n2                       43  ...                     3                  0   \n3                       24  ...                     3                  0   \n4                       32  ...                     3                  0   \n..                     ...  ...                   ...                ...   \n995                     47  ...                     3                  0   \n996                     47  ...                     3                  0   \n997                     34  ...                     3                  0   \n998                     37  ...                     3                  0   \n999                     38  ...                     3                  0   \n\n     Target_RocketPiece  Target_BombPiece  Target_RainbowPiece  method  \\\n0                     2                 2                    3    mcts   \n1                     2                 2                    3    mcts   \n2                     2                 2                    3    mcts   \n3                     2                 2                    3    mcts   \n4                     2                 2                    3    mcts   \n..                  ...               ...                  ...     ...   \n995                   2                 2                    3  random   \n996                   2                 2                    3  random   \n997                   2                 2                    3  random   \n998                   2                 2                    3  random   \n999                   2                 2                    3  random   \n\n     player  objective  simulation  Sum_Matched  \n0         0      score         500          264  \n1         0      score         500          336  \n2         0      score         500          612  \n3         0      score         500          420  \n4         0      score         500          276  \n..      ...        ...         ...          ...  \n995       0        NaN           0          264  \n996       0        NaN           0          342  \n997       0        NaN           0          318  \n998       0        NaN           0          240  \n999       0        NaN           0          288  \n\n[3418 rows x 25 columns]",
      "text/html": "<div>\n<style scoped>\n    .dataframe tbody tr th:only-of-type {\n        vertical-align: middle;\n    }\n\n    .dataframe tbody tr th {\n        vertical-align: top;\n    }\n\n    .dataframe thead th {\n        text-align: right;\n    }\n</style>\n<table border=\"1\" class=\"dataframe\">\n  <thead>\n    <tr style=\"text-align: right;\">\n      <th></th>\n      <th>EpisodeCount</th>\n      <th>StepCount</th>\n      <th>Time</th>\n      <th>InstanceUUID</th>\n      <th>SettleCount</th>\n      <th>ChangedCount</th>\n      <th>MeanComparisonCount</th>\n      <th>StdComparisonCount</th>\n      <th>Matched_HorizontalPiece</th>\n      <th>Matched_VerticalPiece</th>\n      <th>...</th>\n      <th>Target_VerticalPiece</th>\n      <th>Target_CrossPiece</th>\n      <th>Target_RocketPiece</th>\n      <th>Target_BombPiece</th>\n      <th>Target_RainbowPiece</th>\n      <th>method</th>\n      <th>player</th>\n      <th>objective</th>\n      <th>simulation</th>\n      <th>Sum_Matched</th>\n    </tr>\n  </thead>\n  <tbody>\n    <tr>\n      <th>0</th>\n      <td>1</td>\n      <td>300</td>\n      <td>2023-05-14 11:28:22.575</td>\n      <td>264c4b52-f819-41f3-b845-769d75890a50</td>\n      <td>0</td>\n      <td>102</td>\n      <td>18.39333</td>\n      <td>71.38317</td>\n      <td>44</td>\n      <td>37</td>\n      <td>...</td>\n      <td>3</td>\n      <td>0</td>\n      <td>2</td>\n      <td>2</td>\n      <td>3</td>\n      <td>mcts</td>\n      <td>0</td>\n      <td>score</td>\n      <td>500</td>\n      <td>264</td>\n    </tr>\n    <tr>\n      <th>1</th>\n      <td>2</td>\n      <td>300</td>\n      <td>2023-05-14 11:29:22.519</td>\n      <td>264c4b52-f819-41f3-b845-769d75890a50</td>\n      <td>0</td>\n      <td>90</td>\n      <td>18.29667</td>\n      <td>73.23780</td>\n      <td>56</td>\n      <td>37</td>\n      <td>...</td>\n      <td>3</td>\n      <td>0</td>\n      <td>2</td>\n      <td>2</td>\n      <td>3</td>\n      <td>mcts</td>\n      <td>0</td>\n      <td>score</td>\n      <td>500</td>\n      <td>336</td>\n    </tr>\n    <tr>\n      <th>2</th>\n      <td>3</td>\n      <td>301</td>\n      <td>2023-05-14 11:30:22.419</td>\n      <td>264c4b52-f819-41f3-b845-769d75890a50</td>\n      <td>0</td>\n      <td>89</td>\n      <td>15.30565</td>\n      <td>63.59476</td>\n      <td>102</td>\n      <td>43</td>\n      <td>...</td>\n      <td>3</td>\n      <td>0</td>\n      <td>2</td>\n      <td>2</td>\n      <td>3</td>\n      <td>mcts</td>\n      <td>0</td>\n      <td>score</td>\n      <td>500</td>\n      <td>612</td>\n    </tr>\n    <tr>\n      <th>3</th>\n      <td>4</td>\n      <td>302</td>\n      <td>2023-05-14 11:31:21.785</td>\n      <td>264c4b52-f819-41f3-b845-769d75890a50</td>\n      <td>0</td>\n      <td>95</td>\n      <td>13.88742</td>\n      <td>60.08361</td>\n      <td>70</td>\n      <td>24</td>\n      <td>...</td>\n      <td>3</td>\n      <td>0</td>\n      <td>2</td>\n      <td>2</td>\n      <td>3</td>\n      <td>mcts</td>\n      <td>0</td>\n      <td>score</td>\n      <td>500</td>\n      <td>420</td>\n    </tr>\n    <tr>\n      <th>4</th>\n      <td>5</td>\n      <td>301</td>\n      <td>2023-05-14 11:32:20.636</td>\n      <td>264c4b52-f819-41f3-b845-769d75890a50</td>\n      <td>0</td>\n      <td>81</td>\n      <td>17.11628</td>\n      <td>72.40711</td>\n      <td>46</td>\n      <td>32</td>\n      <td>...</td>\n      <td>3</td>\n      <td>0</td>\n      <td>2</td>\n      <td>2</td>\n      <td>3</td>\n      <td>mcts</td>\n      <td>0</td>\n      <td>score</td>\n      <td>500</td>\n      <td>276</td>\n    </tr>\n    <tr>\n      <th>...</th>\n      <td>...</td>\n      <td>...</td>\n      <td>...</td>\n      <td>...</td>\n      <td>...</td>\n      <td>...</td>\n      <td>...</td>\n      <td>...</td>\n      <td>...</td>\n      <td>...</td>\n      <td>...</td>\n      <td>...</td>\n      <td>...</td>\n      <td>...</td>\n      <td>...</td>\n      <td>...</td>\n      <td>...</td>\n      <td>...</td>\n      <td>...</td>\n      <td>...</td>\n      <td>...</td>\n    </tr>\n    <tr>\n      <th>995</th>\n      <td>996</td>\n      <td>300</td>\n      <td>2023-05-14 14:10:41.623</td>\n      <td>f50f015e-9f58-47b9-a330-8aafa82120a0</td>\n      <td>0</td>\n      <td>0</td>\n      <td>0.00000</td>\n      <td>0.00000</td>\n      <td>44</td>\n      <td>47</td>\n      <td>...</td>\n      <td>3</td>\n      <td>0</td>\n      <td>2</td>\n      <td>2</td>\n      <td>3</td>\n      <td>random</td>\n      <td>0</td>\n      <td>NaN</td>\n      <td>0</td>\n      <td>264</td>\n    </tr>\n    <tr>\n      <th>996</th>\n      <td>997</td>\n      <td>303</td>\n      <td>2023-05-14 14:10:51.083</td>\n      <td>f50f015e-9f58-47b9-a330-8aafa82120a0</td>\n      <td>0</td>\n      <td>0</td>\n      <td>0.00000</td>\n      <td>0.00000</td>\n      <td>57</td>\n      <td>47</td>\n      <td>...</td>\n      <td>3</td>\n      <td>0</td>\n      <td>2</td>\n      <td>2</td>\n      <td>3</td>\n      <td>random</td>\n      <td>0</td>\n      <td>NaN</td>\n      <td>0</td>\n      <td>342</td>\n    </tr>\n    <tr>\n      <th>997</th>\n      <td>998</td>\n      <td>300</td>\n      <td>2023-05-14 14:11:01.196</td>\n      <td>f50f015e-9f58-47b9-a330-8aafa82120a0</td>\n      <td>0</td>\n      <td>0</td>\n      <td>0.00000</td>\n      <td>0.00000</td>\n      <td>53</td>\n      <td>34</td>\n      <td>...</td>\n      <td>3</td>\n      <td>0</td>\n      <td>2</td>\n      <td>2</td>\n      <td>3</td>\n      <td>random</td>\n      <td>0</td>\n      <td>NaN</td>\n      <td>0</td>\n      <td>318</td>\n    </tr>\n    <tr>\n      <th>998</th>\n      <td>999</td>\n      <td>302</td>\n      <td>2023-05-14 14:11:10.520</td>\n      <td>f50f015e-9f58-47b9-a330-8aafa82120a0</td>\n      <td>0</td>\n      <td>0</td>\n      <td>0.00000</td>\n      <td>0.00000</td>\n      <td>40</td>\n      <td>37</td>\n      <td>...</td>\n      <td>3</td>\n      <td>0</td>\n      <td>2</td>\n      <td>2</td>\n      <td>3</td>\n      <td>random</td>\n      <td>0</td>\n      <td>NaN</td>\n      <td>0</td>\n      <td>240</td>\n    </tr>\n    <tr>\n      <th>999</th>\n      <td>1000</td>\n      <td>300</td>\n      <td>2023-05-14 14:11:20.040</td>\n      <td>f50f015e-9f58-47b9-a330-8aafa82120a0</td>\n      <td>0</td>\n      <td>0</td>\n      <td>0.00000</td>\n      <td>0.00000</td>\n      <td>48</td>\n      <td>38</td>\n      <td>...</td>\n      <td>3</td>\n      <td>0</td>\n      <td>2</td>\n      <td>2</td>\n      <td>3</td>\n      <td>random</td>\n      <td>0</td>\n      <td>NaN</td>\n      <td>0</td>\n      <td>288</td>\n    </tr>\n  </tbody>\n</table>\n<p>3418 rows × 25 columns</p>\n</div>"
     },
     "execution_count": 103,
     "metadata": {},
     "output_type": "execute_result"
    }
   ],
   "source": [
    "dfs = []\n",
    "for file_path in tqdm(files):\n",
    "    # print(file_path)\n",
    "    file_name = path.basename(file_path)\n",
    "\n",
    "    _file_name = file_name.split('_')[1:-1]\n",
    "    args = parse_filename(_file_name)\n",
    "\n",
    "    df = pd.read_csv(file_path)\n",
    "\n",
    "    for key, value in args.items():\n",
    "        df[key] = value\n",
    "    dfs.append(df)\n",
    "\n",
    "original_df = pd.concat(dfs)\n",
    "\n",
    "original_df['Sum_Matched'] = original_df['Matched_HorizontalPiece'] + original_df['Matched_HorizontalPiece'] + original_df['Matched_HorizontalPiece']  + \\\n",
    "    original_df['Matched_HorizontalPiece'] + original_df['Matched_HorizontalPiece'] + original_df['Matched_HorizontalPiece']\n",
    "original_df.loc[original_df['method'] == 'random', 'simulation'] = 0\n",
    "\n",
    "original_df"
   ],
   "metadata": {
    "collapsed": false,
    "pycharm": {
     "name": "#%%\n"
    }
   }
  },
  {
   "cell_type": "code",
   "execution_count": 104,
   "outputs": [
    {
     "name": "stderr",
     "output_type": "stream",
     "text": [
      "C:\\Users\\GIST\\.conda\\envs\\mlagents\\lib\\site-packages\\ipykernel_launcher.py:1: FutureWarning: Indexing with multiple keys (implicitly converted to a tuple of keys) will be deprecated, use a list instead.\n",
      "  \"\"\"Entry point for launching an IPython kernel.\n"
     ]
    },
    {
     "data": {
      "text/plain": "                  Matched_HorizontalPiece            Matched_VerticalPiece  \\\n                                     mean        std                  mean   \nmethod simulation                                                            \nmcts   500                      54.450635  12.515200             36.264457   \nrandom 0                        46.447000  10.365564             32.832000   \n\n                            Matched_CrossPiece           Matched_RocketPiece  \\\n                        std               mean       std                mean   \nmethod simulation                                                              \nmcts   500         9.063558           7.288434  4.562050           93.078984   \nrandom 0           7.955088           6.202000  3.947529           83.756000   \n\n                             Matched_BombPiece           Matched_RainbowPiece  \\\n                         std              mean       std                 mean   \nmethod simulation                                                               \nmcts   500         18.833392          7.311707  4.382894             9.576869   \nrandom 0           15.879312          6.128000  3.853445             8.096000   \n\n                            Sum_Matched             \n                        std        mean        std  \nmethod simulation                                   \nmcts   500         5.346572  326.703808  75.091201  \nrandom 0           4.611444  278.682000  62.193383  ",
      "text/html": "<div>\n<style scoped>\n    .dataframe tbody tr th:only-of-type {\n        vertical-align: middle;\n    }\n\n    .dataframe tbody tr th {\n        vertical-align: top;\n    }\n\n    .dataframe thead tr th {\n        text-align: left;\n    }\n\n    .dataframe thead tr:last-of-type th {\n        text-align: right;\n    }\n</style>\n<table border=\"1\" class=\"dataframe\">\n  <thead>\n    <tr>\n      <th></th>\n      <th></th>\n      <th colspan=\"2\" halign=\"left\">Matched_HorizontalPiece</th>\n      <th colspan=\"2\" halign=\"left\">Matched_VerticalPiece</th>\n      <th colspan=\"2\" halign=\"left\">Matched_CrossPiece</th>\n      <th colspan=\"2\" halign=\"left\">Matched_RocketPiece</th>\n      <th colspan=\"2\" halign=\"left\">Matched_BombPiece</th>\n      <th colspan=\"2\" halign=\"left\">Matched_RainbowPiece</th>\n      <th colspan=\"2\" halign=\"left\">Sum_Matched</th>\n    </tr>\n    <tr>\n      <th></th>\n      <th></th>\n      <th>mean</th>\n      <th>std</th>\n      <th>mean</th>\n      <th>std</th>\n      <th>mean</th>\n      <th>std</th>\n      <th>mean</th>\n      <th>std</th>\n      <th>mean</th>\n      <th>std</th>\n      <th>mean</th>\n      <th>std</th>\n      <th>mean</th>\n      <th>std</th>\n    </tr>\n    <tr>\n      <th>method</th>\n      <th>simulation</th>\n      <th></th>\n      <th></th>\n      <th></th>\n      <th></th>\n      <th></th>\n      <th></th>\n      <th></th>\n      <th></th>\n      <th></th>\n      <th></th>\n      <th></th>\n      <th></th>\n      <th></th>\n      <th></th>\n    </tr>\n  </thead>\n  <tbody>\n    <tr>\n      <th>mcts</th>\n      <th>500</th>\n      <td>54.450635</td>\n      <td>12.515200</td>\n      <td>36.264457</td>\n      <td>9.063558</td>\n      <td>7.288434</td>\n      <td>4.562050</td>\n      <td>93.078984</td>\n      <td>18.833392</td>\n      <td>7.311707</td>\n      <td>4.382894</td>\n      <td>9.576869</td>\n      <td>5.346572</td>\n      <td>326.703808</td>\n      <td>75.091201</td>\n    </tr>\n    <tr>\n      <th>random</th>\n      <th>0</th>\n      <td>46.447000</td>\n      <td>10.365564</td>\n      <td>32.832000</td>\n      <td>7.955088</td>\n      <td>6.202000</td>\n      <td>3.947529</td>\n      <td>83.756000</td>\n      <td>15.879312</td>\n      <td>6.128000</td>\n      <td>3.853445</td>\n      <td>8.096000</td>\n      <td>4.611444</td>\n      <td>278.682000</td>\n      <td>62.193383</td>\n    </tr>\n  </tbody>\n</table>\n</div>"
     },
     "execution_count": 104,
     "metadata": {},
     "output_type": "execute_result"
    }
   ],
   "source": [
    "error_result = original_df.groupby(['method', 'simulation'])['Matched_HorizontalPiece',\n",
    "                                      'Matched_VerticalPiece',\n",
    "                                      'Matched_CrossPiece',\n",
    "                                      'Matched_RocketPiece',\n",
    "                                      'Matched_BombPiece',\n",
    "                                      'Matched_RainbowPiece',\n",
    "                                      'Sum_Matched'].agg(\n",
    "    {\n",
    "        'Matched_HorizontalPiece':['mean','std'],\n",
    "        'Matched_VerticalPiece':['mean','std'],\n",
    "        'Matched_CrossPiece':['mean','std'],\n",
    "        'Matched_RocketPiece':['mean','std'],\n",
    "        'Matched_BombPiece':['mean','std'],\n",
    "        'Matched_RainbowPiece':['mean','std'],\n",
    "        'Sum_Matched':['mean','std'],\n",
    "     }\n",
    ")\n",
    "error_result"
   ],
   "metadata": {
    "collapsed": false,
    "pycharm": {
     "name": "#%%\n"
    }
   }
  }
 ],
 "metadata": {
  "kernelspec": {
   "display_name": "Python 3",
   "language": "python",
   "name": "python3"
  },
  "language_info": {
   "codemirror_mode": {
    "name": "ipython",
    "version": 2
   },
   "file_extension": ".py",
   "mimetype": "text/x-python",
   "name": "python",
   "nbconvert_exporter": "python",
   "pygments_lexer": "ipython2",
   "version": "2.7.6"
  }
 },
 "nbformat": 4,
 "nbformat_minor": 0
}