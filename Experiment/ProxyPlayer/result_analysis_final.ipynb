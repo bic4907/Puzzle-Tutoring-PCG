{
 "cells": [
  {
   "cell_type": "code",
   "execution_count": 276,
   "metadata": {
    "collapsed": true
   },
   "outputs": [],
   "source": [
    "import pandas as pd\n",
    "import matplotlib.pyplot as plt\n",
    "from sklearn.manifold import TSNE\n",
    "import seaborn as sns\n",
    "import re\n",
    "from os import path\n",
    "from glob import glob\n",
    "from tqdm import tqdm\n",
    "import numpy as np\n",
    "from matplotlib import cm\n",
    "from pprint import pprint\n",
    "from plotting_utils import get_legend_name, remove_outliers"
   ]
  },
  {
   "cell_type": "code",
   "execution_count": 277,
   "metadata": {
    "collapsed": false,
    "pycharm": {
     "name": "#%%\n"
    }
   },
   "outputs": [],
   "source": [
    "ROOT_PATH = '\\\\\\\\CILab_NAS_Data/homes/inchang/PuzzlePCG/ProxyPlayer'"
   ]
  },
  {
   "cell_type": "code",
   "execution_count": 278,
   "metadata": {
    "collapsed": false,
    "pycharm": {
     "name": "#%%\n"
    }
   },
   "outputs": [],
   "source": [
    "files = glob(path.join(ROOT_PATH, '*', 'MatchResult_*.csv'))\n"
   ]
  },
  {
   "cell_type": "code",
   "execution_count": 279,
   "metadata": {
    "collapsed": false,
    "pycharm": {
     "name": "#%%\n"
    }
   },
   "outputs": [],
   "source": [
    "StatisticsColumns = [\n",
    "    'ReachedKnowledgeStep',\n",
    "    'Matched_HorizontalPiece', 'Matched_VerticalPiece', 'Matched_CrossPiece', 'Matched_RocketPiece', 'Matched_BombPiece', 'Matched_RainbowPiece']"
   ]
  },
  {
   "cell_type": "code",
   "execution_count": 280,
   "metadata": {
    "collapsed": false,
    "pycharm": {
     "name": "#%%\n"
    }
   },
   "outputs": [],
   "source": [
    "replacements = {\n",
    "    'met': 'method',\n",
    "    'pla': 'player',\n",
    "    'eff': 'simpleEffect',\n",
    "    'obj': 'objective',\n",
    "    'sim': 'simulation',\n",
    "    'rat': 'almostRatio',\n",
    "    'pdep': 'playerDepth',\n",
    "}\n",
    "\n",
    "def parse_filename(data):\n",
    "    result = dict()\n",
    "    for i in range(0, len(data), 2):\n",
    "        if data[i] in replacements.keys():\n",
    "            data[i] = replacements[data[i]]\n",
    "\n",
    "        result[data[i]] = data[i+1]\n",
    "\n",
    "    return result"
   ]
  },
  {
   "cell_type": "code",
   "metadata": {
    "collapsed": false,
    "pycharm": {
     "name": "#%%\n"
    }
   },
   "source": [
    "dfs = []\n",
    "for file_path in tqdm(files):\n",
    "    # print(file_path)\n",
    "    file_name = path.basename(file_path)\n",
    "\n",
    "    _file_name = file_name.split('_')[1:-1]\n",
    "    args = parse_filename(_file_name)\n",
    "\n",
    "    df = pd.read_csv(file_path)\n",
    "\n",
    "    for key, value in args.items():\n",
    "        df[key] = value\n",
    "    dfs.append(df)\n",
    "\n",
    "original_df = pd.concat(dfs)\n",
    "\n",
    "original_df['Sum_Matched'] = original_df['Matched_HorizontalPiece'] + original_df['Matched_HorizontalPiece'] + original_df['Matched_HorizontalPiece']  + \\\n",
    "    original_df['Matched_HorizontalPiece'] + original_df['Matched_HorizontalPiece'] + original_df['Matched_HorizontalPiece']\n",
    "original_df.loc[original_df['method'] == 'random', 'simulation'] = 0\n",
    "\n",
    "# original_df['simpleEffect'] = original_df['simpleEffect'].replace(np.nan, 0)\n",
    "original_df['objective'] = original_df['objective'].replace(np.nan, '-')\n",
    "\n",
    "original_df.loc[original_df['method'] == 'random', 'playerDepth'] = '-'\n",
    "original_df.loc[original_df['method'] == 'sampling', 'playerDepth'] = '-'\n",
    "original_df.loc[original_df['method'] == 'ga', 'playerDepth'] = '-'\n",
    "original_df.loc[original_df['method'] == 'ga2', 'playerDepth'] = '-'\n",
    "original_df.loc[original_df['method'] == 'random', 'simulation'] = '-'\n",
    "original_df.loc[original_df['method'] == 'ga', 'simulation'] = '-'\n",
    "# original_df.loc[original_df['method'] == 'ga2', 'simulation'] = '-'\n",
    "# original_df.loc[original_df['method'] == 'sampling', 'simulation'] = '-'\n",
    "original_df.loc[original_df['method'] == 'random', 'almostRatio'] = '-'\n",
    "original_df.loc[original_df['method'] == 'sampling', 'almostRatio'] = '-'\n",
    "original_df.loc[original_df['method'] == 'ga', 'almostRatio'] = '-'\n",
    "original_df.loc[original_df['objective'] == 'kp', 'almostRatio'] = '-'\n",
    "original_df.loc[original_df['objective'] == 'score', 'almostRatio'] = '-'\n",
    "\n",
    "original_df.loc[original_df['method'] == 'ga', 'simulation'] = original_df.loc[original_df['method'] == 'ga', 'evo']\n"
   ],
   "execution_count": 281,
   "outputs": [
    {
     "name": "stderr",
     "output_type": "stream",
     "text": [
      "100%|██████████| 247/247 [00:08<00:00, 28.55it/s]\n"
     ]
    }
   ]
  },
  {
   "cell_type": "code",
   "execution_count": 282,
   "outputs": [
    {
     "data": {
      "text/plain": "     EpisodeCount  StepCount                     Time InstanceUUID  \\\n0               1        200  2023-06-17 07:37:24.645     ed4b221f   \n1               2        200  2023-06-17 07:59:11.763     ed4b221f   \n2               3        200  2023-06-17 08:22:03.190     ed4b221f   \n3               4        200  2023-06-17 08:45:08.246     ed4b221f   \n4               5        200  2023-06-17 09:08:00.600     ed4b221f   \n..            ...        ...                      ...          ...   \n310           311        200  2023-06-19 01:33:35.125     bb9c5c38   \n311           312        200  2023-06-19 01:42:17.682     bb9c5c38   \n312           313        200  2023-06-19 01:51:58.348     bb9c5c38   \n313           314        200  2023-06-19 02:00:23.657     bb9c5c38   \n314           315        200  2023-06-19 02:09:32.087     bb9c5c38   \n\n     SettleCount  ChangedCount  MeanGenerateRuntimes  StdGenerateRuntimes  \\\n0              0             0              3.191348             1.990742   \n1              0             0              4.906240             3.070558   \n2              0             0              5.463821             3.076268   \n3              0             0              5.540969             3.249036   \n4              0             0              5.421199             3.161585   \n..           ...           ...                   ...                  ...   \n310            0             0              2.055959             0.099924   \n311            0             0              2.046625             0.107653   \n312            0             0              2.040323             0.099961   \n313            0             0              2.044421             0.098462   \n314            0             0              2.098267             0.138966   \n\n     MeanGenerateScores  StdGenerateScores  ...  Target_RainbowPiece  \\\n0              0.046333           0.187546  ...                    3   \n1              0.046942           0.188525  ...                    3   \n2              0.048054           0.190547  ...                    3   \n3              0.048687           0.194478  ...                    3   \n4              0.048959           0.194434  ...                    3   \n..                  ...                ...  ...                  ...   \n310            0.227373           0.396706  ...                    5   \n311            0.227457           0.396748  ...                    5   \n312            0.227432           0.396766  ...                    5   \n313            0.227419           0.396719  ...                    5   \n314            0.227374           0.396663  ...                    5   \n\n       method  player  objective  evo  simulation  almostRatio  playerDepth  \\\n0          ga       0  knowledge   16          16            -            -   \n1          ga       0  knowledge   16          16            -            -   \n2          ga       0  knowledge   16          16            -            -   \n3          ga       0  knowledge   16          16            -            -   \n4          ga       0  knowledge   16          16            -            -   \n..        ...     ...        ...  ...         ...          ...          ...   \n310  sampling       9          -  NaN          40            -            -   \n311  sampling       9          -  NaN          40            -            -   \n312  sampling       9          -  NaN          40            -            -   \n313  sampling       9          -  NaN          40            -            -   \n314  sampling       9          -  NaN          40            -            -   \n\n      gp  Sum_Matched  \n0    NaN          150  \n1    NaN          144  \n2    NaN          138  \n3    NaN          108  \n4    NaN          132  \n..   ...          ...  \n310  NaN          108  \n311  NaN           84  \n312  NaN          102  \n313  NaN           84  \n314  NaN          138  \n\n[78954 rows x 35 columns]",
      "text/html": "<div>\n<style scoped>\n    .dataframe tbody tr th:only-of-type {\n        vertical-align: middle;\n    }\n\n    .dataframe tbody tr th {\n        vertical-align: top;\n    }\n\n    .dataframe thead th {\n        text-align: right;\n    }\n</style>\n<table border=\"1\" class=\"dataframe\">\n  <thead>\n    <tr style=\"text-align: right;\">\n      <th></th>\n      <th>EpisodeCount</th>\n      <th>StepCount</th>\n      <th>Time</th>\n      <th>InstanceUUID</th>\n      <th>SettleCount</th>\n      <th>ChangedCount</th>\n      <th>MeanGenerateRuntimes</th>\n      <th>StdGenerateRuntimes</th>\n      <th>MeanGenerateScores</th>\n      <th>StdGenerateScores</th>\n      <th>...</th>\n      <th>Target_RainbowPiece</th>\n      <th>method</th>\n      <th>player</th>\n      <th>objective</th>\n      <th>evo</th>\n      <th>simulation</th>\n      <th>almostRatio</th>\n      <th>playerDepth</th>\n      <th>gp</th>\n      <th>Sum_Matched</th>\n    </tr>\n  </thead>\n  <tbody>\n    <tr>\n      <th>0</th>\n      <td>1</td>\n      <td>200</td>\n      <td>2023-06-17 07:37:24.645</td>\n      <td>ed4b221f</td>\n      <td>0</td>\n      <td>0</td>\n      <td>3.191348</td>\n      <td>1.990742</td>\n      <td>0.046333</td>\n      <td>0.187546</td>\n      <td>...</td>\n      <td>3</td>\n      <td>ga</td>\n      <td>0</td>\n      <td>knowledge</td>\n      <td>16</td>\n      <td>16</td>\n      <td>-</td>\n      <td>-</td>\n      <td>NaN</td>\n      <td>150</td>\n    </tr>\n    <tr>\n      <th>1</th>\n      <td>2</td>\n      <td>200</td>\n      <td>2023-06-17 07:59:11.763</td>\n      <td>ed4b221f</td>\n      <td>0</td>\n      <td>0</td>\n      <td>4.906240</td>\n      <td>3.070558</td>\n      <td>0.046942</td>\n      <td>0.188525</td>\n      <td>...</td>\n      <td>3</td>\n      <td>ga</td>\n      <td>0</td>\n      <td>knowledge</td>\n      <td>16</td>\n      <td>16</td>\n      <td>-</td>\n      <td>-</td>\n      <td>NaN</td>\n      <td>144</td>\n    </tr>\n    <tr>\n      <th>2</th>\n      <td>3</td>\n      <td>200</td>\n      <td>2023-06-17 08:22:03.190</td>\n      <td>ed4b221f</td>\n      <td>0</td>\n      <td>0</td>\n      <td>5.463821</td>\n      <td>3.076268</td>\n      <td>0.048054</td>\n      <td>0.190547</td>\n      <td>...</td>\n      <td>3</td>\n      <td>ga</td>\n      <td>0</td>\n      <td>knowledge</td>\n      <td>16</td>\n      <td>16</td>\n      <td>-</td>\n      <td>-</td>\n      <td>NaN</td>\n      <td>138</td>\n    </tr>\n    <tr>\n      <th>3</th>\n      <td>4</td>\n      <td>200</td>\n      <td>2023-06-17 08:45:08.246</td>\n      <td>ed4b221f</td>\n      <td>0</td>\n      <td>0</td>\n      <td>5.540969</td>\n      <td>3.249036</td>\n      <td>0.048687</td>\n      <td>0.194478</td>\n      <td>...</td>\n      <td>3</td>\n      <td>ga</td>\n      <td>0</td>\n      <td>knowledge</td>\n      <td>16</td>\n      <td>16</td>\n      <td>-</td>\n      <td>-</td>\n      <td>NaN</td>\n      <td>108</td>\n    </tr>\n    <tr>\n      <th>4</th>\n      <td>5</td>\n      <td>200</td>\n      <td>2023-06-17 09:08:00.600</td>\n      <td>ed4b221f</td>\n      <td>0</td>\n      <td>0</td>\n      <td>5.421199</td>\n      <td>3.161585</td>\n      <td>0.048959</td>\n      <td>0.194434</td>\n      <td>...</td>\n      <td>3</td>\n      <td>ga</td>\n      <td>0</td>\n      <td>knowledge</td>\n      <td>16</td>\n      <td>16</td>\n      <td>-</td>\n      <td>-</td>\n      <td>NaN</td>\n      <td>132</td>\n    </tr>\n    <tr>\n      <th>...</th>\n      <td>...</td>\n      <td>...</td>\n      <td>...</td>\n      <td>...</td>\n      <td>...</td>\n      <td>...</td>\n      <td>...</td>\n      <td>...</td>\n      <td>...</td>\n      <td>...</td>\n      <td>...</td>\n      <td>...</td>\n      <td>...</td>\n      <td>...</td>\n      <td>...</td>\n      <td>...</td>\n      <td>...</td>\n      <td>...</td>\n      <td>...</td>\n      <td>...</td>\n      <td>...</td>\n    </tr>\n    <tr>\n      <th>310</th>\n      <td>311</td>\n      <td>200</td>\n      <td>2023-06-19 01:33:35.125</td>\n      <td>bb9c5c38</td>\n      <td>0</td>\n      <td>0</td>\n      <td>2.055959</td>\n      <td>0.099924</td>\n      <td>0.227373</td>\n      <td>0.396706</td>\n      <td>...</td>\n      <td>5</td>\n      <td>sampling</td>\n      <td>9</td>\n      <td>-</td>\n      <td>NaN</td>\n      <td>40</td>\n      <td>-</td>\n      <td>-</td>\n      <td>NaN</td>\n      <td>108</td>\n    </tr>\n    <tr>\n      <th>311</th>\n      <td>312</td>\n      <td>200</td>\n      <td>2023-06-19 01:42:17.682</td>\n      <td>bb9c5c38</td>\n      <td>0</td>\n      <td>0</td>\n      <td>2.046625</td>\n      <td>0.107653</td>\n      <td>0.227457</td>\n      <td>0.396748</td>\n      <td>...</td>\n      <td>5</td>\n      <td>sampling</td>\n      <td>9</td>\n      <td>-</td>\n      <td>NaN</td>\n      <td>40</td>\n      <td>-</td>\n      <td>-</td>\n      <td>NaN</td>\n      <td>84</td>\n    </tr>\n    <tr>\n      <th>312</th>\n      <td>313</td>\n      <td>200</td>\n      <td>2023-06-19 01:51:58.348</td>\n      <td>bb9c5c38</td>\n      <td>0</td>\n      <td>0</td>\n      <td>2.040323</td>\n      <td>0.099961</td>\n      <td>0.227432</td>\n      <td>0.396766</td>\n      <td>...</td>\n      <td>5</td>\n      <td>sampling</td>\n      <td>9</td>\n      <td>-</td>\n      <td>NaN</td>\n      <td>40</td>\n      <td>-</td>\n      <td>-</td>\n      <td>NaN</td>\n      <td>102</td>\n    </tr>\n    <tr>\n      <th>313</th>\n      <td>314</td>\n      <td>200</td>\n      <td>2023-06-19 02:00:23.657</td>\n      <td>bb9c5c38</td>\n      <td>0</td>\n      <td>0</td>\n      <td>2.044421</td>\n      <td>0.098462</td>\n      <td>0.227419</td>\n      <td>0.396719</td>\n      <td>...</td>\n      <td>5</td>\n      <td>sampling</td>\n      <td>9</td>\n      <td>-</td>\n      <td>NaN</td>\n      <td>40</td>\n      <td>-</td>\n      <td>-</td>\n      <td>NaN</td>\n      <td>84</td>\n    </tr>\n    <tr>\n      <th>314</th>\n      <td>315</td>\n      <td>200</td>\n      <td>2023-06-19 02:09:32.087</td>\n      <td>bb9c5c38</td>\n      <td>0</td>\n      <td>0</td>\n      <td>2.098267</td>\n      <td>0.138966</td>\n      <td>0.227374</td>\n      <td>0.396663</td>\n      <td>...</td>\n      <td>5</td>\n      <td>sampling</td>\n      <td>9</td>\n      <td>-</td>\n      <td>NaN</td>\n      <td>40</td>\n      <td>-</td>\n      <td>-</td>\n      <td>NaN</td>\n      <td>138</td>\n    </tr>\n  </tbody>\n</table>\n<p>78954 rows × 35 columns</p>\n</div>"
     },
     "execution_count": 282,
     "metadata": {},
     "output_type": "execute_result"
    }
   ],
   "source": [
    "original_df"
   ],
   "metadata": {
    "collapsed": false,
    "pycharm": {
     "name": "#%%\n"
    }
   }
  },
  {
   "cell_type": "code",
   "execution_count": 283,
   "outputs": [],
   "source": [
    "# 완료하지 못했을 경우, 에피소드 최대길이로 설정\n",
    "original_df['ReachedKnowledgeStep'] = original_df['ReachedKnowledgeStep'].replace(-1, 200)\n",
    "original_df['Q1ReachedKnowledgeStep'] = original_df['Q1ReachedKnowledgeStep'].replace(-1, 200)\n",
    "original_df['Q2ReachedKnowledgeStep'] = original_df['Q2ReachedKnowledgeStep'].replace(-1, 200)\n",
    "original_df['Q3ReachedKnowledgeStep'] = original_df['Q3ReachedKnowledgeStep'].replace(-1, 200)\n"
   ],
   "metadata": {
    "collapsed": false,
    "pycharm": {
     "name": "#%%\n"
    }
   }
  },
  {
   "cell_type": "raw",
   "metadata": {
    "collapsed": false,
    "pycharm": {
     "name": "#%% raw\n"
    }
   },
   "source": [
    "\n",
    "pd.set_option('display.max_rows', None)\n",
    "match_result = original_df.groupby(['player', 'method', 'objective', 'playerDepth', 'almostRatio', 'simulation'])[\n",
    "                                      'method',\n",
    "                                      'Matched_HorizontalPiece',\n",
    "                                      'Matched_VerticalPiece',\n",
    "                                      'Matched_CrossPiece',\n",
    "                                      'Matched_RocketPiece',\n",
    "                                      'Matched_BombPiece',\n",
    "                                      'Matched_RainbowPiece',\n",
    "                                      'Q1ReachedKnowledgeStep',\n",
    "                                      'Q2ReachedKnowledgeStep',\n",
    "                                      'Q3ReachedKnowledgeStep',\n",
    "                                      'ReachedKnowledgeStep',\n",
    "                                      'Sum_Matched'].agg(\n",
    "    {\n",
    "        'method': ['count'],\n",
    "        'Q1ReachedKnowledgeStep': ['mean'],\n",
    "        'Q2ReachedKnowledgeStep': ['mean'],\n",
    "        'Q3ReachedKnowledgeStep': ['mean'],\n",
    "        'ReachedKnowledgeStep': ['mean'],\n",
    "        'Matched_HorizontalPiece':['mean'],\n",
    "        'Matched_VerticalPiece':['mean'],\n",
    "        'Matched_CrossPiece':['mean'],\n",
    "        'Matched_RocketPiece':['mean'],\n",
    "        'Matched_BombPiece':['mean'],\n",
    "        'Matched_RainbowPiece':['mean'],\n",
    "        'Sum_Matched':['mean'],\n",
    "     }\n",
    ")\n",
    "\n",
    "\n"
   ]
  },
  {
   "cell_type": "code",
   "execution_count": 284,
   "outputs": [],
   "source": [
    "for i in range(5):\n",
    "    original_df['playerDepth'] = original_df['playerDepth'].replace(str(i), i)\n",
    "for i in range(100, 1000, 100):\n",
    "    original_df['simulation'] = original_df['simulation'].replace(str(i), i)"
   ],
   "metadata": {
    "collapsed": false,
    "pycharm": {
     "name": "#%%\n"
    }
   }
  },
  {
   "cell_type": "code",
   "execution_count": 285,
   "outputs": [
    {
     "name": "stderr",
     "output_type": "stream",
     "text": [
      "C:\\Users\\GIST\\.conda\\envs\\mlagents\\lib\\site-packages\\ipykernel_launcher.py:2: FutureWarning: Indexing with multiple keys (implicitly converted to a tuple of keys) will be deprecated, use a list instead.\n",
      "  \n"
     ]
    },
    {
     "data": {
      "text/plain": "                              method\n                               count\nmethod   objective simulation       \nga       knowledge 16           1070\n                   2            1350\n                   4            1091\n                   8            1271\n         score     16            820\n                   2            1340\n                   4            1031\n                   8            1084\nmcts     knowledge 100          5508\n                   200          5510\n                   400          5506\n                   1000         5506\n         score     100          5506\n                   200          5506\n                   400          5505\n                   1000         5502\nrandom   -         -            5500\nsampling -         10           5500\n                   20           5500\n                   30           5056\n                   40           4292",
      "text/html": "<div>\n<style scoped>\n    .dataframe tbody tr th:only-of-type {\n        vertical-align: middle;\n    }\n\n    .dataframe tbody tr th {\n        vertical-align: top;\n    }\n\n    .dataframe thead tr th {\n        text-align: left;\n    }\n\n    .dataframe thead tr:last-of-type th {\n        text-align: right;\n    }\n</style>\n<table border=\"1\" class=\"dataframe\">\n  <thead>\n    <tr>\n      <th></th>\n      <th></th>\n      <th></th>\n      <th>method</th>\n    </tr>\n    <tr>\n      <th></th>\n      <th></th>\n      <th></th>\n      <th>count</th>\n    </tr>\n    <tr>\n      <th>method</th>\n      <th>objective</th>\n      <th>simulation</th>\n      <th></th>\n    </tr>\n  </thead>\n  <tbody>\n    <tr>\n      <th rowspan=\"8\" valign=\"top\">ga</th>\n      <th rowspan=\"4\" valign=\"top\">knowledge</th>\n      <th>16</th>\n      <td>1070</td>\n    </tr>\n    <tr>\n      <th>2</th>\n      <td>1350</td>\n    </tr>\n    <tr>\n      <th>4</th>\n      <td>1091</td>\n    </tr>\n    <tr>\n      <th>8</th>\n      <td>1271</td>\n    </tr>\n    <tr>\n      <th rowspan=\"4\" valign=\"top\">score</th>\n      <th>16</th>\n      <td>820</td>\n    </tr>\n    <tr>\n      <th>2</th>\n      <td>1340</td>\n    </tr>\n    <tr>\n      <th>4</th>\n      <td>1031</td>\n    </tr>\n    <tr>\n      <th>8</th>\n      <td>1084</td>\n    </tr>\n    <tr>\n      <th rowspan=\"8\" valign=\"top\">mcts</th>\n      <th rowspan=\"4\" valign=\"top\">knowledge</th>\n      <th>100</th>\n      <td>5508</td>\n    </tr>\n    <tr>\n      <th>200</th>\n      <td>5510</td>\n    </tr>\n    <tr>\n      <th>400</th>\n      <td>5506</td>\n    </tr>\n    <tr>\n      <th>1000</th>\n      <td>5506</td>\n    </tr>\n    <tr>\n      <th rowspan=\"4\" valign=\"top\">score</th>\n      <th>100</th>\n      <td>5506</td>\n    </tr>\n    <tr>\n      <th>200</th>\n      <td>5506</td>\n    </tr>\n    <tr>\n      <th>400</th>\n      <td>5505</td>\n    </tr>\n    <tr>\n      <th>1000</th>\n      <td>5502</td>\n    </tr>\n    <tr>\n      <th>random</th>\n      <th>-</th>\n      <th>-</th>\n      <td>5500</td>\n    </tr>\n    <tr>\n      <th rowspan=\"4\" valign=\"top\">sampling</th>\n      <th rowspan=\"4\" valign=\"top\">-</th>\n      <th>10</th>\n      <td>5500</td>\n    </tr>\n    <tr>\n      <th>20</th>\n      <td>5500</td>\n    </tr>\n    <tr>\n      <th>30</th>\n      <td>5056</td>\n    </tr>\n    <tr>\n      <th>40</th>\n      <td>4292</td>\n    </tr>\n  </tbody>\n</table>\n</div>"
     },
     "execution_count": 285,
     "metadata": {},
     "output_type": "execute_result"
    }
   ],
   "source": [
    "match_result = original_df.groupby(['method', 'objective', 'simulation'])[\n",
    "                                      'method',\n",
    "                                      'Matched_HorizontalPiece',\n",
    "                                      'Matched_VerticalPiece',\n",
    "                                      'Matched_CrossPiece',\n",
    "                                      'Matched_RocketPiece',\n",
    "                                      'Matched_BombPiece',\n",
    "                                      'Matched_RainbowPiece',\n",
    "                                      #'AlmostReachedKnowledgeStep',\n",
    "                                      'Q1ReachedKnowledgeStep',\n",
    "                                      'Q2ReachedKnowledgeStep',\n",
    "                                      'Q3ReachedKnowledgeStep',\n",
    "                                      'ReachedKnowledgeStep',\n",
    "                                      'Sum_Matched'].agg(\n",
    "    {\n",
    "        'method': ['count'],\n",
    "     }\n",
    ")\n",
    "match_result\n",
    "\n",
    "\n"
   ],
   "metadata": {
    "collapsed": false,
    "pycharm": {
     "name": "#%%\n"
    }
   }
  },
  {
   "cell_type": "markdown",
   "source": [
    "### Full Result"
   ],
   "metadata": {
    "collapsed": false,
    "pycharm": {
     "name": "#%% md\n"
    }
   }
  },
  {
   "cell_type": "code",
   "execution_count": 286,
   "outputs": [
    {
     "name": "stderr",
     "output_type": "stream",
     "text": [
      "C:\\Users\\GIST\\.conda\\envs\\mlagents\\lib\\site-packages\\ipykernel_launcher.py:24: FutureWarning: Indexing with multiple keys (implicitly converted to a tuple of keys) will be deprecated, use a list instead.\n"
     ]
    },
    {
     "data": {
      "text/plain": "                              method MeanGenerateRuntimes\n                               count                 mean\nmethod   objective simulation                            \nga       knowledge 16           1014             6.042887\n                   2            1264             4.569517\n                   4            1003             5.037439\n                   8            1203             5.094399\n         score     16            760             7.399702\n                   2            1289             4.440890\n                   4             992             5.291846\n                   8            1031             5.590128\nmcts     knowledge 100          5096             0.413112\n                   200          5059             0.475700\n                   400          5070             0.475203\n                   1000         5078             0.500354\n         score     100          5307             0.461840\n                   200          5303             0.511370\n                   400          5312             0.549112\n                   1000         5305             0.563033\nrandom   -         -            5499             0.000001\nsampling -         10           5498             0.636719\n                   20           5497             1.198031\n                   30           5055             1.661299\n                   40           4291             2.154969",
      "text/html": "<div>\n<style scoped>\n    .dataframe tbody tr th:only-of-type {\n        vertical-align: middle;\n    }\n\n    .dataframe tbody tr th {\n        vertical-align: top;\n    }\n\n    .dataframe thead tr th {\n        text-align: left;\n    }\n\n    .dataframe thead tr:last-of-type th {\n        text-align: right;\n    }\n</style>\n<table border=\"1\" class=\"dataframe\">\n  <thead>\n    <tr>\n      <th></th>\n      <th></th>\n      <th></th>\n      <th>method</th>\n      <th>MeanGenerateRuntimes</th>\n    </tr>\n    <tr>\n      <th></th>\n      <th></th>\n      <th></th>\n      <th>count</th>\n      <th>mean</th>\n    </tr>\n    <tr>\n      <th>method</th>\n      <th>objective</th>\n      <th>simulation</th>\n      <th></th>\n      <th></th>\n    </tr>\n  </thead>\n  <tbody>\n    <tr>\n      <th rowspan=\"8\" valign=\"top\">ga</th>\n      <th rowspan=\"4\" valign=\"top\">knowledge</th>\n      <th>16</th>\n      <td>1014</td>\n      <td>6.042887</td>\n    </tr>\n    <tr>\n      <th>2</th>\n      <td>1264</td>\n      <td>4.569517</td>\n    </tr>\n    <tr>\n      <th>4</th>\n      <td>1003</td>\n      <td>5.037439</td>\n    </tr>\n    <tr>\n      <th>8</th>\n      <td>1203</td>\n      <td>5.094399</td>\n    </tr>\n    <tr>\n      <th rowspan=\"4\" valign=\"top\">score</th>\n      <th>16</th>\n      <td>760</td>\n      <td>7.399702</td>\n    </tr>\n    <tr>\n      <th>2</th>\n      <td>1289</td>\n      <td>4.440890</td>\n    </tr>\n    <tr>\n      <th>4</th>\n      <td>992</td>\n      <td>5.291846</td>\n    </tr>\n    <tr>\n      <th>8</th>\n      <td>1031</td>\n      <td>5.590128</td>\n    </tr>\n    <tr>\n      <th rowspan=\"8\" valign=\"top\">mcts</th>\n      <th rowspan=\"4\" valign=\"top\">knowledge</th>\n      <th>100</th>\n      <td>5096</td>\n      <td>0.413112</td>\n    </tr>\n    <tr>\n      <th>200</th>\n      <td>5059</td>\n      <td>0.475700</td>\n    </tr>\n    <tr>\n      <th>400</th>\n      <td>5070</td>\n      <td>0.475203</td>\n    </tr>\n    <tr>\n      <th>1000</th>\n      <td>5078</td>\n      <td>0.500354</td>\n    </tr>\n    <tr>\n      <th rowspan=\"4\" valign=\"top\">score</th>\n      <th>100</th>\n      <td>5307</td>\n      <td>0.461840</td>\n    </tr>\n    <tr>\n      <th>200</th>\n      <td>5303</td>\n      <td>0.511370</td>\n    </tr>\n    <tr>\n      <th>400</th>\n      <td>5312</td>\n      <td>0.549112</td>\n    </tr>\n    <tr>\n      <th>1000</th>\n      <td>5305</td>\n      <td>0.563033</td>\n    </tr>\n    <tr>\n      <th>random</th>\n      <th>-</th>\n      <th>-</th>\n      <td>5499</td>\n      <td>0.000001</td>\n    </tr>\n    <tr>\n      <th rowspan=\"4\" valign=\"top\">sampling</th>\n      <th rowspan=\"4\" valign=\"top\">-</th>\n      <th>10</th>\n      <td>5498</td>\n      <td>0.636719</td>\n    </tr>\n    <tr>\n      <th>20</th>\n      <td>5497</td>\n      <td>1.198031</td>\n    </tr>\n    <tr>\n      <th>30</th>\n      <td>5055</td>\n      <td>1.661299</td>\n    </tr>\n    <tr>\n      <th>40</th>\n      <td>4291</td>\n      <td>2.154969</td>\n    </tr>\n  </tbody>\n</table>\n</div>"
     },
     "execution_count": 286,
     "metadata": {},
     "output_type": "execute_result"
    }
   ],
   "source": [
    "# Drop outliers\n",
    "match_result = original_df.copy()\n",
    "\n",
    "match_result = match_result[~match_result['almostRatio'].isin(['0.75'])]\n",
    "# match_result = match_result[~match_result['playerDepth'].isin([2])]\n",
    "# match_result = match_result[~match_result['simulation'].isin([100, 400])]\n",
    "\n",
    "\n",
    "\n",
    "columns_to_remove_outliers = ['Q1ReachedKnowledgeStep',\n",
    "                              'Q2ReachedKnowledgeStep',\n",
    "                              'Q3ReachedKnowledgeStep',\n",
    "                              'ReachedKnowledgeStep']\n",
    "\n",
    "for column in columns_to_remove_outliers:\n",
    "    match_result[column] = match_result.groupby(['method', 'objective', 'playerDepth', 'simulation'])[column].transform(remove_outliers)\n",
    "    match_result = match_result[match_result[column] != -9999]\n",
    "\n",
    "match_result_noout = match_result.copy()\n",
    "\n",
    "# print(set(match_result['playerDepth']))\n",
    "# pd.set_option('display.max_rows', None)\n",
    "match_result = match_result.groupby(['method', 'objective', 'simulation'])[\n",
    "                                      'method',\n",
    "                                      'Matched_HorizontalPiece',\n",
    "                                      'Matched_VerticalPiece',\n",
    "                                      'Matched_CrossPiece',\n",
    "                                      'Matched_RocketPiece',\n",
    "                                      'Matched_BombPiece',\n",
    "                                      'Matched_RainbowPiece',\n",
    "                                      'Q1ReachedKnowledgeStep',\n",
    "                                      'Q2ReachedKnowledgeStep',\n",
    "                                      'Q3ReachedKnowledgeStep',\n",
    "                                      'ReachedKnowledgeStep',\n",
    "                                      'MeanGenerateRuntimes',\n",
    "                                      'Sum_Matched'].agg(\n",
    "    {\n",
    "        'method': ['count'],\n",
    "        'MeanGenerateRuntimes': ['mean'],\n",
    "\n",
    "     }\n",
    ")\n",
    "match_result\n"
   ],
   "metadata": {
    "collapsed": false,
    "pycharm": {
     "name": "#%%\n"
    }
   }
  },
  {
   "cell_type": "markdown",
   "source": [
    "### Depth 1 Result"
   ],
   "metadata": {
    "collapsed": false
   }
  },
  {
   "cell_type": "code",
   "execution_count": 287,
   "outputs": [
    {
     "name": "stderr",
     "output_type": "stream",
     "text": [
      "C:\\Users\\GIST\\.conda\\envs\\mlagents\\lib\\site-packages\\ipykernel_launcher.py:34: FutureWarning: Indexing with multiple keys (implicitly converted to a tuple of keys) will be deprecated, use a list instead.\n"
     ]
    },
    {
     "data": {
      "text/plain": "                              Sum_Matched        25%         50%         75%  \\\n                                     mean       mean        mean        mean   \nmethod   objective simulation                                                  \nga       knowledge 16          117.218935  27.493097   35.703156   46.150888   \n                   2           115.044304  35.435918   46.593354   63.570411   \n                   4           112.199402  38.984048   52.421735   71.986042   \n                   8           116.413965  28.709061   36.790524   47.654198   \n         score     16          217.113158  39.260526   53.003947   74.798684   \n                   2           188.718386  44.992242   62.942591   87.769589   \n                   4           161.231855  51.609879   71.399194  100.835685   \n                   8           215.610087  40.241513   53.871969   76.678952   \nmcts     knowledge 100         116.313579  44.887559   60.295330   81.028650   \n                   200         116.957897  42.544376   56.313303   76.462344   \n                   400         117.641420  41.891913   55.866272   74.748915   \n                   1000        116.821583  41.104766   54.442103   73.071682   \n         score     100         159.210854  48.773695   67.365555   95.128321   \n                   200         161.762399  46.525929   64.477843   92.549689   \n                   400         163.045934  46.118976   63.366340   90.556288   \n                   1000        163.360603  45.279359   62.505938   89.624505   \nrandom   -         -            95.538462  84.290598  111.130024  145.462630   \nsampling -         10           91.161150  83.444707  111.536377  146.223172   \n                   20           91.086047  84.111152  111.236856  146.662179   \n                   30           90.859347  83.812265  112.344016  147.189318   \n                   40           90.669774  82.992309  111.374039  145.496854   \n\n                                     100% MeanGenerateRuntimes  \n                                     mean                 mean  \nmethod   objective simulation                                   \nga       knowledge 16           50.748521             6.042887  \n                   2            71.284810             4.569517  \n                   4            81.259222             5.037439  \n                   8            52.645054             5.094399  \n         score     16           84.042105             7.399702  \n                   2            99.283941             4.440890  \n                   4           113.992944             5.291846  \n                   8            87.959263             5.590128  \nmcts     knowledge 100          92.306907             0.413112  \n                   200          85.851749             0.475700  \n                   400          83.456607             0.475203  \n                   1000         81.838322             0.500354  \n         score     100         107.393631             0.461840  \n                   200         105.074109             0.511370  \n                   400         103.025602             0.549112  \n                   1000        101.726861             0.563033  \nrandom   -         -           157.955265             0.000001  \nsampling -         10          159.227901             0.636719  \n                   20          159.845734             1.198031  \n                   30          160.494955             1.661299  \n                   40          158.836635             2.154969  ",
      "text/html": "<div>\n<style scoped>\n    .dataframe tbody tr th:only-of-type {\n        vertical-align: middle;\n    }\n\n    .dataframe tbody tr th {\n        vertical-align: top;\n    }\n\n    .dataframe thead tr th {\n        text-align: left;\n    }\n\n    .dataframe thead tr:last-of-type th {\n        text-align: right;\n    }\n</style>\n<table border=\"1\" class=\"dataframe\">\n  <thead>\n    <tr>\n      <th></th>\n      <th></th>\n      <th></th>\n      <th>Sum_Matched</th>\n      <th>25%</th>\n      <th>50%</th>\n      <th>75%</th>\n      <th>100%</th>\n      <th>MeanGenerateRuntimes</th>\n    </tr>\n    <tr>\n      <th></th>\n      <th></th>\n      <th></th>\n      <th>mean</th>\n      <th>mean</th>\n      <th>mean</th>\n      <th>mean</th>\n      <th>mean</th>\n      <th>mean</th>\n    </tr>\n    <tr>\n      <th>method</th>\n      <th>objective</th>\n      <th>simulation</th>\n      <th></th>\n      <th></th>\n      <th></th>\n      <th></th>\n      <th></th>\n      <th></th>\n    </tr>\n  </thead>\n  <tbody>\n    <tr>\n      <th rowspan=\"8\" valign=\"top\">ga</th>\n      <th rowspan=\"4\" valign=\"top\">knowledge</th>\n      <th>16</th>\n      <td>117.218935</td>\n      <td>27.493097</td>\n      <td>35.703156</td>\n      <td>46.150888</td>\n      <td>50.748521</td>\n      <td>6.042887</td>\n    </tr>\n    <tr>\n      <th>2</th>\n      <td>115.044304</td>\n      <td>35.435918</td>\n      <td>46.593354</td>\n      <td>63.570411</td>\n      <td>71.284810</td>\n      <td>4.569517</td>\n    </tr>\n    <tr>\n      <th>4</th>\n      <td>112.199402</td>\n      <td>38.984048</td>\n      <td>52.421735</td>\n      <td>71.986042</td>\n      <td>81.259222</td>\n      <td>5.037439</td>\n    </tr>\n    <tr>\n      <th>8</th>\n      <td>116.413965</td>\n      <td>28.709061</td>\n      <td>36.790524</td>\n      <td>47.654198</td>\n      <td>52.645054</td>\n      <td>5.094399</td>\n    </tr>\n    <tr>\n      <th rowspan=\"4\" valign=\"top\">score</th>\n      <th>16</th>\n      <td>217.113158</td>\n      <td>39.260526</td>\n      <td>53.003947</td>\n      <td>74.798684</td>\n      <td>84.042105</td>\n      <td>7.399702</td>\n    </tr>\n    <tr>\n      <th>2</th>\n      <td>188.718386</td>\n      <td>44.992242</td>\n      <td>62.942591</td>\n      <td>87.769589</td>\n      <td>99.283941</td>\n      <td>4.440890</td>\n    </tr>\n    <tr>\n      <th>4</th>\n      <td>161.231855</td>\n      <td>51.609879</td>\n      <td>71.399194</td>\n      <td>100.835685</td>\n      <td>113.992944</td>\n      <td>5.291846</td>\n    </tr>\n    <tr>\n      <th>8</th>\n      <td>215.610087</td>\n      <td>40.241513</td>\n      <td>53.871969</td>\n      <td>76.678952</td>\n      <td>87.959263</td>\n      <td>5.590128</td>\n    </tr>\n    <tr>\n      <th rowspan=\"8\" valign=\"top\">mcts</th>\n      <th rowspan=\"4\" valign=\"top\">knowledge</th>\n      <th>100</th>\n      <td>116.313579</td>\n      <td>44.887559</td>\n      <td>60.295330</td>\n      <td>81.028650</td>\n      <td>92.306907</td>\n      <td>0.413112</td>\n    </tr>\n    <tr>\n      <th>200</th>\n      <td>116.957897</td>\n      <td>42.544376</td>\n      <td>56.313303</td>\n      <td>76.462344</td>\n      <td>85.851749</td>\n      <td>0.475700</td>\n    </tr>\n    <tr>\n      <th>400</th>\n      <td>117.641420</td>\n      <td>41.891913</td>\n      <td>55.866272</td>\n      <td>74.748915</td>\n      <td>83.456607</td>\n      <td>0.475203</td>\n    </tr>\n    <tr>\n      <th>1000</th>\n      <td>116.821583</td>\n      <td>41.104766</td>\n      <td>54.442103</td>\n      <td>73.071682</td>\n      <td>81.838322</td>\n      <td>0.500354</td>\n    </tr>\n    <tr>\n      <th rowspan=\"4\" valign=\"top\">score</th>\n      <th>100</th>\n      <td>159.210854</td>\n      <td>48.773695</td>\n      <td>67.365555</td>\n      <td>95.128321</td>\n      <td>107.393631</td>\n      <td>0.461840</td>\n    </tr>\n    <tr>\n      <th>200</th>\n      <td>161.762399</td>\n      <td>46.525929</td>\n      <td>64.477843</td>\n      <td>92.549689</td>\n      <td>105.074109</td>\n      <td>0.511370</td>\n    </tr>\n    <tr>\n      <th>400</th>\n      <td>163.045934</td>\n      <td>46.118976</td>\n      <td>63.366340</td>\n      <td>90.556288</td>\n      <td>103.025602</td>\n      <td>0.549112</td>\n    </tr>\n    <tr>\n      <th>1000</th>\n      <td>163.360603</td>\n      <td>45.279359</td>\n      <td>62.505938</td>\n      <td>89.624505</td>\n      <td>101.726861</td>\n      <td>0.563033</td>\n    </tr>\n    <tr>\n      <th>random</th>\n      <th>-</th>\n      <th>-</th>\n      <td>95.538462</td>\n      <td>84.290598</td>\n      <td>111.130024</td>\n      <td>145.462630</td>\n      <td>157.955265</td>\n      <td>0.000001</td>\n    </tr>\n    <tr>\n      <th rowspan=\"4\" valign=\"top\">sampling</th>\n      <th rowspan=\"4\" valign=\"top\">-</th>\n      <th>10</th>\n      <td>91.161150</td>\n      <td>83.444707</td>\n      <td>111.536377</td>\n      <td>146.223172</td>\n      <td>159.227901</td>\n      <td>0.636719</td>\n    </tr>\n    <tr>\n      <th>20</th>\n      <td>91.086047</td>\n      <td>84.111152</td>\n      <td>111.236856</td>\n      <td>146.662179</td>\n      <td>159.845734</td>\n      <td>1.198031</td>\n    </tr>\n    <tr>\n      <th>30</th>\n      <td>90.859347</td>\n      <td>83.812265</td>\n      <td>112.344016</td>\n      <td>147.189318</td>\n      <td>160.494955</td>\n      <td>1.661299</td>\n    </tr>\n    <tr>\n      <th>40</th>\n      <td>90.669774</td>\n      <td>82.992309</td>\n      <td>111.374039</td>\n      <td>145.496854</td>\n      <td>158.836635</td>\n      <td>2.154969</td>\n    </tr>\n  </tbody>\n</table>\n</div>"
     },
     "execution_count": 287,
     "metadata": {},
     "output_type": "execute_result"
    }
   ],
   "source": [
    "# Drop outliers\n",
    "match_result = original_df.copy()\n",
    "\n",
    "match_result = match_result[~match_result['almostRatio'].isin(['0.75'])]\n",
    "match_result = match_result[~match_result['playerDepth'].isin([2, 3])]\n",
    "match_result = match_result[~match_result['objective'].isin([2, 3])]\n",
    "# match_result = match_result[~match_result['simulation'].isin([200])]\n",
    "\n",
    "\n",
    "columns_to_remove_outliers = ['Q1ReachedKnowledgeStep',\n",
    "                              'Q2ReachedKnowledgeStep',\n",
    "                              'Q3ReachedKnowledgeStep',\n",
    "                              'ReachedKnowledgeStep'\n",
    "                              ]\n",
    "\n",
    "for column in columns_to_remove_outliers:\n",
    "    match_result[column] = match_result.groupby(['method', 'objective', 'playerDepth', 'simulation'])[column].transform(\n",
    "        remove_outliers\n",
    "    )\n",
    "    match_result = match_result[match_result[column] != -9999]\n",
    "\n",
    "# print(set(match_result['playerDepth']))\n",
    "# pd.set_option('display.max_rows', None)\n",
    "\n",
    "match_result.rename(columns={\n",
    "                            'ReachedKnowledgeStep': '100%',\n",
    "                            'Q1ReachedKnowledgeStep': '25%',\n",
    "                            'Q2ReachedKnowledgeStep': '50%',\n",
    "                            'Q3ReachedKnowledgeStep': '75%'\n",
    "                            }, inplace=True)\n",
    "\n",
    "\n",
    "match_result = match_result.groupby(['method', 'objective', 'simulation'])[\n",
    "                                      '25%',\n",
    "                                      '50%',\n",
    "                                      '75%',\n",
    "                                      '100%',\n",
    "                                      'MeanGenerateRuntimes',\n",
    "                                      'Sum_Matched'].agg(\n",
    "    {\n",
    "        'Sum_Matched': ['mean',],\n",
    "        '25%': ['mean'],\n",
    "        '50%': ['mean'],\n",
    "        '75%': ['mean'],\n",
    "        '100%': ['mean'],\n",
    "        'MeanGenerateRuntimes': ['mean'],\n",
    "     }\n",
    ")\n",
    "match_result"
   ],
   "metadata": {
    "collapsed": false,
    "pycharm": {
     "name": "#%%\n"
    }
   }
  },
  {
   "cell_type": "code",
   "execution_count": 288,
   "outputs": [],
   "source": [
    "match_result.to_latex('match_count_table.tex', float_format=\"%.3f\", escape=True)\n"
   ],
   "metadata": {
    "collapsed": false,
    "pycharm": {
     "name": "#%%\n"
    }
   }
  },
  {
   "cell_type": "code",
   "execution_count": 289,
   "outputs": [],
   "source": [
    "display_graphs = ['random', 'ga',\n",
    "                  'sampling_20',\n",
    "                   'mcts_knowledge_1.0_1000_1',\n",
    "                   'mcts_score_1000_1']"
   ],
   "metadata": {
    "collapsed": false,
    "pycharm": {
     "name": "#%%\n"
    }
   }
  },
  {
   "cell_type": "code",
   "metadata": {
    "collapsed": false,
    "pycharm": {
     "name": "#%% md raw\n"
    }
   },
   "source": [
    "melted_df = match_result_noout.copy()\n",
    "\n",
    "melted_df['concat_method'] = melted_df.agg(lambda x: get_legend_name(x), axis=1)\n",
    "pprint(set(melted_df['concat_method']))\n",
    "# Display Target\n",
    "melted_df = melted_df[melted_df['concat_method'].isin(['random', 'ga',\n",
    "                                                       'sampling_20',\n",
    "                                                       'mcts_knowledge_1.0_1000_1',\n",
    "                                                       'mcts_score_1000_1'])]\n",
    "\n",
    "plt.figure(figsize=(7, 5))\n",
    "melted_df = pd.melt(melted_df, id_vars=['EpisodeCount', 'objective', 'concat_method', 'simulation', 'player'],\n",
    "                    value_vars=[*StatisticsColumns], ignore_index=False)\n",
    "\n",
    "melted_df['x'] = melted_df['variable']\n",
    "melted_df['x'] = melted_df['x'].str.replace('ReachedKnowledgeStep', 'r_step')\n",
    "melted_df['x'] = melted_df['x'].str.replace('Matched_HorizontalPiece', 'b0')\n",
    "melted_df['x'] = melted_df['x'].str.replace('Matched_VerticalPiece', 'b1')\n",
    "melted_df['x'] = melted_df['x'].str.replace('Matched_CrossPiece', 'b2')\n",
    "melted_df['x'] = melted_df['x'].str.replace('Matched_RocketPiece', 'b3')\n",
    "melted_df['x'] = melted_df['x'].str.replace('Matched_BombPiece', 'b4')\n",
    "melted_df['x'] = melted_df['x'].str.replace('Matched_RainbowPiece', 'b5')\n",
    "\n",
    "ax = sns.boxplot(x=\"x\", y=\"value\", hue=\"concat_method\", data=melted_df, linewidth=0.8)\n",
    "plt.xticks(rotation=45)\n",
    "plt.tight_layout()\n",
    "plt.savefig('matched_block.png')"
   ],
   "execution_count": 290,
   "outputs": [
    {
     "name": "stdout",
     "output_type": "stream",
     "text": [
      "{'ga',\n",
      " 'mcts_knowledge_1.0_1000_1',\n",
      " 'mcts_knowledge_1.0_100_1',\n",
      " 'mcts_knowledge_1.0_200_1',\n",
      " 'mcts_knowledge_1.0_400_1',\n",
      " 'mcts_score_1000_1',\n",
      " 'mcts_score_100_1',\n",
      " 'mcts_score_200_1',\n",
      " 'mcts_score_400_1',\n",
      " 'random',\n",
      " 'sampling_10',\n",
      " 'sampling_20',\n",
      " 'sampling_30',\n",
      " 'sampling_40'}\n"
     ]
    },
    {
     "data": {
      "text/plain": "<Figure size 700x500 with 1 Axes>",
      "image/png": "[encoded data removed]"
     },
     "metadata": {},
     "output_type": "display_data"
    }
   ]
  },
  {
   "cell_type": "code",
   "execution_count": 291,
   "outputs": [],
   "source": [
    "from statannot import add_stat_annotation\n",
    "from itertools import combinations"
   ],
   "metadata": {
    "collapsed": false,
    "pycharm": {
     "name": "#%%\n"
    }
   }
  },
  {
   "cell_type": "code",
   "execution_count": 292,
   "outputs": [
    {
     "ename": "NameError",
     "evalue": "name 'player_no' is not defined",
     "output_type": "error",
     "traceback": [
      "\u001B[1;31m---------------------------------------------------------------------------\u001B[0m",
      "\u001B[1;31mNameError\u001B[0m                                 Traceback (most recent call last)",
      "\u001B[1;32m~\\AppData\\Local\\Temp\\ipykernel_928596\\297103540.py\u001B[0m in \u001B[0;36m<module>\u001B[1;34m\u001B[0m\n\u001B[1;32m----> 1\u001B[1;33m \u001B[0mplayer_df\u001B[0m \u001B[1;33m=\u001B[0m \u001B[0mmatch_result_noout\u001B[0m\u001B[1;33m[\u001B[0m\u001B[0mmatch_result_noout\u001B[0m\u001B[1;33m[\u001B[0m\u001B[1;34m'player'\u001B[0m\u001B[1;33m]\u001B[0m \u001B[1;33m==\u001B[0m \u001B[0mstr\u001B[0m\u001B[1;33m(\u001B[0m\u001B[0mplayer_no\u001B[0m\u001B[1;33m)\u001B[0m\u001B[1;33m]\u001B[0m\u001B[1;33m\u001B[0m\u001B[1;33m\u001B[0m\u001B[0m\n\u001B[0m\u001B[0;32m      2\u001B[0m \u001B[0mmelted_df\u001B[0m \u001B[1;33m=\u001B[0m \u001B[0mplayer_df\u001B[0m\u001B[1;33m.\u001B[0m\u001B[0mcopy\u001B[0m\u001B[1;33m(\u001B[0m\u001B[1;33m)\u001B[0m\u001B[1;33m\u001B[0m\u001B[1;33m\u001B[0m\u001B[0m\n\u001B[0;32m      3\u001B[0m \u001B[1;33m\u001B[0m\u001B[0m\n\u001B[0;32m      4\u001B[0m melted_df.rename(columns={\n\u001B[0;32m      5\u001B[0m     \u001B[1;34m'ReachedKnowledgeStep'\u001B[0m\u001B[1;33m:\u001B[0m\u001B[1;34m'100'\u001B[0m\u001B[1;33m,\u001B[0m\u001B[1;33m\u001B[0m\u001B[1;33m\u001B[0m\u001B[0m\n",
      "\u001B[1;31mNameError\u001B[0m: name 'player_no' is not defined"
     ]
    }
   ],
   "source": [
    "player_df = match_result_noout[match_result_noout['player'] == str(player_no)]\n",
    "melted_df = player_df.copy()\n",
    "\n",
    "melted_df.rename(columns={\n",
    "    'ReachedKnowledgeStep':'100',\n",
    "    'Q1ReachedKnowledgeStep':'25',\n",
    "    'Q2ReachedKnowledgeStep':'50',\n",
    "    'Q3ReachedKnowledgeStep':'75'\n",
    "}, inplace=True)\n",
    "\n",
    "_columns = ['25', '50', '75', '100']\n",
    "\n",
    "sns.set_palette('Set2')\n",
    "# melted_df = melted_df.groupby(['player', 'method', 'objective', 'playerDepth', 'simulation']).sample(n=300, random_state=1)\n",
    "melted_df['concat_method'] = melted_df.agg(lambda x: get_legend_name(x), axis=1)\n",
    "melted_df = pd.melt(melted_df, id_vars=['EpisodeCount', 'objective', 'concat_method', 'simulation', 'player'], value_vars=[*_columns], ignore_index=False)\n",
    "\n",
    "melted_df = melted_df[melted_df['concat_method'].isin(display_graphs)]\n",
    "\n",
    "plt.figure(figsize=(7, 4))\n",
    "plt.clf()\n",
    "ax = sns.boxplot(x=\"variable\", y=\"value\", hue=\"concat_method\", data=melted_df, dodge=True, linewidth=0.8)\n",
    "\n",
    "pairs = list()\n",
    "for i in range(25, 101, 25):\n",
    "    pairs.append(((str(i), 'mcts_knowledge_1.0_1000_1'), (str(i), 'mcts_score_1000_1')))\n",
    "    pairs.append(((str(i), 'mcts_knowledge_1.0_1000_1'), (str(i), 'random')))\n",
    "    pairs.append(((str(i), 'random'), (str(i), 'mcts_score_1000_1')))\n",
    "    pairs.append(((str(i), 'random'), (str(i), 'sampling_20')))\n",
    "    pairs.append(((str(i), 'mcts_score_1000_1'), (str(i), 'sampling_20')))\n",
    "    pairs.append(((str(i), 'mcts_knowledge_1.0_1000_1'), (str(i), 'sampling_20')))\n",
    "\n",
    "add_stat_annotation(ax, x=\"variable\", y=\"value\", hue=\"concat_method\", data=melted_df,\n",
    "                    box_pairs=pairs,\n",
    "                    test='t-test_ind', text_format='star', loc='inside', verbose=1)\n",
    "\n",
    "plt.legend(loc='upper left', bbox_to_anchor=(1.0, 0.5))\n",
    "ax.set_title(f'Required Steps for Learning Skill (Player: {player_no})')\n",
    "ax.set_xlabel('Progress (%)')\n",
    "ax.set_ylabel('Step')\n",
    "plt.tight_layout()\n",
    "plt.savefig(f'./figures/learning_steps_p{player_no}', dpi=300)\n",
    "    # plt.show()"
   ],
   "metadata": {
    "collapsed": false,
    "pycharm": {
     "name": "#%%                                                                                                                                                                                                                                                                                                                                                                                                                                                                                                                                                                                                                                                                                                                                                                                                                                                                                                                                                                                                                                                                                                                                                                                                                                                                                                                                                                                                                                                                                                                                                                                                                                                                                                      for player_no in range(0, 11):\n"
    }
   }
  },
  {
   "cell_type": "code",
   "execution_count": null,
   "outputs": [],
   "source": [
    "\n",
    "melted_df = match_result_noout.copy()\n",
    "\n",
    "melted_df.rename(columns={\n",
    "    'ReachedKnowledgeStep':'100',\n",
    "    'Q1ReachedKnowledgeStep':'25',\n",
    "    'Q2ReachedKnowledgeStep':'50',\n",
    "    'Q3ReachedKnowledgeStep':'75'\n",
    "}, inplace=True)\n",
    "\n",
    "_columns = ['25', '50', '75', '100']\n",
    "\n",
    "sns.set_palette('Set3')\n",
    "# melted_df = melted_df.groupby(['player', 'method', 'objective', 'playerDepth', 'simulation']).sample(n=300, random_state=1)\n",
    "melted_df['concat_method'] = melted_df.agg(lambda x: get_legend_name(x), axis=1)\n",
    "melted_df = pd.melt(melted_df, id_vars=['EpisodeCount', 'objective', 'concat_method', 'simulation', 'player'], value_vars=[*_columns], ignore_index=False)\n",
    "\n",
    "melted_df = melted_df[melted_df['concat_method'].isin(display_graphs)]\n",
    "\n",
    "\n",
    "plt.figure(figsize=(7, 4))\n",
    "plt.clf()\n",
    "ax = sns.boxplot(x=\"variable\", y=\"value\", hue=\"concat_method\", data=melted_df, dodge=True, linewidth=0.8)\n",
    "\n",
    "pairs = list()\n",
    "for i in range(25, 101, 25):\n",
    "    pairs.append(((str(i), 'mcts_knowledge_1.0_1000_1'), (str(i), 'mcts_score_1000_1')))\n",
    "    pairs.append(((str(i), 'mcts_knowledge_1.0_1000_1'), (str(i), 'random')))\n",
    "    pairs.append(((str(i), 'random'), (str(i), 'mcts_score_1000_1')))\n",
    "    pairs.append(((str(i), 'random'), (str(i), 'sampling_20')))\n",
    "    pairs.append(((str(i), 'mcts_score_1000_1'), (str(i), 'sampling_20')))\n",
    "    pairs.append(((str(i), 'mcts_knowledge_1.0_1000_1'), (str(i), 'sampling_20')))\n",
    "\n",
    "add_stat_annotation(ax, x=\"variable\", y=\"value\", hue=\"concat_method\", data=melted_df,\n",
    "                    box_pairs=pairs,\n",
    "                    test='t-test_ind', text_format='star', loc='inside', verbose=1)\n",
    "\n",
    "plt.legend(loc='upper left', bbox_to_anchor=(1.0, 0.5))\n",
    "ax.set_title(f'Required Steps for Learning Skill (Player: All)')\n",
    "ax.set_xlabel('Progress (%)')\n",
    "ax.set_ylabel('Step')\n",
    "plt.savefig(f'./figures/learning_steps_pA', dpi=300)\n",
    "# plt.show()"
   ],
   "metadata": {
    "collapsed": false,
    "pycharm": {
     "name": "#%%\n"
    }
   }
  }
 ],
 "metadata": {
  "kernelspec": {
   "name": "python3",
   "language": "python",
   "display_name": "Python 3 (ipykernel)"
  },
  "language_info": {
   "codemirror_mode": {
    "name": "ipython",
    "version": 2
   },
   "file_extension": ".py",
   "mimetype": "text/x-python",
   "name": "python",
   "nbconvert_exporter": "python",
   "pygments_lexer": "ipython2",
   "version": "2.7.6"
  }
 },
 "nbformat": 4,
 "nbformat_minor": 0
}