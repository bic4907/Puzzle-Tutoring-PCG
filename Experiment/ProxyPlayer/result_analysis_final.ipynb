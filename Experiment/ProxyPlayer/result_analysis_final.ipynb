{
 "cells": [
  {
   "cell_type": "code",
   "execution_count": 349,
   "metadata": {
    "collapsed": true
   },
   "outputs": [],
   "source": [
    "import pandas as pd\n",
    "import matplotlib.pyplot as plt\n",
    "from sklearn.manifold import TSNE\n",
    "import seaborn as sns\n",
    "import re\n",
    "from os import path\n",
    "from glob import glob\n",
    "from tqdm import tqdm\n",
    "import numpy as np\n",
    "from matplotlib import cm\n",
    "from pprint import pprint\n",
    "from plotting_utils import get_legend_name, remove_outliers"
   ]
  },
  {
   "cell_type": "code",
   "execution_count": 350,
   "metadata": {
    "collapsed": false,
    "pycharm": {
     "name": "#%%\n"
    }
   },
   "outputs": [],
   "source": [
    "ROOT_PATH = '\\\\\\\\CILab_NAS_Data/homes/inchang/PuzzlePCG/ProxyPlayer'"
   ]
  },
  {
   "cell_type": "code",
   "execution_count": 351,
   "metadata": {
    "collapsed": false,
    "pycharm": {
     "name": "#%%\n"
    }
   },
   "outputs": [],
   "source": [
    "files = glob(path.join(ROOT_PATH, '*', 'MatchResult_*.csv'))\n"
   ]
  },
  {
   "cell_type": "code",
   "execution_count": 352,
   "metadata": {
    "collapsed": false,
    "pycharm": {
     "name": "#%%\n"
    }
   },
   "outputs": [],
   "source": [
    "StatisticsColumns = [\n",
    "    'ReachedKnowledgeStep',\n",
    "    'Matched_HorizontalPiece', 'Matched_VerticalPiece', 'Matched_CrossPiece', 'Matched_RocketPiece', 'Matched_BombPiece', 'Matched_RainbowPiece']"
   ]
  },
  {
   "cell_type": "code",
   "execution_count": 353,
   "metadata": {
    "collapsed": false,
    "pycharm": {
     "name": "#%%\n"
    }
   },
   "outputs": [],
   "source": [
    "replacements = {\n",
    "    'met': 'method',\n",
    "    'pla': 'player',\n",
    "    'eff': 'simpleEffect',\n",
    "    'obj': 'objective',\n",
    "    'sim': 'simulation',\n",
    "    'rat': 'almostRatio',\n",
    "    'pdep': 'playerDepth',\n",
    "}\n",
    "\n",
    "def parse_filename(data):\n",
    "    result = dict()\n",
    "    for i in range(0, len(data), 2):\n",
    "        if data[i] in replacements.keys():\n",
    "            data[i] = replacements[data[i]]\n",
    "\n",
    "        result[data[i]] = data[i+1]\n",
    "\n",
    "    return result"
   ]
  },
  {
   "cell_type": "code",
   "metadata": {
    "collapsed": false,
    "pycharm": {
     "name": "#%%\n"
    }
   },
   "source": [
    "dfs = []\n",
    "for file_path in tqdm(files):\n",
    "    # print(file_path)\n",
    "    file_name = path.basename(file_path)\n",
    "\n",
    "    _file_name = file_name.split('_')[1:-1]\n",
    "    args = parse_filename(_file_name)\n",
    "\n",
    "    df = pd.read_csv(file_path)\n",
    "\n",
    "    for key, value in args.items():\n",
    "        df[key] = value\n",
    "    dfs.append(df)\n",
    "\n",
    "original_df = pd.concat(dfs)\n",
    "\n",
    "original_df['Sum_Matched'] = original_df['Matched_HorizontalPiece'] + original_df['Matched_HorizontalPiece'] + original_df['Matched_HorizontalPiece']  + \\\n",
    "    original_df['Matched_HorizontalPiece'] + original_df['Matched_HorizontalPiece'] + original_df['Matched_HorizontalPiece']\n",
    "original_df.loc[original_df['method'] == 'random', 'simulation'] = 0\n",
    "\n",
    "original_df['simpleEffect'] = original_df['simpleEffect'].replace(np.nan, 0)\n",
    "original_df['objective'] = original_df['objective'].replace(np.nan, '-')\n",
    "\n",
    "original_df.loc[original_df['method'] == 'random', 'playerDepth'] = '-'\n",
    "original_df.loc[original_df['method'] == 'sampling', 'playerDepth'] = '-'\n",
    "original_df.loc[original_df['method'] == 'ga', 'playerDepth'] = '-'\n",
    "original_df.loc[original_df['method'] == 'random', 'simulation'] = '-'\n",
    "original_df.loc[original_df['method'] == 'ga', 'simulation'] = '-'\n",
    "# original_df.loc[original_df['method'] == 'sampling', 'simulation'] = '-'\n",
    "original_df.loc[original_df['method'] == 'random', 'almostRatio'] = '-'\n",
    "original_df.loc[original_df['method'] == 'sampling', 'almostRatio'] = '-'\n",
    "original_df.loc[original_df['method'] == 'ga', 'almostRatio'] = '-'\n",
    "original_df.loc[original_df['objective'] == 'kp', 'almostRatio'] = '-'\n",
    "original_df.loc[original_df['objective'] == 'score', 'almostRatio'] = '-'"
   ],
   "execution_count": 354,
   "outputs": [
    {
     "name": "stderr",
     "output_type": "stream",
     "text": [
      "100%|██████████| 165/165 [00:15<00:00, 10.39it/s]\n"
     ]
    }
   ]
  },
  {
   "cell_type": "code",
   "execution_count": 355,
   "outputs": [
    {
     "data": {
      "text/plain": "    EpisodeCount  StepCount                     Time InstanceUUID  \\\n0              1        200  2023-05-29 11:48:53.849     c4e42bf2   \n1              2        200  2023-05-29 11:49:55.814     c4e42bf2   \n2              3        200  2023-05-29 11:51:27.475     c4e42bf2   \n3              4        200  2023-05-29 11:53:11.364     c4e42bf2   \n4              5        200  2023-05-29 11:54:57.402     c4e42bf2   \n..           ...        ...                      ...          ...   \n93            94        200  2023-06-02 01:23:14.468     66fe1046   \n94            95        200  2023-06-02 01:33:13.303     66fe1046   \n95            96        200  2023-06-02 01:42:56.172     66fe1046   \n96            97        200  2023-06-02 01:54:27.766     66fe1046   \n97            98        200  2023-06-02 02:05:47.437     66fe1046   \n\n    SettleCount  ChangedCount  MeanComparisonCount  StdComparisonCount  \\\n0             0            27             0.101156            0.378630   \n1             0            18             0.085173            0.367597   \n2             0            19             0.086262            0.378386   \n3             0            18             0.059459            0.278847   \n4             0            42             0.157895            0.451370   \n..          ...           ...                  ...                 ...   \n93            0             0             0.000000            0.000000   \n94            0             0             0.000000            0.000000   \n95            0             0             0.000000            0.000000   \n96            0             0             0.000000            0.000000   \n97            0             0             0.000000            0.000000   \n\n    ReachedKnowledgeStep  Q1ReachedKnowledgeStep  ...  Target_BombPiece  \\\n0                     77                      42  ...                 2   \n1                     24                       7  ...                 2   \n2                     33                      32  ...                 2   \n3                     17                      17  ...                 2   \n4                    137                      99  ...                 2   \n..                   ...                     ...  ...               ...   \n93                   105                      53  ...                 4   \n94                    -1                      -1  ...                 4   \n95                    -1                      -1  ...                 4   \n96                   156                      27  ...                 4   \n97                   106                      65  ...                 4   \n\n    Target_RainbowPiece    method  player  simpleEffect  objective  \\\n0                     3      mcts       0             1  knowledge   \n1                     3      mcts       0             1  knowledge   \n2                     3      mcts       0             1  knowledge   \n3                     3      mcts       0             1  knowledge   \n4                     3      mcts       0             1  knowledge   \n..                  ...       ...     ...           ...        ...   \n93                    5  sampling       9             1          -   \n94                    5  sampling       9             1          -   \n95                    5  sampling       9             1          -   \n96                    5  sampling       9             1          -   \n97                    5  sampling       9             1          -   \n\n    simulation  almostRatio  playerDepth  Sum_Matched  \n0         1000          1.0            1          360  \n1         1000          1.0            1           90  \n2         1000          1.0            1          252  \n3         1000          1.0            1          222  \n4         1000          1.0            1          384  \n..         ...          ...          ...          ...  \n93          30            -            -          270  \n94          30            -            -           36  \n95          30            -            -            0  \n96          30            -            -          234  \n97          30            -            -          264  \n\n[71859 rows x 32 columns]",
      "text/html": "<div>\n<style scoped>\n    .dataframe tbody tr th:only-of-type {\n        vertical-align: middle;\n    }\n\n    .dataframe tbody tr th {\n        vertical-align: top;\n    }\n\n    .dataframe thead th {\n        text-align: right;\n    }\n</style>\n<table border=\"1\" class=\"dataframe\">\n  <thead>\n    <tr style=\"text-align: right;\">\n      <th></th>\n      <th>EpisodeCount</th>\n      <th>StepCount</th>\n      <th>Time</th>\n      <th>InstanceUUID</th>\n      <th>SettleCount</th>\n      <th>ChangedCount</th>\n      <th>MeanComparisonCount</th>\n      <th>StdComparisonCount</th>\n      <th>ReachedKnowledgeStep</th>\n      <th>Q1ReachedKnowledgeStep</th>\n      <th>...</th>\n      <th>Target_BombPiece</th>\n      <th>Target_RainbowPiece</th>\n      <th>method</th>\n      <th>player</th>\n      <th>simpleEffect</th>\n      <th>objective</th>\n      <th>simulation</th>\n      <th>almostRatio</th>\n      <th>playerDepth</th>\n      <th>Sum_Matched</th>\n    </tr>\n  </thead>\n  <tbody>\n    <tr>\n      <th>0</th>\n      <td>1</td>\n      <td>200</td>\n      <td>2023-05-29 11:48:53.849</td>\n      <td>c4e42bf2</td>\n      <td>0</td>\n      <td>27</td>\n      <td>0.101156</td>\n      <td>0.378630</td>\n      <td>77</td>\n      <td>42</td>\n      <td>...</td>\n      <td>2</td>\n      <td>3</td>\n      <td>mcts</td>\n      <td>0</td>\n      <td>1</td>\n      <td>knowledge</td>\n      <td>1000</td>\n      <td>1.0</td>\n      <td>1</td>\n      <td>360</td>\n    </tr>\n    <tr>\n      <th>1</th>\n      <td>2</td>\n      <td>200</td>\n      <td>2023-05-29 11:49:55.814</td>\n      <td>c4e42bf2</td>\n      <td>0</td>\n      <td>18</td>\n      <td>0.085173</td>\n      <td>0.367597</td>\n      <td>24</td>\n      <td>7</td>\n      <td>...</td>\n      <td>2</td>\n      <td>3</td>\n      <td>mcts</td>\n      <td>0</td>\n      <td>1</td>\n      <td>knowledge</td>\n      <td>1000</td>\n      <td>1.0</td>\n      <td>1</td>\n      <td>90</td>\n    </tr>\n    <tr>\n      <th>2</th>\n      <td>3</td>\n      <td>200</td>\n      <td>2023-05-29 11:51:27.475</td>\n      <td>c4e42bf2</td>\n      <td>0</td>\n      <td>19</td>\n      <td>0.086262</td>\n      <td>0.378386</td>\n      <td>33</td>\n      <td>32</td>\n      <td>...</td>\n      <td>2</td>\n      <td>3</td>\n      <td>mcts</td>\n      <td>0</td>\n      <td>1</td>\n      <td>knowledge</td>\n      <td>1000</td>\n      <td>1.0</td>\n      <td>1</td>\n      <td>252</td>\n    </tr>\n    <tr>\n      <th>3</th>\n      <td>4</td>\n      <td>200</td>\n      <td>2023-05-29 11:53:11.364</td>\n      <td>c4e42bf2</td>\n      <td>0</td>\n      <td>18</td>\n      <td>0.059459</td>\n      <td>0.278847</td>\n      <td>17</td>\n      <td>17</td>\n      <td>...</td>\n      <td>2</td>\n      <td>3</td>\n      <td>mcts</td>\n      <td>0</td>\n      <td>1</td>\n      <td>knowledge</td>\n      <td>1000</td>\n      <td>1.0</td>\n      <td>1</td>\n      <td>222</td>\n    </tr>\n    <tr>\n      <th>4</th>\n      <td>5</td>\n      <td>200</td>\n      <td>2023-05-29 11:54:57.402</td>\n      <td>c4e42bf2</td>\n      <td>0</td>\n      <td>42</td>\n      <td>0.157895</td>\n      <td>0.451370</td>\n      <td>137</td>\n      <td>99</td>\n      <td>...</td>\n      <td>2</td>\n      <td>3</td>\n      <td>mcts</td>\n      <td>0</td>\n      <td>1</td>\n      <td>knowledge</td>\n      <td>1000</td>\n      <td>1.0</td>\n      <td>1</td>\n      <td>384</td>\n    </tr>\n    <tr>\n      <th>...</th>\n      <td>...</td>\n      <td>...</td>\n      <td>...</td>\n      <td>...</td>\n      <td>...</td>\n      <td>...</td>\n      <td>...</td>\n      <td>...</td>\n      <td>...</td>\n      <td>...</td>\n      <td>...</td>\n      <td>...</td>\n      <td>...</td>\n      <td>...</td>\n      <td>...</td>\n      <td>...</td>\n      <td>...</td>\n      <td>...</td>\n      <td>...</td>\n      <td>...</td>\n      <td>...</td>\n    </tr>\n    <tr>\n      <th>93</th>\n      <td>94</td>\n      <td>200</td>\n      <td>2023-06-02 01:23:14.468</td>\n      <td>66fe1046</td>\n      <td>0</td>\n      <td>0</td>\n      <td>0.000000</td>\n      <td>0.000000</td>\n      <td>105</td>\n      <td>53</td>\n      <td>...</td>\n      <td>4</td>\n      <td>5</td>\n      <td>sampling</td>\n      <td>9</td>\n      <td>1</td>\n      <td>-</td>\n      <td>30</td>\n      <td>-</td>\n      <td>-</td>\n      <td>270</td>\n    </tr>\n    <tr>\n      <th>94</th>\n      <td>95</td>\n      <td>200</td>\n      <td>2023-06-02 01:33:13.303</td>\n      <td>66fe1046</td>\n      <td>0</td>\n      <td>0</td>\n      <td>0.000000</td>\n      <td>0.000000</td>\n      <td>-1</td>\n      <td>-1</td>\n      <td>...</td>\n      <td>4</td>\n      <td>5</td>\n      <td>sampling</td>\n      <td>9</td>\n      <td>1</td>\n      <td>-</td>\n      <td>30</td>\n      <td>-</td>\n      <td>-</td>\n      <td>36</td>\n    </tr>\n    <tr>\n      <th>95</th>\n      <td>96</td>\n      <td>200</td>\n      <td>2023-06-02 01:42:56.172</td>\n      <td>66fe1046</td>\n      <td>0</td>\n      <td>0</td>\n      <td>0.000000</td>\n      <td>0.000000</td>\n      <td>-1</td>\n      <td>-1</td>\n      <td>...</td>\n      <td>4</td>\n      <td>5</td>\n      <td>sampling</td>\n      <td>9</td>\n      <td>1</td>\n      <td>-</td>\n      <td>30</td>\n      <td>-</td>\n      <td>-</td>\n      <td>0</td>\n    </tr>\n    <tr>\n      <th>96</th>\n      <td>97</td>\n      <td>200</td>\n      <td>2023-06-02 01:54:27.766</td>\n      <td>66fe1046</td>\n      <td>0</td>\n      <td>0</td>\n      <td>0.000000</td>\n      <td>0.000000</td>\n      <td>156</td>\n      <td>27</td>\n      <td>...</td>\n      <td>4</td>\n      <td>5</td>\n      <td>sampling</td>\n      <td>9</td>\n      <td>1</td>\n      <td>-</td>\n      <td>30</td>\n      <td>-</td>\n      <td>-</td>\n      <td>234</td>\n    </tr>\n    <tr>\n      <th>97</th>\n      <td>98</td>\n      <td>200</td>\n      <td>2023-06-02 02:05:47.437</td>\n      <td>66fe1046</td>\n      <td>0</td>\n      <td>0</td>\n      <td>0.000000</td>\n      <td>0.000000</td>\n      <td>106</td>\n      <td>65</td>\n      <td>...</td>\n      <td>4</td>\n      <td>5</td>\n      <td>sampling</td>\n      <td>9</td>\n      <td>1</td>\n      <td>-</td>\n      <td>30</td>\n      <td>-</td>\n      <td>-</td>\n      <td>264</td>\n    </tr>\n  </tbody>\n</table>\n<p>71859 rows × 32 columns</p>\n</div>"
     },
     "execution_count": 355,
     "metadata": {},
     "output_type": "execute_result"
    }
   ],
   "source": [
    "original_df"
   ],
   "metadata": {
    "collapsed": false,
    "pycharm": {
     "name": "#%%\n"
    }
   }
  },
  {
   "cell_type": "code",
   "execution_count": 356,
   "outputs": [],
   "source": [
    "# 완료하지 못했을 경우, 에피소드 최대길이로 설정\n",
    "original_df['ReachedKnowledgeStep'] = original_df['ReachedKnowledgeStep'].replace(-1, 200)\n",
    "original_df['Q1ReachedKnowledgeStep'] = original_df['Q1ReachedKnowledgeStep'].replace(-1, 200)\n",
    "original_df['Q2ReachedKnowledgeStep'] = original_df['Q2ReachedKnowledgeStep'].replace(-1, 200)\n",
    "original_df['Q3ReachedKnowledgeStep'] = original_df['Q3ReachedKnowledgeStep'].replace(-1, 200)\n"
   ],
   "metadata": {
    "collapsed": false,
    "pycharm": {
     "name": "#%%\n"
    }
   }
  },
  {
   "cell_type": "raw",
   "metadata": {
    "collapsed": false,
    "pycharm": {
     "name": "#%% raw\n"
    }
   },
   "source": [
    "\n",
    "pd.set_option('display.max_rows', None)\n",
    "match_result = original_df.groupby(['player', 'method', 'objective', 'playerDepth', 'almostRatio', 'simulation'])[\n",
    "                                      'method',\n",
    "                                      'Matched_HorizontalPiece',\n",
    "                                      'Matched_VerticalPiece',\n",
    "                                      'Matched_CrossPiece',\n",
    "                                      'Matched_RocketPiece',\n",
    "                                      'Matched_BombPiece',\n",
    "                                      'Matched_RainbowPiece',\n",
    "                                      'Q1ReachedKnowledgeStep',\n",
    "                                      'Q2ReachedKnowledgeStep',\n",
    "                                      'Q3ReachedKnowledgeStep',\n",
    "                                      'ReachedKnowledgeStep',\n",
    "                                      'Sum_Matched'].agg(\n",
    "    {\n",
    "        'method': ['count'],\n",
    "        'Q1ReachedKnowledgeStep': ['mean'],\n",
    "        'Q2ReachedKnowledgeStep': ['mean'],\n",
    "        'Q3ReachedKnowledgeStep': ['mean'],\n",
    "        'ReachedKnowledgeStep': ['mean'],\n",
    "        'Matched_HorizontalPiece':['mean'],\n",
    "        'Matched_VerticalPiece':['mean'],\n",
    "        'Matched_CrossPiece':['mean'],\n",
    "        'Matched_RocketPiece':['mean'],\n",
    "        'Matched_BombPiece':['mean'],\n",
    "        'Matched_RainbowPiece':['mean'],\n",
    "        'Sum_Matched':['mean'],\n",
    "     }\n",
    ")\n",
    "\n",
    "\n"
   ]
  },
  {
   "cell_type": "code",
   "execution_count": 357,
   "outputs": [],
   "source": [
    "for i in range(5):\n",
    "    original_df['playerDepth'] = original_df['playerDepth'].replace(str(i), i)\n",
    "for i in range(100, 1000, 100):\n",
    "    original_df['simulation'] = original_df['simulation'].replace(str(i), i)"
   ],
   "metadata": {
    "collapsed": false,
    "pycharm": {
     "name": "#%%\n"
    }
   }
  },
  {
   "cell_type": "code",
   "execution_count": 358,
   "outputs": [
    {
     "name": "stderr",
     "output_type": "stream",
     "text": [
      "C:\\Users\\GIST\\.conda\\envs\\mlagents\\lib\\site-packages\\ipykernel_launcher.py:2: FutureWarning: Indexing with multiple keys (implicitly converted to a tuple of keys) will be deprecated, use a list instead.\n",
      "  \n"
     ]
    },
    {
     "data": {
      "text/plain": "                                          method\n                                           count\nmethod   objective playerDepth simulation       \nmcts     knowledge 1           100          5500\n                               1000         5500\n         score     1           100          5500\n                               200          5500\n                               1000         5500\n                   2           100          5500\n                               200          5500\n                               1000         5500\n                   3           100          5500\n                               200          5500\n                               1000         5500\nrandom   -         -           -            5500\nsampling -         -           10           3150\n                               20           1621\n                               30           1088",
      "text/html": "<div>\n<style scoped>\n    .dataframe tbody tr th:only-of-type {\n        vertical-align: middle;\n    }\n\n    .dataframe tbody tr th {\n        vertical-align: top;\n    }\n\n    .dataframe thead tr th {\n        text-align: left;\n    }\n\n    .dataframe thead tr:last-of-type th {\n        text-align: right;\n    }\n</style>\n<table border=\"1\" class=\"dataframe\">\n  <thead>\n    <tr>\n      <th></th>\n      <th></th>\n      <th></th>\n      <th></th>\n      <th>method</th>\n    </tr>\n    <tr>\n      <th></th>\n      <th></th>\n      <th></th>\n      <th></th>\n      <th>count</th>\n    </tr>\n    <tr>\n      <th>method</th>\n      <th>objective</th>\n      <th>playerDepth</th>\n      <th>simulation</th>\n      <th></th>\n    </tr>\n  </thead>\n  <tbody>\n    <tr>\n      <th rowspan=\"11\" valign=\"top\">mcts</th>\n      <th rowspan=\"2\" valign=\"top\">knowledge</th>\n      <th rowspan=\"2\" valign=\"top\">1</th>\n      <th>100</th>\n      <td>5500</td>\n    </tr>\n    <tr>\n      <th>1000</th>\n      <td>5500</td>\n    </tr>\n    <tr>\n      <th rowspan=\"9\" valign=\"top\">score</th>\n      <th rowspan=\"3\" valign=\"top\">1</th>\n      <th>100</th>\n      <td>5500</td>\n    </tr>\n    <tr>\n      <th>200</th>\n      <td>5500</td>\n    </tr>\n    <tr>\n      <th>1000</th>\n      <td>5500</td>\n    </tr>\n    <tr>\n      <th rowspan=\"3\" valign=\"top\">2</th>\n      <th>100</th>\n      <td>5500</td>\n    </tr>\n    <tr>\n      <th>200</th>\n      <td>5500</td>\n    </tr>\n    <tr>\n      <th>1000</th>\n      <td>5500</td>\n    </tr>\n    <tr>\n      <th rowspan=\"3\" valign=\"top\">3</th>\n      <th>100</th>\n      <td>5500</td>\n    </tr>\n    <tr>\n      <th>200</th>\n      <td>5500</td>\n    </tr>\n    <tr>\n      <th>1000</th>\n      <td>5500</td>\n    </tr>\n    <tr>\n      <th>random</th>\n      <th>-</th>\n      <th>-</th>\n      <th>-</th>\n      <td>5500</td>\n    </tr>\n    <tr>\n      <th rowspan=\"3\" valign=\"top\">sampling</th>\n      <th rowspan=\"3\" valign=\"top\">-</th>\n      <th rowspan=\"3\" valign=\"top\">-</th>\n      <th>10</th>\n      <td>3150</td>\n    </tr>\n    <tr>\n      <th>20</th>\n      <td>1621</td>\n    </tr>\n    <tr>\n      <th>30</th>\n      <td>1088</td>\n    </tr>\n  </tbody>\n</table>\n</div>"
     },
     "execution_count": 358,
     "metadata": {},
     "output_type": "execute_result"
    }
   ],
   "source": [
    "match_result = original_df.groupby(['method', 'objective', 'playerDepth', 'simulation'])[\n",
    "                                      'method',\n",
    "                                      'Matched_HorizontalPiece',\n",
    "                                      'Matched_VerticalPiece',\n",
    "                                      'Matched_CrossPiece',\n",
    "                                      'Matched_RocketPiece',\n",
    "                                      'Matched_BombPiece',\n",
    "                                      'Matched_RainbowPiece',\n",
    "                                      #'AlmostReachedKnowledgeStep',\n",
    "                                      'Q1ReachedKnowledgeStep',\n",
    "                                      'Q2ReachedKnowledgeStep',\n",
    "                                      'Q3ReachedKnowledgeStep',\n",
    "                                      'ReachedKnowledgeStep',\n",
    "                                      'Sum_Matched'].agg(\n",
    "    {\n",
    "        'method': ['count'],\n",
    "     }\n",
    ")\n",
    "match_result\n",
    "\n",
    "\n"
   ],
   "metadata": {
    "collapsed": false,
    "pycharm": {
     "name": "#%%\n"
    }
   }
  },
  {
   "cell_type": "markdown",
   "source": [
    "### Full Result"
   ],
   "metadata": {
    "collapsed": false,
    "pycharm": {
     "name": "#%% md\n"
    }
   }
  },
  {
   "cell_type": "code",
   "execution_count": 359,
   "outputs": [
    {
     "name": "stderr",
     "output_type": "stream",
     "text": [
      "C:\\Users\\GIST\\.conda\\envs\\mlagents\\lib\\site-packages\\ipykernel_launcher.py:24: FutureWarning: Indexing with multiple keys (implicitly converted to a tuple of keys) will be deprecated, use a list instead.\n"
     ]
    },
    {
     "data": {
      "text/plain": "                                                       method\n                                                        count\nmethod   simpleEffect objective playerDepth simulation       \nmcts     1            knowledge 1           100          4929\n                                            1000         5008\n                      score     1           100          5225\n                                            200          5262\n                                            1000         5247\n                                2           100          5242\n                                            200          5241\n                                            1000         5245\n                                3           100          5216\n                                            200          5244\n                                            1000         5241\nrandom   1            -         -           -            5500\nsampling 1            -         -           10           3150\n                                            20           1621\n                                            30           1088",
      "text/html": "<div>\n<style scoped>\n    .dataframe tbody tr th:only-of-type {\n        vertical-align: middle;\n    }\n\n    .dataframe tbody tr th {\n        vertical-align: top;\n    }\n\n    .dataframe thead tr th {\n        text-align: left;\n    }\n\n    .dataframe thead tr:last-of-type th {\n        text-align: right;\n    }\n</style>\n<table border=\"1\" class=\"dataframe\">\n  <thead>\n    <tr>\n      <th></th>\n      <th></th>\n      <th></th>\n      <th></th>\n      <th></th>\n      <th>method</th>\n    </tr>\n    <tr>\n      <th></th>\n      <th></th>\n      <th></th>\n      <th></th>\n      <th></th>\n      <th>count</th>\n    </tr>\n    <tr>\n      <th>method</th>\n      <th>simpleEffect</th>\n      <th>objective</th>\n      <th>playerDepth</th>\n      <th>simulation</th>\n      <th></th>\n    </tr>\n  </thead>\n  <tbody>\n    <tr>\n      <th rowspan=\"11\" valign=\"top\">mcts</th>\n      <th rowspan=\"11\" valign=\"top\">1</th>\n      <th rowspan=\"2\" valign=\"top\">knowledge</th>\n      <th rowspan=\"2\" valign=\"top\">1</th>\n      <th>100</th>\n      <td>4929</td>\n    </tr>\n    <tr>\n      <th>1000</th>\n      <td>5008</td>\n    </tr>\n    <tr>\n      <th rowspan=\"9\" valign=\"top\">score</th>\n      <th rowspan=\"3\" valign=\"top\">1</th>\n      <th>100</th>\n      <td>5225</td>\n    </tr>\n    <tr>\n      <th>200</th>\n      <td>5262</td>\n    </tr>\n    <tr>\n      <th>1000</th>\n      <td>5247</td>\n    </tr>\n    <tr>\n      <th rowspan=\"3\" valign=\"top\">2</th>\n      <th>100</th>\n      <td>5242</td>\n    </tr>\n    <tr>\n      <th>200</th>\n      <td>5241</td>\n    </tr>\n    <tr>\n      <th>1000</th>\n      <td>5245</td>\n    </tr>\n    <tr>\n      <th rowspan=\"3\" valign=\"top\">3</th>\n      <th>100</th>\n      <td>5216</td>\n    </tr>\n    <tr>\n      <th>200</th>\n      <td>5244</td>\n    </tr>\n    <tr>\n      <th>1000</th>\n      <td>5241</td>\n    </tr>\n    <tr>\n      <th>random</th>\n      <th>1</th>\n      <th>-</th>\n      <th>-</th>\n      <th>-</th>\n      <td>5500</td>\n    </tr>\n    <tr>\n      <th rowspan=\"3\" valign=\"top\">sampling</th>\n      <th rowspan=\"3\" valign=\"top\">1</th>\n      <th rowspan=\"3\" valign=\"top\">-</th>\n      <th rowspan=\"3\" valign=\"top\">-</th>\n      <th>10</th>\n      <td>3150</td>\n    </tr>\n    <tr>\n      <th>20</th>\n      <td>1621</td>\n    </tr>\n    <tr>\n      <th>30</th>\n      <td>1088</td>\n    </tr>\n  </tbody>\n</table>\n</div>"
     },
     "execution_count": 359,
     "metadata": {},
     "output_type": "execute_result"
    }
   ],
   "source": [
    "# Drop outliers\n",
    "match_result = original_df.copy()\n",
    "\n",
    "match_result = match_result[~match_result['almostRatio'].isin(['0.75'])]\n",
    "# match_result = match_result[~match_result['playerDepth'].isin([2])]\n",
    "# match_result = match_result[~match_result['simulation'].isin([100, 400])]\n",
    "\n",
    "\n",
    "\n",
    "columns_to_remove_outliers = ['Q1ReachedKnowledgeStep',\n",
    "                              'Q2ReachedKnowledgeStep',\n",
    "                              'Q3ReachedKnowledgeStep',\n",
    "                              'ReachedKnowledgeStep']\n",
    "\n",
    "for column in columns_to_remove_outliers:\n",
    "    match_result[column] = match_result.groupby(['method', 'simpleEffect', 'objective', 'playerDepth', 'simulation'])[column].transform(remove_outliers)\n",
    "    match_result = match_result[match_result[column] != -9999]\n",
    "\n",
    "match_result_noout = match_result.copy()\n",
    "\n",
    "# print(set(match_result['playerDepth']))\n",
    "# pd.set_option('display.max_rows', None)\n",
    "match_result = match_result.groupby(['method', 'simpleEffect','objective', 'playerDepth', 'simulation'])[\n",
    "                                      'method',\n",
    "                                      'Matched_HorizontalPiece',\n",
    "                                      'Matched_VerticalPiece',\n",
    "                                      'Matched_CrossPiece',\n",
    "                                      'Matched_RocketPiece',\n",
    "                                      'Matched_BombPiece',\n",
    "                                      'Matched_RainbowPiece',\n",
    "                                      'Q1ReachedKnowledgeStep',\n",
    "                                      'Q2ReachedKnowledgeStep',\n",
    "                                      'Q3ReachedKnowledgeStep',\n",
    "                                      'ReachedKnowledgeStep',\n",
    "                                      'Sum_Matched'].agg(\n",
    "    {\n",
    "        'method': ['count']\n",
    "     }\n",
    ")\n",
    "match_result\n"
   ],
   "metadata": {
    "collapsed": false,
    "pycharm": {
     "name": "#%%\n"
    }
   }
  },
  {
   "cell_type": "markdown",
   "source": [
    "### Depth 1 Result"
   ],
   "metadata": {
    "collapsed": false
   }
  },
  {
   "cell_type": "code",
   "execution_count": 360,
   "outputs": [
    {
     "name": "stderr",
     "output_type": "stream",
     "text": [
      "C:\\Users\\GIST\\.conda\\envs\\mlagents\\lib\\site-packages\\ipykernel_launcher.py:31: FutureWarning: Indexing with multiple keys (implicitly converted to a tuple of keys) will be deprecated, use a list instead.\n"
     ]
    },
    {
     "data": {
      "text/plain": "                              Sum_Matched        25%        50%         75%  \\\n                                     mean       mean       mean        mean   \nmethod   objective simulation                                                 \nmcts     knowledge 100         269.862447  37.812132  44.274295   56.042605   \n                   1000        271.831869  35.491613  41.587859   52.259784   \n         score     100         392.490718  44.179713  53.491675   70.750622   \n                   1000        432.499714  40.485230  49.148847   64.378883   \nrandom   -         -           235.380000  78.032909  93.037636  116.757455   \nsampling -         10          223.455238  86.081905  98.342540  117.943492   \n                   20          233.167181  76.301666  88.172733  107.942628   \n                   30          245.338235  71.930147  84.822610  105.369485   \n\n                                     100%  \n                                     mean  \nmethod   objective simulation              \nmcts     knowledge 100          59.901197  \n                   1000         56.105431  \n         score     100          76.427751  \n                   1000         69.575376  \nrandom   -         -           123.642000  \nsampling -         10          124.089206  \n                   20          114.196792  \n                   30          110.974265  ",
      "text/html": "<div>\n<style scoped>\n    .dataframe tbody tr th:only-of-type {\n        vertical-align: middle;\n    }\n\n    .dataframe tbody tr th {\n        vertical-align: top;\n    }\n\n    .dataframe thead tr th {\n        text-align: left;\n    }\n\n    .dataframe thead tr:last-of-type th {\n        text-align: right;\n    }\n</style>\n<table border=\"1\" class=\"dataframe\">\n  <thead>\n    <tr>\n      <th></th>\n      <th></th>\n      <th></th>\n      <th>Sum_Matched</th>\n      <th>25%</th>\n      <th>50%</th>\n      <th>75%</th>\n      <th>100%</th>\n    </tr>\n    <tr>\n      <th></th>\n      <th></th>\n      <th></th>\n      <th>mean</th>\n      <th>mean</th>\n      <th>mean</th>\n      <th>mean</th>\n      <th>mean</th>\n    </tr>\n    <tr>\n      <th>method</th>\n      <th>objective</th>\n      <th>simulation</th>\n      <th></th>\n      <th></th>\n      <th></th>\n      <th></th>\n      <th></th>\n    </tr>\n  </thead>\n  <tbody>\n    <tr>\n      <th rowspan=\"4\" valign=\"top\">mcts</th>\n      <th rowspan=\"2\" valign=\"top\">knowledge</th>\n      <th>100</th>\n      <td>269.862447</td>\n      <td>37.812132</td>\n      <td>44.274295</td>\n      <td>56.042605</td>\n      <td>59.901197</td>\n    </tr>\n    <tr>\n      <th>1000</th>\n      <td>271.831869</td>\n      <td>35.491613</td>\n      <td>41.587859</td>\n      <td>52.259784</td>\n      <td>56.105431</td>\n    </tr>\n    <tr>\n      <th rowspan=\"2\" valign=\"top\">score</th>\n      <th>100</th>\n      <td>392.490718</td>\n      <td>44.179713</td>\n      <td>53.491675</td>\n      <td>70.750622</td>\n      <td>76.427751</td>\n    </tr>\n    <tr>\n      <th>1000</th>\n      <td>432.499714</td>\n      <td>40.485230</td>\n      <td>49.148847</td>\n      <td>64.378883</td>\n      <td>69.575376</td>\n    </tr>\n    <tr>\n      <th>random</th>\n      <th>-</th>\n      <th>-</th>\n      <td>235.380000</td>\n      <td>78.032909</td>\n      <td>93.037636</td>\n      <td>116.757455</td>\n      <td>123.642000</td>\n    </tr>\n    <tr>\n      <th rowspan=\"3\" valign=\"top\">sampling</th>\n      <th rowspan=\"3\" valign=\"top\">-</th>\n      <th>10</th>\n      <td>223.455238</td>\n      <td>86.081905</td>\n      <td>98.342540</td>\n      <td>117.943492</td>\n      <td>124.089206</td>\n    </tr>\n    <tr>\n      <th>20</th>\n      <td>233.167181</td>\n      <td>76.301666</td>\n      <td>88.172733</td>\n      <td>107.942628</td>\n      <td>114.196792</td>\n    </tr>\n    <tr>\n      <th>30</th>\n      <td>245.338235</td>\n      <td>71.930147</td>\n      <td>84.822610</td>\n      <td>105.369485</td>\n      <td>110.974265</td>\n    </tr>\n  </tbody>\n</table>\n</div>"
     },
     "execution_count": 360,
     "metadata": {},
     "output_type": "execute_result"
    }
   ],
   "source": [
    "# Drop outliers\n",
    "match_result = original_df.copy()\n",
    "\n",
    "match_result = match_result[~match_result['almostRatio'].isin(['0.75'])]\n",
    "match_result = match_result[~match_result['playerDepth'].isin([2, 3])]\n",
    "match_result = match_result[~match_result['objective'].isin([2, 3])]\n",
    "match_result = match_result[~match_result['simulation'].isin([200])]\n",
    "\n",
    "\n",
    "columns_to_remove_outliers = ['Q1ReachedKnowledgeStep',\n",
    "                              'Q2ReachedKnowledgeStep',\n",
    "                              'Q3ReachedKnowledgeStep',\n",
    "                              'ReachedKnowledgeStep']\n",
    "\n",
    "for column in columns_to_remove_outliers:\n",
    "    match_result[column] = match_result.groupby(['method', 'simpleEffect', 'objective', 'playerDepth', 'simulation'])[column].transform(remove_outliers)\n",
    "    match_result = match_result[match_result[column] != -9999]\n",
    "\n",
    "# print(set(match_result['playerDepth']))\n",
    "# pd.set_option('display.max_rows', None)\n",
    "\n",
    "match_result.rename(columns={\n",
    "                            'ReachedKnowledgeStep': '100%',\n",
    "                            'Q1ReachedKnowledgeStep': '25%',\n",
    "                            'Q2ReachedKnowledgeStep': '50%',\n",
    "                            'Q3ReachedKnowledgeStep': '75%'\n",
    "                            }, inplace=True)\n",
    "\n",
    "\n",
    "match_result = match_result.groupby(['method', 'objective', 'simulation'])[\n",
    "                                      '25%',\n",
    "                                      '50%',\n",
    "                                      '75%',\n",
    "                                      '100%',\n",
    "                                      'Sum_Matched'].agg(\n",
    "    {\n",
    "        'Sum_Matched': ['mean',],\n",
    "        '25%': ['mean'],\n",
    "        '50%': ['mean'],\n",
    "        '75%': ['mean'],\n",
    "        '100%': ['mean'],\n",
    "     }\n",
    ")\n",
    "match_result"
   ],
   "metadata": {
    "collapsed": false,
    "pycharm": {
     "name": "#%%\n"
    }
   }
  },
  {
   "cell_type": "code",
   "execution_count": 361,
   "outputs": [],
   "source": [
    "match_result.to_latex('match_count_table.tex', float_format=\"%.3f\", escape=True)\n"
   ],
   "metadata": {
    "collapsed": false,
    "pycharm": {
     "name": "#%%\n"
    }
   }
  },
  {
   "cell_type": "code",
   "execution_count": 362,
   "outputs": [],
   "source": [
    "display_graphs = ['random', 'ga',\n",
    "                  'sampling_20',\n",
    "                   'mcts_knowledge_1.0_1000_1',\n",
    "                   'mcts_score_1000_1']"
   ],
   "metadata": {
    "collapsed": false,
    "pycharm": {
     "name": "#%%\n"
    }
   }
  },
  {
   "cell_type": "code",
   "metadata": {
    "collapsed": false,
    "pycharm": {
     "name": "#%% md raw\n"
    }
   },
   "source": [
    "melted_df = match_result_noout.copy()\n",
    "\n",
    "melted_df['concat_method'] = melted_df.agg(lambda x: get_legend_name(x), axis=1)\n",
    "pprint(set(melted_df['concat_method']))\n",
    "# Display Target\n",
    "melted_df = melted_df[melted_df['concat_method'].isin(['random', 'ga',\n",
    "                                                       'sampling_20',\n",
    "                                                       'mcts_knowledge_1.0_1000_1',\n",
    "                                                       'mcts_score_1000_1'])]\n",
    "\n",
    "plt.figure(figsize=(7, 5))\n",
    "melted_df = pd.melt(melted_df, id_vars=['EpisodeCount', 'objective', 'concat_method', 'simulation', 'player'],\n",
    "                    value_vars=[*StatisticsColumns], ignore_index=False)\n",
    "\n",
    "melted_df['x'] = melted_df['variable']\n",
    "melted_df['x'] = melted_df['x'].str.replace('ReachedKnowledgeStep', 'r_step')\n",
    "melted_df['x'] = melted_df['x'].str.replace('Matched_HorizontalPiece', 'b0')\n",
    "melted_df['x'] = melted_df['x'].str.replace('Matched_VerticalPiece', 'b1')\n",
    "melted_df['x'] = melted_df['x'].str.replace('Matched_CrossPiece', 'b2')\n",
    "melted_df['x'] = melted_df['x'].str.replace('Matched_RocketPiece', 'b3')\n",
    "melted_df['x'] = melted_df['x'].str.replace('Matched_BombPiece', 'b4')\n",
    "melted_df['x'] = melted_df['x'].str.replace('Matched_RainbowPiece', 'b5')\n",
    "\n",
    "ax = sns.boxplot(x=\"x\", y=\"value\", hue=\"concat_method\", data=melted_df, linewidth=0.8)\n",
    "plt.xticks(rotation=45)\n",
    "plt.tight_layout()\n",
    "plt.savefig('matched_block.png')"
   ],
   "execution_count": 363,
   "outputs": [
    {
     "name": "stdout",
     "output_type": "stream",
     "text": [
      "{'mcts_knowledge_1.0_1000_1',\n",
      " 'mcts_knowledge_1.0_100_1',\n",
      " 'mcts_score_1000_1',\n",
      " 'mcts_score_1000_2',\n",
      " 'mcts_score_1000_3',\n",
      " 'mcts_score_100_1',\n",
      " 'mcts_score_100_2',\n",
      " 'mcts_score_100_3',\n",
      " 'mcts_score_200_1',\n",
      " 'mcts_score_200_2',\n",
      " 'mcts_score_200_3',\n",
      " 'random',\n",
      " 'sampling_10',\n",
      " 'sampling_20',\n",
      " 'sampling_30'}\n"
     ]
    },
    {
     "data": {
      "text/plain": "<Figure size 700x500 with 1 Axes>",
      "image/png": "[encoded data removed]"
     },
     "metadata": {},
     "output_type": "display_data"
    }
   ]
  },
  {
   "cell_type": "code",
   "execution_count": 364,
   "outputs": [],
   "source": [
    "from statannot import add_stat_annotation\n",
    "from itertools import combinations"
   ],
   "metadata": {
    "collapsed": false,
    "pycharm": {
     "name": "#%%\n"
    }
   }
  },
  {
   "cell_type": "code",
   "execution_count": null,
   "outputs": [
    {
     "name": "stdout",
     "output_type": "stream",
     "text": [
      "p-value annotation legend:\n",
      "ns: 5.00e-02 < p <= 1.00e+00\n",
      "*: 1.00e-02 < p <= 5.00e-02\n",
      "**: 1.00e-03 < p <= 1.00e-02\n",
      "***: 1.00e-04 < p <= 1.00e-03\n",
      "****: p <= 1.00e-04\n",
      "\n",
      "75_random v.s. 75_sampling_20: t-test independent samples with Bonferroni correction, P_val=1.000e+00 stat=1.250e+00\n",
      "100_mcts_knowledge_1.0_1000_1 v.s. 100_mcts_score_1000_1: t-test independent samples with Bonferroni correction, P_val=8.903e-13 stat=-7.686e+00\n",
      "100_random v.s. 100_sampling_20: t-test independent samples with Bonferroni correction, P_val=1.000e+00 stat=1.371e+00\n",
      "50_random v.s. 50_sampling_20: t-test independent samples with Bonferroni correction, P_val=1.000e+00 stat=5.646e-01\n",
      "75_mcts_knowledge_1.0_1000_1 v.s. 75_mcts_score_1000_1: t-test independent samples with Bonferroni correction, P_val=1.315e-12 stat=-7.633e+00\n",
      "25_random v.s. 25_sampling_20: t-test independent samples with Bonferroni correction, P_val=1.000e+00 stat=-2.280e-01\n",
      "25_mcts_knowledge_1.0_1000_1 v.s. 25_mcts_score_1000_1: t-test independent samples with Bonferroni correction, P_val=7.186e-01 stat=-2.174e+00\n",
      "25_mcts_score_1000_1 v.s. 25_random: t-test independent samples with Bonferroni correction, P_val=8.868e-31 stat=-1.223e+01\n",
      "50_mcts_knowledge_1.0_1000_1 v.s. 50_mcts_score_1000_1: t-test independent samples with Bonferroni correction, P_val=3.352e-06 stat=-5.305e+00\n",
      "50_mcts_score_1000_1 v.s. 50_random: t-test independent samples with Bonferroni correction, P_val=7.112e-33 stat=-1.268e+01\n",
      "75_mcts_score_1000_1 v.s. 75_random: t-test independent samples with Bonferroni correction, P_val=3.051e-44 stat=-1.493e+01\n",
      "100_mcts_score_1000_1 v.s. 100_random: t-test independent samples with Bonferroni correction, P_val=3.874e-46 stat=-1.528e+01\n",
      "75_mcts_score_1000_1 v.s. 75_sampling_20: t-test independent samples with Bonferroni correction, P_val=3.719e-17 stat=-9.061e+00\n",
      "100_mcts_knowledge_1.0_1000_1 v.s. 100_random: t-test independent samples with Bonferroni correction, P_val=4.226e-81 stat=-2.122e+01\n",
      "100_mcts_score_1000_1 v.s. 100_sampling_20: t-test independent samples with Bonferroni correction, P_val=2.735e-17 stat=-9.098e+00\n",
      "25_mcts_score_1000_1 v.s. 25_sampling_20: t-test independent samples with Bonferroni correction, P_val=1.197e-14 stat=-8.328e+00\n",
      "50_mcts_score_1000_1 v.s. 50_sampling_20: t-test independent samples with Bonferroni correction, P_val=1.578e-13 stat=-7.984e+00\n",
      "25_mcts_knowledge_1.0_1000_1 v.s. 25_random: t-test independent samples with Bonferroni correction, P_val=5.239e-39 stat=-1.394e+01\n",
      "50_mcts_knowledge_1.0_1000_1 v.s. 50_random: t-test independent samples with Bonferroni correction, P_val=2.989e-52 stat=-1.641e+01\n",
      "75_mcts_knowledge_1.0_1000_1 v.s. 75_random: t-test independent samples with Bonferroni correction, P_val=1.934e-78 stat=-2.080e+01\n",
      "100_mcts_knowledge_1.0_1000_1 v.s. 100_sampling_20: t-test independent samples with Bonferroni correction, P_val=2.001e-37 stat=-1.397e+01\n",
      "75_mcts_knowledge_1.0_1000_1 v.s. 75_sampling_20: t-test independent samples with Bonferroni correction, P_val=3.276e-37 stat=-1.393e+01\n",
      "25_mcts_knowledge_1.0_1000_1 v.s. 25_sampling_20: t-test independent samples with Bonferroni correction, P_val=2.893e-19 stat=-9.654e+00\n"
     ]
    }
   ],
   "source": [
    "                                                                                                                                                                                                                                                                                                                                                                                                                                                                                                                                                                                                                                                                                                                                                                                                                                                                                                                                                                                                                                                                                                                                                                                                                                                                                                                                                                                                                                                                                                                                                                                                                                                                                                                  for player_no in range(0, 11):\n",
    "    player_df = match_result_noout[match_result_noout['player'] == str(player_no)]\n",
    "    melted_df = player_df.copy()\n",
    "\n",
    "    melted_df.rename(columns={\n",
    "        'ReachedKnowledgeStep':'100',\n",
    "        'Q1ReachedKnowledgeStep':'25',\n",
    "        'Q2ReachedKnowledgeStep':'50',\n",
    "        'Q3ReachedKnowledgeStep':'75'\n",
    "    }, inplace=True)\n",
    "\n",
    "    _columns = ['25', '50', '75', '100']\n",
    "\n",
    "    sns.set_palette('Set2')\n",
    "    # melted_df = melted_df.groupby(['player', 'method', 'objective', 'playerDepth', 'simulation']).sample(n=300, random_state=1)\n",
    "    melted_df['concat_method'] = melted_df.agg(lambda x: get_legend_name(x), axis=1)\n",
    "    melted_df = pd.melt(melted_df, id_vars=['EpisodeCount', 'objective', 'concat_method', 'simulation', 'player'], value_vars=[*_columns], ignore_index=False)\n",
    "\n",
    "    melted_df = melted_df[melted_df['concat_method'].isin(display_graphs)]\n",
    "\n",
    "    plt.figure(figsize=(7, 4))\n",
    "    plt.clf()\n",
    "    ax = sns.boxplot(x=\"variable\", y=\"value\", hue=\"concat_method\", data=melted_df, dodge=True, linewidth=0.8)\n",
    "\n",
    "    pairs = list()\n",
    "    for i in range(25, 101, 25):\n",
    "        pairs.append(((str(i), 'mcts_knowledge_1.0_1000_1'), (str(i), 'mcts_score_1000_1')))\n",
    "        pairs.append(((str(i), 'mcts_knowledge_1.0_1000_1'), (str(i), 'random')))\n",
    "        pairs.append(((str(i), 'random'), (str(i), 'mcts_score_1000_1')))\n",
    "        pairs.append(((str(i), 'random'), (str(i), 'sampling_20')))\n",
    "        pairs.append(((str(i), 'mcts_score_1000_1'), (str(i), 'sampling_20')))\n",
    "        pairs.append(((str(i), 'mcts_knowledge_1.0_1000_1'), (str(i), 'sampling_20')))\n",
    "\n",
    "    add_stat_annotation(ax, x=\"variable\", y=\"value\", hue=\"concat_method\", data=melted_df,\n",
    "                        box_pairs=pairs,\n",
    "                        test='t-test_ind', text_format='star', loc='inside', verbose=1)\n",
    "\n",
    "    plt.legend(loc='upper left', bbox_to_anchor=(1.0, 0.5))\n",
    "    ax.set_title(f'Required Steps for Learning Skill (Player: {player_no})')\n",
    "    ax.set_xlabel('Progress (%)')\n",
    "    ax.set_ylabel('Step')\n",
    "    plt.tight_layout()\n",
    "    plt.savefig(f'./figures/learning_steps_p{player_no}', dpi=300)\n",
    "    # plt.show()"
   ],
   "metadata": {
    "collapsed": false,
    "pycharm": {
     "name": "#%%\n",
     "is_executing": true
    }
   }
  },
  {
   "cell_type": "code",
   "execution_count": null,
   "outputs": [],
   "source": [
    "\n",
    "melted_df = match_result_noout.copy()\n",
    "\n",
    "melted_df.rename(columns={\n",
    "    'ReachedKnowledgeStep':'100',\n",
    "    'Q1ReachedKnowledgeStep':'25',\n",
    "    'Q2ReachedKnowledgeStep':'50',\n",
    "    'Q3ReachedKnowledgeStep':'75'\n",
    "}, inplace=True)\n",
    "\n",
    "_columns = ['25', '50', '75', '100']\n",
    "\n",
    "sns.set_palette('Set3')\n",
    "# melted_df = melted_df.groupby(['player', 'method', 'objective', 'playerDepth', 'simulation']).sample(n=300, random_state=1)\n",
    "melted_df['concat_method'] = melted_df.agg(lambda x: get_legend_name(x), axis=1)\n",
    "melted_df = pd.melt(melted_df, id_vars=['EpisodeCount', 'objective', 'concat_method', 'simulation', 'player'], value_vars=[*_columns], ignore_index=False)\n",
    "\n",
    "melted_df = melted_df[melted_df['concat_method'].isin(display_graphs)]\n",
    "\n",
    "\n",
    "plt.figure(figsize=(7, 4))\n",
    "plt.clf()\n",
    "ax = sns.boxplot(x=\"variable\", y=\"value\", hue=\"concat_method\", data=melted_df, dodge=True, linewidth=0.8)\n",
    "\n",
    "pairs = list()\n",
    "for i in range(25, 101, 25):\n",
    "    pairs.append(((str(i), 'mcts_knowledge_1.0_1000_1'), (str(i), 'mcts_score_1000_1')))\n",
    "    pairs.append(((str(i), 'mcts_knowledge_1.0_1000_1'), (str(i), 'random')))\n",
    "    pairs.append(((str(i), 'random'), (str(i), 'mcts_score_1000_1')))\n",
    "    pairs.append(((str(i), 'random'), (str(i), 'sampling_20')))\n",
    "    pairs.append(((str(i), 'mcts_score_1000_1'), (str(i), 'sampling_20')))\n",
    "    pairs.append(((str(i), 'mcts_knowledge_1.0_1000_1'), (str(i), 'sampling_20')))\n",
    "\n",
    "add_stat_annotation(ax, x=\"variable\", y=\"value\", hue=\"concat_method\", data=melted_df,\n",
    "                    box_pairs=pairs,\n",
    "                    test='t-test_ind', text_format='star', loc='inside', verbose=1)\n",
    "\n",
    "plt.legend(loc='upper left', bbox_to_anchor=(1.0, 0.5))\n",
    "ax.set_title(f'Required Steps for Learning Skill (Player: All)')\n",
    "ax.set_xlabel('Progress (%)')\n",
    "ax.set_ylabel('Step')\n",
    "plt.savefig(f'./figures/learning_steps_pA', dpi=300)\n",
    "# plt.show()"
   ],
   "metadata": {
    "collapsed": false,
    "pycharm": {
     "name": "#%%\n",
     "is_executing": true
    }
   }
  }
 ],
 "metadata": {
  "kernelspec": {
   "name": "python3",
   "language": "python",
   "display_name": "Python 3 (ipykernel)"
  },
  "language_info": {
   "codemirror_mode": {
    "name": "ipython",
    "version": 2
   },
   "file_extension": ".py",
   "mimetype": "text/x-python",
   "name": "python",
   "nbconvert_exporter": "python",
   "pygments_lexer": "ipython2",
   "version": "2.7.6"
  }
 },
 "nbformat": 4,
 "nbformat_minor": 0
}