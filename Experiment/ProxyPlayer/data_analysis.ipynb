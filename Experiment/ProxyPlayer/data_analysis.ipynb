{
 "cells": [
  {
   "cell_type": "code",
   "execution_count": 7,
   "metadata": {
    "collapsed": true
   },
   "outputs": [],
   "source": [
    "import pandas as pd\n",
    "import matplotlib.pyplot as plt\n",
    "from sklearn.manifold import TSNE\n",
    "import seaborn as sns\n",
    "import re\n",
    "from os import path\n",
    "from glob import glob\n",
    "from tqdm import tqdm\n",
    "import numpy as np\n",
    "from matplotlib import cm"
   ]
  },
  {
   "cell_type": "code",
   "execution_count": 8,
   "outputs": [
    {
     "name": "stderr",
     "output_type": "stream",
     "text": [
      "100%|██████████| 30/30 [00:02<00:00, 14.83it/s]\n"
     ]
    }
   ],
   "source": [
    "ROOT_PATH = '\\\\\\\\CILab_NAS_Data/homes/inchang/PuzzlePCG/ProxyPlayer'\n",
    "\n",
    "\n",
    "files = glob(path.join(ROOT_PATH, 'method_*', '*.csv'))\n",
    "\n",
    "\n",
    "dfs = []\n",
    "for file_path in tqdm(files):\n",
    "    # print(file_path)\n",
    "    file_name = path.basename(file_path)\n",
    "    df = pd.read_csv(file_path)\n",
    "\n",
    "    # method = get_method(file_name)\n",
    "\n",
    "    components = file_name.split('_')\n",
    "    winrate_components = components[2].split('-')\n",
    "\n",
    "    # Remove lastly added item\n",
    "    max_episode = max(df['EpisodeCount'])\n",
    "    if max_episode == 1: continue\n",
    "    df = df[df['EpisodeCount'] < max_episode]  # Re\n",
    "\n",
    "    df = df.groupby(['EpisodeCount', 'InstanceUUID']).last()\n",
    "    # df.loc[:, 'Method'] = method\n",
    "    # df.loc[:, 'Target_WinRate'] = float(winrate_components[1])\n",
    "\n",
    "    dfs.append(df)\n",
    "\n",
    "original_df = pd.concat(dfs)\n",
    "\n",
    "# original_df['Error_WinRate'] = original_df.apply(lambda x: abs(x['Result[0]'] - x['Target_WinRate']), axis=1)\n",
    "#\n",
    "# tmp = original_df.groupby(['Method', 'Target_WinRate'])['StepCount'].count()\n",
    "# print(tmp)\n",
    "# original_df = original_df[original_df['StepCount'] >= 2]  # 변경 횟수가 5회 미만인것 제외\n",
    "# original_df"
   ],
   "metadata": {
    "collapsed": false,
    "pycharm": {
     "name": "#%%\n"
    }
   }
  },
  {
   "cell_type": "code",
   "execution_count": 9,
   "outputs": [
    {
     "data": {
      "text/plain": "                           StepCount                     Time  SettleCount  \\\nEpisodeCount InstanceUUID                                                    \n1            06c6c84a            300  2023-05-16 12:47:26.044            0   \n2            06c6c84a            301  2023-05-16 12:48:40.894            0   \n3            06c6c84a            300  2023-05-16 12:49:57.647            0   \n4            06c6c84a            300  2023-05-16 12:51:09.409            0   \n5            06c6c84a            300  2023-05-16 12:52:26.411            0   \n...                              ...                      ...          ...   \n995          ea82eec0            300  2023-05-16 16:45:22.339            0   \n996          ea82eec0            300  2023-05-16 16:45:38.002            0   \n997          ea82eec0            301  2023-05-16 16:45:52.829            0   \n998          ea82eec0            301  2023-05-16 16:46:08.932            0   \n999          ea82eec0            300  2023-05-16 16:46:23.519            0   \n\n                           ChangedCount  MeanComparisonCount  \\\nEpisodeCount InstanceUUID                                      \n1            06c6c84a               209             0.826667   \n2            06c6c84a               224             0.933555   \n3            06c6c84a               230             0.900000   \n4            06c6c84a               196             0.763333   \n5            06c6c84a               203             0.863333   \n...                                 ...                  ...   \n995          ea82eec0                 0             0.000000   \n996          ea82eec0                 0             0.000000   \n997          ea82eec0                 0             0.000000   \n998          ea82eec0                 0             0.000000   \n999          ea82eec0                 0             0.000000   \n\n                           StdComparisonCount  ReachedKnowledgeStep  \\\nEpisodeCount InstanceUUID                                             \n1            06c6c84a                0.661878                   277   \n2            06c6c84a                0.679880                    56   \n3            06c6c84a                0.609293                   109   \n4            06c6c84a                0.654791                   175   \n5            06c6c84a                0.730136                    63   \n...                                       ...                   ...   \n995          ea82eec0                0.000000                    -1   \n996          ea82eec0                0.000000                    53   \n997          ea82eec0                0.000000                   121   \n998          ea82eec0                0.000000                   130   \n999          ea82eec0                0.000000                   197   \n\n                           AlmostReachedKnowledgeStep  \\\nEpisodeCount InstanceUUID                               \n1            06c6c84a                             174   \n2            06c6c84a                              56   \n3            06c6c84a                              93   \n4            06c6c84a                              70   \n5            06c6c84a                              63   \n...                                               ...   \n995          ea82eec0                              -1   \n996          ea82eec0                              32   \n997          ea82eec0                             110   \n998          ea82eec0                              38   \n999          ea82eec0                             160   \n\n                           Matched_HorizontalPiece  Matched_VerticalPiece  \\\nEpisodeCount InstanceUUID                                                   \n1            06c6c84a                           89                     53   \n2            06c6c84a                           69                     56   \n3            06c6c84a                           80                     51   \n4            06c6c84a                           76                     53   \n5            06c6c84a                           72                     46   \n...                                            ...                    ...   \n995          ea82eec0                           40                     29   \n996          ea82eec0                           39                     34   \n997          ea82eec0                           49                     46   \n998          ea82eec0                           44                     37   \n999          ea82eec0                           42                     40   \n\n                           Matched_CrossPiece  Matched_RocketPiece  \\\nEpisodeCount InstanceUUID                                            \n1            06c6c84a                       7                  112   \n2            06c6c84a                      16                  131   \n3            06c6c84a                      11                  125   \n4            06c6c84a                       4                  103   \n5            06c6c84a                       8                  113   \n...                                       ...                  ...   \n995          ea82eec0                      10                   82   \n996          ea82eec0                      16                   79   \n997          ea82eec0                      17                   99   \n998          ea82eec0                      10                   84   \n999          ea82eec0                       4                   64   \n\n                           Matched_BombPiece  Matched_RainbowPiece  \\\nEpisodeCount InstanceUUID                                            \n1            06c6c84a                      5                     5   \n2            06c6c84a                      9                    16   \n3            06c6c84a                      7                     5   \n4            06c6c84a                      4                     3   \n5            06c6c84a                     14                    18   \n...                                      ...                   ...   \n995          ea82eec0                     13                     1   \n996          ea82eec0                     10                     7   \n997          ea82eec0                      6                     5   \n998          ea82eec0                      6                     8   \n999          ea82eec0                      2                    10   \n\n                           Target_HorizontalPiece  Target_VerticalPiece  \\\nEpisodeCount InstanceUUID                                                 \n1            06c6c84a                           7                     3   \n2            06c6c84a                           7                     3   \n3            06c6c84a                           7                     3   \n4            06c6c84a                           7                     3   \n5            06c6c84a                           7                     3   \n...                                           ...                   ...   \n995          ea82eec0                           7                     3   \n996          ea82eec0                           7                     3   \n997          ea82eec0                           7                     3   \n998          ea82eec0                           7                     3   \n999          ea82eec0                           7                     3   \n\n                           Target_CrossPiece  Target_RocketPiece  \\\nEpisodeCount InstanceUUID                                          \n1            06c6c84a                      0                   2   \n2            06c6c84a                      0                   2   \n3            06c6c84a                      0                   2   \n4            06c6c84a                      0                   2   \n5            06c6c84a                      0                   2   \n...                                      ...                 ...   \n995          ea82eec0                      0                   2   \n996          ea82eec0                      0                   2   \n997          ea82eec0                      0                   2   \n998          ea82eec0                      0                   2   \n999          ea82eec0                      0                   2   \n\n                           Target_BombPiece  Target_RainbowPiece  \nEpisodeCount InstanceUUID                                         \n1            06c6c84a                     2                    3  \n2            06c6c84a                     2                    3  \n3            06c6c84a                     2                    3  \n4            06c6c84a                     2                    3  \n5            06c6c84a                     2                    3  \n...                                     ...                  ...  \n995          ea82eec0                     2                    3  \n996          ea82eec0                     2                    3  \n997          ea82eec0                     2                    3  \n998          ea82eec0                     2                    3  \n999          ea82eec0                     2                    3  \n\n[22342 rows x 20 columns]",
      "text/html": "<div>\n<style scoped>\n    .dataframe tbody tr th:only-of-type {\n        vertical-align: middle;\n    }\n\n    .dataframe tbody tr th {\n        vertical-align: top;\n    }\n\n    .dataframe thead th {\n        text-align: right;\n    }\n</style>\n<table border=\"1\" class=\"dataframe\">\n  <thead>\n    <tr style=\"text-align: right;\">\n      <th></th>\n      <th></th>\n      <th>StepCount</th>\n      <th>Time</th>\n      <th>SettleCount</th>\n      <th>ChangedCount</th>\n      <th>MeanComparisonCount</th>\n      <th>StdComparisonCount</th>\n      <th>ReachedKnowledgeStep</th>\n      <th>AlmostReachedKnowledgeStep</th>\n      <th>Matched_HorizontalPiece</th>\n      <th>Matched_VerticalPiece</th>\n      <th>Matched_CrossPiece</th>\n      <th>Matched_RocketPiece</th>\n      <th>Matched_BombPiece</th>\n      <th>Matched_RainbowPiece</th>\n      <th>Target_HorizontalPiece</th>\n      <th>Target_VerticalPiece</th>\n      <th>Target_CrossPiece</th>\n      <th>Target_RocketPiece</th>\n      <th>Target_BombPiece</th>\n      <th>Target_RainbowPiece</th>\n    </tr>\n    <tr>\n      <th>EpisodeCount</th>\n      <th>InstanceUUID</th>\n      <th></th>\n      <th></th>\n      <th></th>\n      <th></th>\n      <th></th>\n      <th></th>\n      <th></th>\n      <th></th>\n      <th></th>\n      <th></th>\n      <th></th>\n      <th></th>\n      <th></th>\n      <th></th>\n      <th></th>\n      <th></th>\n      <th></th>\n      <th></th>\n      <th></th>\n      <th></th>\n    </tr>\n  </thead>\n  <tbody>\n    <tr>\n      <th>1</th>\n      <th>06c6c84a</th>\n      <td>300</td>\n      <td>2023-05-16 12:47:26.044</td>\n      <td>0</td>\n      <td>209</td>\n      <td>0.826667</td>\n      <td>0.661878</td>\n      <td>277</td>\n      <td>174</td>\n      <td>89</td>\n      <td>53</td>\n      <td>7</td>\n      <td>112</td>\n      <td>5</td>\n      <td>5</td>\n      <td>7</td>\n      <td>3</td>\n      <td>0</td>\n      <td>2</td>\n      <td>2</td>\n      <td>3</td>\n    </tr>\n    <tr>\n      <th>2</th>\n      <th>06c6c84a</th>\n      <td>301</td>\n      <td>2023-05-16 12:48:40.894</td>\n      <td>0</td>\n      <td>224</td>\n      <td>0.933555</td>\n      <td>0.679880</td>\n      <td>56</td>\n      <td>56</td>\n      <td>69</td>\n      <td>56</td>\n      <td>16</td>\n      <td>131</td>\n      <td>9</td>\n      <td>16</td>\n      <td>7</td>\n      <td>3</td>\n      <td>0</td>\n      <td>2</td>\n      <td>2</td>\n      <td>3</td>\n    </tr>\n    <tr>\n      <th>3</th>\n      <th>06c6c84a</th>\n      <td>300</td>\n      <td>2023-05-16 12:49:57.647</td>\n      <td>0</td>\n      <td>230</td>\n      <td>0.900000</td>\n      <td>0.609293</td>\n      <td>109</td>\n      <td>93</td>\n      <td>80</td>\n      <td>51</td>\n      <td>11</td>\n      <td>125</td>\n      <td>7</td>\n      <td>5</td>\n      <td>7</td>\n      <td>3</td>\n      <td>0</td>\n      <td>2</td>\n      <td>2</td>\n      <td>3</td>\n    </tr>\n    <tr>\n      <th>4</th>\n      <th>06c6c84a</th>\n      <td>300</td>\n      <td>2023-05-16 12:51:09.409</td>\n      <td>0</td>\n      <td>196</td>\n      <td>0.763333</td>\n      <td>0.654791</td>\n      <td>175</td>\n      <td>70</td>\n      <td>76</td>\n      <td>53</td>\n      <td>4</td>\n      <td>103</td>\n      <td>4</td>\n      <td>3</td>\n      <td>7</td>\n      <td>3</td>\n      <td>0</td>\n      <td>2</td>\n      <td>2</td>\n      <td>3</td>\n    </tr>\n    <tr>\n      <th>5</th>\n      <th>06c6c84a</th>\n      <td>300</td>\n      <td>2023-05-16 12:52:26.411</td>\n      <td>0</td>\n      <td>203</td>\n      <td>0.863333</td>\n      <td>0.730136</td>\n      <td>63</td>\n      <td>63</td>\n      <td>72</td>\n      <td>46</td>\n      <td>8</td>\n      <td>113</td>\n      <td>14</td>\n      <td>18</td>\n      <td>7</td>\n      <td>3</td>\n      <td>0</td>\n      <td>2</td>\n      <td>2</td>\n      <td>3</td>\n    </tr>\n    <tr>\n      <th>...</th>\n      <th>...</th>\n      <td>...</td>\n      <td>...</td>\n      <td>...</td>\n      <td>...</td>\n      <td>...</td>\n      <td>...</td>\n      <td>...</td>\n      <td>...</td>\n      <td>...</td>\n      <td>...</td>\n      <td>...</td>\n      <td>...</td>\n      <td>...</td>\n      <td>...</td>\n      <td>...</td>\n      <td>...</td>\n      <td>...</td>\n      <td>...</td>\n      <td>...</td>\n      <td>...</td>\n    </tr>\n    <tr>\n      <th>995</th>\n      <th>ea82eec0</th>\n      <td>300</td>\n      <td>2023-05-16 16:45:22.339</td>\n      <td>0</td>\n      <td>0</td>\n      <td>0.000000</td>\n      <td>0.000000</td>\n      <td>-1</td>\n      <td>-1</td>\n      <td>40</td>\n      <td>29</td>\n      <td>10</td>\n      <td>82</td>\n      <td>13</td>\n      <td>1</td>\n      <td>7</td>\n      <td>3</td>\n      <td>0</td>\n      <td>2</td>\n      <td>2</td>\n      <td>3</td>\n    </tr>\n    <tr>\n      <th>996</th>\n      <th>ea82eec0</th>\n      <td>300</td>\n      <td>2023-05-16 16:45:38.002</td>\n      <td>0</td>\n      <td>0</td>\n      <td>0.000000</td>\n      <td>0.000000</td>\n      <td>53</td>\n      <td>32</td>\n      <td>39</td>\n      <td>34</td>\n      <td>16</td>\n      <td>79</td>\n      <td>10</td>\n      <td>7</td>\n      <td>7</td>\n      <td>3</td>\n      <td>0</td>\n      <td>2</td>\n      <td>2</td>\n      <td>3</td>\n    </tr>\n    <tr>\n      <th>997</th>\n      <th>ea82eec0</th>\n      <td>301</td>\n      <td>2023-05-16 16:45:52.829</td>\n      <td>0</td>\n      <td>0</td>\n      <td>0.000000</td>\n      <td>0.000000</td>\n      <td>121</td>\n      <td>110</td>\n      <td>49</td>\n      <td>46</td>\n      <td>17</td>\n      <td>99</td>\n      <td>6</td>\n      <td>5</td>\n      <td>7</td>\n      <td>3</td>\n      <td>0</td>\n      <td>2</td>\n      <td>2</td>\n      <td>3</td>\n    </tr>\n    <tr>\n      <th>998</th>\n      <th>ea82eec0</th>\n      <td>301</td>\n      <td>2023-05-16 16:46:08.932</td>\n      <td>0</td>\n      <td>0</td>\n      <td>0.000000</td>\n      <td>0.000000</td>\n      <td>130</td>\n      <td>38</td>\n      <td>44</td>\n      <td>37</td>\n      <td>10</td>\n      <td>84</td>\n      <td>6</td>\n      <td>8</td>\n      <td>7</td>\n      <td>3</td>\n      <td>0</td>\n      <td>2</td>\n      <td>2</td>\n      <td>3</td>\n    </tr>\n    <tr>\n      <th>999</th>\n      <th>ea82eec0</th>\n      <td>300</td>\n      <td>2023-05-16 16:46:23.519</td>\n      <td>0</td>\n      <td>0</td>\n      <td>0.000000</td>\n      <td>0.000000</td>\n      <td>197</td>\n      <td>160</td>\n      <td>42</td>\n      <td>40</td>\n      <td>4</td>\n      <td>64</td>\n      <td>2</td>\n      <td>10</td>\n      <td>7</td>\n      <td>3</td>\n      <td>0</td>\n      <td>2</td>\n      <td>2</td>\n      <td>3</td>\n    </tr>\n  </tbody>\n</table>\n<p>22342 rows × 20 columns</p>\n</div>"
     },
     "execution_count": 9,
     "metadata": {},
     "output_type": "execute_result"
    }
   ],
   "source": [
    "original_df"
   ],
   "metadata": {
    "collapsed": false,
    "pycharm": {
     "name": "#%%\n"
    }
   }
  },
  {
   "cell_type": "code",
   "execution_count": 9,
   "outputs": [],
   "source": [],
   "metadata": {
    "collapsed": false,
    "pycharm": {
     "name": "#%%\n"
    }
   }
  }
 ],
 "metadata": {
  "kernelspec": {
   "display_name": "Python 3",
   "language": "python",
   "name": "python3"
  },
  "language_info": {
   "codemirror_mode": {
    "name": "ipython",
    "version": 2
   },
   "file_extension": ".py",
   "mimetype": "text/x-python",
   "name": "python",
   "nbconvert_exporter": "python",
   "pygments_lexer": "ipython2",
   "version": "2.7.6"
  }
 },
 "nbformat": 4,
 "nbformat_minor": 0
}