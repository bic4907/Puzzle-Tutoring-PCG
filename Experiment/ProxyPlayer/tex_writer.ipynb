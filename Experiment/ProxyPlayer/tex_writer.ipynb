{
 "cells": [
  {
   "cell_type": "code",
   "execution_count": 222,
   "metadata": {
    "collapsed": true
   },
   "outputs": [],
   "source": [
    "import pandas as pd\n",
    "import matplotlib.pyplot as plt\n",
    "from sklearn.manifold import TSNE\n",
    "import seaborn as sns\n",
    "import re\n",
    "from os import path\n",
    "from glob import glob\n",
    "from tqdm import tqdm\n",
    "import numpy as np\n",
    "from matplotlib import cm\n",
    "from pprint import pprint\n"
   ]
  },
  {
   "cell_type": "code",
   "execution_count": 223,
   "metadata": {
    "collapsed": false,
    "pycharm": {
     "name": "#%%\n"
    }
   },
   "outputs": [],
   "source": [
    "StatisticsColumns = [\n",
    "    'ReachedKnowledgeStep',\n",
    "    #'AlmostReachedKnowledgeStep',\n",
    "    'Matched_HorizontalPiece', 'Matched_VerticalPiece', 'Matched_CrossPiece', 'Matched_RocketPiece', 'Matched_BombPiece', 'Matched_RainbowPiece']"
   ]
  },
  {
   "cell_type": "code",
   "execution_count": 224,
   "outputs": [
    {
     "name": "stdout",
     "output_type": "stream",
     "text": [
      "{'score', '-', 'knowledge'}\n"
     ]
    },
    {
     "name": "stderr",
     "output_type": "stream",
     "text": [
      "C:\\Users\\GIST\\.conda\\envs\\mlagents\\lib\\site-packages\\IPython\\core\\interactiveshell.py:3553: DtypeWarning: Columns (29,31) have mixed types.Specify dtype option on import or set low_memory=False.\n",
      "  exec(code_obj, self.user_global_ns, self.user_ns)\n"
     ]
    }
   ],
   "source": [
    "original_df = pd.read_csv('original_df.csv')\n",
    "print(set(original_df['objective']))"
   ],
   "metadata": {
    "collapsed": false,
    "pycharm": {
     "name": "#%%\n"
    }
   }
  },
  {
   "cell_type": "code",
   "execution_count": 225,
   "outputs": [
    {
     "data": {
      "text/plain": "   Unnamed: 0  EpisodeCount  StepCount                     Time InstanceUUID  \\\n0           0             1        200  2023-05-26 07:51:49.845     b1f56767   \n1           1             2        200  2023-05-26 07:55:40.408     b1f56767   \n2           2             3        200  2023-05-26 08:00:36.138     b1f56767   \n3           3             4        200  2023-05-26 08:05:35.639     b1f56767   \n4           4             5        200  2023-05-26 08:10:08.346     b1f56767   \n\n   SettleCount  ChangedCount  MeanComparisonCount  StdComparisonCount  \\\n0            0           254             1.032544            0.786839   \n1            0           267             1.086053            0.741027   \n2            0           283             1.094556            0.726904   \n3            0           261             1.078550            0.778417   \n4            0           258             1.011461            0.776734   \n\n   ReachedKnowledgeStep  ...  Target_BombPiece  Target_RainbowPiece  method  \\\n0                   130  ...                 2                    3    mcts   \n1                    -1  ...                 2                    3    mcts   \n2                   199  ...                 2                    3    mcts   \n3                    25  ...                 2                    3    mcts   \n4                    33  ...                 2                    3    mcts   \n\n   player  simpleEffect  objective  simulation  almostRatio  playerDepth  \\\n0       0             1  knowledge        1000          1.0            1   \n1       0             1  knowledge        1000          1.0            1   \n2       0             1  knowledge        1000          1.0            1   \n3       0             1  knowledge        1000          1.0            1   \n4       0             1  knowledge        1000          1.0            1   \n\n   Sum_Matched  \n0          546  \n1          474  \n2          420  \n3          372  \n4          438  \n\n[5 rows x 33 columns]",
      "text/html": "<div>\n<style scoped>\n    .dataframe tbody tr th:only-of-type {\n        vertical-align: middle;\n    }\n\n    .dataframe tbody tr th {\n        vertical-align: top;\n    }\n\n    .dataframe thead th {\n        text-align: right;\n    }\n</style>\n<table border=\"1\" class=\"dataframe\">\n  <thead>\n    <tr style=\"text-align: right;\">\n      <th></th>\n      <th>Unnamed: 0</th>\n      <th>EpisodeCount</th>\n      <th>StepCount</th>\n      <th>Time</th>\n      <th>InstanceUUID</th>\n      <th>SettleCount</th>\n      <th>ChangedCount</th>\n      <th>MeanComparisonCount</th>\n      <th>StdComparisonCount</th>\n      <th>ReachedKnowledgeStep</th>\n      <th>...</th>\n      <th>Target_BombPiece</th>\n      <th>Target_RainbowPiece</th>\n      <th>method</th>\n      <th>player</th>\n      <th>simpleEffect</th>\n      <th>objective</th>\n      <th>simulation</th>\n      <th>almostRatio</th>\n      <th>playerDepth</th>\n      <th>Sum_Matched</th>\n    </tr>\n  </thead>\n  <tbody>\n    <tr>\n      <th>0</th>\n      <td>0</td>\n      <td>1</td>\n      <td>200</td>\n      <td>2023-05-26 07:51:49.845</td>\n      <td>b1f56767</td>\n      <td>0</td>\n      <td>254</td>\n      <td>1.032544</td>\n      <td>0.786839</td>\n      <td>130</td>\n      <td>...</td>\n      <td>2</td>\n      <td>3</td>\n      <td>mcts</td>\n      <td>0</td>\n      <td>1</td>\n      <td>knowledge</td>\n      <td>1000</td>\n      <td>1.0</td>\n      <td>1</td>\n      <td>546</td>\n    </tr>\n    <tr>\n      <th>1</th>\n      <td>1</td>\n      <td>2</td>\n      <td>200</td>\n      <td>2023-05-26 07:55:40.408</td>\n      <td>b1f56767</td>\n      <td>0</td>\n      <td>267</td>\n      <td>1.086053</td>\n      <td>0.741027</td>\n      <td>-1</td>\n      <td>...</td>\n      <td>2</td>\n      <td>3</td>\n      <td>mcts</td>\n      <td>0</td>\n      <td>1</td>\n      <td>knowledge</td>\n      <td>1000</td>\n      <td>1.0</td>\n      <td>1</td>\n      <td>474</td>\n    </tr>\n    <tr>\n      <th>2</th>\n      <td>2</td>\n      <td>3</td>\n      <td>200</td>\n      <td>2023-05-26 08:00:36.138</td>\n      <td>b1f56767</td>\n      <td>0</td>\n      <td>283</td>\n      <td>1.094556</td>\n      <td>0.726904</td>\n      <td>199</td>\n      <td>...</td>\n      <td>2</td>\n      <td>3</td>\n      <td>mcts</td>\n      <td>0</td>\n      <td>1</td>\n      <td>knowledge</td>\n      <td>1000</td>\n      <td>1.0</td>\n      <td>1</td>\n      <td>420</td>\n    </tr>\n    <tr>\n      <th>3</th>\n      <td>3</td>\n      <td>4</td>\n      <td>200</td>\n      <td>2023-05-26 08:05:35.639</td>\n      <td>b1f56767</td>\n      <td>0</td>\n      <td>261</td>\n      <td>1.078550</td>\n      <td>0.778417</td>\n      <td>25</td>\n      <td>...</td>\n      <td>2</td>\n      <td>3</td>\n      <td>mcts</td>\n      <td>0</td>\n      <td>1</td>\n      <td>knowledge</td>\n      <td>1000</td>\n      <td>1.0</td>\n      <td>1</td>\n      <td>372</td>\n    </tr>\n    <tr>\n      <th>4</th>\n      <td>4</td>\n      <td>5</td>\n      <td>200</td>\n      <td>2023-05-26 08:10:08.346</td>\n      <td>b1f56767</td>\n      <td>0</td>\n      <td>258</td>\n      <td>1.011461</td>\n      <td>0.776734</td>\n      <td>33</td>\n      <td>...</td>\n      <td>2</td>\n      <td>3</td>\n      <td>mcts</td>\n      <td>0</td>\n      <td>1</td>\n      <td>knowledge</td>\n      <td>1000</td>\n      <td>1.0</td>\n      <td>1</td>\n      <td>438</td>\n    </tr>\n  </tbody>\n</table>\n<p>5 rows × 33 columns</p>\n</div>"
     },
     "execution_count": 225,
     "metadata": {},
     "output_type": "execute_result"
    }
   ],
   "source": [
    "original_df.head()\n"
   ],
   "metadata": {
    "collapsed": false,
    "pycharm": {
     "name": "#%%\n"
    }
   }
  },
  {
   "cell_type": "code",
   "execution_count": 226,
   "outputs": [
    {
     "data": {
      "text/plain": "['Unnamed: 0',\n 'EpisodeCount',\n 'StepCount',\n 'Time',\n 'InstanceUUID',\n 'SettleCount',\n 'ChangedCount',\n 'MeanComparisonCount',\n 'StdComparisonCount',\n 'ReachedKnowledgeStep',\n 'Q1ReachedKnowledgeStep',\n 'Q2ReachedKnowledgeStep',\n 'Q3ReachedKnowledgeStep',\n 'Matched_HorizontalPiece',\n 'Matched_VerticalPiece',\n 'Matched_CrossPiece',\n 'Matched_RocketPiece',\n 'Matched_BombPiece',\n 'Matched_RainbowPiece',\n 'Target_HorizontalPiece',\n 'Target_VerticalPiece',\n 'Target_CrossPiece',\n 'Target_RocketPiece',\n 'Target_BombPiece',\n 'Target_RainbowPiece',\n 'method',\n 'player',\n 'simpleEffect',\n 'objective',\n 'simulation',\n 'almostRatio',\n 'playerDepth',\n 'Sum_Matched']"
     },
     "execution_count": 226,
     "metadata": {},
     "output_type": "execute_result"
    }
   ],
   "source": [
    "original_df.columns.values.tolist()"
   ],
   "metadata": {
    "collapsed": false,
    "pycharm": {
     "name": "#%%\n"
    }
   }
  },
  {
   "cell_type": "code",
   "execution_count": 226,
   "metadata": {
    "collapsed": false,
    "pycharm": {
     "name": "#%%\n"
    }
   },
   "outputs": [],
   "source": []
  },
  {
   "cell_type": "code",
   "execution_count": 227,
   "outputs": [],
   "source": [
    "original_df['ReachedKnowledgeStep'] = original_df['ReachedKnowledgeStep'].replace(-1, 200)\n",
    "original_df['Q1ReachedKnowledgeStep'] = original_df['Q1ReachedKnowledgeStep'].replace(-1, 200)\n",
    "original_df['Q2ReachedKnowledgeStep'] = original_df['Q2ReachedKnowledgeStep'].replace(-1, 200)\n",
    "original_df['Q3ReachedKnowledgeStep'] = original_df['Q3ReachedKnowledgeStep'].replace(-1, 200)\n",
    "\n",
    "original_df.rename(columns={\n",
    "                            'ReachedKnowledgeStep': '100%',\n",
    "                            'Q1ReachedKnowledgeStep': '25%',\n",
    "                            'Q2ReachedKnowledgeStep': '50%',\n",
    "                            'Q3ReachedKnowledgeStep': '75%'\n",
    "                            }, inplace=True)\n",
    "\n",
    "\n",
    "for i in range(5):\n",
    "    original_df['playerDepth'] = original_df['playerDepth'].replace(str(i), i)\n",
    "for i in range(100, 1100, 100):\n",
    "    original_df['simulation'] = original_df['simulation'].replace(str(i), i)"
   ],
   "metadata": {
    "collapsed": false,
    "pycharm": {
     "name": "#%%\n"
    }
   }
  },
  {
   "cell_type": "raw",
   "source": [
    "\n",
    "pd.set_option('display.max_rows', None)\n",
    "match_result = original_df.groupby(['player', 'method', 'objective', 'playerDepth', 'almostRatio', 'simulation'])[\n",
    "                                      'method',\n",
    "                                      'Matched_HorizontalPiece',\n",
    "                                      'Matched_VerticalPiece',\n",
    "                                      'Matched_CrossPiece',\n",
    "                                      'Matched_RocketPiece',\n",
    "                                      'Matched_BombPiece',\n",
    "                                      'Matched_RainbowPiece',\n",
    "                                      #'AlmostReachedKnowledgeStep',\n",
    "                                      '25%',\n",
    "                                      '50%',\n",
    "                                      '75%',\n",
    "                                      '100%',\n",
    "                                      'Sum_Matched'].agg(\n",
    "    {\n",
    "        'method': ['count'],\n",
    "        #'AlmostReachedKnowledgeStep': ['mean'],\n",
    "        '25%': ['mean'],\n",
    "        '50%': ['mean'],\n",
    "        '75%': ['mean'],\n",
    "        '100%': ['mean'],\n",
    "        'Matched_HorizontalPiece':['mean'],\n",
    "        'Matched_VerticalPiece':['mean'],\n",
    "        'Matched_CrossPiece':['mean'],\n",
    "        'Matched_RocketPiece':['mean'],\n",
    "        'Matched_BombPiece':['mean'],\n",
    "        'Matched_RainbowPiece':['mean'],\n",
    "        'Sum_Matched':['mean'],\n",
    "     }\n",
    ")\n",
    "match_result\n",
    "\n"
   ],
   "metadata": {
    "collapsed": false,
    "pycharm": {
     "name": "#%% raw\n"
    }
   }
  },
  {
   "cell_type": "code",
   "execution_count": 228,
   "outputs": [
    {
     "name": "stderr",
     "output_type": "stream",
     "text": [
      "C:\\Users\\GIST\\.conda\\envs\\mlagents\\lib\\site-packages\\ipykernel_launcher.py:35: FutureWarning: Indexing with multiple keys (implicitly converted to a tuple of keys) will be deprecated, use a list instead.\n"
     ]
    },
    {
     "data": {
      "text/plain": "                                   25%        50%         75%        100%  \\\n                                  mean       mean        mean        mean   \nmethod objective simulation                                                 \nmcts   knowledge 200         42.611937  51.309878   67.405797   73.152937   \n                 1000        41.144894  49.446283   64.512645   69.469861   \n       score     200         42.481946  51.422843   67.284303   72.927214   \n                 1000        40.485230  49.148847   64.378883   69.575376   \nrandom -         -           78.032909  93.037636  116.757455  123.642000   \n\n                            Sum_Matched  \n                                   mean  \nmethod objective simulation              \nmcts   knowledge 200         409.094966  \n                 1000        425.942955  \n       score     200         409.164196  \n                 1000        432.499714  \nrandom -         -           235.380000  ",
      "text/html": "<div>\n<style scoped>\n    .dataframe tbody tr th:only-of-type {\n        vertical-align: middle;\n    }\n\n    .dataframe tbody tr th {\n        vertical-align: top;\n    }\n\n    .dataframe thead tr th {\n        text-align: left;\n    }\n\n    .dataframe thead tr:last-of-type th {\n        text-align: right;\n    }\n</style>\n<table border=\"1\" class=\"dataframe\">\n  <thead>\n    <tr>\n      <th></th>\n      <th></th>\n      <th></th>\n      <th>25%</th>\n      <th>50%</th>\n      <th>75%</th>\n      <th>100%</th>\n      <th>Sum_Matched</th>\n    </tr>\n    <tr>\n      <th></th>\n      <th></th>\n      <th></th>\n      <th>mean</th>\n      <th>mean</th>\n      <th>mean</th>\n      <th>mean</th>\n      <th>mean</th>\n    </tr>\n    <tr>\n      <th>method</th>\n      <th>objective</th>\n      <th>simulation</th>\n      <th></th>\n      <th></th>\n      <th></th>\n      <th></th>\n      <th></th>\n    </tr>\n  </thead>\n  <tbody>\n    <tr>\n      <th rowspan=\"4\" valign=\"top\">mcts</th>\n      <th rowspan=\"2\" valign=\"top\">knowledge</th>\n      <th>200</th>\n      <td>42.611937</td>\n      <td>51.309878</td>\n      <td>67.405797</td>\n      <td>73.152937</td>\n      <td>409.094966</td>\n    </tr>\n    <tr>\n      <th>1000</th>\n      <td>41.144894</td>\n      <td>49.446283</td>\n      <td>64.512645</td>\n      <td>69.469861</td>\n      <td>425.942955</td>\n    </tr>\n    <tr>\n      <th rowspan=\"2\" valign=\"top\">score</th>\n      <th>200</th>\n      <td>42.481946</td>\n      <td>51.422843</td>\n      <td>67.284303</td>\n      <td>72.927214</td>\n      <td>409.164196</td>\n    </tr>\n    <tr>\n      <th>1000</th>\n      <td>40.485230</td>\n      <td>49.148847</td>\n      <td>64.378883</td>\n      <td>69.575376</td>\n      <td>432.499714</td>\n    </tr>\n    <tr>\n      <th>random</th>\n      <th>-</th>\n      <th>-</th>\n      <td>78.032909</td>\n      <td>93.037636</td>\n      <td>116.757455</td>\n      <td>123.642000</td>\n      <td>235.380000</td>\n    </tr>\n  </tbody>\n</table>\n</div>"
     },
     "execution_count": 228,
     "metadata": {},
     "output_type": "execute_result"
    }
   ],
   "source": [
    "# pd.set_option('display.max_rows', None)\n",
    "\n",
    "\n",
    "match_result = original_df.copy()\n",
    "match_result = match_result[~match_result['almostRatio'].isin(['0.75'])]\n",
    "match_result = match_result[~match_result['playerDepth'].isin([2, 3])]\n",
    "match_result = match_result[~match_result['simulation'].isin([100, 400])]\n",
    "\n",
    "def remove_outliers(column):\n",
    "    # Calculate the z-score for the column\n",
    "    z_scores = (column - column.mean()) / column.std()\n",
    "\n",
    "    # Define the threshold for outliers (e.g., z-score > 3 or z-score < -3)\n",
    "    threshold = 3\n",
    "    # Return the column without the outliers\n",
    "    column[~(z_scores > -threshold)] = -9999\n",
    "    column[~(z_scores < threshold)] = -9999\n",
    "\n",
    "    return column\n",
    "\n",
    "\n",
    "columns_to_remove_outliers = ['25%',\n",
    "                              '50%',\n",
    "                              '75%',\n",
    "                              '100%',\n",
    "                            ]\n",
    "\n",
    "for column in columns_to_remove_outliers:\n",
    "    match_result[column] = match_result.groupby(['method', 'simpleEffect', 'objective', 'playerDepth', 'simulation'])[column].transform(remove_outliers)\n",
    "    match_result = match_result[match_result[column] != -9999]\n",
    "\n",
    "\n",
    "\n",
    "match_result = match_result.groupby(['method', 'objective', 'simulation'])[\n",
    "                                      '25%',\n",
    "                                      '50%',\n",
    "                                      '75%',\n",
    "                                      '100%',\n",
    "                                      'Sum_Matched'].agg(\n",
    "    {\n",
    "        '25%': ['mean',],\n",
    "        '50%': ['mean'],\n",
    "        '75%': ['mean'],\n",
    "        '100%': ['mean'],\n",
    "        'Sum_Matched': ['mean'],\n",
    "     }\n",
    ")\n",
    "match_result"
   ],
   "metadata": {
    "collapsed": false,
    "pycharm": {
     "name": "#%%\n"
    }
   }
  },
  {
   "cell_type": "code",
   "execution_count": 229,
   "outputs": [],
   "source": [
    "match_result.to_latex('mo.tex', float_format=\"%.3f\", escape=True)"
   ],
   "metadata": {
    "collapsed": false,
    "pycharm": {
     "name": "#%%\n"
    }
   }
  },
  {
   "cell_type": "code",
   "execution_count": 230,
   "outputs": [
    {
     "name": "stdout",
     "output_type": "stream",
     "text": [
      "                      25%      50%      75%     100%\n",
      "                     mean     mean     mean     mean\n",
      "method objective                                    \n",
      "mcts   knowledge  36.7620  43.6435  60.4405   60.831\n",
      "       score      36.6845  43.6300  60.4135   60.793\n",
      "random -          61.2860  73.0740  99.8200  100.708\n",
      "                     25%       50%      75%      100%\n",
      "                    mean      mean     mean      mean\n",
      "method objective                                     \n",
      "mcts   knowledge  45.043   65.2115   83.126   89.1310\n",
      "       score      43.286   62.6655   81.480   87.9865\n",
      "random -          77.904  111.0460  136.176  145.3540\n",
      "                      25%      50%       75%     100%\n",
      "                     mean     mean      mean     mean\n",
      "method objective                                     \n",
      "mcts   knowledge  44.7800  56.3385   71.9905   83.909\n",
      "       score      44.0625  54.7035   69.4565   82.367\n",
      "random -          76.9560  93.2860  115.7540  131.464\n",
      "                     25%       50%      75%      100%\n",
      "                    mean      mean     mean      mean\n",
      "method objective                                     \n",
      "mcts   knowledge  43.281   58.2705   76.842   81.1815\n",
      "       score      43.029   58.1450   75.443   79.9490\n",
      "random -          77.514  100.9600  128.342  133.8500\n"
     ]
    },
    {
     "name": "stderr",
     "output_type": "stream",
     "text": [
      "C:\\Users\\GIST\\.conda\\envs\\mlagents\\lib\\site-packages\\ipykernel_launcher.py:11: FutureWarning: Indexing with multiple keys (implicitly converted to a tuple of keys) will be deprecated, use a list instead.\n",
      "  # This is added back by InteractiveShellApp.init_path()\n",
      "C:\\Users\\GIST\\.conda\\envs\\mlagents\\lib\\site-packages\\ipykernel_launcher.py:11: FutureWarning: Indexing with multiple keys (implicitly converted to a tuple of keys) will be deprecated, use a list instead.\n",
      "  # This is added back by InteractiveShellApp.init_path()\n",
      "C:\\Users\\GIST\\.conda\\envs\\mlagents\\lib\\site-packages\\ipykernel_launcher.py:11: FutureWarning: Indexing with multiple keys (implicitly converted to a tuple of keys) will be deprecated, use a list instead.\n",
      "  # This is added back by InteractiveShellApp.init_path()\n",
      "C:\\Users\\GIST\\.conda\\envs\\mlagents\\lib\\site-packages\\ipykernel_launcher.py:11: FutureWarning: Indexing with multiple keys (implicitly converted to a tuple of keys) will be deprecated, use a list instead.\n",
      "  # This is added back by InteractiveShellApp.init_path()\n"
     ]
    }
   ],
   "source": [
    "for i in range(0, 4):\n",
    "    match_result = original_df.copy()\n",
    "    match_result = match_result[match_result['player'] == i]\n",
    "    match_result = match_result[~match_result['almostRatio'].isin(['0.75'])]\n",
    "    match_result = match_result[~match_result['playerDepth'].isin([2])]\n",
    "    match_result = match_result[~match_result['simulation'].isin([100, 400])]\n",
    "\n",
    "\n",
    "\n",
    "    match_result = match_result.groupby(['method', 'objective'])[\n",
    "                                          '25%',\n",
    "                                          '50%',\n",
    "                                          '75%',\n",
    "                                          '100%',\n",
    "                                          'Sum_Matched'].agg(\n",
    "        {\n",
    "            '25%': ['mean'],\n",
    "            '50%': ['mean'],\n",
    "            '75%': ['mean'],\n",
    "            '100%': ['mean'],\n",
    "         }\n",
    "    )\n",
    "    print(match_result)\n"
   ],
   "metadata": {
    "collapsed": false,
    "pycharm": {
     "name": "#%%\n"
    }
   }
  },
  {
   "cell_type": "raw",
   "source": [
    "\n",
    "top = cm.get_cmap('Oranges_r', 512)\n",
    "bottom = cm.get_cmap('Blues', 512)\n",
    "newcolors = np.vstack((top(np.linspace(0, 1, 512)),\n",
    "                       bottom(np.linspace(0, 1, 512))))\n",
    "newcolors = newcolors[:, :3]\n",
    "\n",
    "MIN = 0\n",
    "MAX = 1\n",
    "\n",
    "cmap = plt.cm.get_cmap('RdBu_r')\n",
    "\n",
    "def rgb_to_hex(r, g, b):\n",
    "    r, g, b = int(r * 255), int(g * 255), int(b * 255)\n",
    "    return hex(r)[2:].zfill(2) + hex(g)[2:].zfill(2) + hex(b)[2:].zfill(2)\n",
    "\n",
    "def styler_2(col):\n",
    "\n",
    "    cmap = plt.cm.get_cmap('RdBu_r')\n",
    "    means = col.groupby(level=0).transform('min')\n",
    "\n",
    "    if col.name[0] != 'Result[0]':\n",
    "\n",
    "        text_bold = ((col <= means).map({\n",
    "            True: 'textbf:--rwrap;',\n",
    "            False: ''\n",
    "        })).to_list()\n",
    "    else:\n",
    "        text_bold = ['' for _ in col]\n",
    "\n",
    "    colors = list()\n",
    "    for row, bf_str in zip(col, text_bold):\n",
    "\n",
    "        font_color = 'white' if abs(row) > 0.4 else 'black'\n",
    "\n",
    "        _val = row - 0.15\n",
    "        _val = _val + 0.5\n",
    "        hex_code = rgb_to_hex(*list(cmap(_val))[:3])\n",
    "\n",
    "        tag = bf_str\n",
    "        colors.append(tag)\n",
    "    return colors\n",
    "\n",
    "\n",
    "styled_table = match_result.style.apply(styler_2).format(precision=3)\n",
    "\n",
    "with open('required_steps.tex', 'w') as f:\n",
    "    latex_str = styled_table.to_latex(position_float='centering',\n",
    "                                      multicol_align=\"c\",\n",
    "                                      label='tab:pcg_controllbility_small',\n",
    "                                      caption='Descriptive statistics on the controllability of the generative models',\n",
    "                                      hrules=True)\n",
    "    latex_str = latex_str.replace('\\\\begin{table}', '\\\\begin{table}[!h]')\n",
    "    latex_str = latex_str.replace('%', '\\\\%')\n",
    "\n",
    "\n",
    "    latex_list = latex_str.splitlines()\n",
    "\n",
    "    # latex_list = concat_mean_std(latex_list, start_row_num=10, end_row_num=31, column_num=2)\n",
    "    # latex_list = concat_mean_std(latex_list, start_row_num=10, end_row_num=31, column_num=3)\n",
    "    #\n",
    "    # i = 13\n",
    "    # while i < len(latex_list) - 4:\n",
    "    #     latex_list.insert(i, '\\midrule')\n",
    "    #     i += 4\n",
    "\n",
    "    latex_str = '\\n'.join(latex_list)\n",
    "    f.write(latex_str)\n",
    "\n",
    "\n"
   ],
   "metadata": {
    "collapsed": false,
    "pycharm": {
     "name": "#%% raw\n"
    }
   }
  },
  {
   "cell_type": "code",
   "execution_count": 231,
   "outputs": [],
   "source": [
    "def get_legend_name(x):\n",
    "    if x['method'] == 'mcts':\n",
    "        if x['objective'] == 'score':\n",
    "            return f\"{x['method']}_{x['objective']}_{x['simulation']}_{x['playerDepth']}\"\n",
    "        elif x['objective'] == 'knowledge':\n",
    "            return f\"{x['method']}_{x['objective']}_{x['almostRatio']}_{x['simulation']}_{x['playerDepth']}\"\n",
    "        elif x['objective'] == 'kp':\n",
    "            return f\"{x['method']}_{x['objective']}_{x['almostRatio']}_{x['simulation']}_{x['playerDepth']}\"\n",
    "    else:\n",
    "        return f\"{x['method']}\""
   ],
   "metadata": {
    "collapsed": false,
    "pycharm": {
     "name": "#%%\n"
    }
   }
  },
  {
   "cell_type": "markdown",
   "metadata": {
    "collapsed": false,
    "pycharm": {
     "name": "#%% md\n"
    }
   },
   "source": []
  },
  {
   "cell_type": "code",
   "execution_count": 232,
   "outputs": [
    {
     "data": {
      "text/plain": "<Figure size 500x400 with 1 Axes>",
      "image/png": "[encoded data removed]"
     },
     "metadata": {},
     "output_type": "display_data"
    }
   ],
   "source": [
    "\n",
    "melted_df = original_df.copy()\n",
    "#\n",
    "# melted_df.rename(columns={\n",
    "#     'ReachedKnowledgeStep':'100',\n",
    "#     'Q1ReachedKnowledgeStep':'25',\n",
    "#     'Q2ReachedKnowledgeStep':'50',\n",
    "#     'Q3ReachedKnowledgeStep':'75'\n",
    "# }, inplace=True)\n",
    "\n",
    "_columns = [\n",
    "'25%', '50%', '75%', '100%',\n",
    "# Matched_HorizontalPiece', 'Matched_VerticalPiece', 'Matched_CrossPiece', 'Matched_RocketPiece', 'Matched_BombPiece', 'Matched_RainbowPiece'\n",
    "]\n",
    "\n",
    "# print(player_df.keys())\n",
    "sns.set_palette('Set2')\n",
    "# melted_df = melted_df.groupby(['method', 'objective', 'playerDepth', 'simulation']).sample(n=400, random_state=1, replace=True)\n",
    "melted_df['concat_method'] = melted_df.agg(lambda x: get_legend_name(x), axis=1)\n",
    "melted_df = pd.melt(melted_df, id_vars=['EpisodeCount', 'objective', 'concat_method', 'simulation', 'player'],\n",
    "                    value_vars=[*_columns], ignore_index=False)\n",
    "# pprint(set(melted_df['concat_method']))\n",
    "_methods = [\n",
    "    'mcts_kp_-_200_1',\n",
    "    'mcts_knowledge_1.0_200_1',\n",
    "    'mcts_score_200_1',\n",
    "    'random'\n",
    "]\n",
    "melted_df = melted_df[melted_df['concat_method'].isin(_methods)]\n",
    "\n",
    "plt.figure(figsize=(5, 4))\n",
    "plt.clf()\n",
    "ax = sns.boxplot(x=\"variable\", y=\"value\", hue=\"concat_method\", data=melted_df, dodge=True, linewidth=0.8)\n",
    "\n",
    "plt.legend(loc='upper left')\n",
    "ax.set_title(f'Required Steps for Learning Skill')\n",
    "ax.set_xlabel('Progress (%)')\n",
    "ax.set_ylabel('Step')\n",
    "# plt.savefig(f'./figures/learning_steps_p{player_no}', dpi=300)\n",
    "plt.show()"
   ],
   "metadata": {
    "collapsed": false,
    "pycharm": {
     "name": "#%%\n"
    }
   }
  },
  {
   "cell_type": "code",
   "execution_count": 232,
   "outputs": [],
   "source": [],
   "metadata": {
    "collapsed": false,
    "pycharm": {
     "name": "#%%\n"
    }
   }
  }
 ],
 "metadata": {
  "kernelspec": {
   "name": "python3",
   "language": "python",
   "display_name": "Python 3 (ipykernel)"
  },
  "language_info": {
   "codemirror_mode": {
    "name": "ipython",
    "version": 2
   },
   "file_extension": ".py",
   "mimetype": "text/x-python",
   "name": "python",
   "nbconvert_exporter": "python",
   "pygments_lexer": "ipython2",
   "version": "2.7.6"
  }
 },
 "nbformat": 4,
 "nbformat_minor": 0
}