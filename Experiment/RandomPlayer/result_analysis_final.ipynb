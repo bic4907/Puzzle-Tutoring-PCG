{
 "cells": [
  {
   "cell_type": "code",
   "execution_count": 50,
   "metadata": {
    "collapsed": true
   },
   "outputs": [],
   "source": [
    "import pandas as pd\n",
    "import matplotlib.pyplot as plt\n",
    "from sklearn.manifold import TSNE\n",
    "import seaborn as sns\n",
    "import re\n",
    "from os import path\n",
    "from glob import glob\n",
    "from tqdm import tqdm\n",
    "import numpy as np\n",
    "from matplotlib import cm\n",
    "from pprint import pprint\n",
    "from plotting_utils import get_legend_name, remove_outliers"
   ]
  },
  {
   "cell_type": "code",
   "execution_count": 51,
   "metadata": {
    "collapsed": false,
    "pycharm": {
     "name": "#%%\n"
    }
   },
   "outputs": [],
   "source": [
    "ROOT_PATH = '\\\\\\\\CILab_NAS_Data/homes/inchang/PuzzlePCG/RandomPlayer'"
   ]
  },
  {
   "cell_type": "code",
   "execution_count": 52,
   "metadata": {
    "collapsed": false,
    "pycharm": {
     "name": "#%%\n"
    }
   },
   "outputs": [],
   "source": [
    "files = glob(path.join(ROOT_PATH, '*', 'MatchResult_*.csv'))\n"
   ]
  },
  {
   "cell_type": "code",
   "execution_count": 53,
   "metadata": {
    "collapsed": false,
    "pycharm": {
     "name": "#%%\n"
    }
   },
   "outputs": [],
   "source": [
    "StatisticsColumns = [\n",
    "    'ReachedKnowledgeStep',\n",
    "    'Matched_HorizontalPiece', 'Matched_VerticalPiece', 'Matched_CrossPiece', 'Matched_RocketPiece', 'Matched_BombPiece', 'Matched_RainbowPiece']"
   ]
  },
  {
   "cell_type": "code",
   "execution_count": 54,
   "metadata": {
    "collapsed": false,
    "pycharm": {
     "name": "#%%\n"
    }
   },
   "outputs": [],
   "source": [
    "replacements = {\n",
    "    'met': 'method',\n",
    "    'pla': 'player',\n",
    "    'eff': 'simpleEffect',\n",
    "    'obj': 'objective',\n",
    "    'sim': 'simulation',\n",
    "    'rat': 'almostRatio',\n",
    "    'pdep': 'playerDepth',\n",
    "    'gp': 'greedyPercent',\n",
    "}\n",
    "\n",
    "def parse_filename(data):\n",
    "    result = dict()\n",
    "    for i in range(0, len(data), 2):\n",
    "        if data[i] in replacements.keys():\n",
    "            data[i] = replacements[data[i]]\n",
    "\n",
    "        result[data[i]] = data[i+1]\n",
    "\n",
    "    return result"
   ]
  },
  {
   "cell_type": "code",
   "metadata": {
    "collapsed": false,
    "pycharm": {
     "name": "#%%\n"
    }
   },
   "source": [
    "dfs = []\n",
    "for file_path in tqdm(files):\n",
    "    # print(file_path)\n",
    "    file_name = path.basename(file_path)\n",
    "\n",
    "    _file_name = file_name.split('_')[1:-1]\n",
    "    args = parse_filename(_file_name)\n",
    "\n",
    "    df = pd.read_csv(file_path)\n",
    "\n",
    "    for key, value in args.items():\n",
    "        df[key] = value\n",
    "    dfs.append(df)\n",
    "\n",
    "original_df = pd.concat(dfs)\n",
    "\n",
    "original_df['Sum_Matched'] = original_df['Matched_HorizontalPiece'] + original_df['Matched_HorizontalPiece'] + original_df['Matched_HorizontalPiece']  + \\\n",
    "    original_df['Matched_HorizontalPiece'] + original_df['Matched_HorizontalPiece'] + original_df['Matched_HorizontalPiece']\n",
    "original_df.loc[original_df['method'] == 'random', 'simulation'] = 0\n",
    "\n",
    "original_df['simpleEffect'] = original_df['simpleEffect'].replace(np.nan, 0)\n",
    "original_df['objective'] = original_df['objective'].replace(np.nan, '-')\n",
    "\n",
    "original_df.loc[original_df['method'] == 'random', 'playerDepth'] = '-'\n",
    "original_df.loc[original_df['method'] == 'sampling', 'playerDepth'] = '-'\n",
    "original_df.loc[original_df['method'] == 'ga', 'playerDepth'] = '-'\n",
    "original_df.loc[original_df['method'] == 'ga2', 'playerDepth'] = '-'\n",
    "original_df.loc[original_df['method'] == 'random', 'simulation'] = '-'\n",
    "original_df.loc[original_df['method'] == 'ga', 'simulation'] = '-'\n",
    "original_df.loc[original_df['method'] == 'ga2', 'simulation'] = '-'\n",
    "# original_df.loc[original_df['method'] == 'sampling', 'simulation'] = '-'\n",
    "original_df.loc[original_df['method'] == 'random', 'almostRatio'] = '-'\n",
    "original_df.loc[original_df['method'] == 'sampling', 'almostRatio'] = '-'\n",
    "original_df.loc[original_df['method'] == 'ga', 'almostRatio'] = '-'\n",
    "original_df.loc[original_df['objective'] == 'kp', 'almostRatio'] = '-'\n",
    "original_df.loc[original_df['objective'] == 'score', 'almostRatio'] = '-'"
   ],
   "execution_count": 55,
   "outputs": [
    {
     "name": "stderr",
     "output_type": "stream",
     "text": [
      "100%|██████████| 44/44 [00:03<00:00, 12.94it/s]\n"
     ]
    }
   ]
  },
  {
   "cell_type": "code",
   "execution_count": 56,
   "outputs": [
    {
     "data": {
      "text/plain": "    EpisodeCount  StepCount                     Time InstanceUUID  \\\n0              1        200  2023-06-13 12:46:58.114     e7eb36ef   \n1              2        200  2023-06-13 12:48:12.154     e7eb36ef   \n2              3        200  2023-06-13 12:49:17.719     e7eb36ef   \n3              4        200  2023-06-13 12:50:31.993     e7eb36ef   \n4              5        200  2023-06-13 12:51:39.539     e7eb36ef   \n..           ...        ...                      ...          ...   \n14            15        200  2023-06-14 02:15:28.954     5987207f   \n15            16        200  2023-06-14 02:15:37.828     5987207f   \n16            17        200  2023-06-14 02:15:46.564     5987207f   \n17            18        200  2023-06-14 02:15:55.002     5987207f   \n18            19        200  2023-06-14 02:16:03.701     5987207f   \n\n    SettleCount  ChangedCount  MeanGenerateRuntimes  StdGenerateRuntimes  \\\n0             0             0          2.168233e-01             0.164157   \n1             0             0          1.807801e-01             0.132370   \n2             0             0          1.836220e-01             0.146176   \n3             0             0          1.943459e-01             0.142406   \n4             0             0          1.765530e-01             0.130542   \n..          ...           ...                   ...                  ...   \n14            0             0          6.868908e-07             0.000003   \n15            0             0          5.172471e-07             0.000003   \n16            0             0          5.449568e-07             0.000003   \n17            0             0          6.160381e-07             0.000003   \n18            0             0          5.700122e-07             0.000003   \n\n    MeanGenerateScores  StdGenerateScores  ...  Target_RainbowPiece  method  \\\n0             0.118716           0.305143  ...                    3    mcts   \n1             0.116269           0.301001  ...                    3    mcts   \n2             0.122816           0.307749  ...                    3    mcts   \n3             0.111117           0.297865  ...                    3    mcts   \n4             0.102916           0.287193  ...                    3    mcts   \n..                 ...                ...  ...                  ...     ...   \n14            0.000000           0.000000  ...                    5  random   \n15            0.000000           0.000000  ...                    5  random   \n16            0.000000           0.000000  ...                    5  random   \n17            0.000000           0.000000  ...                    5  random   \n18            0.000000           0.000000  ...                    5  random   \n\n    player  simpleEffect  objective  simulation  almostRatio  playerDepth  \\\n0        0             1  knowledge         200          1.0            1   \n1        0             1  knowledge         200          1.0            1   \n2        0             1  knowledge         200          1.0            1   \n3        0             1  knowledge         200          1.0            1   \n4        0             1  knowledge         200          1.0            1   \n..     ...           ...        ...         ...          ...          ...   \n14       9             1          -           -            -            -   \n15       9             1          -           -            -            -   \n16       9             1          -           -            -            -   \n17       9             1          -           -            -            -   \n18       9             1          -           -            -            -   \n\n    greedyPercent  Sum_Matched  \n0             0.5          330  \n1             0.5          318  \n2             0.5          228  \n3             0.5          258  \n4             0.5          258  \n..            ...          ...  \n14            NaN          294  \n15            NaN          204  \n16            NaN          288  \n17            NaN          264  \n18            NaN          258  \n\n[16010 rows x 35 columns]",
      "text/html": "<div>\n<style scoped>\n    .dataframe tbody tr th:only-of-type {\n        vertical-align: middle;\n    }\n\n    .dataframe tbody tr th {\n        vertical-align: top;\n    }\n\n    .dataframe thead th {\n        text-align: right;\n    }\n</style>\n<table border=\"1\" class=\"dataframe\">\n  <thead>\n    <tr style=\"text-align: right;\">\n      <th></th>\n      <th>EpisodeCount</th>\n      <th>StepCount</th>\n      <th>Time</th>\n      <th>InstanceUUID</th>\n      <th>SettleCount</th>\n      <th>ChangedCount</th>\n      <th>MeanGenerateRuntimes</th>\n      <th>StdGenerateRuntimes</th>\n      <th>MeanGenerateScores</th>\n      <th>StdGenerateScores</th>\n      <th>...</th>\n      <th>Target_RainbowPiece</th>\n      <th>method</th>\n      <th>player</th>\n      <th>simpleEffect</th>\n      <th>objective</th>\n      <th>simulation</th>\n      <th>almostRatio</th>\n      <th>playerDepth</th>\n      <th>greedyPercent</th>\n      <th>Sum_Matched</th>\n    </tr>\n  </thead>\n  <tbody>\n    <tr>\n      <th>0</th>\n      <td>1</td>\n      <td>200</td>\n      <td>2023-06-13 12:46:58.114</td>\n      <td>e7eb36ef</td>\n      <td>0</td>\n      <td>0</td>\n      <td>2.168233e-01</td>\n      <td>0.164157</td>\n      <td>0.118716</td>\n      <td>0.305143</td>\n      <td>...</td>\n      <td>3</td>\n      <td>mcts</td>\n      <td>0</td>\n      <td>1</td>\n      <td>knowledge</td>\n      <td>200</td>\n      <td>1.0</td>\n      <td>1</td>\n      <td>0.5</td>\n      <td>330</td>\n    </tr>\n    <tr>\n      <th>1</th>\n      <td>2</td>\n      <td>200</td>\n      <td>2023-06-13 12:48:12.154</td>\n      <td>e7eb36ef</td>\n      <td>0</td>\n      <td>0</td>\n      <td>1.807801e-01</td>\n      <td>0.132370</td>\n      <td>0.116269</td>\n      <td>0.301001</td>\n      <td>...</td>\n      <td>3</td>\n      <td>mcts</td>\n      <td>0</td>\n      <td>1</td>\n      <td>knowledge</td>\n      <td>200</td>\n      <td>1.0</td>\n      <td>1</td>\n      <td>0.5</td>\n      <td>318</td>\n    </tr>\n    <tr>\n      <th>2</th>\n      <td>3</td>\n      <td>200</td>\n      <td>2023-06-13 12:49:17.719</td>\n      <td>e7eb36ef</td>\n      <td>0</td>\n      <td>0</td>\n      <td>1.836220e-01</td>\n      <td>0.146176</td>\n      <td>0.122816</td>\n      <td>0.307749</td>\n      <td>...</td>\n      <td>3</td>\n      <td>mcts</td>\n      <td>0</td>\n      <td>1</td>\n      <td>knowledge</td>\n      <td>200</td>\n      <td>1.0</td>\n      <td>1</td>\n      <td>0.5</td>\n      <td>228</td>\n    </tr>\n    <tr>\n      <th>3</th>\n      <td>4</td>\n      <td>200</td>\n      <td>2023-06-13 12:50:31.993</td>\n      <td>e7eb36ef</td>\n      <td>0</td>\n      <td>0</td>\n      <td>1.943459e-01</td>\n      <td>0.142406</td>\n      <td>0.111117</td>\n      <td>0.297865</td>\n      <td>...</td>\n      <td>3</td>\n      <td>mcts</td>\n      <td>0</td>\n      <td>1</td>\n      <td>knowledge</td>\n      <td>200</td>\n      <td>1.0</td>\n      <td>1</td>\n      <td>0.5</td>\n      <td>258</td>\n    </tr>\n    <tr>\n      <th>4</th>\n      <td>5</td>\n      <td>200</td>\n      <td>2023-06-13 12:51:39.539</td>\n      <td>e7eb36ef</td>\n      <td>0</td>\n      <td>0</td>\n      <td>1.765530e-01</td>\n      <td>0.130542</td>\n      <td>0.102916</td>\n      <td>0.287193</td>\n      <td>...</td>\n      <td>3</td>\n      <td>mcts</td>\n      <td>0</td>\n      <td>1</td>\n      <td>knowledge</td>\n      <td>200</td>\n      <td>1.0</td>\n      <td>1</td>\n      <td>0.5</td>\n      <td>258</td>\n    </tr>\n    <tr>\n      <th>...</th>\n      <td>...</td>\n      <td>...</td>\n      <td>...</td>\n      <td>...</td>\n      <td>...</td>\n      <td>...</td>\n      <td>...</td>\n      <td>...</td>\n      <td>...</td>\n      <td>...</td>\n      <td>...</td>\n      <td>...</td>\n      <td>...</td>\n      <td>...</td>\n      <td>...</td>\n      <td>...</td>\n      <td>...</td>\n      <td>...</td>\n      <td>...</td>\n      <td>...</td>\n      <td>...</td>\n    </tr>\n    <tr>\n      <th>14</th>\n      <td>15</td>\n      <td>200</td>\n      <td>2023-06-14 02:15:28.954</td>\n      <td>5987207f</td>\n      <td>0</td>\n      <td>0</td>\n      <td>6.868908e-07</td>\n      <td>0.000003</td>\n      <td>0.000000</td>\n      <td>0.000000</td>\n      <td>...</td>\n      <td>5</td>\n      <td>random</td>\n      <td>9</td>\n      <td>1</td>\n      <td>-</td>\n      <td>-</td>\n      <td>-</td>\n      <td>-</td>\n      <td>NaN</td>\n      <td>294</td>\n    </tr>\n    <tr>\n      <th>15</th>\n      <td>16</td>\n      <td>200</td>\n      <td>2023-06-14 02:15:37.828</td>\n      <td>5987207f</td>\n      <td>0</td>\n      <td>0</td>\n      <td>5.172471e-07</td>\n      <td>0.000003</td>\n      <td>0.000000</td>\n      <td>0.000000</td>\n      <td>...</td>\n      <td>5</td>\n      <td>random</td>\n      <td>9</td>\n      <td>1</td>\n      <td>-</td>\n      <td>-</td>\n      <td>-</td>\n      <td>-</td>\n      <td>NaN</td>\n      <td>204</td>\n    </tr>\n    <tr>\n      <th>16</th>\n      <td>17</td>\n      <td>200</td>\n      <td>2023-06-14 02:15:46.564</td>\n      <td>5987207f</td>\n      <td>0</td>\n      <td>0</td>\n      <td>5.449568e-07</td>\n      <td>0.000003</td>\n      <td>0.000000</td>\n      <td>0.000000</td>\n      <td>...</td>\n      <td>5</td>\n      <td>random</td>\n      <td>9</td>\n      <td>1</td>\n      <td>-</td>\n      <td>-</td>\n      <td>-</td>\n      <td>-</td>\n      <td>NaN</td>\n      <td>288</td>\n    </tr>\n    <tr>\n      <th>17</th>\n      <td>18</td>\n      <td>200</td>\n      <td>2023-06-14 02:15:55.002</td>\n      <td>5987207f</td>\n      <td>0</td>\n      <td>0</td>\n      <td>6.160381e-07</td>\n      <td>0.000003</td>\n      <td>0.000000</td>\n      <td>0.000000</td>\n      <td>...</td>\n      <td>5</td>\n      <td>random</td>\n      <td>9</td>\n      <td>1</td>\n      <td>-</td>\n      <td>-</td>\n      <td>-</td>\n      <td>-</td>\n      <td>NaN</td>\n      <td>264</td>\n    </tr>\n    <tr>\n      <th>18</th>\n      <td>19</td>\n      <td>200</td>\n      <td>2023-06-14 02:16:03.701</td>\n      <td>5987207f</td>\n      <td>0</td>\n      <td>0</td>\n      <td>5.700122e-07</td>\n      <td>0.000003</td>\n      <td>0.000000</td>\n      <td>0.000000</td>\n      <td>...</td>\n      <td>5</td>\n      <td>random</td>\n      <td>9</td>\n      <td>1</td>\n      <td>-</td>\n      <td>-</td>\n      <td>-</td>\n      <td>-</td>\n      <td>NaN</td>\n      <td>258</td>\n    </tr>\n  </tbody>\n</table>\n<p>16010 rows × 35 columns</p>\n</div>"
     },
     "execution_count": 56,
     "metadata": {},
     "output_type": "execute_result"
    }
   ],
   "source": [
    "original_df"
   ],
   "metadata": {
    "collapsed": false,
    "pycharm": {
     "name": "#%%\n"
    }
   }
  },
  {
   "cell_type": "code",
   "execution_count": 57,
   "outputs": [],
   "source": [
    "# 완료하지 못했을 경우, 에피소드 최대길이로 설정\n",
    "original_df['ReachedKnowledgeStep'] = original_df['ReachedKnowledgeStep'].replace(-1, 200)\n",
    "original_df['Q1ReachedKnowledgeStep'] = original_df['Q1ReachedKnowledgeStep'].replace(-1, 200)\n",
    "original_df['Q2ReachedKnowledgeStep'] = original_df['Q2ReachedKnowledgeStep'].replace(-1, 200)\n",
    "original_df['Q3ReachedKnowledgeStep'] = original_df['Q3ReachedKnowledgeStep'].replace(-1, 200)\n"
   ],
   "metadata": {
    "collapsed": false,
    "pycharm": {
     "name": "#%%\n"
    }
   }
  },
  {
   "cell_type": "raw",
   "metadata": {
    "collapsed": false,
    "pycharm": {
     "name": "#%% raw\n"
    }
   },
   "source": [
    "\n",
    "pd.set_option('display.max_rows', None)\n",
    "match_result = original_df.groupby(['player', 'method', 'objective', 'playerDepth', 'almostRatio', 'simulation'])[\n",
    "                                      'method',\n",
    "                                      'Matched_HorizontalPiece',\n",
    "                                      'Matched_VerticalPiece',\n",
    "                                      'Matched_CrossPiece',\n",
    "                                      'Matched_RocketPiece',\n",
    "                                      'Matched_BombPiece',\n",
    "                                      'Matched_RainbowPiece',\n",
    "                                      'Q1ReachedKnowledgeStep',\n",
    "                                      'Q2ReachedKnowledgeStep',\n",
    "                                      'Q3ReachedKnowledgeStep',\n",
    "                                      'ReachedKnowledgeStep',\n",
    "                                      'Sum_Matched'].agg(\n",
    "    {\n",
    "        'method': ['count'],\n",
    "        'Q1ReachedKnowledgeStep': ['mean'],\n",
    "        'Q2ReachedKnowledgeStep': ['mean'],\n",
    "        'Q3ReachedKnowledgeStep': ['mean'],\n",
    "        'ReachedKnowledgeStep': ['mean'],\n",
    "        'Matched_HorizontalPiece':['mean'],\n",
    "        'Matched_VerticalPiece':['mean'],\n",
    "        'Matched_CrossPiece':['mean'],\n",
    "        'Matched_RocketPiece':['mean'],\n",
    "        'Matched_BombPiece':['mean'],\n",
    "        'Matched_RainbowPiece':['mean'],\n",
    "        'Sum_Matched':['mean'],\n",
    "     }\n",
    ")\n",
    "\n",
    "\n"
   ]
  },
  {
   "cell_type": "code",
   "execution_count": 58,
   "outputs": [],
   "source": [
    "for i in range(5):\n",
    "    original_df['playerDepth'] = original_df['playerDepth'].replace(str(i), i)\n",
    "for i in range(100, 1000, 100):\n",
    "    original_df['simulation'] = original_df['simulation'].replace(str(i), i)"
   ],
   "metadata": {
    "collapsed": false,
    "pycharm": {
     "name": "#%%\n"
    }
   }
  },
  {
   "cell_type": "code",
   "execution_count": 59,
   "outputs": [
    {
     "name": "stderr",
     "output_type": "stream",
     "text": [
      "C:\\Users\\GIST\\.conda\\envs\\mlagents\\lib\\site-packages\\ipykernel_launcher.py:2: FutureWarning: Indexing with multiple keys (implicitly converted to a tuple of keys) will be deprecated, use a list instead.\n",
      "  \n"
     ]
    },
    {
     "data": {
      "text/plain": "                                                      method\n                                                       count\nmethod objective playerDepth simulation greedyPercent       \nmcts   knowledge 1           200        0.5             5195\n                                        0.75            5109\n                                        1.0             5495",
      "text/html": "<div>\n<style scoped>\n    .dataframe tbody tr th:only-of-type {\n        vertical-align: middle;\n    }\n\n    .dataframe tbody tr th {\n        vertical-align: top;\n    }\n\n    .dataframe thead tr th {\n        text-align: left;\n    }\n\n    .dataframe thead tr:last-of-type th {\n        text-align: right;\n    }\n</style>\n<table border=\"1\" class=\"dataframe\">\n  <thead>\n    <tr>\n      <th></th>\n      <th></th>\n      <th></th>\n      <th></th>\n      <th></th>\n      <th>method</th>\n    </tr>\n    <tr>\n      <th></th>\n      <th></th>\n      <th></th>\n      <th></th>\n      <th></th>\n      <th>count</th>\n    </tr>\n    <tr>\n      <th>method</th>\n      <th>objective</th>\n      <th>playerDepth</th>\n      <th>simulation</th>\n      <th>greedyPercent</th>\n      <th></th>\n    </tr>\n  </thead>\n  <tbody>\n    <tr>\n      <th rowspan=\"3\" valign=\"top\">mcts</th>\n      <th rowspan=\"3\" valign=\"top\">knowledge</th>\n      <th rowspan=\"3\" valign=\"top\">1</th>\n      <th rowspan=\"3\" valign=\"top\">200</th>\n      <th>0.5</th>\n      <td>5195</td>\n    </tr>\n    <tr>\n      <th>0.75</th>\n      <td>5109</td>\n    </tr>\n    <tr>\n      <th>1.0</th>\n      <td>5495</td>\n    </tr>\n  </tbody>\n</table>\n</div>"
     },
     "execution_count": 59,
     "metadata": {},
     "output_type": "execute_result"
    }
   ],
   "source": [
    "match_result = original_df.groupby(['method', 'objective', 'playerDepth', 'simulation', 'greedyPercent'])[\n",
    "                                      'method',\n",
    "                                      'Matched_HorizontalPiece',\n",
    "                                      'Matched_VerticalPiece',\n",
    "                                      'Matched_CrossPiece',\n",
    "                                      'Matched_RocketPiece',\n",
    "                                      'Matched_BombPiece',\n",
    "                                      'Matched_RainbowPiece',\n",
    "                                      #'AlmostReachedKnowledgeStep',\n",
    "                                      'Q1ReachedKnowledgeStep',\n",
    "                                      'Q2ReachedKnowledgeStep',\n",
    "                                      'Q3ReachedKnowledgeStep',\n",
    "                                      'ReachedKnowledgeStep',\n",
    "                                      'Sum_Matched'].agg(\n",
    "    {\n",
    "        'method': ['count'],\n",
    "     }\n",
    ")\n",
    "match_result\n",
    "\n",
    "\n"
   ],
   "metadata": {
    "collapsed": false,
    "pycharm": {
     "name": "#%%\n"
    }
   }
  },
  {
   "cell_type": "markdown",
   "source": [
    "### Full Result"
   ],
   "metadata": {
    "collapsed": false,
    "pycharm": {
     "name": "#%% md\n"
    }
   }
  },
  {
   "cell_type": "code",
   "execution_count": 60,
   "outputs": [
    {
     "data": {
      "text/plain": "Index(['EpisodeCount', 'StepCount', 'Time', 'InstanceUUID', 'SettleCount',\n       'ChangedCount', 'MeanGenerateRuntimes', 'StdGenerateRuntimes',\n       'MeanGenerateScores', 'StdGenerateScores', 'ReachedKnowledgeStep',\n       'Q1ReachedKnowledgeStep', 'Q2ReachedKnowledgeStep',\n       'Q3ReachedKnowledgeStep', 'Matched_HorizontalPiece',\n       'Matched_VerticalPiece', 'Matched_CrossPiece', 'Matched_RocketPiece',\n       'Matched_BombPiece', 'Matched_RainbowPiece', 'Target_HorizontalPiece',\n       'Target_VerticalPiece', 'Target_CrossPiece', 'Target_RocketPiece',\n       'Target_BombPiece', 'Target_RainbowPiece', 'method', 'player',\n       'simpleEffect', 'objective', 'simulation', 'almostRatio', 'playerDepth',\n       'greedyPercent', 'Sum_Matched'],\n      dtype='object')"
     },
     "execution_count": 60,
     "metadata": {},
     "output_type": "execute_result"
    }
   ],
   "source": [
    "original_df.keys()"
   ],
   "metadata": {
    "collapsed": false,
    "pycharm": {
     "name": "#%%\n"
    }
   }
  },
  {
   "cell_type": "raw",
   "source": [
    "\n",
    "\n",
    "# Drop outliers\n",
    "match_result = original_df.copy()\n",
    "\n",
    "match_result = match_result[~match_result['almostRatio'].isin(['0.75'])]\n",
    "# match_result = match_result[~match_result['playerDepth'].isin([2])]\n",
    "# match_result = match_result[~match_result['simulation'].isin([100, 400])]\n",
    "\n",
    "\n",
    "\n",
    "columns_to_remove_outliers = ['Q1ReachedKnowledgeStep',\n",
    "                              'Q2ReachedKnowledgeStep',\n",
    "                              'Q3ReachedKnowledgeStep',\n",
    "                              'ReachedKnowledgeStep']\n",
    "\n",
    "for column in columns_to_remove_outliers:\n",
    "    match_result[column] = match_result.groupby(['method', 'simpleEffect', 'objective', 'playerDepth', 'simulation'])[column].transform(remove_outliers)\n",
    "    match_result = match_result[match_result[column] != -9999]\n",
    "\n",
    "match_result_noout = match_result.copy()\n",
    "\n",
    "# print(set(match_result['playerDepth']))\n",
    "# pd.set_option('display.max_rows', None)\n",
    "match_result = match_result.groupby(['method', 'simpleEffect','objective', 'playerDepth', 'simulation', 'greedyPercent'])[\n",
    "                                      'method',\n",
    "                                      'Matched_HorizontalPiece',\n",
    "                                      'Matched_VerticalPiece',\n",
    "                                      'Matched_CrossPiece',\n",
    "                                      'Matched_RocketPiece',\n",
    "                                      'Matched_BombPiece',\n",
    "                                      'Matched_RainbowPiece',\n",
    "                                      'Q1ReachedKnowledgeStep',\n",
    "                                      'Q2ReachedKnowledgeStep',\n",
    "                                      'Q3ReachedKnowledgeStep',\n",
    "                                      'ReachedKnowledgeStep',\n",
    "                                      'Sum_Matched'].agg(\n",
    "    {\n",
    "        'method': ['count']\n",
    "     }\n",
    ")\n",
    "match_result\n",
    "\n"
   ],
   "metadata": {
    "collapsed": false,
    "pycharm": {
     "name": "#%% raw\n"
    }
   }
  },
  {
   "cell_type": "markdown",
   "source": [
    "### Depth 1 Result"
   ],
   "metadata": {
    "collapsed": false
   }
  },
  {
   "cell_type": "code",
   "execution_count": 61,
   "outputs": [
    {
     "name": "stderr",
     "output_type": "stream",
     "text": [
      "C:\\Users\\GIST\\.conda\\envs\\mlagents\\lib\\site-packages\\ipykernel_launcher.py:30: FutureWarning: Indexing with multiple keys (implicitly converted to a tuple of keys) will be deprecated, use a list instead.\n"
     ]
    },
    {
     "data": {
      "text/plain": "                                          Sum_Matched        25%        50%  \\\n                                                 mean       mean       mean   \nmethod objective simulation greedyPercent                                     \nmcts   knowledge 200        0.5            298.855746  38.072535  45.469234   \n                            0.75           313.875826  32.851592  39.951933   \n                            1.0            255.465148  29.012937  35.120100   \n\n                                                 75%       100%  \n                                                mean       mean  \nmethod objective simulation greedyPercent                        \nmcts   knowledge 200        0.5            57.067645  62.291972  \n                            0.75           49.945924  54.727819  \n                            1.0            44.567291  48.906932  ",
      "text/html": "<div>\n<style scoped>\n    .dataframe tbody tr th:only-of-type {\n        vertical-align: middle;\n    }\n\n    .dataframe tbody tr th {\n        vertical-align: top;\n    }\n\n    .dataframe thead tr th {\n        text-align: left;\n    }\n\n    .dataframe thead tr:last-of-type th {\n        text-align: right;\n    }\n</style>\n<table border=\"1\" class=\"dataframe\">\n  <thead>\n    <tr>\n      <th></th>\n      <th></th>\n      <th></th>\n      <th></th>\n      <th>Sum_Matched</th>\n      <th>25%</th>\n      <th>50%</th>\n      <th>75%</th>\n      <th>100%</th>\n    </tr>\n    <tr>\n      <th></th>\n      <th></th>\n      <th></th>\n      <th></th>\n      <th>mean</th>\n      <th>mean</th>\n      <th>mean</th>\n      <th>mean</th>\n      <th>mean</th>\n    </tr>\n    <tr>\n      <th>method</th>\n      <th>objective</th>\n      <th>simulation</th>\n      <th>greedyPercent</th>\n      <th></th>\n      <th></th>\n      <th></th>\n      <th></th>\n      <th></th>\n    </tr>\n  </thead>\n  <tbody>\n    <tr>\n      <th rowspan=\"3\" valign=\"top\">mcts</th>\n      <th rowspan=\"3\" valign=\"top\">knowledge</th>\n      <th rowspan=\"3\" valign=\"top\">200</th>\n      <th>0.5</th>\n      <td>298.855746</td>\n      <td>38.072535</td>\n      <td>45.469234</td>\n      <td>57.067645</td>\n      <td>62.291972</td>\n    </tr>\n    <tr>\n      <th>0.75</th>\n      <td>313.875826</td>\n      <td>32.851592</td>\n      <td>39.951933</td>\n      <td>49.945924</td>\n      <td>54.727819</td>\n    </tr>\n    <tr>\n      <th>1.0</th>\n      <td>255.465148</td>\n      <td>29.012937</td>\n      <td>35.120100</td>\n      <td>44.567291</td>\n      <td>48.906932</td>\n    </tr>\n  </tbody>\n</table>\n</div>"
     },
     "execution_count": 61,
     "metadata": {},
     "output_type": "execute_result"
    }
   ],
   "source": [
    "# Drop outliers\n",
    "match_result = original_df.copy()\n",
    "\n",
    "match_result = match_result[~match_result['almostRatio'].isin(['0.75'])]\n",
    "match_result = match_result[~match_result['playerDepth'].isin([2, 3])]\n",
    "match_result = match_result[~match_result['objective'].isin([2, 3])]\n",
    "# match_result = match_result[~match_result['simulation'].isin([200])]\n",
    "\n",
    "\n",
    "columns_to_remove_outliers = ['Q1ReachedKnowledgeStep',\n",
    "                              'Q2ReachedKnowledgeStep',\n",
    "                              'Q3ReachedKnowledgeStep',\n",
    "                              'ReachedKnowledgeStep']\n",
    "\n",
    "for column in columns_to_remove_outliers:\n",
    "    match_result[column] = match_result.groupby(['method', 'simpleEffect', 'objective', 'playerDepth', 'simulation'])[column].transform(remove_outliers)\n",
    "    match_result = match_result[match_result[column] != -9999]\n",
    "\n",
    "# print(set(match_result['playerDepth']))\n",
    "# pd.set_option('display.max_rows', None)\n",
    "\n",
    "match_result.rename(columns={\n",
    "                            'ReachedKnowledgeStep': '100%',\n",
    "                            'Q1ReachedKnowledgeStep': '25%',\n",
    "                            'Q2ReachedKnowledgeStep': '50%',\n",
    "                            'Q3ReachedKnowledgeStep': '75%'\n",
    "                            }, inplace=True)\n",
    "\n",
    "match_result = match_result.groupby(['method', 'objective', 'simulation', 'greedyPercent'])[\n",
    "                                      '25%',\n",
    "                                      '50%',\n",
    "                                      '75%',\n",
    "                                      '100%',\n",
    "                                      'Sum_Matched'].agg(\n",
    "    {\n",
    "        'Sum_Matched': ['mean',],\n",
    "        '25%': ['mean'],\n",
    "        '50%': ['mean'],\n",
    "        '75%': ['mean'],\n",
    "        '100%': ['mean'],\n",
    "     }\n",
    ")\n",
    "match_result"
   ],
   "metadata": {
    "collapsed": false,
    "pycharm": {
     "name": "#%%\n"
    }
   }
  },
  {
   "cell_type": "code",
   "execution_count": 62,
   "outputs": [],
   "source": [
    "match_result.to_latex('match_count_table.tex', float_format=\"%.3f\", escape=True)\n"
   ],
   "metadata": {
    "collapsed": false,
    "pycharm": {
     "name": "#%%\n"
    }
   }
  },
  {
   "cell_type": "code",
   "execution_count": 63,
   "outputs": [],
   "source": [
    "display_graphs = ['random', 'ga',\n",
    "                  'sampling_20',\n",
    "                   'mcts_knowledge_1.0_1000_1',\n",
    "                   'mcts_score_1000_1']"
   ],
   "metadata": {
    "collapsed": false,
    "pycharm": {
     "name": "#%%\n"
    }
   }
  },
  {
   "cell_type": "code",
   "metadata": {
    "collapsed": false,
    "pycharm": {
     "name": "#%% md raw\n"
    }
   },
   "source": [
    "melted_df = match_result_noout.copy()\n",
    "\n",
    "melted_df['concat_method'] = melted_df.agg(lambda x: get_legend_name(x), axis=1)\n",
    "pprint(set(melted_df['concat_method']))\n",
    "# Display Target\n",
    "melted_df = melted_df[melted_df['concat_method'].isin(['random', 'ga',\n",
    "                                                       'sampling_20',\n",
    "                                                       'mcts_knowledge_1.0_1000_1',\n",
    "                                                       'mcts_score_1000_1'])]\n",
    "\n",
    "plt.figure(figsize=(7, 5))\n",
    "melted_df = pd.melt(melted_df, id_vars=['EpisodeCount', 'objective', 'concat_method', 'simulation', 'player'],\n",
    "                    value_vars=[*StatisticsColumns], ignore_index=False)\n",
    "\n",
    "melted_df['x'] = melted_df['variable']\n",
    "melted_df['x'] = melted_df['x'].str.replace('ReachedKnowledgeStep', 'r_step')\n",
    "melted_df['x'] = melted_df['x'].str.replace('Matched_HorizontalPiece', 'b0')\n",
    "melted_df['x'] = melted_df['x'].str.replace('Matched_VerticalPiece', 'b1')\n",
    "melted_df['x'] = melted_df['x'].str.replace('Matched_CrossPiece', 'b2')\n",
    "melted_df['x'] = melted_df['x'].str.replace('Matched_RocketPiece', 'b3')\n",
    "melted_df['x'] = melted_df['x'].str.replace('Matched_BombPiece', 'b4')\n",
    "melted_df['x'] = melted_df['x'].str.replace('Matched_RainbowPiece', 'b5')\n",
    "\n",
    "ax = sns.boxplot(x=\"x\", y=\"value\", hue=\"concat_method\", data=melted_df, linewidth=0.8)\n",
    "plt.xticks(rotation=45)\n",
    "plt.tight_layout()\n",
    "plt.savefig('matched_block.png')"
   ],
   "execution_count": 64,
   "outputs": [
    {
     "name": "stdout",
     "output_type": "stream",
     "text": [
      "{'mcts_knowledge_1.0_200_1'}\n"
     ]
    },
    {
     "ename": "ValueError",
     "evalue": "min() arg is an empty sequence",
     "output_type": "error",
     "traceback": [
      "\u001B[1;31m---------------------------------------------------------------------------\u001B[0m",
      "\u001B[1;31mValueError\u001B[0m                                Traceback (most recent call last)",
      "\u001B[1;32m~\\AppData\\Local\\Temp\\ipykernel_913860\\3707312619.py\u001B[0m in \u001B[0;36m<module>\u001B[1;34m\u001B[0m\n\u001B[0;32m     22\u001B[0m \u001B[0mmelted_df\u001B[0m\u001B[1;33m[\u001B[0m\u001B[1;34m'x'\u001B[0m\u001B[1;33m]\u001B[0m \u001B[1;33m=\u001B[0m \u001B[0mmelted_df\u001B[0m\u001B[1;33m[\u001B[0m\u001B[1;34m'x'\u001B[0m\u001B[1;33m]\u001B[0m\u001B[1;33m.\u001B[0m\u001B[0mstr\u001B[0m\u001B[1;33m.\u001B[0m\u001B[0mreplace\u001B[0m\u001B[1;33m(\u001B[0m\u001B[1;34m'Matched_RainbowPiece'\u001B[0m\u001B[1;33m,\u001B[0m \u001B[1;34m'b5'\u001B[0m\u001B[1;33m)\u001B[0m\u001B[1;33m\u001B[0m\u001B[1;33m\u001B[0m\u001B[0m\n\u001B[0;32m     23\u001B[0m \u001B[1;33m\u001B[0m\u001B[0m\n\u001B[1;32m---> 24\u001B[1;33m \u001B[0max\u001B[0m \u001B[1;33m=\u001B[0m \u001B[0msns\u001B[0m\u001B[1;33m.\u001B[0m\u001B[0mboxplot\u001B[0m\u001B[1;33m(\u001B[0m\u001B[0mx\u001B[0m\u001B[1;33m=\u001B[0m\u001B[1;34m\"x\"\u001B[0m\u001B[1;33m,\u001B[0m \u001B[0my\u001B[0m\u001B[1;33m=\u001B[0m\u001B[1;34m\"value\"\u001B[0m\u001B[1;33m,\u001B[0m \u001B[0mhue\u001B[0m\u001B[1;33m=\u001B[0m\u001B[1;34m\"concat_method\"\u001B[0m\u001B[1;33m,\u001B[0m \u001B[0mdata\u001B[0m\u001B[1;33m=\u001B[0m\u001B[0mmelted_df\u001B[0m\u001B[1;33m,\u001B[0m \u001B[0mlinewidth\u001B[0m\u001B[1;33m=\u001B[0m\u001B[1;36m0.8\u001B[0m\u001B[1;33m)\u001B[0m\u001B[1;33m\u001B[0m\u001B[1;33m\u001B[0m\u001B[0m\n\u001B[0m\u001B[0;32m     25\u001B[0m \u001B[0mplt\u001B[0m\u001B[1;33m.\u001B[0m\u001B[0mxticks\u001B[0m\u001B[1;33m(\u001B[0m\u001B[0mrotation\u001B[0m\u001B[1;33m=\u001B[0m\u001B[1;36m45\u001B[0m\u001B[1;33m)\u001B[0m\u001B[1;33m\u001B[0m\u001B[1;33m\u001B[0m\u001B[0m\n\u001B[0;32m     26\u001B[0m \u001B[0mplt\u001B[0m\u001B[1;33m.\u001B[0m\u001B[0mtight_layout\u001B[0m\u001B[1;33m(\u001B[0m\u001B[1;33m)\u001B[0m\u001B[1;33m\u001B[0m\u001B[1;33m\u001B[0m\u001B[0m\n",
      "\u001B[1;32m~\\.conda\\envs\\mlagents\\lib\\site-packages\\seaborn\\_decorators.py\u001B[0m in \u001B[0;36minner_f\u001B[1;34m(*args, **kwargs)\u001B[0m\n\u001B[0;32m     44\u001B[0m             )\n\u001B[0;32m     45\u001B[0m         \u001B[0mkwargs\u001B[0m\u001B[1;33m.\u001B[0m\u001B[0mupdate\u001B[0m\u001B[1;33m(\u001B[0m\u001B[1;33m{\u001B[0m\u001B[0mk\u001B[0m\u001B[1;33m:\u001B[0m \u001B[0marg\u001B[0m \u001B[1;32mfor\u001B[0m \u001B[0mk\u001B[0m\u001B[1;33m,\u001B[0m \u001B[0marg\u001B[0m \u001B[1;32min\u001B[0m \u001B[0mzip\u001B[0m\u001B[1;33m(\u001B[0m\u001B[0msig\u001B[0m\u001B[1;33m.\u001B[0m\u001B[0mparameters\u001B[0m\u001B[1;33m,\u001B[0m \u001B[0margs\u001B[0m\u001B[1;33m)\u001B[0m\u001B[1;33m}\u001B[0m\u001B[1;33m)\u001B[0m\u001B[1;33m\u001B[0m\u001B[1;33m\u001B[0m\u001B[0m\n\u001B[1;32m---> 46\u001B[1;33m         \u001B[1;32mreturn\u001B[0m \u001B[0mf\u001B[0m\u001B[1;33m(\u001B[0m\u001B[1;33m**\u001B[0m\u001B[0mkwargs\u001B[0m\u001B[1;33m)\u001B[0m\u001B[1;33m\u001B[0m\u001B[1;33m\u001B[0m\u001B[0m\n\u001B[0m\u001B[0;32m     47\u001B[0m     \u001B[1;32mreturn\u001B[0m \u001B[0minner_f\u001B[0m\u001B[1;33m\u001B[0m\u001B[1;33m\u001B[0m\u001B[0m\n\u001B[0;32m     48\u001B[0m \u001B[1;33m\u001B[0m\u001B[0m\n",
      "\u001B[1;32m~\\.conda\\envs\\mlagents\\lib\\site-packages\\seaborn\\categorical.py\u001B[0m in \u001B[0;36mboxplot\u001B[1;34m(x, y, hue, data, order, hue_order, orient, color, palette, saturation, width, dodge, fliersize, linewidth, whis, ax, **kwargs)\u001B[0m\n\u001B[0;32m   2243\u001B[0m     plotter = _BoxPlotter(x, y, hue, data, order, hue_order,\n\u001B[0;32m   2244\u001B[0m                           \u001B[0morient\u001B[0m\u001B[1;33m,\u001B[0m \u001B[0mcolor\u001B[0m\u001B[1;33m,\u001B[0m \u001B[0mpalette\u001B[0m\u001B[1;33m,\u001B[0m \u001B[0msaturation\u001B[0m\u001B[1;33m,\u001B[0m\u001B[1;33m\u001B[0m\u001B[1;33m\u001B[0m\u001B[0m\n\u001B[1;32m-> 2245\u001B[1;33m                           width, dodge, fliersize, linewidth)\n\u001B[0m\u001B[0;32m   2246\u001B[0m \u001B[1;33m\u001B[0m\u001B[0m\n\u001B[0;32m   2247\u001B[0m     \u001B[1;32mif\u001B[0m \u001B[0max\u001B[0m \u001B[1;32mis\u001B[0m \u001B[1;32mNone\u001B[0m\u001B[1;33m:\u001B[0m\u001B[1;33m\u001B[0m\u001B[1;33m\u001B[0m\u001B[0m\n",
      "\u001B[1;32m~\\.conda\\envs\\mlagents\\lib\\site-packages\\seaborn\\categorical.py\u001B[0m in \u001B[0;36m__init__\u001B[1;34m(self, x, y, hue, data, order, hue_order, orient, color, palette, saturation, width, dodge, fliersize, linewidth)\u001B[0m\n\u001B[0;32m    405\u001B[0m \u001B[1;33m\u001B[0m\u001B[0m\n\u001B[0;32m    406\u001B[0m         \u001B[0mself\u001B[0m\u001B[1;33m.\u001B[0m\u001B[0mestablish_variables\u001B[0m\u001B[1;33m(\u001B[0m\u001B[0mx\u001B[0m\u001B[1;33m,\u001B[0m \u001B[0my\u001B[0m\u001B[1;33m,\u001B[0m \u001B[0mhue\u001B[0m\u001B[1;33m,\u001B[0m \u001B[0mdata\u001B[0m\u001B[1;33m,\u001B[0m \u001B[0morient\u001B[0m\u001B[1;33m,\u001B[0m \u001B[0morder\u001B[0m\u001B[1;33m,\u001B[0m \u001B[0mhue_order\u001B[0m\u001B[1;33m)\u001B[0m\u001B[1;33m\u001B[0m\u001B[1;33m\u001B[0m\u001B[0m\n\u001B[1;32m--> 407\u001B[1;33m         \u001B[0mself\u001B[0m\u001B[1;33m.\u001B[0m\u001B[0mestablish_colors\u001B[0m\u001B[1;33m(\u001B[0m\u001B[0mcolor\u001B[0m\u001B[1;33m,\u001B[0m \u001B[0mpalette\u001B[0m\u001B[1;33m,\u001B[0m \u001B[0msaturation\u001B[0m\u001B[1;33m)\u001B[0m\u001B[1;33m\u001B[0m\u001B[1;33m\u001B[0m\u001B[0m\n\u001B[0m\u001B[0;32m    408\u001B[0m \u001B[1;33m\u001B[0m\u001B[0m\n\u001B[0;32m    409\u001B[0m         \u001B[0mself\u001B[0m\u001B[1;33m.\u001B[0m\u001B[0mdodge\u001B[0m \u001B[1;33m=\u001B[0m \u001B[0mdodge\u001B[0m\u001B[1;33m\u001B[0m\u001B[1;33m\u001B[0m\u001B[0m\n",
      "\u001B[1;32m~\\.conda\\envs\\mlagents\\lib\\site-packages\\seaborn\\categorical.py\u001B[0m in \u001B[0;36mestablish_colors\u001B[1;34m(self, color, palette, saturation)\u001B[0m\n\u001B[0;32m    317\u001B[0m         \u001B[1;31m# Determine the gray color to use for the lines framing the plot\u001B[0m\u001B[1;33m\u001B[0m\u001B[1;33m\u001B[0m\u001B[1;33m\u001B[0m\u001B[0m\n\u001B[0;32m    318\u001B[0m         \u001B[0mlight_vals\u001B[0m \u001B[1;33m=\u001B[0m \u001B[1;33m[\u001B[0m\u001B[0mcolorsys\u001B[0m\u001B[1;33m.\u001B[0m\u001B[0mrgb_to_hls\u001B[0m\u001B[1;33m(\u001B[0m\u001B[1;33m*\u001B[0m\u001B[0mc\u001B[0m\u001B[1;33m)\u001B[0m\u001B[1;33m[\u001B[0m\u001B[1;36m1\u001B[0m\u001B[1;33m]\u001B[0m \u001B[1;32mfor\u001B[0m \u001B[0mc\u001B[0m \u001B[1;32min\u001B[0m \u001B[0mrgb_colors\u001B[0m\u001B[1;33m]\u001B[0m\u001B[1;33m\u001B[0m\u001B[1;33m\u001B[0m\u001B[0m\n\u001B[1;32m--> 319\u001B[1;33m         \u001B[0mlum\u001B[0m \u001B[1;33m=\u001B[0m \u001B[0mmin\u001B[0m\u001B[1;33m(\u001B[0m\u001B[0mlight_vals\u001B[0m\u001B[1;33m)\u001B[0m \u001B[1;33m*\u001B[0m \u001B[1;36m.6\u001B[0m\u001B[1;33m\u001B[0m\u001B[1;33m\u001B[0m\u001B[0m\n\u001B[0m\u001B[0;32m    320\u001B[0m         \u001B[0mgray\u001B[0m \u001B[1;33m=\u001B[0m \u001B[0mmpl\u001B[0m\u001B[1;33m.\u001B[0m\u001B[0mcolors\u001B[0m\u001B[1;33m.\u001B[0m\u001B[0mrgb2hex\u001B[0m\u001B[1;33m(\u001B[0m\u001B[1;33m(\u001B[0m\u001B[0mlum\u001B[0m\u001B[1;33m,\u001B[0m \u001B[0mlum\u001B[0m\u001B[1;33m,\u001B[0m \u001B[0mlum\u001B[0m\u001B[1;33m)\u001B[0m\u001B[1;33m)\u001B[0m\u001B[1;33m\u001B[0m\u001B[1;33m\u001B[0m\u001B[0m\n\u001B[0;32m    321\u001B[0m \u001B[1;33m\u001B[0m\u001B[0m\n",
      "\u001B[1;31mValueError\u001B[0m: min() arg is an empty sequence"
     ]
    },
    {
     "data": {
      "text/plain": "<Figure size 700x500 with 0 Axes>"
     },
     "metadata": {},
     "output_type": "display_data"
    }
   ]
  },
  {
   "cell_type": "code",
   "execution_count": null,
   "outputs": [],
   "source": [
    "from statannot import add_stat_annotation\n",
    "from itertools import combinations"
   ],
   "metadata": {
    "collapsed": false,
    "pycharm": {
     "name": "#%%\n"
    }
   }
  },
  {
   "cell_type": "code",
   "execution_count": null,
   "outputs": [],
   "source": [
    "player_df = match_result_noout[match_result_noout['player'] == str(player_no)]\n",
    "melted_df = player_df.copy()\n",
    "\n",
    "melted_df.rename(columns={\n",
    "    'ReachedKnowledgeStep':'100',\n",
    "    'Q1ReachedKnowledgeStep':'25',\n",
    "    'Q2ReachedKnowledgeStep':'50',\n",
    "    'Q3ReachedKnowledgeStep':'75'\n",
    "}, inplace=True)\n",
    "\n",
    "_columns = ['25', '50', '75', '100']\n",
    "\n",
    "sns.set_palette('Set2')\n",
    "# melted_df = melted_df.groupby(['player', 'method', 'objective', 'playerDepth', 'simulation']).sample(n=300, random_state=1)\n",
    "melted_df['concat_method'] = melted_df.agg(lambda x: get_legend_name(x), axis=1)\n",
    "melted_df = pd.melt(melted_df, id_vars=['EpisodeCount', 'objective', 'concat_method', 'simulation', 'player'], value_vars=[*_columns], ignore_index=False)\n",
    "\n",
    "melted_df = melted_df[melted_df['concat_method'].isin(display_graphs)]\n",
    "\n",
    "plt.figure(figsize=(7, 4))\n",
    "plt.clf()\n",
    "ax = sns.boxplot(x=\"variable\", y=\"value\", hue=\"concat_method\", data=melted_df, dodge=True, linewidth=0.8)\n",
    "\n",
    "pairs = list()\n",
    "for i in range(25, 101, 25):\n",
    "    pairs.append(((str(i), 'mcts_knowledge_1.0_1000_1'), (str(i), 'mcts_score_1000_1')))\n",
    "    pairs.append(((str(i), 'mcts_knowledge_1.0_1000_1'), (str(i), 'random')))\n",
    "    pairs.append(((str(i), 'random'), (str(i), 'mcts_score_1000_1')))\n",
    "    pairs.append(((str(i), 'random'), (str(i), 'sampling_20')))\n",
    "    pairs.append(((str(i), 'mcts_score_1000_1'), (str(i), 'sampling_20')))\n",
    "    pairs.append(((str(i), 'mcts_knowledge_1.0_1000_1'), (str(i), 'sampling_20')))\n",
    "\n",
    "add_stat_annotation(ax, x=\"variable\", y=\"value\", hue=\"concat_method\", data=melted_df,\n",
    "                    box_pairs=pairs,\n",
    "                    test='t-test_ind', text_format='star', loc='inside', verbose=1)\n",
    "\n",
    "plt.legend(loc='upper left', bbox_to_anchor=(1.0, 0.5))\n",
    "ax.set_title(f'Required Steps for Learning Skill (Player: {player_no})')\n",
    "ax.set_xlabel('Progress (%)')\n",
    "ax.set_ylabel('Step')\n",
    "plt.tight_layout()\n",
    "plt.savefig(f'./figures/learning_steps_p{player_no}', dpi=300)\n",
    "    # plt.show()"
   ],
   "metadata": {
    "collapsed": false,
    "pycharm": {
     "name": "#%%                                                                                                                                                                                                                                                                                                                                                                                                                                                                                                                                                                                                                                                                                                                                                                                                                                                                                                                                                                                                                                                                                                                                                                                                                                                                                                                                                                                                                                                                                                                                                                                                                                                                                                      for player_no in range(0, 11):\n"
    }
   }
  },
  {
   "cell_type": "code",
   "execution_count": null,
   "outputs": [],
   "source": [
    "\n",
    "melted_df = match_result_noout.copy()\n",
    "\n",
    "melted_df.rename(columns={\n",
    "    'ReachedKnowledgeStep':'100',\n",
    "    'Q1ReachedKnowledgeStep':'25',\n",
    "    'Q2ReachedKnowledgeStep':'50',\n",
    "    'Q3ReachedKnowledgeStep':'75'\n",
    "}, inplace=True)\n",
    "\n",
    "_columns = ['25', '50', '75', '100']\n",
    "\n",
    "sns.set_palette('Set3')\n",
    "# melted_df = melted_df.groupby(['player', 'method', 'objective', 'playerDepth', 'simulation']).sample(n=300, random_state=1)\n",
    "melted_df['concat_method'] = melted_df.agg(lambda x: get_legend_name(x), axis=1)\n",
    "melted_df = pd.melt(melted_df, id_vars=['EpisodeCount', 'objective', 'concat_method', 'simulation', 'player'], value_vars=[*_columns], ignore_index=False)\n",
    "\n",
    "melted_df = melted_df[melted_df['concat_method'].isin(display_graphs)]\n",
    "\n",
    "\n",
    "plt.figure(figsize=(7, 4))\n",
    "plt.clf()\n",
    "ax = sns.boxplot(x=\"variable\", y=\"value\", hue=\"concat_method\", data=melted_df, dodge=True, linewidth=0.8)\n",
    "\n",
    "pairs = list()\n",
    "for i in range(25, 101, 25):\n",
    "    pairs.append(((str(i), 'mcts_knowledge_1.0_1000_1'), (str(i), 'mcts_score_1000_1')))\n",
    "    pairs.append(((str(i), 'mcts_knowledge_1.0_1000_1'), (str(i), 'random')))\n",
    "    pairs.append(((str(i), 'random'), (str(i), 'mcts_score_1000_1')))\n",
    "    pairs.append(((str(i), 'random'), (str(i), 'sampling_20')))\n",
    "    pairs.append(((str(i), 'mcts_score_1000_1'), (str(i), 'sampling_20')))\n",
    "    pairs.append(((str(i), 'mcts_knowledge_1.0_1000_1'), (str(i), 'sampling_20')))\n",
    "\n",
    "add_stat_annotation(ax, x=\"variable\", y=\"value\", hue=\"concat_method\", data=melted_df,\n",
    "                    box_pairs=pairs,\n",
    "                    test='t-test_ind', text_format='star', loc='inside', verbose=1)\n",
    "\n",
    "plt.legend(loc='upper left', bbox_to_anchor=(1.0, 0.5))\n",
    "ax.set_title(f'Required Steps for Learning Skill (Player: All)')\n",
    "ax.set_xlabel('Progress (%)')\n",
    "ax.set_ylabel('Step')\n",
    "plt.savefig(f'./figures/learning_steps_pA', dpi=300)\n",
    "# plt.show()"
   ],
   "metadata": {
    "collapsed": false,
    "pycharm": {
     "name": "#%%\n"
    }
   }
  }
 ],
 "metadata": {
  "kernelspec": {
   "name": "python3",
   "language": "python",
   "display_name": "Python 3 (ipykernel)"
  },
  "language_info": {
   "codemirror_mode": {
    "name": "ipython",
    "version": 2
   },
   "file_extension": ".py",
   "mimetype": "text/x-python",
   "name": "python",
   "nbconvert_exporter": "python",
   "pygments_lexer": "ipython2",
   "version": "2.7.6"
  }
 },
 "nbformat": 4,
 "nbformat_minor": 0
}