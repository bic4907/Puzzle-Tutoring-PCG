{
 "cells": [
  {
   "cell_type": "code",
   "execution_count": 7,
   "metadata": {
    "collapsed": true
   },
   "outputs": [],
   "source": [
    "import pandas as pd\n",
    "import matplotlib.pyplot as plt\n",
    "from sklearn.manifold import TSNE\n",
    "import seaborn as sns\n",
    "import re\n",
    "from os import path\n",
    "from glob import glob\n",
    "from tqdm import tqdm\n",
    "import numpy as np\n",
    "from matplotlib import cm\n",
    "from pprint import pprint\n",
    "from plotting_utils import get_legend_name, remove_outliers"
   ]
  },
  {
   "cell_type": "code",
   "execution_count": 8,
   "metadata": {
    "collapsed": false,
    "pycharm": {
     "name": "#%%\n"
    }
   },
   "outputs": [],
   "source": [
    "ROOT_PATH = '\\\\\\\\CILab_NAS_Data/homes/inchang/PuzzlePCG/ProxyPlayer'"
   ]
  },
  {
   "cell_type": "code",
   "execution_count": 9,
   "metadata": {
    "collapsed": false,
    "pycharm": {
     "name": "#%%\n"
    }
   },
   "outputs": [],
   "source": [
    "files = glob(path.join(ROOT_PATH, '*', 'MatchResult_*.csv'))\n"
   ]
  },
  {
   "cell_type": "code",
   "execution_count": 10,
   "metadata": {
    "collapsed": false,
    "pycharm": {
     "name": "#%%\n"
    }
   },
   "outputs": [],
   "source": [
    "StatisticsColumns = [\n",
    "    'ReachedKnowledgeStep',\n",
    "    'Matched_HorizontalPiece', 'Matched_VerticalPiece', 'Matched_CrossPiece', 'Matched_RocketPiece', 'Matched_BombPiece', 'Matched_RainbowPiece']"
   ]
  },
  {
   "cell_type": "code",
   "execution_count": 11,
   "metadata": {
    "collapsed": false,
    "pycharm": {
     "name": "#%%\n"
    }
   },
   "outputs": [],
   "source": [
    "replacements = {\n",
    "    'met': 'method',\n",
    "    'pla': 'player',\n",
    "    'eff': 'simpleEffect',\n",
    "    'obj': 'objective',\n",
    "    'sim': 'simulation',\n",
    "    'rat': 'almostRatio',\n",
    "    'pdep': 'playerDepth',\n",
    "}\n",
    "\n",
    "def parse_filename(data):\n",
    "    result = dict()\n",
    "    for i in range(0, len(data), 2):\n",
    "        if data[i] in replacements.keys():\n",
    "            data[i] = replacements[data[i]]\n",
    "\n",
    "        result[data[i]] = data[i+1]\n",
    "\n",
    "    return result"
   ]
  },
  {
   "cell_type": "code",
   "metadata": {
    "collapsed": false,
    "pycharm": {
     "name": "#%%\n"
    }
   },
   "source": [
    "dfs = []\n",
    "for file_path in tqdm(files):\n",
    "    # print(file_path)\n",
    "    file_name = path.basename(file_path)\n",
    "\n",
    "    _file_name = file_name.split('_')[1:-1]\n",
    "    args = parse_filename(_file_name)\n",
    "\n",
    "    df = pd.read_csv(file_path)\n",
    "\n",
    "    for key, value in args.items():\n",
    "        df[key] = value\n",
    "    dfs.append(df)\n",
    "\n",
    "original_df = pd.concat(dfs)\n",
    "\n",
    "original_df['Sum_Matched'] = original_df['Matched_HorizontalPiece'] + original_df['Matched_HorizontalPiece'] + original_df['Matched_HorizontalPiece']  + \\\n",
    "    original_df['Matched_HorizontalPiece'] + original_df['Matched_HorizontalPiece'] + original_df['Matched_HorizontalPiece']\n",
    "original_df.loc[original_df['method'] == 'random', 'simulation'] = 0\n",
    "\n",
    "original_df['simpleEffect'] = original_df['simpleEffect'].replace(np.nan, 0)\n",
    "original_df['objective'] = original_df['objective'].replace(np.nan, '-')\n",
    "\n",
    "original_df.loc[original_df['method'] == 'random', 'playerDepth'] = '-'\n",
    "original_df.loc[original_df['method'] == 'sampling', 'playerDepth'] = '-'\n",
    "original_df.loc[original_df['method'] == 'ga', 'playerDepth'] = '-'\n",
    "original_df.loc[original_df['method'] == 'ga2', 'playerDepth'] = '-'\n",
    "original_df.loc[original_df['method'] == 'random', 'simulation'] = '-'\n",
    "original_df.loc[original_df['method'] == 'ga', 'simulation'] = '-'\n",
    "original_df.loc[original_df['method'] == 'ga2', 'simulation'] = '-'\n",
    "# original_df.loc[original_df['method'] == 'sampling', 'simulation'] = '-'\n",
    "original_df.loc[original_df['method'] == 'random', 'almostRatio'] = '-'\n",
    "original_df.loc[original_df['method'] == 'sampling', 'almostRatio'] = '-'\n",
    "original_df.loc[original_df['method'] == 'ga', 'almostRatio'] = '-'\n",
    "original_df.loc[original_df['objective'] == 'kp', 'almostRatio'] = '-'\n",
    "original_df.loc[original_df['objective'] == 'score', 'almostRatio'] = '-'"
   ],
   "execution_count": 12,
   "outputs": [
    {
     "name": "stderr",
     "output_type": "stream",
     "text": [
      "100%|██████████| 275/275 [00:15<00:00, 17.21it/s] \n"
     ]
    }
   ]
  },
  {
   "cell_type": "code",
   "execution_count": 13,
   "outputs": [
    {
     "data": {
      "text/plain": "    EpisodeCount  StepCount                     Time InstanceUUID  \\\n0              1        200  2023-06-05 13:59:27.902     1aa80c8f   \n1              2        200  2023-06-05 14:27:12.381     1aa80c8f   \n2              3        200  2023-06-05 14:55:20.007     1aa80c8f   \n3              4        200  2023-06-05 15:24:33.441     1aa80c8f   \n4              5        200  2023-06-05 15:52:57.772     1aa80c8f   \n..           ...        ...                      ...          ...   \n93            94        200  2023-06-02 01:23:14.468     66fe1046   \n94            95        200  2023-06-02 01:33:13.303     66fe1046   \n95            96        200  2023-06-02 01:42:56.172     66fe1046   \n96            97        200  2023-06-02 01:54:27.766     66fe1046   \n97            98        200  2023-06-02 02:05:47.437     66fe1046   \n\n    SettleCount  ChangedCount  MeanComparisonCount  StdComparisonCount  \\\n0             0             0                  0.0                 0.0   \n1             0             0                  0.0                 0.0   \n2             0             0                  0.0                 0.0   \n3             0             0                  0.0                 0.0   \n4             0             0                  0.0                 0.0   \n..          ...           ...                  ...                 ...   \n93            0             0                  0.0                 0.0   \n94            0             0                  0.0                 0.0   \n95            0             0                  0.0                 0.0   \n96            0             0                  0.0                 0.0   \n97            0             0                  0.0                 0.0   \n\n    MeanGenerateRuntimes  StdGenerateRuntimes  ...  Target_BombPiece  \\\n0               5.492311             3.243546  ...                 2   \n1               6.045367             3.553089  ...                 2   \n2               6.744609             3.492235  ...                 2   \n3               6.556173             3.967668  ...                 2   \n4               6.134903             3.886642  ...                 2   \n..                   ...                  ...  ...               ...   \n93                   NaN                  NaN  ...                 4   \n94                   NaN                  NaN  ...                 4   \n95                   NaN                  NaN  ...                 4   \n96                   NaN                  NaN  ...                 4   \n97                   NaN                  NaN  ...                 4   \n\n    Target_RainbowPiece    method  player  simpleEffect  objective  \\\n0                     3        ga       0             1  knowledge   \n1                     3        ga       0             1  knowledge   \n2                     3        ga       0             1  knowledge   \n3                     3        ga       0             1  knowledge   \n4                     3        ga       0             1  knowledge   \n..                  ...       ...     ...           ...        ...   \n93                    5  sampling       9             1          -   \n94                    5  sampling       9             1          -   \n95                    5  sampling       9             1          -   \n96                    5  sampling       9             1          -   \n97                    5  sampling       9             1          -   \n\n    simulation  almostRatio  playerDepth  Sum_Matched  \n0            -            -            -          204  \n1            -            -            -          192  \n2            -            -            -          150  \n3            -            -            -          156  \n4            -            -            -          168  \n..         ...          ...          ...          ...  \n93          30            -            -          270  \n94          30            -            -           36  \n95          30            -            -            0  \n96          30            -            -          234  \n97          30            -            -          264  \n\n[76824 rows x 34 columns]",
      "text/html": "<div>\n<style scoped>\n    .dataframe tbody tr th:only-of-type {\n        vertical-align: middle;\n    }\n\n    .dataframe tbody tr th {\n        vertical-align: top;\n    }\n\n    .dataframe thead th {\n        text-align: right;\n    }\n</style>\n<table border=\"1\" class=\"dataframe\">\n  <thead>\n    <tr style=\"text-align: right;\">\n      <th></th>\n      <th>EpisodeCount</th>\n      <th>StepCount</th>\n      <th>Time</th>\n      <th>InstanceUUID</th>\n      <th>SettleCount</th>\n      <th>ChangedCount</th>\n      <th>MeanComparisonCount</th>\n      <th>StdComparisonCount</th>\n      <th>MeanGenerateRuntimes</th>\n      <th>StdGenerateRuntimes</th>\n      <th>...</th>\n      <th>Target_BombPiece</th>\n      <th>Target_RainbowPiece</th>\n      <th>method</th>\n      <th>player</th>\n      <th>simpleEffect</th>\n      <th>objective</th>\n      <th>simulation</th>\n      <th>almostRatio</th>\n      <th>playerDepth</th>\n      <th>Sum_Matched</th>\n    </tr>\n  </thead>\n  <tbody>\n    <tr>\n      <th>0</th>\n      <td>1</td>\n      <td>200</td>\n      <td>2023-06-05 13:59:27.902</td>\n      <td>1aa80c8f</td>\n      <td>0</td>\n      <td>0</td>\n      <td>0.0</td>\n      <td>0.0</td>\n      <td>5.492311</td>\n      <td>3.243546</td>\n      <td>...</td>\n      <td>2</td>\n      <td>3</td>\n      <td>ga</td>\n      <td>0</td>\n      <td>1</td>\n      <td>knowledge</td>\n      <td>-</td>\n      <td>-</td>\n      <td>-</td>\n      <td>204</td>\n    </tr>\n    <tr>\n      <th>1</th>\n      <td>2</td>\n      <td>200</td>\n      <td>2023-06-05 14:27:12.381</td>\n      <td>1aa80c8f</td>\n      <td>0</td>\n      <td>0</td>\n      <td>0.0</td>\n      <td>0.0</td>\n      <td>6.045367</td>\n      <td>3.553089</td>\n      <td>...</td>\n      <td>2</td>\n      <td>3</td>\n      <td>ga</td>\n      <td>0</td>\n      <td>1</td>\n      <td>knowledge</td>\n      <td>-</td>\n      <td>-</td>\n      <td>-</td>\n      <td>192</td>\n    </tr>\n    <tr>\n      <th>2</th>\n      <td>3</td>\n      <td>200</td>\n      <td>2023-06-05 14:55:20.007</td>\n      <td>1aa80c8f</td>\n      <td>0</td>\n      <td>0</td>\n      <td>0.0</td>\n      <td>0.0</td>\n      <td>6.744609</td>\n      <td>3.492235</td>\n      <td>...</td>\n      <td>2</td>\n      <td>3</td>\n      <td>ga</td>\n      <td>0</td>\n      <td>1</td>\n      <td>knowledge</td>\n      <td>-</td>\n      <td>-</td>\n      <td>-</td>\n      <td>150</td>\n    </tr>\n    <tr>\n      <th>3</th>\n      <td>4</td>\n      <td>200</td>\n      <td>2023-06-05 15:24:33.441</td>\n      <td>1aa80c8f</td>\n      <td>0</td>\n      <td>0</td>\n      <td>0.0</td>\n      <td>0.0</td>\n      <td>6.556173</td>\n      <td>3.967668</td>\n      <td>...</td>\n      <td>2</td>\n      <td>3</td>\n      <td>ga</td>\n      <td>0</td>\n      <td>1</td>\n      <td>knowledge</td>\n      <td>-</td>\n      <td>-</td>\n      <td>-</td>\n      <td>156</td>\n    </tr>\n    <tr>\n      <th>4</th>\n      <td>5</td>\n      <td>200</td>\n      <td>2023-06-05 15:52:57.772</td>\n      <td>1aa80c8f</td>\n      <td>0</td>\n      <td>0</td>\n      <td>0.0</td>\n      <td>0.0</td>\n      <td>6.134903</td>\n      <td>3.886642</td>\n      <td>...</td>\n      <td>2</td>\n      <td>3</td>\n      <td>ga</td>\n      <td>0</td>\n      <td>1</td>\n      <td>knowledge</td>\n      <td>-</td>\n      <td>-</td>\n      <td>-</td>\n      <td>168</td>\n    </tr>\n    <tr>\n      <th>...</th>\n      <td>...</td>\n      <td>...</td>\n      <td>...</td>\n      <td>...</td>\n      <td>...</td>\n      <td>...</td>\n      <td>...</td>\n      <td>...</td>\n      <td>...</td>\n      <td>...</td>\n      <td>...</td>\n      <td>...</td>\n      <td>...</td>\n      <td>...</td>\n      <td>...</td>\n      <td>...</td>\n      <td>...</td>\n      <td>...</td>\n      <td>...</td>\n      <td>...</td>\n      <td>...</td>\n    </tr>\n    <tr>\n      <th>93</th>\n      <td>94</td>\n      <td>200</td>\n      <td>2023-06-02 01:23:14.468</td>\n      <td>66fe1046</td>\n      <td>0</td>\n      <td>0</td>\n      <td>0.0</td>\n      <td>0.0</td>\n      <td>NaN</td>\n      <td>NaN</td>\n      <td>...</td>\n      <td>4</td>\n      <td>5</td>\n      <td>sampling</td>\n      <td>9</td>\n      <td>1</td>\n      <td>-</td>\n      <td>30</td>\n      <td>-</td>\n      <td>-</td>\n      <td>270</td>\n    </tr>\n    <tr>\n      <th>94</th>\n      <td>95</td>\n      <td>200</td>\n      <td>2023-06-02 01:33:13.303</td>\n      <td>66fe1046</td>\n      <td>0</td>\n      <td>0</td>\n      <td>0.0</td>\n      <td>0.0</td>\n      <td>NaN</td>\n      <td>NaN</td>\n      <td>...</td>\n      <td>4</td>\n      <td>5</td>\n      <td>sampling</td>\n      <td>9</td>\n      <td>1</td>\n      <td>-</td>\n      <td>30</td>\n      <td>-</td>\n      <td>-</td>\n      <td>36</td>\n    </tr>\n    <tr>\n      <th>95</th>\n      <td>96</td>\n      <td>200</td>\n      <td>2023-06-02 01:42:56.172</td>\n      <td>66fe1046</td>\n      <td>0</td>\n      <td>0</td>\n      <td>0.0</td>\n      <td>0.0</td>\n      <td>NaN</td>\n      <td>NaN</td>\n      <td>...</td>\n      <td>4</td>\n      <td>5</td>\n      <td>sampling</td>\n      <td>9</td>\n      <td>1</td>\n      <td>-</td>\n      <td>30</td>\n      <td>-</td>\n      <td>-</td>\n      <td>0</td>\n    </tr>\n    <tr>\n      <th>96</th>\n      <td>97</td>\n      <td>200</td>\n      <td>2023-06-02 01:54:27.766</td>\n      <td>66fe1046</td>\n      <td>0</td>\n      <td>0</td>\n      <td>0.0</td>\n      <td>0.0</td>\n      <td>NaN</td>\n      <td>NaN</td>\n      <td>...</td>\n      <td>4</td>\n      <td>5</td>\n      <td>sampling</td>\n      <td>9</td>\n      <td>1</td>\n      <td>-</td>\n      <td>30</td>\n      <td>-</td>\n      <td>-</td>\n      <td>234</td>\n    </tr>\n    <tr>\n      <th>97</th>\n      <td>98</td>\n      <td>200</td>\n      <td>2023-06-02 02:05:47.437</td>\n      <td>66fe1046</td>\n      <td>0</td>\n      <td>0</td>\n      <td>0.0</td>\n      <td>0.0</td>\n      <td>NaN</td>\n      <td>NaN</td>\n      <td>...</td>\n      <td>4</td>\n      <td>5</td>\n      <td>sampling</td>\n      <td>9</td>\n      <td>1</td>\n      <td>-</td>\n      <td>30</td>\n      <td>-</td>\n      <td>-</td>\n      <td>264</td>\n    </tr>\n  </tbody>\n</table>\n<p>76824 rows × 34 columns</p>\n</div>"
     },
     "execution_count": 13,
     "metadata": {},
     "output_type": "execute_result"
    }
   ],
   "source": [
    "original_df"
   ],
   "metadata": {
    "collapsed": false,
    "pycharm": {
     "name": "#%%\n"
    }
   }
  },
  {
   "cell_type": "code",
   "execution_count": 14,
   "outputs": [],
   "source": [
    "# 완료하지 못했을 경우, 에피소드 최대길이로 설정\n",
    "original_df['ReachedKnowledgeStep'] = original_df['ReachedKnowledgeStep'].replace(-1, 200)\n",
    "original_df['Q1ReachedKnowledgeStep'] = original_df['Q1ReachedKnowledgeStep'].replace(-1, 200)\n",
    "original_df['Q2ReachedKnowledgeStep'] = original_df['Q2ReachedKnowledgeStep'].replace(-1, 200)\n",
    "original_df['Q3ReachedKnowledgeStep'] = original_df['Q3ReachedKnowledgeStep'].replace(-1, 200)\n"
   ],
   "metadata": {
    "collapsed": false,
    "pycharm": {
     "name": "#%%\n"
    }
   }
  },
  {
   "cell_type": "raw",
   "metadata": {
    "collapsed": false,
    "pycharm": {
     "name": "#%% raw\n"
    }
   },
   "source": [
    "\n",
    "pd.set_option('display.max_rows', None)\n",
    "match_result = original_df.groupby(['player', 'method', 'objective', 'playerDepth', 'almostRatio', 'simulation'])[\n",
    "                                      'method',\n",
    "                                      'Matched_HorizontalPiece',\n",
    "                                      'Matched_VerticalPiece',\n",
    "                                      'Matched_CrossPiece',\n",
    "                                      'Matched_RocketPiece',\n",
    "                                      'Matched_BombPiece',\n",
    "                                      'Matched_RainbowPiece',\n",
    "                                      'Q1ReachedKnowledgeStep',\n",
    "                                      'Q2ReachedKnowledgeStep',\n",
    "                                      'Q3ReachedKnowledgeStep',\n",
    "                                      'ReachedKnowledgeStep',\n",
    "                                      'Sum_Matched'].agg(\n",
    "    {\n",
    "        'method': ['count'],\n",
    "        'Q1ReachedKnowledgeStep': ['mean'],\n",
    "        'Q2ReachedKnowledgeStep': ['mean'],\n",
    "        'Q3ReachedKnowledgeStep': ['mean'],\n",
    "        'ReachedKnowledgeStep': ['mean'],\n",
    "        'Matched_HorizontalPiece':['mean'],\n",
    "        'Matched_VerticalPiece':['mean'],\n",
    "        'Matched_CrossPiece':['mean'],\n",
    "        'Matched_RocketPiece':['mean'],\n",
    "        'Matched_BombPiece':['mean'],\n",
    "        'Matched_RainbowPiece':['mean'],\n",
    "        'Sum_Matched':['mean'],\n",
    "     }\n",
    ")\n",
    "\n",
    "\n"
   ]
  },
  {
   "cell_type": "code",
   "execution_count": 15,
   "outputs": [],
   "source": [
    "for i in range(5):\n",
    "    original_df['playerDepth'] = original_df['playerDepth'].replace(str(i), i)\n",
    "for i in range(100, 1000, 100):\n",
    "    original_df['simulation'] = original_df['simulation'].replace(str(i), i)"
   ],
   "metadata": {
    "collapsed": false,
    "pycharm": {
     "name": "#%%\n"
    }
   }
  },
  {
   "cell_type": "code",
   "execution_count": 16,
   "outputs": [
    {
     "name": "stderr",
     "output_type": "stream",
     "text": [
      "C:\\Users\\GIST\\.conda\\envs\\mlagents\\lib\\site-packages\\ipykernel_launcher.py:2: FutureWarning: Indexing with multiple keys (implicitly converted to a tuple of keys) will be deprecated, use a list instead.\n",
      "  \n"
     ]
    },
    {
     "data": {
      "text/plain": "                                          method\n                                           count\nmethod   objective playerDepth simulation       \nga       knowledge -           -            2756\n         score     -           -            2209\nmcts     knowledge 1           100          5500\n                               1000         5500\n         score     1           100          5500\n                               200          5500\n                               1000         5500\n                   2           100          5500\n                               200          5500\n                               1000         5500\n                   3           100          5500\n                               200          5500\n                               1000         5500\nrandom   -         -           -            5500\nsampling -         -           10           3150\n                               20           1621\n                               30           1088",
      "text/html": "<div>\n<style scoped>\n    .dataframe tbody tr th:only-of-type {\n        vertical-align: middle;\n    }\n\n    .dataframe tbody tr th {\n        vertical-align: top;\n    }\n\n    .dataframe thead tr th {\n        text-align: left;\n    }\n\n    .dataframe thead tr:last-of-type th {\n        text-align: right;\n    }\n</style>\n<table border=\"1\" class=\"dataframe\">\n  <thead>\n    <tr>\n      <th></th>\n      <th></th>\n      <th></th>\n      <th></th>\n      <th>method</th>\n    </tr>\n    <tr>\n      <th></th>\n      <th></th>\n      <th></th>\n      <th></th>\n      <th>count</th>\n    </tr>\n    <tr>\n      <th>method</th>\n      <th>objective</th>\n      <th>playerDepth</th>\n      <th>simulation</th>\n      <th></th>\n    </tr>\n  </thead>\n  <tbody>\n    <tr>\n      <th rowspan=\"2\" valign=\"top\">ga</th>\n      <th>knowledge</th>\n      <th>-</th>\n      <th>-</th>\n      <td>2756</td>\n    </tr>\n    <tr>\n      <th>score</th>\n      <th>-</th>\n      <th>-</th>\n      <td>2209</td>\n    </tr>\n    <tr>\n      <th rowspan=\"11\" valign=\"top\">mcts</th>\n      <th rowspan=\"2\" valign=\"top\">knowledge</th>\n      <th rowspan=\"2\" valign=\"top\">1</th>\n      <th>100</th>\n      <td>5500</td>\n    </tr>\n    <tr>\n      <th>1000</th>\n      <td>5500</td>\n    </tr>\n    <tr>\n      <th rowspan=\"9\" valign=\"top\">score</th>\n      <th rowspan=\"3\" valign=\"top\">1</th>\n      <th>100</th>\n      <td>5500</td>\n    </tr>\n    <tr>\n      <th>200</th>\n      <td>5500</td>\n    </tr>\n    <tr>\n      <th>1000</th>\n      <td>5500</td>\n    </tr>\n    <tr>\n      <th rowspan=\"3\" valign=\"top\">2</th>\n      <th>100</th>\n      <td>5500</td>\n    </tr>\n    <tr>\n      <th>200</th>\n      <td>5500</td>\n    </tr>\n    <tr>\n      <th>1000</th>\n      <td>5500</td>\n    </tr>\n    <tr>\n      <th rowspan=\"3\" valign=\"top\">3</th>\n      <th>100</th>\n      <td>5500</td>\n    </tr>\n    <tr>\n      <th>200</th>\n      <td>5500</td>\n    </tr>\n    <tr>\n      <th>1000</th>\n      <td>5500</td>\n    </tr>\n    <tr>\n      <th>random</th>\n      <th>-</th>\n      <th>-</th>\n      <th>-</th>\n      <td>5500</td>\n    </tr>\n    <tr>\n      <th rowspan=\"3\" valign=\"top\">sampling</th>\n      <th rowspan=\"3\" valign=\"top\">-</th>\n      <th rowspan=\"3\" valign=\"top\">-</th>\n      <th>10</th>\n      <td>3150</td>\n    </tr>\n    <tr>\n      <th>20</th>\n      <td>1621</td>\n    </tr>\n    <tr>\n      <th>30</th>\n      <td>1088</td>\n    </tr>\n  </tbody>\n</table>\n</div>"
     },
     "execution_count": 16,
     "metadata": {},
     "output_type": "execute_result"
    }
   ],
   "source": [
    "match_result = original_df.groupby(['method', 'objective', 'playerDepth', 'simulation'])[\n",
    "                                      'method',\n",
    "                                      'Matched_HorizontalPiece',\n",
    "                                      'Matched_VerticalPiece',\n",
    "                                      'Matched_CrossPiece',\n",
    "                                      'Matched_RocketPiece',\n",
    "                                      'Matched_BombPiece',\n",
    "                                      'Matched_RainbowPiece',\n",
    "                                      #'AlmostReachedKnowledgeStep',\n",
    "                                      'Q1ReachedKnowledgeStep',\n",
    "                                      'Q2ReachedKnowledgeStep',\n",
    "                                      'Q3ReachedKnowledgeStep',\n",
    "                                      'ReachedKnowledgeStep',\n",
    "                                      'Sum_Matched'].agg(\n",
    "    {\n",
    "        'method': ['count'],\n",
    "     }\n",
    ")\n",
    "match_result\n",
    "\n",
    "\n"
   ],
   "metadata": {
    "collapsed": false,
    "pycharm": {
     "name": "#%%\n"
    }
   }
  },
  {
   "cell_type": "markdown",
   "source": [
    "### Full Result"
   ],
   "metadata": {
    "collapsed": false,
    "pycharm": {
     "name": "#%% md\n"
    }
   }
  },
  {
   "cell_type": "code",
   "execution_count": 17,
   "outputs": [
    {
     "name": "stderr",
     "output_type": "stream",
     "text": [
      "C:\\Users\\GIST\\.conda\\envs\\mlagents\\lib\\site-packages\\ipykernel_launcher.py:24: FutureWarning: Indexing with multiple keys (implicitly converted to a tuple of keys) will be deprecated, use a list instead.\n"
     ]
    },
    {
     "data": {
      "text/plain": "                                                       method\n                                                        count\nmethod   simpleEffect objective playerDepth simulation       \nga       1            knowledge -           -            2610\n                      score     -           -            2121\nmcts     1            knowledge 1           100          4929\n                                            1000         5008\n                      score     1           100          5225\n                                            200          5262\n                                            1000         5247\n                                2           100          5242\n                                            200          5241\n                                            1000         5245\n                                3           100          5216\n                                            200          5244\n                                            1000         5241\nrandom   1            -         -           -            5500\nsampling 1            -         -           10           3150\n                                            20           1621\n                                            30           1088",
      "text/html": "<div>\n<style scoped>\n    .dataframe tbody tr th:only-of-type {\n        vertical-align: middle;\n    }\n\n    .dataframe tbody tr th {\n        vertical-align: top;\n    }\n\n    .dataframe thead tr th {\n        text-align: left;\n    }\n\n    .dataframe thead tr:last-of-type th {\n        text-align: right;\n    }\n</style>\n<table border=\"1\" class=\"dataframe\">\n  <thead>\n    <tr>\n      <th></th>\n      <th></th>\n      <th></th>\n      <th></th>\n      <th></th>\n      <th>method</th>\n    </tr>\n    <tr>\n      <th></th>\n      <th></th>\n      <th></th>\n      <th></th>\n      <th></th>\n      <th>count</th>\n    </tr>\n    <tr>\n      <th>method</th>\n      <th>simpleEffect</th>\n      <th>objective</th>\n      <th>playerDepth</th>\n      <th>simulation</th>\n      <th></th>\n    </tr>\n  </thead>\n  <tbody>\n    <tr>\n      <th rowspan=\"2\" valign=\"top\">ga</th>\n      <th rowspan=\"2\" valign=\"top\">1</th>\n      <th>knowledge</th>\n      <th>-</th>\n      <th>-</th>\n      <td>2610</td>\n    </tr>\n    <tr>\n      <th>score</th>\n      <th>-</th>\n      <th>-</th>\n      <td>2121</td>\n    </tr>\n    <tr>\n      <th rowspan=\"11\" valign=\"top\">mcts</th>\n      <th rowspan=\"11\" valign=\"top\">1</th>\n      <th rowspan=\"2\" valign=\"top\">knowledge</th>\n      <th rowspan=\"2\" valign=\"top\">1</th>\n      <th>100</th>\n      <td>4929</td>\n    </tr>\n    <tr>\n      <th>1000</th>\n      <td>5008</td>\n    </tr>\n    <tr>\n      <th rowspan=\"9\" valign=\"top\">score</th>\n      <th rowspan=\"3\" valign=\"top\">1</th>\n      <th>100</th>\n      <td>5225</td>\n    </tr>\n    <tr>\n      <th>200</th>\n      <td>5262</td>\n    </tr>\n    <tr>\n      <th>1000</th>\n      <td>5247</td>\n    </tr>\n    <tr>\n      <th rowspan=\"3\" valign=\"top\">2</th>\n      <th>100</th>\n      <td>5242</td>\n    </tr>\n    <tr>\n      <th>200</th>\n      <td>5241</td>\n    </tr>\n    <tr>\n      <th>1000</th>\n      <td>5245</td>\n    </tr>\n    <tr>\n      <th rowspan=\"3\" valign=\"top\">3</th>\n      <th>100</th>\n      <td>5216</td>\n    </tr>\n    <tr>\n      <th>200</th>\n      <td>5244</td>\n    </tr>\n    <tr>\n      <th>1000</th>\n      <td>5241</td>\n    </tr>\n    <tr>\n      <th>random</th>\n      <th>1</th>\n      <th>-</th>\n      <th>-</th>\n      <th>-</th>\n      <td>5500</td>\n    </tr>\n    <tr>\n      <th rowspan=\"3\" valign=\"top\">sampling</th>\n      <th rowspan=\"3\" valign=\"top\">1</th>\n      <th rowspan=\"3\" valign=\"top\">-</th>\n      <th rowspan=\"3\" valign=\"top\">-</th>\n      <th>10</th>\n      <td>3150</td>\n    </tr>\n    <tr>\n      <th>20</th>\n      <td>1621</td>\n    </tr>\n    <tr>\n      <th>30</th>\n      <td>1088</td>\n    </tr>\n  </tbody>\n</table>\n</div>"
     },
     "execution_count": 17,
     "metadata": {},
     "output_type": "execute_result"
    }
   ],
   "source": [
    "# Drop outliers\n",
    "match_result = original_df.copy()\n",
    "\n",
    "match_result = match_result[~match_result['almostRatio'].isin(['0.75'])]\n",
    "# match_result = match_result[~match_result['playerDepth'].isin([2])]\n",
    "# match_result = match_result[~match_result['simulation'].isin([100, 400])]\n",
    "\n",
    "\n",
    "\n",
    "columns_to_remove_outliers = ['Q1ReachedKnowledgeStep',\n",
    "                              'Q2ReachedKnowledgeStep',\n",
    "                              'Q3ReachedKnowledgeStep',\n",
    "                              'ReachedKnowledgeStep']\n",
    "\n",
    "for column in columns_to_remove_outliers:\n",
    "    match_result[column] = match_result.groupby(['method', 'simpleEffect', 'objective', 'playerDepth', 'simulation'])[column].transform(remove_outliers)\n",
    "    match_result = match_result[match_result[column] != -9999]\n",
    "\n",
    "match_result_noout = match_result.copy()\n",
    "\n",
    "# print(set(match_result['playerDepth']))\n",
    "# pd.set_option('display.max_rows', None)\n",
    "match_result = match_result.groupby(['method', 'simpleEffect','objective', 'playerDepth', 'simulation'])[\n",
    "                                      'method',\n",
    "                                      'Matched_HorizontalPiece',\n",
    "                                      'Matched_VerticalPiece',\n",
    "                                      'Matched_CrossPiece',\n",
    "                                      'Matched_RocketPiece',\n",
    "                                      'Matched_BombPiece',\n",
    "                                      'Matched_RainbowPiece',\n",
    "                                      'Q1ReachedKnowledgeStep',\n",
    "                                      'Q2ReachedKnowledgeStep',\n",
    "                                      'Q3ReachedKnowledgeStep',\n",
    "                                      'ReachedKnowledgeStep',\n",
    "                                      'Sum_Matched'].agg(\n",
    "    {\n",
    "        'method': ['count']\n",
    "     }\n",
    ")\n",
    "match_result\n"
   ],
   "metadata": {
    "collapsed": false,
    "pycharm": {
     "name": "#%%\n"
    }
   }
  },
  {
   "cell_type": "markdown",
   "source": [
    "### Depth 1 Result"
   ],
   "metadata": {
    "collapsed": false
   }
  },
  {
   "cell_type": "code",
   "execution_count": 26,
   "outputs": [
    {
     "name": "stderr",
     "output_type": "stream",
     "text": [
      "C:\\Users\\GIST\\.conda\\envs\\mlagents\\lib\\site-packages\\ipykernel_launcher.py:33: FutureWarning: Indexing with multiple keys (implicitly converted to a tuple of keys) will be deprecated, use a list instead.\n"
     ]
    },
    {
     "data": {
      "text/plain": "                                     Sum_Matched         25%         50%  \\\n                                            mean        mean        mean   \nplayer method   objective simulation                                       \n0      ga       knowledge -           180.565574   24.557377   28.545082   \n                score     -           310.836735   38.948980   47.729592   \n       mcts     knowledge 100         263.552239   28.750533   33.571429   \n                          1000        263.047210   28.667382   32.566524   \n                score     100         388.897704   34.730689   43.732777   \n                          1000        429.995825   31.121086   39.780793   \n       random   -         -           235.303279   57.877049   69.954918   \n       sampling -         10          223.229167   71.333333   80.152778   \n                          20          235.208054   62.362416   70.322148   \n                          30          245.575758   58.000000   67.191919   \n1      ga       knowledge -           191.672269   32.428571   50.172269   \n                score     -           317.575758   45.171717   76.121212   \n       mcts     knowledge 100         268.897436   40.557692   54.564103   \n                          1000        274.748299   37.369615   51.634921   \n                score     100         385.450413   44.869835   66.347107   \n                          1000        434.453390   41.794492   61.027542   \n       random   -         -           235.380000   77.904000  111.046000   \n       sampling -         10          222.664360   86.993080  112.446367   \n                          20          233.878378   76.385135   99.425676   \n                          30          245.575758   72.000000   97.747475   \n10     ga       knowledge -           165.594937   28.147679   30.248945   \n                score     -           321.111111   41.058201   42.989418   \n       mcts     knowledge 100         254.381579   36.304825   38.153509   \n                          1000        250.935698   34.186253   35.802661   \n                score     100         395.719745   44.613588   46.577495   \n                          1000        433.825532   40.457447   42.063830   \n       random   -         -           235.380000   78.282000   81.136000   \n       sampling -         10          223.229167   86.892361   91.614583   \n                          20          232.816327   76.965986   81.891156   \n                          30          245.575758   72.464646   77.656566   \n2      ga       knowledge -           177.959514   30.732794   40.287449   \n                score     -           319.507692   44.528205   59.287179   \n       mcts     knowledge 100         274.209790   37.233100   44.564103   \n                          1000        270.479452   33.815068   40.630137   \n                score     100         392.695652   45.451346   58.621118   \n                          1000        428.794179   40.646570   50.787942   \n       random   -         -           235.380000   76.956000   93.286000   \n       sampling -         10          223.714286   85.466899   99.574913   \n                          20          232.816327   76.040816   89.857143   \n                          30          245.575758   71.404040   87.212121   \n3      ga       knowledge -           174.768595   32.239669   44.900826   \n                score     -           317.564767   45.419689   69.181347   \n       mcts     knowledge 100         262.984410   36.590200   47.828508   \n                          1000        274.193258   36.941573   47.559551   \n                score     100         391.021277   43.234043   57.776596   \n                          1000        435.419624   40.352818   54.647182   \n       random   -         -           235.380000   77.514000  100.960000   \n       sampling -         10          223.229167   86.288194  105.232639   \n                          20          232.816327   76.244898   94.551020   \n                          30          245.575758   71.686869   92.131313   \n4      ga       knowledge -           176.278481   30.278481   33.843882   \n                score     -           319.365079   43.132275   49.074074   \n       mcts     knowledge 100         260.495690   38.995690   43.635776   \n                          1000        268.008565   33.548180   37.496788   \n                score     100         394.381743   43.132780   49.201245   \n                          1000        430.691358   42.020576   47.456790   \n       random   -         -           235.380000   78.400000   88.486000   \n       sampling -         10          223.714286   86.703833   95.898955   \n                          20          232.816327   77.040816   86.102041   \n                          30          245.575758   72.535354   82.545455   \n5      ga       knowledge -           170.528926   27.119835   28.033058   \n                score     -           313.312500   44.796875   45.380208   \n       mcts     knowledge 100         259.903448   34.836782   35.429885   \n                          1000        267.829213   31.233708   31.669663   \n                score     100         394.135307   41.344609   41.699789   \n                          1000        430.989605   37.787942   38.286902   \n       random   -         -           235.380000   76.818000   77.476000   \n       sampling -         10          223.021739   85.217391   85.887681   \n                          20          232.816327   75.952381   76.231293   \n                          30          245.575758   71.313131   71.666667   \n6      ga       knowledge -           186.806723   32.462185   36.306723   \n                score     -           314.670157   44.785340   50.591623   \n       mcts     knowledge 100         280.768898   38.321814   42.423326   \n                          1000        281.227468   35.375536   39.341202   \n                score     100         390.505263   43.993684   50.389474   \n                          1000        434.738589   40.558091   46.695021   \n       random   -         -           235.380000   77.910000   87.240000   \n       sampling -         10          224.442105   85.740351   92.256140   \n                          20          233.878378   76.385135   82.500000   \n                          30          245.575758   72.000000   78.888889   \n7      ga       knowledge -           187.739496   32.689076   36.113445   \n                score     -           318.892308   47.143590   54.856410   \n       mcts     knowledge 100         274.581345   37.284165   40.793926   \n                          1000        273.038961   33.551948   36.883117   \n                score     100         392.781705   44.756757   49.713098   \n                          1000        437.628099   41.415289   46.801653   \n       random   -         -           235.380000   77.488000   86.698000   \n       sampling -         10          224.307692   85.458042   91.748252   \n                          20          231.041096   76.787671   82.678082   \n                          30          245.575758   71.737374   78.393939   \n8      ga       knowledge -           192.765432   31.349794   36.316872   \n                score     -           315.286432   50.180905   57.291457   \n       mcts     knowledge 100         267.214751   37.227766   41.583514   \n                          1000        279.489270   35.120172   39.328326   \n                score     100         397.276860   44.733471   50.851240   \n                          1000        428.066806   39.824635   45.680585   \n       random   -         -           235.380000   77.904000   88.816000   \n       sampling -         10          223.229167   86.600694   94.687500   \n                          20          232.816327   76.619048   84.122449   \n                          30          245.575758   72.000000   80.161616   \n9      ga       knowledge -           186.408511   39.208511   62.719149   \n                score     -           318.030151   59.090452   95.180905   \n       mcts     knowledge 100         271.351240   47.890496   77.307851   \n                          1000        275.859574   46.748936   64.825532   \n                score     100         393.709091   56.709091   86.444444   \n                          1000        429.340206   50.247423   73.832990   \n       random   -         -           234.400810   98.702429  136.366397   \n       sampling -         10          223.229167  100.159722  131.586806   \n                          20          233.878378   88.641892  122.155405   \n                          30          242.938776   86.234694  119.806122   \n\n                                             75%        100%  \n                                            mean        mean  \nplayer method   objective simulation                          \n0      ga       knowledge -            40.495902   41.200820  \n                score     -            68.943878   69.663265  \n       mcts     knowledge 100          45.955224   46.456290  \n                          1000         41.802575   42.345494  \n                score     100          62.060543   62.344468  \n                          1000         54.791232   55.256785  \n       random   -         -            97.358607   98.268443  \n       sampling -         10          104.493056  104.802083  \n                          20           93.201342   93.530201  \n                          30           91.393939   91.808081  \n1      ga       knowledge -            65.067227   71.894958  \n                score     -           100.823232  109.090909  \n       mcts     knowledge 100          79.049145   86.726496  \n                          1000         63.854875   68.489796  \n                score     100          88.721074   95.714876  \n                          1000         78.817797   85.243644  \n       random   -         -           136.176000  145.354000  \n       sampling -         10          133.861592  142.079585  \n                          20          123.391892  132.540541  \n                          30          121.434343  130.070707  \n10     ga       knowledge -            40.097046   42.350211  \n                score     -            62.126984   63.560847  \n       mcts     knowledge 100          48.493421   50.506579  \n                          1000         46.822616   49.015521  \n                score     100          60.622081   63.418259  \n                          1000         55.657447   57.597872  \n       random   -         -           103.848000  107.596000  \n       sampling -         10          109.340278  113.152778  \n                          20          100.333333  104.863946  \n                          30           97.070707  101.565657  \n2      ga       knowledge -            50.603239   61.056680  \n                score     -            82.051282  102.384615  \n       mcts     knowledge 100          55.160839   62.794872  \n                          1000         49.513699   56.433790  \n                score     100          78.472050   92.699793  \n                          1000         66.634096   78.970894  \n       random   -         -           115.754000  131.464000  \n       sampling -         10          116.825784  131.425087  \n                          20          103.571429  120.183673  \n                          30          100.414141  119.888889  \n3      ga       knowledge -            58.698347   60.727273  \n                score     -            93.082902   97.932642  \n       mcts     knowledge 100          61.178174   65.311804  \n                          1000         59.408989   62.887640  \n                score     100          75.057447   80.206383  \n                          1000         71.010438   75.749478  \n       random   -         -           128.342000  133.850000  \n       sampling -         10          128.500000  132.079861  \n                          20          116.462585  120.068027  \n                          30          113.010101  115.080808  \n4      ga       knowledge -            44.957806   48.696203  \n                score     -            70.587302   79.481481  \n       mcts     knowledge 100          54.232759   59.801724  \n                          1000         49.059957   54.237687  \n                score     100          66.120332   72.450207  \n                          1000         60.584362   67.316872  \n       random   -         -           111.716000  120.364000  \n       sampling -         10          114.529617  122.480836  \n                          20          106.346939  113.598639  \n                          30          102.040404  108.121212  \n5      ga       knowledge -            41.190083   41.380165  \n                score     -            72.921875   73.104167  \n       mcts     knowledge 100          49.082759   49.181609  \n                          1000         44.011236   44.128090  \n                score     100          60.247357   60.327696  \n                          1000         58.382536   58.538462  \n       random   -         -           109.890000  110.052000  \n       sampling -         10          110.239130  110.311594  \n                          20           98.557823   98.605442  \n                          30           96.848485   96.919192  \n6      ga       knowledge -            47.676471   51.163866  \n                score     -            70.486911   81.172775  \n       mcts     knowledge 100          52.753780   57.373650  \n                          1000         49.549356   53.392704  \n                score     100          65.221053   71.974737  \n                          1000         62.665975   68.026971  \n       random   -         -           109.688000  117.202000  \n       sampling -         10          111.070175  117.814035  \n                          20          101.817568  107.168919  \n                          30          100.323232  103.030303  \n7      ga       knowledge -            43.705882   47.735294  \n                score     -            72.656410   80.917949  \n       mcts     knowledge 100          48.154013   51.828633  \n                          1000         43.755411   47.727273  \n                score     100          61.498960   66.790021  \n                          1000         57.074380   62.338843  \n       random   -         -           106.400000  114.050000  \n       sampling -         10          105.965035  112.062937  \n                          20           97.219178  102.273973  \n                          30           95.797980   99.737374  \n8      ga       knowledge -            42.337449   46.135802  \n                score     -            65.246231   67.819095  \n       mcts     knowledge 100          47.874187   50.242950  \n                          1000         44.660944   46.442060  \n                score     100          59.101240   60.878099  \n                          1000         52.590814   54.488518  \n       random   -         -           100.996000  103.848000  \n       sampling -         10          106.326389  109.920139  \n                          20           97.775510  102.244898  \n                          30           94.212121   95.767677  \n9      ga       knowledge -            83.863830   99.493617  \n                score     -           128.351759  147.994975  \n       mcts     knowledge 100         104.132231  116.066116  \n                          1000         88.780851  103.808511  \n                score     100         112.488889  129.028283  \n                          1000         98.422680  114.364948  \n       random   -         -           163.020243  176.943320  \n       sampling -         10          155.680556  168.086806  \n                          20          148.479730  160.891892  \n                          30          146.938776  159.214286  ",
      "text/html": "<div>\n<style scoped>\n    .dataframe tbody tr th:only-of-type {\n        vertical-align: middle;\n    }\n\n    .dataframe tbody tr th {\n        vertical-align: top;\n    }\n\n    .dataframe thead tr th {\n        text-align: left;\n    }\n\n    .dataframe thead tr:last-of-type th {\n        text-align: right;\n    }\n</style>\n<table border=\"1\" class=\"dataframe\">\n  <thead>\n    <tr>\n      <th></th>\n      <th></th>\n      <th></th>\n      <th></th>\n      <th>Sum_Matched</th>\n      <th>25%</th>\n      <th>50%</th>\n      <th>75%</th>\n      <th>100%</th>\n    </tr>\n    <tr>\n      <th></th>\n      <th></th>\n      <th></th>\n      <th></th>\n      <th>mean</th>\n      <th>mean</th>\n      <th>mean</th>\n      <th>mean</th>\n      <th>mean</th>\n    </tr>\n    <tr>\n      <th>player</th>\n      <th>method</th>\n      <th>objective</th>\n      <th>simulation</th>\n      <th></th>\n      <th></th>\n      <th></th>\n      <th></th>\n      <th></th>\n    </tr>\n  </thead>\n  <tbody>\n    <tr>\n      <th rowspan=\"10\" valign=\"top\">0</th>\n      <th rowspan=\"2\" valign=\"top\">ga</th>\n      <th>knowledge</th>\n      <th>-</th>\n      <td>180.565574</td>\n      <td>24.557377</td>\n      <td>28.545082</td>\n      <td>40.495902</td>\n      <td>41.200820</td>\n    </tr>\n    <tr>\n      <th>score</th>\n      <th>-</th>\n      <td>310.836735</td>\n      <td>38.948980</td>\n      <td>47.729592</td>\n      <td>68.943878</td>\n      <td>69.663265</td>\n    </tr>\n    <tr>\n      <th rowspan=\"4\" valign=\"top\">mcts</th>\n      <th rowspan=\"2\" valign=\"top\">knowledge</th>\n      <th>100</th>\n      <td>263.552239</td>\n      <td>28.750533</td>\n      <td>33.571429</td>\n      <td>45.955224</td>\n      <td>46.456290</td>\n    </tr>\n    <tr>\n      <th>1000</th>\n      <td>263.047210</td>\n      <td>28.667382</td>\n      <td>32.566524</td>\n      <td>41.802575</td>\n      <td>42.345494</td>\n    </tr>\n    <tr>\n      <th rowspan=\"2\" valign=\"top\">score</th>\n      <th>100</th>\n      <td>388.897704</td>\n      <td>34.730689</td>\n      <td>43.732777</td>\n      <td>62.060543</td>\n      <td>62.344468</td>\n    </tr>\n    <tr>\n      <th>1000</th>\n      <td>429.995825</td>\n      <td>31.121086</td>\n      <td>39.780793</td>\n      <td>54.791232</td>\n      <td>55.256785</td>\n    </tr>\n    <tr>\n      <th>random</th>\n      <th>-</th>\n      <th>-</th>\n      <td>235.303279</td>\n      <td>57.877049</td>\n      <td>69.954918</td>\n      <td>97.358607</td>\n      <td>98.268443</td>\n    </tr>\n    <tr>\n      <th rowspan=\"3\" valign=\"top\">sampling</th>\n      <th rowspan=\"3\" valign=\"top\">-</th>\n      <th>10</th>\n      <td>223.229167</td>\n      <td>71.333333</td>\n      <td>80.152778</td>\n      <td>104.493056</td>\n      <td>104.802083</td>\n    </tr>\n    <tr>\n      <th>20</th>\n      <td>235.208054</td>\n      <td>62.362416</td>\n      <td>70.322148</td>\n      <td>93.201342</td>\n      <td>93.530201</td>\n    </tr>\n    <tr>\n      <th>30</th>\n      <td>245.575758</td>\n      <td>58.000000</td>\n      <td>67.191919</td>\n      <td>91.393939</td>\n      <td>91.808081</td>\n    </tr>\n    <tr>\n      <th rowspan=\"10\" valign=\"top\">1</th>\n      <th rowspan=\"2\" valign=\"top\">ga</th>\n      <th>knowledge</th>\n      <th>-</th>\n      <td>191.672269</td>\n      <td>32.428571</td>\n      <td>50.172269</td>\n      <td>65.067227</td>\n      <td>71.894958</td>\n    </tr>\n    <tr>\n      <th>score</th>\n      <th>-</th>\n      <td>317.575758</td>\n      <td>45.171717</td>\n      <td>76.121212</td>\n      <td>100.823232</td>\n      <td>109.090909</td>\n    </tr>\n    <tr>\n      <th rowspan=\"4\" valign=\"top\">mcts</th>\n      <th rowspan=\"2\" valign=\"top\">knowledge</th>\n      <th>100</th>\n      <td>268.897436</td>\n      <td>40.557692</td>\n      <td>54.564103</td>\n      <td>79.049145</td>\n      <td>86.726496</td>\n    </tr>\n    <tr>\n      <th>1000</th>\n      <td>274.748299</td>\n      <td>37.369615</td>\n      <td>51.634921</td>\n      <td>63.854875</td>\n      <td>68.489796</td>\n    </tr>\n    <tr>\n      <th rowspan=\"2\" valign=\"top\">score</th>\n      <th>100</th>\n      <td>385.450413</td>\n      <td>44.869835</td>\n      <td>66.347107</td>\n      <td>88.721074</td>\n      <td>95.714876</td>\n    </tr>\n    <tr>\n      <th>1000</th>\n      <td>434.453390</td>\n      <td>41.794492</td>\n      <td>61.027542</td>\n      <td>78.817797</td>\n      <td>85.243644</td>\n    </tr>\n    <tr>\n      <th>random</th>\n      <th>-</th>\n      <th>-</th>\n      <td>235.380000</td>\n      <td>77.904000</td>\n      <td>111.046000</td>\n      <td>136.176000</td>\n      <td>145.354000</td>\n    </tr>\n    <tr>\n      <th rowspan=\"3\" valign=\"top\">sampling</th>\n      <th rowspan=\"3\" valign=\"top\">-</th>\n      <th>10</th>\n      <td>222.664360</td>\n      <td>86.993080</td>\n      <td>112.446367</td>\n      <td>133.861592</td>\n      <td>142.079585</td>\n    </tr>\n    <tr>\n      <th>20</th>\n      <td>233.878378</td>\n      <td>76.385135</td>\n      <td>99.425676</td>\n      <td>123.391892</td>\n      <td>132.540541</td>\n    </tr>\n    <tr>\n      <th>30</th>\n      <td>245.575758</td>\n      <td>72.000000</td>\n      <td>97.747475</td>\n      <td>121.434343</td>\n      <td>130.070707</td>\n    </tr>\n    <tr>\n      <th rowspan=\"10\" valign=\"top\">10</th>\n      <th rowspan=\"2\" valign=\"top\">ga</th>\n      <th>knowledge</th>\n      <th>-</th>\n      <td>165.594937</td>\n      <td>28.147679</td>\n      <td>30.248945</td>\n      <td>40.097046</td>\n      <td>42.350211</td>\n    </tr>\n    <tr>\n      <th>score</th>\n      <th>-</th>\n      <td>321.111111</td>\n      <td>41.058201</td>\n      <td>42.989418</td>\n      <td>62.126984</td>\n      <td>63.560847</td>\n    </tr>\n    <tr>\n      <th rowspan=\"4\" valign=\"top\">mcts</th>\n      <th rowspan=\"2\" valign=\"top\">knowledge</th>\n      <th>100</th>\n      <td>254.381579</td>\n      <td>36.304825</td>\n      <td>38.153509</td>\n      <td>48.493421</td>\n      <td>50.506579</td>\n    </tr>\n    <tr>\n      <th>1000</th>\n      <td>250.935698</td>\n      <td>34.186253</td>\n      <td>35.802661</td>\n      <td>46.822616</td>\n      <td>49.015521</td>\n    </tr>\n    <tr>\n      <th rowspan=\"2\" valign=\"top\">score</th>\n      <th>100</th>\n      <td>395.719745</td>\n      <td>44.613588</td>\n      <td>46.577495</td>\n      <td>60.622081</td>\n      <td>63.418259</td>\n    </tr>\n    <tr>\n      <th>1000</th>\n      <td>433.825532</td>\n      <td>40.457447</td>\n      <td>42.063830</td>\n      <td>55.657447</td>\n      <td>57.597872</td>\n    </tr>\n    <tr>\n      <th>random</th>\n      <th>-</th>\n      <th>-</th>\n      <td>235.380000</td>\n      <td>78.282000</td>\n      <td>81.136000</td>\n      <td>103.848000</td>\n      <td>107.596000</td>\n    </tr>\n    <tr>\n      <th rowspan=\"3\" valign=\"top\">sampling</th>\n      <th rowspan=\"3\" valign=\"top\">-</th>\n      <th>10</th>\n      <td>223.229167</td>\n      <td>86.892361</td>\n      <td>91.614583</td>\n      <td>109.340278</td>\n      <td>113.152778</td>\n    </tr>\n    <tr>\n      <th>20</th>\n      <td>232.816327</td>\n      <td>76.965986</td>\n      <td>81.891156</td>\n      <td>100.333333</td>\n      <td>104.863946</td>\n    </tr>\n    <tr>\n      <th>30</th>\n      <td>245.575758</td>\n      <td>72.464646</td>\n      <td>77.656566</td>\n      <td>97.070707</td>\n      <td>101.565657</td>\n    </tr>\n    <tr>\n      <th rowspan=\"10\" valign=\"top\">2</th>\n      <th rowspan=\"2\" valign=\"top\">ga</th>\n      <th>knowledge</th>\n      <th>-</th>\n      <td>177.959514</td>\n      <td>30.732794</td>\n      <td>40.287449</td>\n      <td>50.603239</td>\n      <td>61.056680</td>\n    </tr>\n    <tr>\n      <th>score</th>\n      <th>-</th>\n      <td>319.507692</td>\n      <td>44.528205</td>\n      <td>59.287179</td>\n      <td>82.051282</td>\n      <td>102.384615</td>\n    </tr>\n    <tr>\n      <th rowspan=\"4\" valign=\"top\">mcts</th>\n      <th rowspan=\"2\" valign=\"top\">knowledge</th>\n      <th>100</th>\n      <td>274.209790</td>\n      <td>37.233100</td>\n      <td>44.564103</td>\n      <td>55.160839</td>\n      <td>62.794872</td>\n    </tr>\n    <tr>\n      <th>1000</th>\n      <td>270.479452</td>\n      <td>33.815068</td>\n      <td>40.630137</td>\n      <td>49.513699</td>\n      <td>56.433790</td>\n    </tr>\n    <tr>\n      <th rowspan=\"2\" valign=\"top\">score</th>\n      <th>100</th>\n      <td>392.695652</td>\n      <td>45.451346</td>\n      <td>58.621118</td>\n      <td>78.472050</td>\n      <td>92.699793</td>\n    </tr>\n    <tr>\n      <th>1000</th>\n      <td>428.794179</td>\n      <td>40.646570</td>\n      <td>50.787942</td>\n      <td>66.634096</td>\n      <td>78.970894</td>\n    </tr>\n    <tr>\n      <th>random</th>\n      <th>-</th>\n      <th>-</th>\n      <td>235.380000</td>\n      <td>76.956000</td>\n      <td>93.286000</td>\n      <td>115.754000</td>\n      <td>131.464000</td>\n    </tr>\n    <tr>\n      <th rowspan=\"3\" valign=\"top\">sampling</th>\n      <th rowspan=\"3\" valign=\"top\">-</th>\n      <th>10</th>\n      <td>223.714286</td>\n      <td>85.466899</td>\n      <td>99.574913</td>\n      <td>116.825784</td>\n      <td>131.425087</td>\n    </tr>\n    <tr>\n      <th>20</th>\n      <td>232.816327</td>\n      <td>76.040816</td>\n      <td>89.857143</td>\n      <td>103.571429</td>\n      <td>120.183673</td>\n    </tr>\n    <tr>\n      <th>30</th>\n      <td>245.575758</td>\n      <td>71.404040</td>\n      <td>87.212121</td>\n      <td>100.414141</td>\n      <td>119.888889</td>\n    </tr>\n    <tr>\n      <th rowspan=\"10\" valign=\"top\">3</th>\n      <th rowspan=\"2\" valign=\"top\">ga</th>\n      <th>knowledge</th>\n      <th>-</th>\n      <td>174.768595</td>\n      <td>32.239669</td>\n      <td>44.900826</td>\n      <td>58.698347</td>\n      <td>60.727273</td>\n    </tr>\n    <tr>\n      <th>score</th>\n      <th>-</th>\n      <td>317.564767</td>\n      <td>45.419689</td>\n      <td>69.181347</td>\n      <td>93.082902</td>\n      <td>97.932642</td>\n    </tr>\n    <tr>\n      <th rowspan=\"4\" valign=\"top\">mcts</th>\n      <th rowspan=\"2\" valign=\"top\">knowledge</th>\n      <th>100</th>\n      <td>262.984410</td>\n      <td>36.590200</td>\n      <td>47.828508</td>\n      <td>61.178174</td>\n      <td>65.311804</td>\n    </tr>\n    <tr>\n      <th>1000</th>\n      <td>274.193258</td>\n      <td>36.941573</td>\n      <td>47.559551</td>\n      <td>59.408989</td>\n      <td>62.887640</td>\n    </tr>\n    <tr>\n      <th rowspan=\"2\" valign=\"top\">score</th>\n      <th>100</th>\n      <td>391.021277</td>\n      <td>43.234043</td>\n      <td>57.776596</td>\n      <td>75.057447</td>\n      <td>80.206383</td>\n    </tr>\n    <tr>\n      <th>1000</th>\n      <td>435.419624</td>\n      <td>40.352818</td>\n      <td>54.647182</td>\n      <td>71.010438</td>\n      <td>75.749478</td>\n    </tr>\n    <tr>\n      <th>random</th>\n      <th>-</th>\n      <th>-</th>\n      <td>235.380000</td>\n      <td>77.514000</td>\n      <td>100.960000</td>\n      <td>128.342000</td>\n      <td>133.850000</td>\n    </tr>\n    <tr>\n      <th rowspan=\"3\" valign=\"top\">sampling</th>\n      <th rowspan=\"3\" valign=\"top\">-</th>\n      <th>10</th>\n      <td>223.229167</td>\n      <td>86.288194</td>\n      <td>105.232639</td>\n      <td>128.500000</td>\n      <td>132.079861</td>\n    </tr>\n    <tr>\n      <th>20</th>\n      <td>232.816327</td>\n      <td>76.244898</td>\n      <td>94.551020</td>\n      <td>116.462585</td>\n      <td>120.068027</td>\n    </tr>\n    <tr>\n      <th>30</th>\n      <td>245.575758</td>\n      <td>71.686869</td>\n      <td>92.131313</td>\n      <td>113.010101</td>\n      <td>115.080808</td>\n    </tr>\n    <tr>\n      <th rowspan=\"10\" valign=\"top\">4</th>\n      <th rowspan=\"2\" valign=\"top\">ga</th>\n      <th>knowledge</th>\n      <th>-</th>\n      <td>176.278481</td>\n      <td>30.278481</td>\n      <td>33.843882</td>\n      <td>44.957806</td>\n      <td>48.696203</td>\n    </tr>\n    <tr>\n      <th>score</th>\n      <th>-</th>\n      <td>319.365079</td>\n      <td>43.132275</td>\n      <td>49.074074</td>\n      <td>70.587302</td>\n      <td>79.481481</td>\n    </tr>\n    <tr>\n      <th rowspan=\"4\" valign=\"top\">mcts</th>\n      <th rowspan=\"2\" valign=\"top\">knowledge</th>\n      <th>100</th>\n      <td>260.495690</td>\n      <td>38.995690</td>\n      <td>43.635776</td>\n      <td>54.232759</td>\n      <td>59.801724</td>\n    </tr>\n    <tr>\n      <th>1000</th>\n      <td>268.008565</td>\n      <td>33.548180</td>\n      <td>37.496788</td>\n      <td>49.059957</td>\n      <td>54.237687</td>\n    </tr>\n    <tr>\n      <th rowspan=\"2\" valign=\"top\">score</th>\n      <th>100</th>\n      <td>394.381743</td>\n      <td>43.132780</td>\n      <td>49.201245</td>\n      <td>66.120332</td>\n      <td>72.450207</td>\n    </tr>\n    <tr>\n      <th>1000</th>\n      <td>430.691358</td>\n      <td>42.020576</td>\n      <td>47.456790</td>\n      <td>60.584362</td>\n      <td>67.316872</td>\n    </tr>\n    <tr>\n      <th>random</th>\n      <th>-</th>\n      <th>-</th>\n      <td>235.380000</td>\n      <td>78.400000</td>\n      <td>88.486000</td>\n      <td>111.716000</td>\n      <td>120.364000</td>\n    </tr>\n    <tr>\n      <th rowspan=\"3\" valign=\"top\">sampling</th>\n      <th rowspan=\"3\" valign=\"top\">-</th>\n      <th>10</th>\n      <td>223.714286</td>\n      <td>86.703833</td>\n      <td>95.898955</td>\n      <td>114.529617</td>\n      <td>122.480836</td>\n    </tr>\n    <tr>\n      <th>20</th>\n      <td>232.816327</td>\n      <td>77.040816</td>\n      <td>86.102041</td>\n      <td>106.346939</td>\n      <td>113.598639</td>\n    </tr>\n    <tr>\n      <th>30</th>\n      <td>245.575758</td>\n      <td>72.535354</td>\n      <td>82.545455</td>\n      <td>102.040404</td>\n      <td>108.121212</td>\n    </tr>\n    <tr>\n      <th rowspan=\"10\" valign=\"top\">5</th>\n      <th rowspan=\"2\" valign=\"top\">ga</th>\n      <th>knowledge</th>\n      <th>-</th>\n      <td>170.528926</td>\n      <td>27.119835</td>\n      <td>28.033058</td>\n      <td>41.190083</td>\n      <td>41.380165</td>\n    </tr>\n    <tr>\n      <th>score</th>\n      <th>-</th>\n      <td>313.312500</td>\n      <td>44.796875</td>\n      <td>45.380208</td>\n      <td>72.921875</td>\n      <td>73.104167</td>\n    </tr>\n    <tr>\n      <th rowspan=\"4\" valign=\"top\">mcts</th>\n      <th rowspan=\"2\" valign=\"top\">knowledge</th>\n      <th>100</th>\n      <td>259.903448</td>\n      <td>34.836782</td>\n      <td>35.429885</td>\n      <td>49.082759</td>\n      <td>49.181609</td>\n    </tr>\n    <tr>\n      <th>1000</th>\n      <td>267.829213</td>\n      <td>31.233708</td>\n      <td>31.669663</td>\n      <td>44.011236</td>\n      <td>44.128090</td>\n    </tr>\n    <tr>\n      <th rowspan=\"2\" valign=\"top\">score</th>\n      <th>100</th>\n      <td>394.135307</td>\n      <td>41.344609</td>\n      <td>41.699789</td>\n      <td>60.247357</td>\n      <td>60.327696</td>\n    </tr>\n    <tr>\n      <th>1000</th>\n      <td>430.989605</td>\n      <td>37.787942</td>\n      <td>38.286902</td>\n      <td>58.382536</td>\n      <td>58.538462</td>\n    </tr>\n    <tr>\n      <th>random</th>\n      <th>-</th>\n      <th>-</th>\n      <td>235.380000</td>\n      <td>76.818000</td>\n      <td>77.476000</td>\n      <td>109.890000</td>\n      <td>110.052000</td>\n    </tr>\n    <tr>\n      <th rowspan=\"3\" valign=\"top\">sampling</th>\n      <th rowspan=\"3\" valign=\"top\">-</th>\n      <th>10</th>\n      <td>223.021739</td>\n      <td>85.217391</td>\n      <td>85.887681</td>\n      <td>110.239130</td>\n      <td>110.311594</td>\n    </tr>\n    <tr>\n      <th>20</th>\n      <td>232.816327</td>\n      <td>75.952381</td>\n      <td>76.231293</td>\n      <td>98.557823</td>\n      <td>98.605442</td>\n    </tr>\n    <tr>\n      <th>30</th>\n      <td>245.575758</td>\n      <td>71.313131</td>\n      <td>71.666667</td>\n      <td>96.848485</td>\n      <td>96.919192</td>\n    </tr>\n    <tr>\n      <th rowspan=\"10\" valign=\"top\">6</th>\n      <th rowspan=\"2\" valign=\"top\">ga</th>\n      <th>knowledge</th>\n      <th>-</th>\n      <td>186.806723</td>\n      <td>32.462185</td>\n      <td>36.306723</td>\n      <td>47.676471</td>\n      <td>51.163866</td>\n    </tr>\n    <tr>\n      <th>score</th>\n      <th>-</th>\n      <td>314.670157</td>\n      <td>44.785340</td>\n      <td>50.591623</td>\n      <td>70.486911</td>\n      <td>81.172775</td>\n    </tr>\n    <tr>\n      <th rowspan=\"4\" valign=\"top\">mcts</th>\n      <th rowspan=\"2\" valign=\"top\">knowledge</th>\n      <th>100</th>\n      <td>280.768898</td>\n      <td>38.321814</td>\n      <td>42.423326</td>\n      <td>52.753780</td>\n      <td>57.373650</td>\n    </tr>\n    <tr>\n      <th>1000</th>\n      <td>281.227468</td>\n      <td>35.375536</td>\n      <td>39.341202</td>\n      <td>49.549356</td>\n      <td>53.392704</td>\n    </tr>\n    <tr>\n      <th rowspan=\"2\" valign=\"top\">score</th>\n      <th>100</th>\n      <td>390.505263</td>\n      <td>43.993684</td>\n      <td>50.389474</td>\n      <td>65.221053</td>\n      <td>71.974737</td>\n    </tr>\n    <tr>\n      <th>1000</th>\n      <td>434.738589</td>\n      <td>40.558091</td>\n      <td>46.695021</td>\n      <td>62.665975</td>\n      <td>68.026971</td>\n    </tr>\n    <tr>\n      <th>random</th>\n      <th>-</th>\n      <th>-</th>\n      <td>235.380000</td>\n      <td>77.910000</td>\n      <td>87.240000</td>\n      <td>109.688000</td>\n      <td>117.202000</td>\n    </tr>\n    <tr>\n      <th rowspan=\"3\" valign=\"top\">sampling</th>\n      <th rowspan=\"3\" valign=\"top\">-</th>\n      <th>10</th>\n      <td>224.442105</td>\n      <td>85.740351</td>\n      <td>92.256140</td>\n      <td>111.070175</td>\n      <td>117.814035</td>\n    </tr>\n    <tr>\n      <th>20</th>\n      <td>233.878378</td>\n      <td>76.385135</td>\n      <td>82.500000</td>\n      <td>101.817568</td>\n      <td>107.168919</td>\n    </tr>\n    <tr>\n      <th>30</th>\n      <td>245.575758</td>\n      <td>72.000000</td>\n      <td>78.888889</td>\n      <td>100.323232</td>\n      <td>103.030303</td>\n    </tr>\n    <tr>\n      <th rowspan=\"10\" valign=\"top\">7</th>\n      <th rowspan=\"2\" valign=\"top\">ga</th>\n      <th>knowledge</th>\n      <th>-</th>\n      <td>187.739496</td>\n      <td>32.689076</td>\n      <td>36.113445</td>\n      <td>43.705882</td>\n      <td>47.735294</td>\n    </tr>\n    <tr>\n      <th>score</th>\n      <th>-</th>\n      <td>318.892308</td>\n      <td>47.143590</td>\n      <td>54.856410</td>\n      <td>72.656410</td>\n      <td>80.917949</td>\n    </tr>\n    <tr>\n      <th rowspan=\"4\" valign=\"top\">mcts</th>\n      <th rowspan=\"2\" valign=\"top\">knowledge</th>\n      <th>100</th>\n      <td>274.581345</td>\n      <td>37.284165</td>\n      <td>40.793926</td>\n      <td>48.154013</td>\n      <td>51.828633</td>\n    </tr>\n    <tr>\n      <th>1000</th>\n      <td>273.038961</td>\n      <td>33.551948</td>\n      <td>36.883117</td>\n      <td>43.755411</td>\n      <td>47.727273</td>\n    </tr>\n    <tr>\n      <th rowspan=\"2\" valign=\"top\">score</th>\n      <th>100</th>\n      <td>392.781705</td>\n      <td>44.756757</td>\n      <td>49.713098</td>\n      <td>61.498960</td>\n      <td>66.790021</td>\n    </tr>\n    <tr>\n      <th>1000</th>\n      <td>437.628099</td>\n      <td>41.415289</td>\n      <td>46.801653</td>\n      <td>57.074380</td>\n      <td>62.338843</td>\n    </tr>\n    <tr>\n      <th>random</th>\n      <th>-</th>\n      <th>-</th>\n      <td>235.380000</td>\n      <td>77.488000</td>\n      <td>86.698000</td>\n      <td>106.400000</td>\n      <td>114.050000</td>\n    </tr>\n    <tr>\n      <th rowspan=\"3\" valign=\"top\">sampling</th>\n      <th rowspan=\"3\" valign=\"top\">-</th>\n      <th>10</th>\n      <td>224.307692</td>\n      <td>85.458042</td>\n      <td>91.748252</td>\n      <td>105.965035</td>\n      <td>112.062937</td>\n    </tr>\n    <tr>\n      <th>20</th>\n      <td>231.041096</td>\n      <td>76.787671</td>\n      <td>82.678082</td>\n      <td>97.219178</td>\n      <td>102.273973</td>\n    </tr>\n    <tr>\n      <th>30</th>\n      <td>245.575758</td>\n      <td>71.737374</td>\n      <td>78.393939</td>\n      <td>95.797980</td>\n      <td>99.737374</td>\n    </tr>\n    <tr>\n      <th rowspan=\"10\" valign=\"top\">8</th>\n      <th rowspan=\"2\" valign=\"top\">ga</th>\n      <th>knowledge</th>\n      <th>-</th>\n      <td>192.765432</td>\n      <td>31.349794</td>\n      <td>36.316872</td>\n      <td>42.337449</td>\n      <td>46.135802</td>\n    </tr>\n    <tr>\n      <th>score</th>\n      <th>-</th>\n      <td>315.286432</td>\n      <td>50.180905</td>\n      <td>57.291457</td>\n      <td>65.246231</td>\n      <td>67.819095</td>\n    </tr>\n    <tr>\n      <th rowspan=\"4\" valign=\"top\">mcts</th>\n      <th rowspan=\"2\" valign=\"top\">knowledge</th>\n      <th>100</th>\n      <td>267.214751</td>\n      <td>37.227766</td>\n      <td>41.583514</td>\n      <td>47.874187</td>\n      <td>50.242950</td>\n    </tr>\n    <tr>\n      <th>1000</th>\n      <td>279.489270</td>\n      <td>35.120172</td>\n      <td>39.328326</td>\n      <td>44.660944</td>\n      <td>46.442060</td>\n    </tr>\n    <tr>\n      <th rowspan=\"2\" valign=\"top\">score</th>\n      <th>100</th>\n      <td>397.276860</td>\n      <td>44.733471</td>\n      <td>50.851240</td>\n      <td>59.101240</td>\n      <td>60.878099</td>\n    </tr>\n    <tr>\n      <th>1000</th>\n      <td>428.066806</td>\n      <td>39.824635</td>\n      <td>45.680585</td>\n      <td>52.590814</td>\n      <td>54.488518</td>\n    </tr>\n    <tr>\n      <th>random</th>\n      <th>-</th>\n      <th>-</th>\n      <td>235.380000</td>\n      <td>77.904000</td>\n      <td>88.816000</td>\n      <td>100.996000</td>\n      <td>103.848000</td>\n    </tr>\n    <tr>\n      <th rowspan=\"3\" valign=\"top\">sampling</th>\n      <th rowspan=\"3\" valign=\"top\">-</th>\n      <th>10</th>\n      <td>223.229167</td>\n      <td>86.600694</td>\n      <td>94.687500</td>\n      <td>106.326389</td>\n      <td>109.920139</td>\n    </tr>\n    <tr>\n      <th>20</th>\n      <td>232.816327</td>\n      <td>76.619048</td>\n      <td>84.122449</td>\n      <td>97.775510</td>\n      <td>102.244898</td>\n    </tr>\n    <tr>\n      <th>30</th>\n      <td>245.575758</td>\n      <td>72.000000</td>\n      <td>80.161616</td>\n      <td>94.212121</td>\n      <td>95.767677</td>\n    </tr>\n    <tr>\n      <th rowspan=\"10\" valign=\"top\">9</th>\n      <th rowspan=\"2\" valign=\"top\">ga</th>\n      <th>knowledge</th>\n      <th>-</th>\n      <td>186.408511</td>\n      <td>39.208511</td>\n      <td>62.719149</td>\n      <td>83.863830</td>\n      <td>99.493617</td>\n    </tr>\n    <tr>\n      <th>score</th>\n      <th>-</th>\n      <td>318.030151</td>\n      <td>59.090452</td>\n      <td>95.180905</td>\n      <td>128.351759</td>\n      <td>147.994975</td>\n    </tr>\n    <tr>\n      <th rowspan=\"4\" valign=\"top\">mcts</th>\n      <th rowspan=\"2\" valign=\"top\">knowledge</th>\n      <th>100</th>\n      <td>271.351240</td>\n      <td>47.890496</td>\n      <td>77.307851</td>\n      <td>104.132231</td>\n      <td>116.066116</td>\n    </tr>\n    <tr>\n      <th>1000</th>\n      <td>275.859574</td>\n      <td>46.748936</td>\n      <td>64.825532</td>\n      <td>88.780851</td>\n      <td>103.808511</td>\n    </tr>\n    <tr>\n      <th rowspan=\"2\" valign=\"top\">score</th>\n      <th>100</th>\n      <td>393.709091</td>\n      <td>56.709091</td>\n      <td>86.444444</td>\n      <td>112.488889</td>\n      <td>129.028283</td>\n    </tr>\n    <tr>\n      <th>1000</th>\n      <td>429.340206</td>\n      <td>50.247423</td>\n      <td>73.832990</td>\n      <td>98.422680</td>\n      <td>114.364948</td>\n    </tr>\n    <tr>\n      <th>random</th>\n      <th>-</th>\n      <th>-</th>\n      <td>234.400810</td>\n      <td>98.702429</td>\n      <td>136.366397</td>\n      <td>163.020243</td>\n      <td>176.943320</td>\n    </tr>\n    <tr>\n      <th rowspan=\"3\" valign=\"top\">sampling</th>\n      <th rowspan=\"3\" valign=\"top\">-</th>\n      <th>10</th>\n      <td>223.229167</td>\n      <td>100.159722</td>\n      <td>131.586806</td>\n      <td>155.680556</td>\n      <td>168.086806</td>\n    </tr>\n    <tr>\n      <th>20</th>\n      <td>233.878378</td>\n      <td>88.641892</td>\n      <td>122.155405</td>\n      <td>148.479730</td>\n      <td>160.891892</td>\n    </tr>\n    <tr>\n      <th>30</th>\n      <td>242.938776</td>\n      <td>86.234694</td>\n      <td>119.806122</td>\n      <td>146.938776</td>\n      <td>159.214286</td>\n    </tr>\n  </tbody>\n</table>\n</div>"
     },
     "execution_count": 26,
     "metadata": {},
     "output_type": "execute_result"
    }
   ],
   "source": [
    "# Drop outliers\n",
    "match_result = original_df.copy()\n",
    "\n",
    "match_result = match_result[~match_result['almostRatio'].isin(['0.75'])]\n",
    "match_result = match_result[~match_result['playerDepth'].isin([2, 3])]\n",
    "match_result = match_result[~match_result['objective'].isin([2, 3])]\n",
    "match_result = match_result[~match_result['simulation'].isin([200])]\n",
    "\n",
    "\n",
    "columns_to_remove_outliers = ['Q1ReachedKnowledgeStep',\n",
    "                              'Q2ReachedKnowledgeStep',\n",
    "                              'Q3ReachedKnowledgeStep',\n",
    "                              'ReachedKnowledgeStep']\n",
    "\n",
    "for column in columns_to_remove_outliers:\n",
    "    match_result[column] = match_result.groupby(['player', 'method', 'simpleEffect', 'objective', 'playerDepth', 'simulation'])[column].transform(remove_outliers)\n",
    "    match_result = match_result[match_result[column] != -9999]\n",
    "\n",
    "\n",
    "# print(set(match_result['playerDepth']))\n",
    "# pd.set_option('display.max_rows', None)\n",
    "\n",
    "match_result.rename(columns={\n",
    "                            'ReachedKnowledgeStep': '100%',\n",
    "                            'Q1ReachedKnowledgeStep': '25%',\n",
    "                            'Q2ReachedKnowledgeStep': '50%',\n",
    "                            'Q3ReachedKnowledgeStep': '75%'\n",
    "                            }, inplace=True)\n",
    "\n",
    "pd.set_option('display.max_rows', None)\n",
    "\n",
    "match_result = match_result.groupby(['player', 'method', 'objective', 'simulation'])[\n",
    "                                      '25%',\n",
    "                                      '50%',\n",
    "                                      '75%',\n",
    "                                      '100%',\n",
    "                                      'Sum_Matched'].agg(\n",
    "    {\n",
    "        'Sum_Matched': ['mean',],\n",
    "        '25%': ['mean'],\n",
    "        '50%': ['mean'],\n",
    "        '75%': ['mean'],\n",
    "        '100%': ['mean'],\n",
    "     }\n",
    ")\n",
    "match_result"
   ],
   "metadata": {
    "collapsed": false,
    "pycharm": {
     "name": "#%%\n"
    }
   }
  },
  {
   "cell_type": "code",
   "execution_count": 19,
   "outputs": [],
   "source": [
    "match_result.to_latex('match_count_table.tex', float_format=\"%.3f\", escape=True)\n"
   ],
   "metadata": {
    "collapsed": false,
    "pycharm": {
     "name": "#%%\n"
    }
   }
  },
  {
   "cell_type": "code",
   "execution_count": 20,
   "outputs": [],
   "source": [
    "display_graphs = ['random', 'ga',\n",
    "                  'sampling_20',\n",
    "                   'mcts_knowledge_1.0_1000_1',\n",
    "                   'mcts_score_1000_1']"
   ],
   "metadata": {
    "collapsed": false,
    "pycharm": {
     "name": "#%%\n"
    }
   }
  },
  {
   "cell_type": "code",
   "metadata": {
    "collapsed": false,
    "pycharm": {
     "name": "#%% md raw\n"
    }
   },
   "source": [
    "melted_df = match_result_noout.copy()\n",
    "\n",
    "melted_df['concat_method'] = melted_df.agg(lambda x: get_legend_name(x), axis=1)\n",
    "pprint(set(melted_df['concat_method']))\n",
    "# Display Target\n",
    "melted_df = melted_df[melted_df['concat_method'].isin(['random', 'ga',\n",
    "                                                       'sampling_20',\n",
    "                                                       'mcts_knowledge_1.0_1000_1',\n",
    "                                                       'mcts_score_1000_1'])]\n",
    "\n",
    "plt.figure(figsize=(7, 5))\n",
    "melted_df = pd.melt(melted_df, id_vars=['EpisodeCount', 'objective', 'concat_method', 'simulation', 'player'],\n",
    "                    value_vars=[*StatisticsColumns], ignore_index=False)\n",
    "\n",
    "melted_df['x'] = melted_df['variable']\n",
    "melted_df['x'] = melted_df['x'].str.replace('ReachedKnowledgeStep', 'r_step')\n",
    "melted_df['x'] = melted_df['x'].str.replace('Matched_HorizontalPiece', 'b0')\n",
    "melted_df['x'] = melted_df['x'].str.replace('Matched_VerticalPiece', 'b1')\n",
    "melted_df['x'] = melted_df['x'].str.replace('Matched_CrossPiece', 'b2')\n",
    "melted_df['x'] = melted_df['x'].str.replace('Matched_RocketPiece', 'b3')\n",
    "melted_df['x'] = melted_df['x'].str.replace('Matched_BombPiece', 'b4')\n",
    "melted_df['x'] = melted_df['x'].str.replace('Matched_RainbowPiece', 'b5')\n",
    "\n",
    "ax = sns.boxplot(x=\"x\", y=\"value\", hue=\"concat_method\", data=melted_df, linewidth=0.8)\n",
    "plt.xticks(rotation=45)\n",
    "plt.tight_layout()\n",
    "plt.savefig('matched_block.png')"
   ],
   "execution_count": 21,
   "outputs": [
    {
     "name": "stdout",
     "output_type": "stream",
     "text": [
      "{'ga',\n",
      " 'mcts_knowledge_1.0_1000_1',\n",
      " 'mcts_knowledge_1.0_100_1',\n",
      " 'mcts_score_1000_1',\n",
      " 'mcts_score_1000_2',\n",
      " 'mcts_score_1000_3',\n",
      " 'mcts_score_100_1',\n",
      " 'mcts_score_100_2',\n",
      " 'mcts_score_100_3',\n",
      " 'mcts_score_200_1',\n",
      " 'mcts_score_200_2',\n",
      " 'mcts_score_200_3',\n",
      " 'random',\n",
      " 'sampling_10',\n",
      " 'sampling_20',\n",
      " 'sampling_30'}\n"
     ]
    },
    {
     "data": {
      "text/plain": "<Figure size 700x500 with 1 Axes>",
      "image/png": "[encoded data removed]"
     },
     "metadata": {},
     "output_type": "display_data"
    }
   ]
  },
  {
   "cell_type": "code",
   "execution_count": 22,
   "outputs": [],
   "source": [
    "from statannot import add_stat_annotation\n",
    "from itertools import combinations"
   ],
   "metadata": {
    "collapsed": false,
    "pycharm": {
     "name": "#%%\n"
    }
   }
  },
  {
   "cell_type": "code",
   "execution_count": 23,
   "outputs": [
    {
     "ename": "NameError",
     "evalue": "name 'player_no' is not defined",
     "output_type": "error",
     "traceback": [
      "\u001B[1;31m---------------------------------------------------------------------------\u001B[0m",
      "\u001B[1;31mNameError\u001B[0m                                 Traceback (most recent call last)",
      "\u001B[1;32m~\\AppData\\Local\\Temp\\ipykernel_859048\\2682014339.py\u001B[0m in \u001B[0;36m<module>\u001B[1;34m\u001B[0m\n\u001B[1;32m----> 1\u001B[1;33m \u001B[0mplayer_df\u001B[0m \u001B[1;33m=\u001B[0m \u001B[0mmatch_result_noout\u001B[0m\u001B[1;33m[\u001B[0m\u001B[0mmatch_result_noout\u001B[0m\u001B[1;33m[\u001B[0m\u001B[1;34m'player'\u001B[0m\u001B[1;33m]\u001B[0m \u001B[1;33m==\u001B[0m \u001B[0mstr\u001B[0m\u001B[1;33m(\u001B[0m\u001B[0mplayer_no\u001B[0m\u001B[1;33m)\u001B[0m\u001B[1;33m]\u001B[0m\u001B[1;33m\u001B[0m\u001B[1;33m\u001B[0m\u001B[0m\n\u001B[0m\u001B[0;32m      2\u001B[0m \u001B[0mmelted_df\u001B[0m \u001B[1;33m=\u001B[0m \u001B[0mplayer_df\u001B[0m\u001B[1;33m.\u001B[0m\u001B[0mcopy\u001B[0m\u001B[1;33m(\u001B[0m\u001B[1;33m)\u001B[0m\u001B[1;33m\u001B[0m\u001B[1;33m\u001B[0m\u001B[0m\n\u001B[0;32m      3\u001B[0m \u001B[1;33m\u001B[0m\u001B[0m\n\u001B[0;32m      4\u001B[0m melted_df.rename(columns={\n\u001B[0;32m      5\u001B[0m     \u001B[1;34m'ReachedKnowledgeStep'\u001B[0m\u001B[1;33m:\u001B[0m\u001B[1;34m'100'\u001B[0m\u001B[1;33m,\u001B[0m\u001B[1;33m\u001B[0m\u001B[1;33m\u001B[0m\u001B[0m\n",
      "\u001B[1;31mNameError\u001B[0m: name 'player_no' is not defined"
     ]
    }
   ],
   "source": [
    "player_df = match_result_noout[match_result_noout['player'] == str(player_no)]\n",
    "melted_df = player_df.copy()\n",
    "\n",
    "melted_df.rename(columns={\n",
    "    'ReachedKnowledgeStep':'100',\n",
    "    'Q1ReachedKnowledgeStep':'25',\n",
    "    'Q2ReachedKnowledgeStep':'50',\n",
    "    'Q3ReachedKnowledgeStep':'75'\n",
    "}, inplace=True)\n",
    "\n",
    "_columns = ['25', '50', '75', '100']\n",
    "\n",
    "sns.set_palette('Set2')\n",
    "# melted_df = melted_df.groupby(['player', 'method', 'objective', 'playerDepth', 'simulation']).sample(n=300, random_state=1)\n",
    "melted_df['concat_method'] = melted_df.agg(lambda x: get_legend_name(x), axis=1)\n",
    "melted_df = pd.melt(melted_df, id_vars=['EpisodeCount', 'objective', 'concat_method', 'simulation', 'player'], value_vars=[*_columns], ignore_index=False)\n",
    "\n",
    "melted_df = melted_df[melted_df['concat_method'].isin(display_graphs)]\n",
    "\n",
    "plt.figure(figsize=(7, 4))\n",
    "plt.clf()\n",
    "ax = sns.boxplot(x=\"variable\", y=\"value\", hue=\"concat_method\", data=melted_df, dodge=True, linewidth=0.8)\n",
    "\n",
    "pairs = list()\n",
    "for i in range(25, 101, 25):\n",
    "    pairs.append(((str(i), 'mcts_knowledge_1.0_1000_1'), (str(i), 'mcts_score_1000_1')))\n",
    "    pairs.append(((str(i), 'mcts_knowledge_1.0_1000_1'), (str(i), 'random')))\n",
    "    pairs.append(((str(i), 'random'), (str(i), 'mcts_score_1000_1')))\n",
    "    pairs.append(((str(i), 'random'), (str(i), 'sampling_20')))\n",
    "    pairs.append(((str(i), 'mcts_score_1000_1'), (str(i), 'sampling_20')))\n",
    "    pairs.append(((str(i), 'mcts_knowledge_1.0_1000_1'), (str(i), 'sampling_20')))\n",
    "\n",
    "add_stat_annotation(ax, x=\"variable\", y=\"value\", hue=\"concat_method\", data=melted_df,\n",
    "                    box_pairs=pairs,\n",
    "                    test='t-test_ind', text_format='star', loc='inside', verbose=1)\n",
    "\n",
    "plt.legend(loc='upper left', bbox_to_anchor=(1.0, 0.5))\n",
    "ax.set_title(f'Required Steps for Learning Skill (Player: {player_no})')\n",
    "ax.set_xlabel('Progress (%)')\n",
    "ax.set_ylabel('Step')\n",
    "plt.tight_layout()\n",
    "plt.savefig(f'./figures/learning_steps_p{player_no}', dpi=300)\n",
    "    # plt.show()"
   ],
   "metadata": {
    "collapsed": false,
    "pycharm": {
     "name": "#%%                                                                                                                                                                                                                                                                                                                                                                                                                                                                                                                                                                                                                                                                                                                                                                                                                                                                                                                                                                                                                                                                                                                                                                                                                                                                                                                                                                                                                                                                                                                                                                                                                                                                                                      for player_no in range(0, 11):\n"
    }
   }
  },
  {
   "cell_type": "code",
   "execution_count": null,
   "outputs": [],
   "source": [
    "\n",
    "melted_df = match_result_noout.copy()\n",
    "\n",
    "melted_df.rename(columns={\n",
    "    'ReachedKnowledgeStep':'100',\n",
    "    'Q1ReachedKnowledgeStep':'25',\n",
    "    'Q2ReachedKnowledgeStep':'50',\n",
    "    'Q3ReachedKnowledgeStep':'75'\n",
    "}, inplace=True)\n",
    "\n",
    "_columns = ['25', '50', '75', '100']\n",
    "\n",
    "sns.set_palette('Set3')\n",
    "# melted_df = melted_df.groupby(['player', 'method', 'objective', 'playerDepth', 'simulation']).sample(n=300, random_state=1)\n",
    "melted_df['concat_method'] = melted_df.agg(lambda x: get_legend_name(x), axis=1)\n",
    "melted_df = pd.melt(melted_df, id_vars=['EpisodeCount', 'objective', 'concat_method', 'simulation', 'player'], value_vars=[*_columns], ignore_index=False)\n",
    "\n",
    "melted_df = melted_df[melted_df['concat_method'].isin(display_graphs)]\n",
    "\n",
    "\n",
    "plt.figure(figsize=(7, 4))\n",
    "plt.clf()\n",
    "ax = sns.boxplot(x=\"variable\", y=\"value\", hue=\"concat_method\", data=melted_df, dodge=True, linewidth=0.8)\n",
    "\n",
    "pairs = list()\n",
    "for i in range(25, 101, 25):\n",
    "    pairs.append(((str(i), 'mcts_knowledge_1.0_1000_1'), (str(i), 'mcts_score_1000_1')))\n",
    "    pairs.append(((str(i), 'mcts_knowledge_1.0_1000_1'), (str(i), 'random')))\n",
    "    pairs.append(((str(i), 'random'), (str(i), 'mcts_score_1000_1')))\n",
    "    pairs.append(((str(i), 'random'), (str(i), 'sampling_20')))\n",
    "    pairs.append(((str(i), 'mcts_score_1000_1'), (str(i), 'sampling_20')))\n",
    "    pairs.append(((str(i), 'mcts_knowledge_1.0_1000_1'), (str(i), 'sampling_20')))\n",
    "\n",
    "add_stat_annotation(ax, x=\"variable\", y=\"value\", hue=\"concat_method\", data=melted_df,\n",
    "                    box_pairs=pairs,\n",
    "                    test='t-test_ind', text_format='star', loc='inside', verbose=1)\n",
    "\n",
    "plt.legend(loc='upper left', bbox_to_anchor=(1.0, 0.5))\n",
    "ax.set_title(f'Required Steps for Learning Skill (Player: All)')\n",
    "ax.set_xlabel('Progress (%)')\n",
    "ax.set_ylabel('Step')\n",
    "plt.savefig(f'./figures/learning_steps_pA', dpi=300)\n",
    "# plt.show()"
   ],
   "metadata": {
    "collapsed": false,
    "pycharm": {
     "name": "#%%\n"
    }
   }
  }
 ],
 "metadata": {
  "kernelspec": {
   "name": "python3",
   "language": "python",
   "display_name": "Python 3 (ipykernel)"
  },
  "language_info": {
   "codemirror_mode": {
    "name": "ipython",
    "version": 2
   },
   "file_extension": ".py",
   "mimetype": "text/x-python",
   "name": "python",
   "nbconvert_exporter": "python",
   "pygments_lexer": "ipython2",
   "version": "2.7.6"
  }
 },
 "nbformat": 4,
 "nbformat_minor": 0
}