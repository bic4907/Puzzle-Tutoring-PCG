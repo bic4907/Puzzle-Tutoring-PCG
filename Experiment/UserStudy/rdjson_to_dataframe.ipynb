{
 "cells": [
  {
   "cell_type": "code",
   "execution_count": 3,
   "metadata": {
    "collapsed": true
   },
   "outputs": [],
   "source": [
    "import json\n",
    "import seaborn as sns\n",
    "import matplotlib.pyplot as plt\n",
    "import pandas as pd"
   ]
  },
  {
   "cell_type": "markdown",
   "source": [],
   "metadata": {
    "collapsed": false,
    "pycharm": {
     "name": "#%% md\n"
    }
   }
  },
  {
   "cell_type": "code",
   "execution_count": 3,
   "outputs": [],
   "source": [],
   "metadata": {
    "collapsed": false,
    "pycharm": {
     "name": "#%%\n"
    }
   }
  },
  {
   "cell_type": "code",
   "execution_count": 4,
   "outputs": [],
   "source": [
    "questions = \"GF_TutorialHelpful,GF_BasicMechanicTime,GF_SpecialSkillTime,GF_TutorialHelpRemember,GF_LearnedAllSkill,GF_InvolvedInGame,GF_NewBlockSame,GF_HintUseless\"\n",
    "questions = questions.split(',')\n",
    "\n",
    "full_df = pd.read_csv('all_data.csv')\n",
    "\n",
    "# Change age to year 20s, 30s,...\n",
    "full_df['Ages'] = full_df['Age'].apply(lambda x: str(x)[0] + '0s')"
   ],
   "metadata": {
    "collapsed": false,
    "pycharm": {
     "name": "#%%\n"
    }
   }
  },
  {
   "cell_type": "code",
   "execution_count": 5,
   "outputs": [],
   "source": [
    "labels = ['Q_BombPiece', 'Q_CrossPiece', 'Q_HorizontalPiece', 'Q_RainbowPiece', 'Q_RocketPiece', 'Q_VerticalPiece']\n",
    "\n",
    "# Add summed up column of the labels\n",
    "full_df['Q_Sum'] = full_df[labels].sum(axis=1)\n"
   ],
   "metadata": {
    "collapsed": false,
    "pycharm": {
     "name": "#%%\n"
    }
   }
  },
  {
   "cell_type": "code",
   "execution_count": 6,
   "outputs": [],
   "source": [
    "df = full_df[full_df['L_Step'] == 60]"
   ],
   "metadata": {
    "collapsed": false,
    "pycharm": {
     "name": "#%%\n"
    }
   }
  },
  {
   "cell_type": "code",
   "execution_count": 7,
   "outputs": [
    {
     "data": {
      "text/plain": "      count\nAges       \n20s      16\n30s      67\n40s       9\n50s       2",
      "text/html": "<div>\n<style scoped>\n    .dataframe tbody tr th:only-of-type {\n        vertical-align: middle;\n    }\n\n    .dataframe tbody tr th {\n        vertical-align: top;\n    }\n\n    .dataframe thead th {\n        text-align: right;\n    }\n</style>\n<table border=\"1\" class=\"dataframe\">\n  <thead>\n    <tr style=\"text-align: right;\">\n      <th></th>\n      <th>count</th>\n    </tr>\n    <tr>\n      <th>Ages</th>\n      <th></th>\n    </tr>\n  </thead>\n  <tbody>\n    <tr>\n      <th>20s</th>\n      <td>16</td>\n    </tr>\n    <tr>\n      <th>30s</th>\n      <td>67</td>\n    </tr>\n    <tr>\n      <th>40s</th>\n      <td>9</td>\n    </tr>\n    <tr>\n      <th>50s</th>\n      <td>2</td>\n    </tr>\n  </tbody>\n</table>\n</div>"
     },
     "execution_count": 7,
     "metadata": {},
     "output_type": "execute_result"
    }
   ],
   "source": [
    "df.groupby('Ages')['Ages'].agg(['count'])"
   ],
   "metadata": {
    "collapsed": false,
    "pycharm": {
     "name": "#%%\n"
    }
   }
  },
  {
   "cell_type": "code",
   "execution_count": 8,
   "outputs": [
    {
     "data": {
      "text/plain": "                  count\nGF_PlayFrequency       \n0                     1\n1                    45\n2                    38\n3                     6\n4                     4",
      "text/html": "<div>\n<style scoped>\n    .dataframe tbody tr th:only-of-type {\n        vertical-align: middle;\n    }\n\n    .dataframe tbody tr th {\n        vertical-align: top;\n    }\n\n    .dataframe thead th {\n        text-align: right;\n    }\n</style>\n<table border=\"1\" class=\"dataframe\">\n  <thead>\n    <tr style=\"text-align: right;\">\n      <th></th>\n      <th>count</th>\n    </tr>\n    <tr>\n      <th>GF_PlayFrequency</th>\n      <th></th>\n    </tr>\n  </thead>\n  <tbody>\n    <tr>\n      <th>0</th>\n      <td>1</td>\n    </tr>\n    <tr>\n      <th>1</th>\n      <td>45</td>\n    </tr>\n    <tr>\n      <th>2</th>\n      <td>38</td>\n    </tr>\n    <tr>\n      <th>3</th>\n      <td>6</td>\n    </tr>\n    <tr>\n      <th>4</th>\n      <td>4</td>\n    </tr>\n  </tbody>\n</table>\n</div>"
     },
     "execution_count": 8,
     "metadata": {},
     "output_type": "execute_result"
    }
   ],
   "source": [
    "df.groupby('GF_PlayFrequency')['GF_PlayFrequency'].agg(['count'])"
   ],
   "metadata": {
    "collapsed": false,
    "pycharm": {
     "name": "#%%\n"
    }
   }
  },
  {
   "cell_type": "code",
   "execution_count": 20,
   "outputs": [
    {
     "data": {
      "text/plain": "             count\nGF_PlayTime       \nA                6\nB               55\nC               33",
      "text/html": "<div>\n<style scoped>\n    .dataframe tbody tr th:only-of-type {\n        vertical-align: middle;\n    }\n\n    .dataframe tbody tr th {\n        vertical-align: top;\n    }\n\n    .dataframe thead th {\n        text-align: right;\n    }\n</style>\n<table border=\"1\" class=\"dataframe\">\n  <thead>\n    <tr style=\"text-align: right;\">\n      <th></th>\n      <th>count</th>\n    </tr>\n    <tr>\n      <th>GF_PlayTime</th>\n      <th></th>\n    </tr>\n  </thead>\n  <tbody>\n    <tr>\n      <th>A</th>\n      <td>6</td>\n    </tr>\n    <tr>\n      <th>B</th>\n      <td>55</td>\n    </tr>\n    <tr>\n      <th>C</th>\n      <td>33</td>\n    </tr>\n  </tbody>\n</table>\n</div>"
     },
     "execution_count": 20,
     "metadata": {},
     "output_type": "execute_result"
    }
   ],
   "source": [
    "df.groupby('GF_PlayTime')['GF_PlayTime'].agg(['count'])"
   ],
   "metadata": {
    "collapsed": false,
    "pycharm": {
     "name": "#%%\n"
    }
   }
  },
  {
   "cell_type": "code",
   "execution_count": 9,
   "outputs": [],
   "source": [
    "df = full_df[full_df['L_Step'] == 60]"
   ],
   "metadata": {
    "collapsed": false,
    "pycharm": {
     "name": "#%%\n"
    }
   }
  },
  {
   "cell_type": "code",
   "execution_count": 10,
   "outputs": [
    {
     "data": {
      "text/plain": "        Unnamed: 0  L_Step  L_DecisionTime        Age  GF_PlayFrequency  \\\ncount    94.000000    94.0       94.000000  94.000000         94.000000   \nmean   2854.021277    60.0        6.277478  33.180851          1.648936   \nstd    1641.769849     0.0        4.932314   6.533557          0.799293   \nmin      59.000000    60.0        0.131714  21.000000          0.000000   \n25%    1454.000000    60.0        3.407425  30.000000          1.000000   \n50%    2849.000000    60.0        4.754395  32.000000          2.000000   \n75%    4244.000000    60.0        8.536637  35.000000          2.000000   \nmax    5639.000000    60.0       32.093994  55.000000          4.000000   \n\n       GF_TutorialHelpful  GF_BasicMechanicTime  GF_SpecialSkillTime  \\\ncount           94.000000             94.000000            94.000000   \nmean             5.393617              5.297872             5.436170   \nstd              1.445929              1.450471             1.441016   \nmin              1.000000              1.000000             1.000000   \n25%              5.000000              5.000000             5.000000   \n50%              6.000000              6.000000             6.000000   \n75%              6.000000              6.000000             6.000000   \nmax              7.000000              7.000000             7.000000   \n\n       GF_TutorialHelpRemember  GF_LearnedAllSkill  GF_InvolvedInGame  \\\ncount                94.000000           94.000000          94.000000   \nmean                  5.340426            5.329787           5.500000   \nstd                   1.395486            1.533765           1.557155   \nmin                   1.000000            1.000000           1.000000   \n25%                   5.000000            4.000000           5.000000   \n50%                   6.000000            6.000000           6.000000   \n75%                   6.000000            6.000000           7.000000   \nmax                   7.000000            7.000000           7.000000   \n\n       GF_NewBlockSame  GF_HintUseless      Q_Sum  \ncount        94.000000       94.000000  94.000000  \nmean          5.148936        4.659574   1.329787  \nstd           1.551672        1.931923   1.101205  \nmin           2.000000        1.000000   0.000000  \n25%           4.000000        3.000000   1.000000  \n50%           5.000000        5.000000   1.000000  \n75%           6.000000        6.000000   2.000000  \nmax           7.000000        7.000000   5.000000  ",
      "text/html": "<div>\n<style scoped>\n    .dataframe tbody tr th:only-of-type {\n        vertical-align: middle;\n    }\n\n    .dataframe tbody tr th {\n        vertical-align: top;\n    }\n\n    .dataframe thead th {\n        text-align: right;\n    }\n</style>\n<table border=\"1\" class=\"dataframe\">\n  <thead>\n    <tr style=\"text-align: right;\">\n      <th></th>\n      <th>Unnamed: 0</th>\n      <th>L_Step</th>\n      <th>L_DecisionTime</th>\n      <th>Age</th>\n      <th>GF_PlayFrequency</th>\n      <th>GF_TutorialHelpful</th>\n      <th>GF_BasicMechanicTime</th>\n      <th>GF_SpecialSkillTime</th>\n      <th>GF_TutorialHelpRemember</th>\n      <th>GF_LearnedAllSkill</th>\n      <th>GF_InvolvedInGame</th>\n      <th>GF_NewBlockSame</th>\n      <th>GF_HintUseless</th>\n      <th>Q_Sum</th>\n    </tr>\n  </thead>\n  <tbody>\n    <tr>\n      <th>count</th>\n      <td>94.000000</td>\n      <td>94.0</td>\n      <td>94.000000</td>\n      <td>94.000000</td>\n      <td>94.000000</td>\n      <td>94.000000</td>\n      <td>94.000000</td>\n      <td>94.000000</td>\n      <td>94.000000</td>\n      <td>94.000000</td>\n      <td>94.000000</td>\n      <td>94.000000</td>\n      <td>94.000000</td>\n      <td>94.000000</td>\n    </tr>\n    <tr>\n      <th>mean</th>\n      <td>2854.021277</td>\n      <td>60.0</td>\n      <td>6.277478</td>\n      <td>33.180851</td>\n      <td>1.648936</td>\n      <td>5.393617</td>\n      <td>5.297872</td>\n      <td>5.436170</td>\n      <td>5.340426</td>\n      <td>5.329787</td>\n      <td>5.500000</td>\n      <td>5.148936</td>\n      <td>4.659574</td>\n      <td>1.329787</td>\n    </tr>\n    <tr>\n      <th>std</th>\n      <td>1641.769849</td>\n      <td>0.0</td>\n      <td>4.932314</td>\n      <td>6.533557</td>\n      <td>0.799293</td>\n      <td>1.445929</td>\n      <td>1.450471</td>\n      <td>1.441016</td>\n      <td>1.395486</td>\n      <td>1.533765</td>\n      <td>1.557155</td>\n      <td>1.551672</td>\n      <td>1.931923</td>\n      <td>1.101205</td>\n    </tr>\n    <tr>\n      <th>min</th>\n      <td>59.000000</td>\n      <td>60.0</td>\n      <td>0.131714</td>\n      <td>21.000000</td>\n      <td>0.000000</td>\n      <td>1.000000</td>\n      <td>1.000000</td>\n      <td>1.000000</td>\n      <td>1.000000</td>\n      <td>1.000000</td>\n      <td>1.000000</td>\n      <td>2.000000</td>\n      <td>1.000000</td>\n      <td>0.000000</td>\n    </tr>\n    <tr>\n      <th>25%</th>\n      <td>1454.000000</td>\n      <td>60.0</td>\n      <td>3.407425</td>\n      <td>30.000000</td>\n      <td>1.000000</td>\n      <td>5.000000</td>\n      <td>5.000000</td>\n      <td>5.000000</td>\n      <td>5.000000</td>\n      <td>4.000000</td>\n      <td>5.000000</td>\n      <td>4.000000</td>\n      <td>3.000000</td>\n      <td>1.000000</td>\n    </tr>\n    <tr>\n      <th>50%</th>\n      <td>2849.000000</td>\n      <td>60.0</td>\n      <td>4.754395</td>\n      <td>32.000000</td>\n      <td>2.000000</td>\n      <td>6.000000</td>\n      <td>6.000000</td>\n      <td>6.000000</td>\n      <td>6.000000</td>\n      <td>6.000000</td>\n      <td>6.000000</td>\n      <td>5.000000</td>\n      <td>5.000000</td>\n      <td>1.000000</td>\n    </tr>\n    <tr>\n      <th>75%</th>\n      <td>4244.000000</td>\n      <td>60.0</td>\n      <td>8.536637</td>\n      <td>35.000000</td>\n      <td>2.000000</td>\n      <td>6.000000</td>\n      <td>6.000000</td>\n      <td>6.000000</td>\n      <td>6.000000</td>\n      <td>6.000000</td>\n      <td>7.000000</td>\n      <td>6.000000</td>\n      <td>6.000000</td>\n      <td>2.000000</td>\n    </tr>\n    <tr>\n      <th>max</th>\n      <td>5639.000000</td>\n      <td>60.0</td>\n      <td>32.093994</td>\n      <td>55.000000</td>\n      <td>4.000000</td>\n      <td>7.000000</td>\n      <td>7.000000</td>\n      <td>7.000000</td>\n      <td>7.000000</td>\n      <td>7.000000</td>\n      <td>7.000000</td>\n      <td>7.000000</td>\n      <td>7.000000</td>\n      <td>5.000000</td>\n    </tr>\n  </tbody>\n</table>\n</div>"
     },
     "execution_count": 10,
     "metadata": {},
     "output_type": "execute_result"
    }
   ],
   "source": [
    "df.describe()"
   ],
   "metadata": {
    "collapsed": false,
    "pycharm": {
     "name": "#%%\n"
    }
   }
  },
  {
   "cell_type": "code",
   "execution_count": 11,
   "outputs": [
    {
     "data": {
      "text/plain": "                count\nMethod               \nMCTS_Knowledge     27\nMCTS_Score         30\nRandom             37",
      "text/html": "<div>\n<style scoped>\n    .dataframe tbody tr th:only-of-type {\n        vertical-align: middle;\n    }\n\n    .dataframe tbody tr th {\n        vertical-align: top;\n    }\n\n    .dataframe thead th {\n        text-align: right;\n    }\n</style>\n<table border=\"1\" class=\"dataframe\">\n  <thead>\n    <tr style=\"text-align: right;\">\n      <th></th>\n      <th>count</th>\n    </tr>\n    <tr>\n      <th>Method</th>\n      <th></th>\n    </tr>\n  </thead>\n  <tbody>\n    <tr>\n      <th>MCTS_Knowledge</th>\n      <td>27</td>\n    </tr>\n    <tr>\n      <th>MCTS_Score</th>\n      <td>30</td>\n    </tr>\n    <tr>\n      <th>Random</th>\n      <td>37</td>\n    </tr>\n  </tbody>\n</table>\n</div>"
     },
     "execution_count": 11,
     "metadata": {},
     "output_type": "execute_result"
    }
   ],
   "source": [
    "df.groupby('Method')['Method'].agg(['count'])"
   ],
   "metadata": {
    "collapsed": false,
    "pycharm": {
     "name": "#%%\n"
    }
   }
  },
  {
   "cell_type": "code",
   "execution_count": 12,
   "outputs": [
    {
     "data": {
      "text/plain": "               GF_TutorialHelpful           GF_BasicMechanicTime            \\\n                             mean       std                 mean       std   \nMethod                                                                       \nMCTS_Knowledge           5.518519  1.503083             5.407407  1.393923   \nMCTS_Score               5.100000  1.561388             5.166667  1.341212   \nRandom                   5.540541  1.303725             5.324324  1.599549   \n\n               GF_SpecialSkillTime           GF_TutorialHelpRemember  \\\n                              mean       std                    mean   \nMethod                                                                 \nMCTS_Knowledge            5.777778  1.339728                5.333333   \nMCTS_Score                4.966667  1.542129                5.300000   \nRandom                    5.567568  1.365051                5.378378   \n\n                         GF_LearnedAllSkill           GF_InvolvedInGame  \\\n                     std               mean       std              mean   \nMethod                                                                    \nMCTS_Knowledge  1.493576           5.518519  1.626000          5.666667   \nMCTS_Score      1.178836           5.266667  1.436791          5.100000   \nRandom          1.515684           5.243243  1.570658          5.702703   \n\n                         GF_NewBlockSame           GF_HintUseless            \n                     std            mean       std           mean       std  \nMethod                                                                       \nMCTS_Knowledge  1.208941        5.407407  1.393923       4.407407  2.170772  \nMCTS_Score      1.900091        5.233333  1.612095       4.533333  1.655364  \nRandom          1.450381        4.891892  1.612172       4.945946  1.971265  ",
      "text/html": "<div>\n<style scoped>\n    .dataframe tbody tr th:only-of-type {\n        vertical-align: middle;\n    }\n\n    .dataframe tbody tr th {\n        vertical-align: top;\n    }\n\n    .dataframe thead tr th {\n        text-align: left;\n    }\n\n    .dataframe thead tr:last-of-type th {\n        text-align: right;\n    }\n</style>\n<table border=\"1\" class=\"dataframe\">\n  <thead>\n    <tr>\n      <th></th>\n      <th colspan=\"2\" halign=\"left\">GF_TutorialHelpful</th>\n      <th colspan=\"2\" halign=\"left\">GF_BasicMechanicTime</th>\n      <th colspan=\"2\" halign=\"left\">GF_SpecialSkillTime</th>\n      <th colspan=\"2\" halign=\"left\">GF_TutorialHelpRemember</th>\n      <th colspan=\"2\" halign=\"left\">GF_LearnedAllSkill</th>\n      <th colspan=\"2\" halign=\"left\">GF_InvolvedInGame</th>\n      <th colspan=\"2\" halign=\"left\">GF_NewBlockSame</th>\n      <th colspan=\"2\" halign=\"left\">GF_HintUseless</th>\n    </tr>\n    <tr>\n      <th></th>\n      <th>mean</th>\n      <th>std</th>\n      <th>mean</th>\n      <th>std</th>\n      <th>mean</th>\n      <th>std</th>\n      <th>mean</th>\n      <th>std</th>\n      <th>mean</th>\n      <th>std</th>\n      <th>mean</th>\n      <th>std</th>\n      <th>mean</th>\n      <th>std</th>\n      <th>mean</th>\n      <th>std</th>\n    </tr>\n    <tr>\n      <th>Method</th>\n      <th></th>\n      <th></th>\n      <th></th>\n      <th></th>\n      <th></th>\n      <th></th>\n      <th></th>\n      <th></th>\n      <th></th>\n      <th></th>\n      <th></th>\n      <th></th>\n      <th></th>\n      <th></th>\n      <th></th>\n      <th></th>\n    </tr>\n  </thead>\n  <tbody>\n    <tr>\n      <th>MCTS_Knowledge</th>\n      <td>5.518519</td>\n      <td>1.503083</td>\n      <td>5.407407</td>\n      <td>1.393923</td>\n      <td>5.777778</td>\n      <td>1.339728</td>\n      <td>5.333333</td>\n      <td>1.493576</td>\n      <td>5.518519</td>\n      <td>1.626000</td>\n      <td>5.666667</td>\n      <td>1.208941</td>\n      <td>5.407407</td>\n      <td>1.393923</td>\n      <td>4.407407</td>\n      <td>2.170772</td>\n    </tr>\n    <tr>\n      <th>MCTS_Score</th>\n      <td>5.100000</td>\n      <td>1.561388</td>\n      <td>5.166667</td>\n      <td>1.341212</td>\n      <td>4.966667</td>\n      <td>1.542129</td>\n      <td>5.300000</td>\n      <td>1.178836</td>\n      <td>5.266667</td>\n      <td>1.436791</td>\n      <td>5.100000</td>\n      <td>1.900091</td>\n      <td>5.233333</td>\n      <td>1.612095</td>\n      <td>4.533333</td>\n      <td>1.655364</td>\n    </tr>\n    <tr>\n      <th>Random</th>\n      <td>5.540541</td>\n      <td>1.303725</td>\n      <td>5.324324</td>\n      <td>1.599549</td>\n      <td>5.567568</td>\n      <td>1.365051</td>\n      <td>5.378378</td>\n      <td>1.515684</td>\n      <td>5.243243</td>\n      <td>1.570658</td>\n      <td>5.702703</td>\n      <td>1.450381</td>\n      <td>4.891892</td>\n      <td>1.612172</td>\n      <td>4.945946</td>\n      <td>1.971265</td>\n    </tr>\n  </tbody>\n</table>\n</div>"
     },
     "execution_count": 12,
     "metadata": {},
     "output_type": "execute_result"
    }
   ],
   "source": [
    "df.groupby('Method')[questions].agg(['mean', 'std'])"
   ],
   "metadata": {
    "collapsed": false,
    "pycharm": {
     "name": "#%%\n"
    }
   }
  },
  {
   "cell_type": "code",
   "execution_count": 13,
   "outputs": [
    {
     "data": {
      "text/plain": "           Method      mean     Result\n0  MCTS_Knowledge  1.629630  27.160494\n1      MCTS_Score  1.266667  21.111111\n2          Random  1.162162  19.369369",
      "text/html": "<div>\n<style scoped>\n    .dataframe tbody tr th:only-of-type {\n        vertical-align: middle;\n    }\n\n    .dataframe tbody tr th {\n        vertical-align: top;\n    }\n\n    .dataframe thead th {\n        text-align: right;\n    }\n</style>\n<table border=\"1\" class=\"dataframe\">\n  <thead>\n    <tr style=\"text-align: right;\">\n      <th></th>\n      <th>Method</th>\n      <th>mean</th>\n      <th>Result</th>\n    </tr>\n  </thead>\n  <tbody>\n    <tr>\n      <th>0</th>\n      <td>MCTS_Knowledge</td>\n      <td>1.629630</td>\n      <td>27.160494</td>\n    </tr>\n    <tr>\n      <th>1</th>\n      <td>MCTS_Score</td>\n      <td>1.266667</td>\n      <td>21.111111</td>\n    </tr>\n    <tr>\n      <th>2</th>\n      <td>Random</td>\n      <td>1.162162</td>\n      <td>19.369369</td>\n    </tr>\n  </tbody>\n</table>\n</div>"
     },
     "execution_count": 13,
     "metadata": {},
     "output_type": "execute_result"
    }
   ],
   "source": [
    "result = df.groupby('Method')['Q_Sum'].agg(['mean']).reset_index()\n",
    "result['Result'] = result['mean'] / 6 * 100\n",
    "result"
   ],
   "metadata": {
    "collapsed": false,
    "pycharm": {
     "name": "#%%\n"
    }
   }
  },
  {
   "cell_type": "raw",
   "source": [
    "groups = set(df['GF_PlayTime'].values)\n",
    "\n",
    "for group in groups:\n",
    "    _df = df[df['GF_PlayTime'] == group]\n",
    "    result = _df.groupby('Method')['Q_Sum'].agg(['mean', 'count']).reset_index()\n",
    "    result['Result'] = result['mean'] / 6 * 100\n",
    "    print(group, '\\n', result, end='\\n\\n')\n"
   ],
   "metadata": {
    "collapsed": false,
    "pycharm": {
     "name": "#%% raw\n"
    }
   }
  },
  {
   "cell_type": "code",
   "execution_count": 22,
   "outputs": [
    {
     "name": "stdout",
     "output_type": "stream",
     "text": [
      "Q_Sum \n",
      "            Method      mean  count     Result\n",
      "0  MCTS_Knowledge  1.629630     27  27.160494\n",
      "1      MCTS_Score  1.266667     30  21.111111\n",
      "2          Random  1.162162     37  19.369369\n",
      "\n",
      "Q_BombPiece \n",
      "            Method      mean  count    Result\n",
      "0  MCTS_Knowledge  0.259259     27  4.320988\n",
      "1      MCTS_Score  0.133333     30  2.222222\n",
      "2          Random  0.270270     37  4.504505\n",
      "\n",
      "Q_CrossPiece \n",
      "            Method      mean  count    Result\n",
      "0  MCTS_Knowledge  0.333333     27  5.555556\n",
      "1      MCTS_Score  0.133333     30  2.222222\n",
      "2          Random  0.162162     37  2.702703\n",
      "\n",
      "Q_HorizontalPiece \n",
      "            Method      mean  count    Result\n",
      "0  MCTS_Knowledge  0.111111     27  1.851852\n",
      "1      MCTS_Score  0.166667     30  2.777778\n",
      "2          Random  0.189189     37  3.153153\n",
      "\n",
      "Q_RainbowPiece \n",
      "            Method      mean  count    Result\n",
      "0  MCTS_Knowledge  0.481481     27  8.024691\n",
      "1      MCTS_Score  0.500000     30  8.333333\n",
      "2          Random  0.324324     37  5.405405\n",
      "\n",
      "Q_RocketPiece \n",
      "            Method      mean  count    Result\n",
      "0  MCTS_Knowledge  0.037037     27  0.617284\n",
      "1      MCTS_Score  0.033333     30  0.555556\n",
      "2          Random  0.000000     37  0.000000\n",
      "\n",
      "Q_VerticalPiece \n",
      "            Method      mean  count    Result\n",
      "0  MCTS_Knowledge  0.407407     27  6.790123\n",
      "1      MCTS_Score  0.300000     30  5.000000\n",
      "2          Random  0.216216     37  3.603604\n",
      "\n"
     ]
    }
   ],
   "source": [
    "labels = ['Q_Sum', 'Q_BombPiece', 'Q_CrossPiece', 'Q_HorizontalPiece', 'Q_RainbowPiece', 'Q_RocketPiece', 'Q_VerticalPiece']\n",
    "\n",
    "for label in labels:\n",
    "    result = df.groupby('Method')[label].agg(['mean']).reset_index()\n",
    "    result['Result'] = result['mean'] / 6 * 100\n",
    "    print(label, '\\n', result, end='\\n\\n')"
   ],
   "metadata": {
    "collapsed": false,
    "pycharm": {
     "name": "#%%\n"
    }
   }
  },
  {
   "cell_type": "code",
   "execution_count": 29,
   "outputs": [
    {
     "name": "stdout",
     "output_type": "stream",
     "text": [
      "Q_Sum \n",
      "            Method      mean     Result\n",
      "0  MCTS_Knowledge  1.629630  27.160494\n",
      "1      MCTS_Score  1.266667  21.111111\n",
      "2          Random  1.162162  19.369369\n",
      "\n",
      "Q_BombPiece \n",
      "            Method      mean     Result\n",
      "0  MCTS_Knowledge  0.259259  25.925926\n",
      "1      MCTS_Score  0.133333  13.333333\n",
      "2          Random  0.270270  27.027027\n",
      "\n",
      "Q_CrossPiece \n",
      "            Method      mean     Result\n",
      "0  MCTS_Knowledge  0.333333  33.333333\n",
      "1      MCTS_Score  0.133333  13.333333\n",
      "2          Random  0.162162  16.216216\n",
      "\n",
      "Q_HorizontalPiece \n",
      "            Method      mean     Result\n",
      "0  MCTS_Knowledge  0.111111  11.111111\n",
      "1      MCTS_Score  0.166667  16.666667\n",
      "2          Random  0.189189  18.918919\n",
      "\n",
      "Q_RainbowPiece \n",
      "            Method      mean     Result\n",
      "0  MCTS_Knowledge  0.481481  48.148148\n",
      "1      MCTS_Score  0.500000  50.000000\n",
      "2          Random  0.324324  32.432432\n",
      "\n",
      "Q_RocketPiece \n",
      "            Method      mean    Result\n",
      "0  MCTS_Knowledge  0.037037  3.703704\n",
      "1      MCTS_Score  0.033333  3.333333\n",
      "2          Random  0.000000  0.000000\n",
      "\n",
      "Q_VerticalPiece \n",
      "            Method      mean     Result\n",
      "0  MCTS_Knowledge  0.407407  40.740741\n",
      "1      MCTS_Score  0.300000  30.000000\n",
      "2          Random  0.216216  21.621622\n",
      "\n"
     ]
    }
   ],
   "source": [
    "labels = ['Q_Sum', 'Q_BombPiece', 'Q_CrossPiece', 'Q_HorizontalPiece', 'Q_RainbowPiece', 'Q_RocketPiece', 'Q_VerticalPiece']\n",
    "\n",
    "\n",
    "for label in labels:\n",
    "    result = df.groupby('Method')[label].agg(['mean']).reset_index()\n",
    "    result['Result'] = (result['mean'] / 6 * 100) if label == 'Q_Sum' else result['mean'] * 100\n",
    "    print(label, '\\n', result, end='\\n\\n')"
   ],
   "metadata": {
    "collapsed": false,
    "pycharm": {
     "name": "#%%\n"
    }
   }
  },
  {
   "cell_type": "code",
   "execution_count": 15,
   "outputs": [],
   "source": [],
   "metadata": {
    "collapsed": false,
    "pycharm": {
     "name": "#%%\n"
    }
   }
  },
  {
   "cell_type": "markdown",
   "source": [
    "# Draw linegraph with L_Step and L_* as x-axis\n",
    "PieceTypes = ['BombPiece', 'CrossPiece', 'HorizontalPiece', 'RainbowPiece', 'RocketPiece', 'VerticalPiece']\n",
    "for piece in PieceTypes:\n",
    "    sns.lineplot(x='L_Step', y='L_' + piece, hue='Method', data=full_df)\n",
    "    plt.show()"
   ],
   "metadata": {
    "collapsed": false,
    "pycharm": {
     "name": "#%% md\n"
    }
   },
   "outputs": [
    {
     "ename": "NameError",
     "evalue": "name 'sns' is not defined",
     "output_type": "error",
     "traceback": [
      "\u001B[1;31m---------------------------------------------------------------------------\u001B[0m",
      "\u001B[1;31mNameError\u001B[0m                                 Traceback (most recent call last)",
      "Cell \u001B[1;32mIn[1], line 4\u001B[0m\n\u001B[0;32m      2\u001B[0m PieceTypes \u001B[38;5;241m=\u001B[39m [\u001B[38;5;124m'\u001B[39m\u001B[38;5;124mBombPiece\u001B[39m\u001B[38;5;124m'\u001B[39m, \u001B[38;5;124m'\u001B[39m\u001B[38;5;124mCrossPiece\u001B[39m\u001B[38;5;124m'\u001B[39m, \u001B[38;5;124m'\u001B[39m\u001B[38;5;124mHorizontalPiece\u001B[39m\u001B[38;5;124m'\u001B[39m, \u001B[38;5;124m'\u001B[39m\u001B[38;5;124mRainbowPiece\u001B[39m\u001B[38;5;124m'\u001B[39m, \u001B[38;5;124m'\u001B[39m\u001B[38;5;124mRocketPiece\u001B[39m\u001B[38;5;124m'\u001B[39m, \u001B[38;5;124m'\u001B[39m\u001B[38;5;124mVerticalPiece\u001B[39m\u001B[38;5;124m'\u001B[39m]\n\u001B[0;32m      3\u001B[0m \u001B[38;5;28;01mfor\u001B[39;00m piece \u001B[38;5;129;01min\u001B[39;00m PieceTypes:\n\u001B[1;32m----> 4\u001B[0m     \u001B[43msns\u001B[49m\u001B[38;5;241m.\u001B[39mlineplot(x\u001B[38;5;241m=\u001B[39m\u001B[38;5;124m'\u001B[39m\u001B[38;5;124mL_Step\u001B[39m\u001B[38;5;124m'\u001B[39m, y\u001B[38;5;241m=\u001B[39m\u001B[38;5;124m'\u001B[39m\u001B[38;5;124mL_\u001B[39m\u001B[38;5;124m'\u001B[39m \u001B[38;5;241m+\u001B[39m piece, hue\u001B[38;5;241m=\u001B[39m\u001B[38;5;124m'\u001B[39m\u001B[38;5;124mMethod\u001B[39m\u001B[38;5;124m'\u001B[39m, data\u001B[38;5;241m=\u001B[39mfull_df)\n\u001B[0;32m      5\u001B[0m     plt\u001B[38;5;241m.\u001B[39mshow()\n",
      "\u001B[1;31mNameError\u001B[0m: name 'sns' is not defined"
     ]
    }
   ],
   "execution_count": 1
  },
  {
   "cell_type": "code",
   "execution_count": 16,
   "outputs": [],
   "source": [
    "PieceTypes = ['BombPiece', 'CrossPiece', 'HorizontalPiece', 'RainbowPiece', 'RocketPiece', 'VerticalPiece']"
   ],
   "metadata": {
    "collapsed": false,
    "pycharm": {
     "name": "#%%\n"
    }
   }
  },
  {
   "cell_type": "raw",
   "source": [
    "# draw all in a single graph\n",
    "\n",
    "# Melt it first\n",
    "melted_df = pd.melt(full_df, id_vars=['User', 'Method', 'L_Step'],\n",
    "                  value_vars=[f'L_{piece}' for piece in PieceTypes],\n",
    "                  var_name='PieceType', value_name='Learned')\n",
    "# melt it!\n",
    "\n",
    "\n",
    "melted_df = melted_df[melted_df['PieceType'].isin(['L_BombPiece', 'L_HorizontalPiece', 'L_RainbowPiece'])]\n",
    "\n",
    "sns.lineplot(x='L_Step', y='Learned', hue='Method', style=\"PieceType\", data=melted_df)\n",
    "plt.show()\n",
    "\n"
   ],
   "metadata": {
    "collapsed": false,
    "pycharm": {
     "name": "#%% raw\n"
    }
   }
  },
  {
   "cell_type": "raw",
   "source": [
    "# Get Confuse Matrix\n",
    "labels = ['Method'] + [f'L_{piece}' for piece in PieceTypes]\n",
    "melted_df = full_df.groupby(['Method', 'L_Step'])[labels].agg(['mean']).reset_index()\n",
    "# Remove second column level\n",
    "melted_df.columns = melted_df.columns.droplevel(1)\n",
    "\n",
    "melted_df = pd.melt(melted_df, id_vars=['Method', 'L_Step'],\n",
    "                  value_vars=[f'L_{piece}' for piece in PieceTypes],\n",
    "                  var_name='PieceType', value_name='Learned')\n",
    "sns.lineplot(x='L_Step', y='Learned', hue='Method', style=\"PieceType\", data=melted_df)\n",
    "plt.show()\n"
   ],
   "metadata": {
    "collapsed": false,
    "pycharm": {
     "name": "#%% raw\n"
    }
   }
  },
  {
   "cell_type": "code",
   "execution_count": 17,
   "outputs": [
    {
     "name": "stdout",
     "output_type": "stream",
     "text": [
      "Confusion Matrix:\n",
      "Predicted  False  True \n",
      "Actual                 \n",
      "False        178    261\n",
      "True          52     73\n",
      "\n",
      "Accuracy: 0.45\n"
     ]
    }
   ],
   "source": [
    "from sklearn.metrics import confusion_matrix\n",
    "\n",
    "# Create data dictionary for my DataFrame (the prediction is L- started piece and the actual is Q- learned piece)\n",
    "# write for loop to get all the data\n",
    "prediction, labels = list(), list()\n",
    "for piece in PieceTypes:\n",
    "    prediction += list(df[f'L_{piece}'].values)\n",
    "    labels += list(df[f'Q_{piece}'].values)\n",
    "\n",
    "data = {\n",
    "    'Label': labels,\n",
    "    'Prediction': prediction\n",
    "}\n",
    "\n",
    "corr_df = pd.DataFrame(data)\n",
    "corr_df['Correct'] = corr_df['Label'] == corr_df['Prediction']\n",
    "\n",
    "cm = confusion_matrix(corr_df['Label'], corr_df['Prediction'])\n",
    "confusion_matrix_df = pd.crosstab(corr_df['Label'], corr_df['Prediction'], rownames=['Actual'], colnames=['Predicted'])\n",
    "\n",
    "accuracy = (cm[0, 0] + cm[1, 1]) / cm.sum()\n",
    "\n",
    "# Print the confusion matrix and accuracy\n",
    "print(\"Confusion Matrix:\")\n",
    "print(confusion_matrix_df)\n",
    "\n",
    "print(f\"\\nAccuracy: {accuracy:.2f}\")\n"
   ],
   "metadata": {
    "collapsed": false,
    "pycharm": {
     "name": "#%%\n"
    }
   }
  },
  {
   "cell_type": "code",
   "execution_count": 18,
   "outputs": [
    {
     "name": "stderr",
     "output_type": "stream",
     "text": [
      "C:\\Users\\Admin\\AppData\\Local\\Temp\\ipykernel_132792\\85025258.py:6: SettingWithCopyWarning: \n",
      "A value is trying to be set on a copy of a slice from a DataFrame.\n",
      "Try using .loc[row_indexer,col_indexer] = value instead\n",
      "\n",
      "See the caveats in the documentation: https://pandas.pydata.org/pandas-docs/stable/user_guide/indexing.html#returning-a-view-versus-a-copy\n",
      "  df['Q_Sum'] = df[labels].sum(axis=1)\n"
     ]
    },
    {
     "data": {
      "text/plain": "      Unnamed: 0      User          Method  L_Step  L_DecisionTime  \\\n179          179  211700f2  MCTS_Knowledge      60        9.817749   \n239          239  2602d813  MCTS_Knowledge      60        6.833435   \n359          359  32e399ef  MCTS_Knowledge      60        3.566650   \n839          839  62f0f29a  MCTS_Knowledge      60       10.995361   \n2099        2099  3b834540      MCTS_Score      60        9.222046   \n2159        2159  4014ce4e      MCTS_Score      60        0.992920   \n2278        2278  420e418d      MCTS_Score      60        5.454834   \n2279        2279  420e418d      MCTS_Score      60        5.454834   \n2579        2579  692e437f      MCTS_Score      60        4.189880   \n2639        2639  6e7fdf0d      MCTS_Score      60        2.214966   \n2999        2999  8e76acc4      MCTS_Score      60        0.189087   \n3239        3239  cb2679f5      MCTS_Score      60        2.184082   \n3659        3659  1f89ce40          Random      60        2.533020   \n3779        3779  2ef9e3fc          Random      60        3.403198   \n3899        3899  3b6cbcf4          Random      60        2.866089   \n4019        4019  616f7be1          Random      60        5.434021   \n4079        4079  6e1f1dc2          Random      60       14.368958   \n4199        4199  8ca3670c          Random      60        2.585083   \n4979        4979  bdefdf74          Random      60        7.522705   \n5219        5219  e251b4cb          Random      60        4.589996   \n5518        5518  f6a7f177          Random      60        9.988770   \n5519        5519  f6a7f177          Random      60        9.988770   \n5639        5639  fda381bb          Random      60        3.671997   \n\n      L_BombPiece  L_CrossPiece  L_HorizontalPiece  L_RainbowPiece  \\\n179         False         False              False           False   \n239         False         False               True            True   \n359          True         False               True           False   \n839         False         False               True           False   \n2099        False          True               True           False   \n2159        False         False               True           False   \n2278        False         False               True           False   \n2279        False         False               True           False   \n2579        False          True               True           False   \n2639         True         False               True           False   \n2999         True         False               True            True   \n3239         True         False               True            True   \n3659        False         False               True            True   \n3779        False          True               True           False   \n3899        False          True               True           False   \n4019        False         False               True           False   \n4079        False         False               True            True   \n4199        False         False               True           False   \n4979        False         False               True           False   \n5219        False         False               True           False   \n5518        False          True               True           False   \n5519        False          True               True           False   \n5639         True         False               True            True   \n\n      L_RocketPiece  ...  GF_TutorialHelpful  GF_BasicMechanicTime  \\\n179           False  ...                   5                     5   \n239            True  ...                   7                     6   \n359            True  ...                   6                     6   \n839            True  ...                   6                     6   \n2099          False  ...                   6                     6   \n2159          False  ...                   6                     5   \n2278           True  ...                   5                     5   \n2279           True  ...                   5                     6   \n2579          False  ...                   2                     2   \n2639          False  ...                   7                     6   \n2999          False  ...                   4                     6   \n3239           True  ...                   7                     6   \n3659          False  ...                   7                     6   \n3779           True  ...                   3                     3   \n3899           True  ...                   6                     5   \n4019          False  ...                   7                     6   \n4079           True  ...                   6                     7   \n4199          False  ...                   7                     7   \n4979           True  ...                   5                     4   \n5219           True  ...                   6                     7   \n5518           True  ...                   7                     6   \n5519           True  ...                   4                     4   \n5639           True  ...                   6                     7   \n\n      GF_SpecialSkillTime  GF_TutorialHelpRemember  GF_LearnedAllSkill  \\\n179                     4                        4                   4   \n239                     7                        6                   7   \n359                     6                        6                   6   \n839                     6                        6                   6   \n2099                    6                        6                   6   \n2159                    6                        5                   6   \n2278                    5                        5                   5   \n2279                    5                        7                   5   \n2579                    2                        3                   2   \n2639                    7                        6                   7   \n2999                    5                        4                   6   \n3239                    5                        6                   6   \n3659                    7                        6                   7   \n3779                    2                        3                   2   \n3899                    6                        5                   6   \n4019                    5                        7                   4   \n4079                    5                        7                   6   \n4199                    7                        7                   7   \n4979                    5                        3                   5   \n5219                    6                        7                   6   \n5518                    6                        6                   6   \n5519                    7                        4                   6   \n5639                    5                        3                   5   \n\n      GF_InvolvedInGame  GF_NewBlockSame  GF_HintUseless Ages  Q_Sum  \n179                   5                5               4  30s      0  \n239                   7                7               7  30s      0  \n359                   7                6               1  30s      0  \n839                   6                5               6  20s      0  \n2099                  6                6               6  20s      0  \n2159                  5                6               5  30s      0  \n2278                  4                4               4  30s      0  \n2279                  6                7               5  20s      0  \n2579                  3                3               2  30s      0  \n2639                  6                7               6  30s      0  \n2999                  7                6               4  30s      0  \n3239                  7                5               6  30s      0  \n3659                  6                7               6  30s      0  \n3779                  2                2               2  30s      0  \n3899                  5                5               5  30s      0  \n4019                  7                5               6  30s      0  \n4079                  7                6               3  20s      0  \n4199                  6                7               7  20s      0  \n4979                  4                5               2  30s      0  \n5219                  6                6               7  30s      0  \n5518                  6                6               7  30s      0  \n5519                  4                3               6  30s      0  \n5639                  7                3               1  30s      0  \n\n[23 rows x 31 columns]",
      "text/html": "<div>\n<style scoped>\n    .dataframe tbody tr th:only-of-type {\n        vertical-align: middle;\n    }\n\n    .dataframe tbody tr th {\n        vertical-align: top;\n    }\n\n    .dataframe thead th {\n        text-align: right;\n    }\n</style>\n<table border=\"1\" class=\"dataframe\">\n  <thead>\n    <tr style=\"text-align: right;\">\n      <th></th>\n      <th>Unnamed: 0</th>\n      <th>User</th>\n      <th>Method</th>\n      <th>L_Step</th>\n      <th>L_DecisionTime</th>\n      <th>L_BombPiece</th>\n      <th>L_CrossPiece</th>\n      <th>L_HorizontalPiece</th>\n      <th>L_RainbowPiece</th>\n      <th>L_RocketPiece</th>\n      <th>...</th>\n      <th>GF_TutorialHelpful</th>\n      <th>GF_BasicMechanicTime</th>\n      <th>GF_SpecialSkillTime</th>\n      <th>GF_TutorialHelpRemember</th>\n      <th>GF_LearnedAllSkill</th>\n      <th>GF_InvolvedInGame</th>\n      <th>GF_NewBlockSame</th>\n      <th>GF_HintUseless</th>\n      <th>Ages</th>\n      <th>Q_Sum</th>\n    </tr>\n  </thead>\n  <tbody>\n    <tr>\n      <th>179</th>\n      <td>179</td>\n      <td>211700f2</td>\n      <td>MCTS_Knowledge</td>\n      <td>60</td>\n      <td>9.817749</td>\n      <td>False</td>\n      <td>False</td>\n      <td>False</td>\n      <td>False</td>\n      <td>False</td>\n      <td>...</td>\n      <td>5</td>\n      <td>5</td>\n      <td>4</td>\n      <td>4</td>\n      <td>4</td>\n      <td>5</td>\n      <td>5</td>\n      <td>4</td>\n      <td>30s</td>\n      <td>0</td>\n    </tr>\n    <tr>\n      <th>239</th>\n      <td>239</td>\n      <td>2602d813</td>\n      <td>MCTS_Knowledge</td>\n      <td>60</td>\n      <td>6.833435</td>\n      <td>False</td>\n      <td>False</td>\n      <td>True</td>\n      <td>True</td>\n      <td>True</td>\n      <td>...</td>\n      <td>7</td>\n      <td>6</td>\n      <td>7</td>\n      <td>6</td>\n      <td>7</td>\n      <td>7</td>\n      <td>7</td>\n      <td>7</td>\n      <td>30s</td>\n      <td>0</td>\n    </tr>\n    <tr>\n      <th>359</th>\n      <td>359</td>\n      <td>32e399ef</td>\n      <td>MCTS_Knowledge</td>\n      <td>60</td>\n      <td>3.566650</td>\n      <td>True</td>\n      <td>False</td>\n      <td>True</td>\n      <td>False</td>\n      <td>True</td>\n      <td>...</td>\n      <td>6</td>\n      <td>6</td>\n      <td>6</td>\n      <td>6</td>\n      <td>6</td>\n      <td>7</td>\n      <td>6</td>\n      <td>1</td>\n      <td>30s</td>\n      <td>0</td>\n    </tr>\n    <tr>\n      <th>839</th>\n      <td>839</td>\n      <td>62f0f29a</td>\n      <td>MCTS_Knowledge</td>\n      <td>60</td>\n      <td>10.995361</td>\n      <td>False</td>\n      <td>False</td>\n      <td>True</td>\n      <td>False</td>\n      <td>True</td>\n      <td>...</td>\n      <td>6</td>\n      <td>6</td>\n      <td>6</td>\n      <td>6</td>\n      <td>6</td>\n      <td>6</td>\n      <td>5</td>\n      <td>6</td>\n      <td>20s</td>\n      <td>0</td>\n    </tr>\n    <tr>\n      <th>2099</th>\n      <td>2099</td>\n      <td>3b834540</td>\n      <td>MCTS_Score</td>\n      <td>60</td>\n      <td>9.222046</td>\n      <td>False</td>\n      <td>True</td>\n      <td>True</td>\n      <td>False</td>\n      <td>False</td>\n      <td>...</td>\n      <td>6</td>\n      <td>6</td>\n      <td>6</td>\n      <td>6</td>\n      <td>6</td>\n      <td>6</td>\n      <td>6</td>\n      <td>6</td>\n      <td>20s</td>\n      <td>0</td>\n    </tr>\n    <tr>\n      <th>2159</th>\n      <td>2159</td>\n      <td>4014ce4e</td>\n      <td>MCTS_Score</td>\n      <td>60</td>\n      <td>0.992920</td>\n      <td>False</td>\n      <td>False</td>\n      <td>True</td>\n      <td>False</td>\n      <td>False</td>\n      <td>...</td>\n      <td>6</td>\n      <td>5</td>\n      <td>6</td>\n      <td>5</td>\n      <td>6</td>\n      <td>5</td>\n      <td>6</td>\n      <td>5</td>\n      <td>30s</td>\n      <td>0</td>\n    </tr>\n    <tr>\n      <th>2278</th>\n      <td>2278</td>\n      <td>420e418d</td>\n      <td>MCTS_Score</td>\n      <td>60</td>\n      <td>5.454834</td>\n      <td>False</td>\n      <td>False</td>\n      <td>True</td>\n      <td>False</td>\n      <td>True</td>\n      <td>...</td>\n      <td>5</td>\n      <td>5</td>\n      <td>5</td>\n      <td>5</td>\n      <td>5</td>\n      <td>4</td>\n      <td>4</td>\n      <td>4</td>\n      <td>30s</td>\n      <td>0</td>\n    </tr>\n    <tr>\n      <th>2279</th>\n      <td>2279</td>\n      <td>420e418d</td>\n      <td>MCTS_Score</td>\n      <td>60</td>\n      <td>5.454834</td>\n      <td>False</td>\n      <td>False</td>\n      <td>True</td>\n      <td>False</td>\n      <td>True</td>\n      <td>...</td>\n      <td>5</td>\n      <td>6</td>\n      <td>5</td>\n      <td>7</td>\n      <td>5</td>\n      <td>6</td>\n      <td>7</td>\n      <td>5</td>\n      <td>20s</td>\n      <td>0</td>\n    </tr>\n    <tr>\n      <th>2579</th>\n      <td>2579</td>\n      <td>692e437f</td>\n      <td>MCTS_Score</td>\n      <td>60</td>\n      <td>4.189880</td>\n      <td>False</td>\n      <td>True</td>\n      <td>True</td>\n      <td>False</td>\n      <td>False</td>\n      <td>...</td>\n      <td>2</td>\n      <td>2</td>\n      <td>2</td>\n      <td>3</td>\n      <td>2</td>\n      <td>3</td>\n      <td>3</td>\n      <td>2</td>\n      <td>30s</td>\n      <td>0</td>\n    </tr>\n    <tr>\n      <th>2639</th>\n      <td>2639</td>\n      <td>6e7fdf0d</td>\n      <td>MCTS_Score</td>\n      <td>60</td>\n      <td>2.214966</td>\n      <td>True</td>\n      <td>False</td>\n      <td>True</td>\n      <td>False</td>\n      <td>False</td>\n      <td>...</td>\n      <td>7</td>\n      <td>6</td>\n      <td>7</td>\n      <td>6</td>\n      <td>7</td>\n      <td>6</td>\n      <td>7</td>\n      <td>6</td>\n      <td>30s</td>\n      <td>0</td>\n    </tr>\n    <tr>\n      <th>2999</th>\n      <td>2999</td>\n      <td>8e76acc4</td>\n      <td>MCTS_Score</td>\n      <td>60</td>\n      <td>0.189087</td>\n      <td>True</td>\n      <td>False</td>\n      <td>True</td>\n      <td>True</td>\n      <td>False</td>\n      <td>...</td>\n      <td>4</td>\n      <td>6</td>\n      <td>5</td>\n      <td>4</td>\n      <td>6</td>\n      <td>7</td>\n      <td>6</td>\n      <td>4</td>\n      <td>30s</td>\n      <td>0</td>\n    </tr>\n    <tr>\n      <th>3239</th>\n      <td>3239</td>\n      <td>cb2679f5</td>\n      <td>MCTS_Score</td>\n      <td>60</td>\n      <td>2.184082</td>\n      <td>True</td>\n      <td>False</td>\n      <td>True</td>\n      <td>True</td>\n      <td>True</td>\n      <td>...</td>\n      <td>7</td>\n      <td>6</td>\n      <td>5</td>\n      <td>6</td>\n      <td>6</td>\n      <td>7</td>\n      <td>5</td>\n      <td>6</td>\n      <td>30s</td>\n      <td>0</td>\n    </tr>\n    <tr>\n      <th>3659</th>\n      <td>3659</td>\n      <td>1f89ce40</td>\n      <td>Random</td>\n      <td>60</td>\n      <td>2.533020</td>\n      <td>False</td>\n      <td>False</td>\n      <td>True</td>\n      <td>True</td>\n      <td>False</td>\n      <td>...</td>\n      <td>7</td>\n      <td>6</td>\n      <td>7</td>\n      <td>6</td>\n      <td>7</td>\n      <td>6</td>\n      <td>7</td>\n      <td>6</td>\n      <td>30s</td>\n      <td>0</td>\n    </tr>\n    <tr>\n      <th>3779</th>\n      <td>3779</td>\n      <td>2ef9e3fc</td>\n      <td>Random</td>\n      <td>60</td>\n      <td>3.403198</td>\n      <td>False</td>\n      <td>True</td>\n      <td>True</td>\n      <td>False</td>\n      <td>True</td>\n      <td>...</td>\n      <td>3</td>\n      <td>3</td>\n      <td>2</td>\n      <td>3</td>\n      <td>2</td>\n      <td>2</td>\n      <td>2</td>\n      <td>2</td>\n      <td>30s</td>\n      <td>0</td>\n    </tr>\n    <tr>\n      <th>3899</th>\n      <td>3899</td>\n      <td>3b6cbcf4</td>\n      <td>Random</td>\n      <td>60</td>\n      <td>2.866089</td>\n      <td>False</td>\n      <td>True</td>\n      <td>True</td>\n      <td>False</td>\n      <td>True</td>\n      <td>...</td>\n      <td>6</td>\n      <td>5</td>\n      <td>6</td>\n      <td>5</td>\n      <td>6</td>\n      <td>5</td>\n      <td>5</td>\n      <td>5</td>\n      <td>30s</td>\n      <td>0</td>\n    </tr>\n    <tr>\n      <th>4019</th>\n      <td>4019</td>\n      <td>616f7be1</td>\n      <td>Random</td>\n      <td>60</td>\n      <td>5.434021</td>\n      <td>False</td>\n      <td>False</td>\n      <td>True</td>\n      <td>False</td>\n      <td>False</td>\n      <td>...</td>\n      <td>7</td>\n      <td>6</td>\n      <td>5</td>\n      <td>7</td>\n      <td>4</td>\n      <td>7</td>\n      <td>5</td>\n      <td>6</td>\n      <td>30s</td>\n      <td>0</td>\n    </tr>\n    <tr>\n      <th>4079</th>\n      <td>4079</td>\n      <td>6e1f1dc2</td>\n      <td>Random</td>\n      <td>60</td>\n      <td>14.368958</td>\n      <td>False</td>\n      <td>False</td>\n      <td>True</td>\n      <td>True</td>\n      <td>True</td>\n      <td>...</td>\n      <td>6</td>\n      <td>7</td>\n      <td>5</td>\n      <td>7</td>\n      <td>6</td>\n      <td>7</td>\n      <td>6</td>\n      <td>3</td>\n      <td>20s</td>\n      <td>0</td>\n    </tr>\n    <tr>\n      <th>4199</th>\n      <td>4199</td>\n      <td>8ca3670c</td>\n      <td>Random</td>\n      <td>60</td>\n      <td>2.585083</td>\n      <td>False</td>\n      <td>False</td>\n      <td>True</td>\n      <td>False</td>\n      <td>False</td>\n      <td>...</td>\n      <td>7</td>\n      <td>7</td>\n      <td>7</td>\n      <td>7</td>\n      <td>7</td>\n      <td>6</td>\n      <td>7</td>\n      <td>7</td>\n      <td>20s</td>\n      <td>0</td>\n    </tr>\n    <tr>\n      <th>4979</th>\n      <td>4979</td>\n      <td>bdefdf74</td>\n      <td>Random</td>\n      <td>60</td>\n      <td>7.522705</td>\n      <td>False</td>\n      <td>False</td>\n      <td>True</td>\n      <td>False</td>\n      <td>True</td>\n      <td>...</td>\n      <td>5</td>\n      <td>4</td>\n      <td>5</td>\n      <td>3</td>\n      <td>5</td>\n      <td>4</td>\n      <td>5</td>\n      <td>2</td>\n      <td>30s</td>\n      <td>0</td>\n    </tr>\n    <tr>\n      <th>5219</th>\n      <td>5219</td>\n      <td>e251b4cb</td>\n      <td>Random</td>\n      <td>60</td>\n      <td>4.589996</td>\n      <td>False</td>\n      <td>False</td>\n      <td>True</td>\n      <td>False</td>\n      <td>True</td>\n      <td>...</td>\n      <td>6</td>\n      <td>7</td>\n      <td>6</td>\n      <td>7</td>\n      <td>6</td>\n      <td>6</td>\n      <td>6</td>\n      <td>7</td>\n      <td>30s</td>\n      <td>0</td>\n    </tr>\n    <tr>\n      <th>5518</th>\n      <td>5518</td>\n      <td>f6a7f177</td>\n      <td>Random</td>\n      <td>60</td>\n      <td>9.988770</td>\n      <td>False</td>\n      <td>True</td>\n      <td>True</td>\n      <td>False</td>\n      <td>True</td>\n      <td>...</td>\n      <td>7</td>\n      <td>6</td>\n      <td>6</td>\n      <td>6</td>\n      <td>6</td>\n      <td>6</td>\n      <td>6</td>\n      <td>7</td>\n      <td>30s</td>\n      <td>0</td>\n    </tr>\n    <tr>\n      <th>5519</th>\n      <td>5519</td>\n      <td>f6a7f177</td>\n      <td>Random</td>\n      <td>60</td>\n      <td>9.988770</td>\n      <td>False</td>\n      <td>True</td>\n      <td>True</td>\n      <td>False</td>\n      <td>True</td>\n      <td>...</td>\n      <td>4</td>\n      <td>4</td>\n      <td>7</td>\n      <td>4</td>\n      <td>6</td>\n      <td>4</td>\n      <td>3</td>\n      <td>6</td>\n      <td>30s</td>\n      <td>0</td>\n    </tr>\n    <tr>\n      <th>5639</th>\n      <td>5639</td>\n      <td>fda381bb</td>\n      <td>Random</td>\n      <td>60</td>\n      <td>3.671997</td>\n      <td>True</td>\n      <td>False</td>\n      <td>True</td>\n      <td>True</td>\n      <td>True</td>\n      <td>...</td>\n      <td>6</td>\n      <td>7</td>\n      <td>5</td>\n      <td>3</td>\n      <td>5</td>\n      <td>7</td>\n      <td>3</td>\n      <td>1</td>\n      <td>30s</td>\n      <td>0</td>\n    </tr>\n  </tbody>\n</table>\n<p>23 rows × 31 columns</p>\n</div>"
     },
     "execution_count": 18,
     "metadata": {},
     "output_type": "execute_result"
    }
   ],
   "source": [
    "# Function to compute the accuracy, precision, recall, and F1 score\n",
    "\n",
    "labels = ['Q_BombPiece', 'Q_CrossPiece', 'Q_HorizontalPiece', 'Q_RainbowPiece', 'Q_RocketPiece', 'Q_VerticalPiece']\n",
    "\n",
    "# Add summed up column of the labels\n",
    "df['Q_Sum'] = df[labels].sum(axis=1)\n",
    "df[df['Q_Sum'] == 0]"
   ],
   "metadata": {
    "collapsed": false,
    "pycharm": {
     "name": "#%%\n"
    }
   }
  }
 ],
 "metadata": {
  "kernelspec": {
   "display_name": "Python 3",
   "language": "python",
   "name": "python3"
  },
  "language_info": {
   "codemirror_mode": {
    "name": "ipython",
    "version": 2
   },
   "file_extension": ".py",
   "mimetype": "text/x-python",
   "name": "python",
   "nbconvert_exporter": "python",
   "pygments_lexer": "ipython2",
   "version": "2.7.6"
  }
 },
 "nbformat": 4,
 "nbformat_minor": 0
}