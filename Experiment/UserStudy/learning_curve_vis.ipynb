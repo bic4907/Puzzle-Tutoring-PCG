{
 "cells": [
  {
   "cell_type": "code",
   "execution_count": 257,
   "metadata": {
    "collapsed": true
   },
   "outputs": [],
   "source": [
    "import json\n",
    "import seaborn as sns\n",
    "import matplotlib.pyplot as plt\n",
    "import pandas as pd"
   ]
  },
  {
   "cell_type": "markdown",
   "source": [],
   "metadata": {
    "collapsed": false,
    "pycharm": {
     "name": "#%% md\n"
    }
   }
  },
  {
   "cell_type": "code",
   "execution_count": 258,
   "outputs": [],
   "source": [
    "from statannot import add_stat_annotation"
   ],
   "metadata": {
    "collapsed": false,
    "pycharm": {
     "name": "#%%\n"
    }
   }
  },
  {
   "cell_type": "code",
   "execution_count": 259,
   "outputs": [
    {
     "name": "stdout",
     "output_type": "stream",
     "text": [
      "89\n"
     ]
    }
   ],
   "source": [
    "questions = \"GF_TutorialHelpful,GF_BasicMechanicTime,GF_SpecialSkillTime,GF_TutorialHelpRemember,GF_LearnedAllSkill,GF_InvolvedInGame,GF_NewBlockSame,GF_HintUseless\"\n",
    "questions = questions.split(',')\n",
    "\n",
    "full_df = pd.read_csv('all_data.csv')\n",
    "\n",
    "# Change age to year 20s, 30s,...\n",
    "full_df['Ages'] = full_df['Age'].apply(lambda x: str(x)[0] + '0s')\n",
    "\n",
    "print(len(set(full_df['User'])))"
   ],
   "metadata": {
    "collapsed": false,
    "pycharm": {
     "name": "#%%\n"
    }
   }
  },
  {
   "cell_type": "code",
   "execution_count": 260,
   "outputs": [],
   "source": [
    "labels = ['Q_BombPiece', 'Q_CrossPiece', 'Q_HorizontalPiece', 'Q_RainbowPiece', 'Q_RocketPiece', 'Q_VerticalPiece']\n",
    "\n",
    "# Add summed up column of the labels\n",
    "full_df['Q_Sum'] = full_df[labels].sum(axis=1)\n"
   ],
   "metadata": {
    "collapsed": false,
    "pycharm": {
     "name": "#%%\n"
    }
   }
  },
  {
   "cell_type": "code",
   "execution_count": 261,
   "outputs": [
    {
     "name": "stdout",
     "output_type": "stream",
     "text": [
      "89\n"
     ]
    },
    {
     "data": {
      "text/plain": "89"
     },
     "execution_count": 261,
     "metadata": {},
     "output_type": "execute_result"
    }
   ],
   "source": [
    "df = full_df[full_df['L_Step'] == 60]\n",
    "print(len(set(df['User'])))\n",
    "len(df)"
   ],
   "metadata": {
    "collapsed": false,
    "pycharm": {
     "name": "#%%\n"
    }
   }
  },
  {
   "cell_type": "code",
   "execution_count": 262,
   "outputs": [
    {
     "data": {
      "text/plain": "        Unnamed: 0  L_Step  L_DecisionTime      PCGTime        Age  \\\ncount    89.000000    89.0       89.000000    89.000000  89.000000   \nmean   2699.000000    60.0        6.296361   405.224719  32.730337   \nstd    1550.161282     0.0        5.046417   564.090373   6.106561   \nmin      59.000000    60.0        0.131714     0.000000  21.000000   \n25%    1379.000000    60.0        3.331116     0.000000  30.000000   \n50%    2699.000000    60.0        4.754395   169.000000  32.000000   \n75%    4019.000000    60.0        8.731934   644.000000  35.000000   \nmax    5339.000000    60.0       32.093994  2506.000000  55.000000   \n\n       GF_PlayFrequency  GF_TutorialHelpful  GF_BasicMechanicTime  \\\ncount         89.000000           89.000000             89.000000   \nmean           1.640449            5.382022              5.258427   \nstd            0.815297            1.473290              1.473463   \nmin            0.000000            1.000000              1.000000   \n25%            1.000000            5.000000              4.000000   \n50%            1.000000            6.000000              6.000000   \n75%            2.000000            6.000000              6.000000   \nmax            4.000000            7.000000              7.000000   \n\n       GF_SpecialSkillTime  GF_TutorialHelpRemember  GF_LearnedAllSkill  \\\ncount            89.000000                89.000000           89.000000   \nmean              5.426966                 5.303371            5.337079   \nstd               1.460757                 1.417460            1.566291   \nmin               1.000000                 1.000000            1.000000   \n25%               5.000000                 5.000000            4.000000   \n50%               6.000000                 6.000000            6.000000   \n75%               6.000000                 6.000000            7.000000   \nmax               7.000000                 7.000000            7.000000   \n\n       GF_InvolvedInGame  GF_NewBlockSame  GF_HintUseless      Q_Sum  \ncount          89.000000        89.000000       89.000000  89.000000  \nmean            5.471910         5.123596        4.606742   1.337079  \nstd             1.574584         1.558118        1.957607   1.107247  \nmin             1.000000         2.000000        1.000000   0.000000  \n25%             5.000000         4.000000        3.000000   1.000000  \n50%             6.000000         5.000000        5.000000   1.000000  \n75%             7.000000         6.000000        6.000000   2.000000  \nmax             7.000000         7.000000        7.000000   5.000000  ",
      "text/html": "<div>\n<style scoped>\n    .dataframe tbody tr th:only-of-type {\n        vertical-align: middle;\n    }\n\n    .dataframe tbody tr th {\n        vertical-align: top;\n    }\n\n    .dataframe thead th {\n        text-align: right;\n    }\n</style>\n<table border=\"1\" class=\"dataframe\">\n  <thead>\n    <tr style=\"text-align: right;\">\n      <th></th>\n      <th>Unnamed: 0</th>\n      <th>L_Step</th>\n      <th>L_DecisionTime</th>\n      <th>PCGTime</th>\n      <th>Age</th>\n      <th>GF_PlayFrequency</th>\n      <th>GF_TutorialHelpful</th>\n      <th>GF_BasicMechanicTime</th>\n      <th>GF_SpecialSkillTime</th>\n      <th>GF_TutorialHelpRemember</th>\n      <th>GF_LearnedAllSkill</th>\n      <th>GF_InvolvedInGame</th>\n      <th>GF_NewBlockSame</th>\n      <th>GF_HintUseless</th>\n      <th>Q_Sum</th>\n    </tr>\n  </thead>\n  <tbody>\n    <tr>\n      <th>count</th>\n      <td>89.000000</td>\n      <td>89.0</td>\n      <td>89.000000</td>\n      <td>89.000000</td>\n      <td>89.000000</td>\n      <td>89.000000</td>\n      <td>89.000000</td>\n      <td>89.000000</td>\n      <td>89.000000</td>\n      <td>89.000000</td>\n      <td>89.000000</td>\n      <td>89.000000</td>\n      <td>89.000000</td>\n      <td>89.000000</td>\n      <td>89.000000</td>\n    </tr>\n    <tr>\n      <th>mean</th>\n      <td>2699.000000</td>\n      <td>60.0</td>\n      <td>6.296361</td>\n      <td>405.224719</td>\n      <td>32.730337</td>\n      <td>1.640449</td>\n      <td>5.382022</td>\n      <td>5.258427</td>\n      <td>5.426966</td>\n      <td>5.303371</td>\n      <td>5.337079</td>\n      <td>5.471910</td>\n      <td>5.123596</td>\n      <td>4.606742</td>\n      <td>1.337079</td>\n    </tr>\n    <tr>\n      <th>std</th>\n      <td>1550.161282</td>\n      <td>0.0</td>\n      <td>5.046417</td>\n      <td>564.090373</td>\n      <td>6.106561</td>\n      <td>0.815297</td>\n      <td>1.473290</td>\n      <td>1.473463</td>\n      <td>1.460757</td>\n      <td>1.417460</td>\n      <td>1.566291</td>\n      <td>1.574584</td>\n      <td>1.558118</td>\n      <td>1.957607</td>\n      <td>1.107247</td>\n    </tr>\n    <tr>\n      <th>min</th>\n      <td>59.000000</td>\n      <td>60.0</td>\n      <td>0.131714</td>\n      <td>0.000000</td>\n      <td>21.000000</td>\n      <td>0.000000</td>\n      <td>1.000000</td>\n      <td>1.000000</td>\n      <td>1.000000</td>\n      <td>1.000000</td>\n      <td>1.000000</td>\n      <td>1.000000</td>\n      <td>2.000000</td>\n      <td>1.000000</td>\n      <td>0.000000</td>\n    </tr>\n    <tr>\n      <th>25%</th>\n      <td>1379.000000</td>\n      <td>60.0</td>\n      <td>3.331116</td>\n      <td>0.000000</td>\n      <td>30.000000</td>\n      <td>1.000000</td>\n      <td>5.000000</td>\n      <td>4.000000</td>\n      <td>5.000000</td>\n      <td>5.000000</td>\n      <td>4.000000</td>\n      <td>5.000000</td>\n      <td>4.000000</td>\n      <td>3.000000</td>\n      <td>1.000000</td>\n    </tr>\n    <tr>\n      <th>50%</th>\n      <td>2699.000000</td>\n      <td>60.0</td>\n      <td>4.754395</td>\n      <td>169.000000</td>\n      <td>32.000000</td>\n      <td>1.000000</td>\n      <td>6.000000</td>\n      <td>6.000000</td>\n      <td>6.000000</td>\n      <td>6.000000</td>\n      <td>6.000000</td>\n      <td>6.000000</td>\n      <td>5.000000</td>\n      <td>5.000000</td>\n      <td>1.000000</td>\n    </tr>\n    <tr>\n      <th>75%</th>\n      <td>4019.000000</td>\n      <td>60.0</td>\n      <td>8.731934</td>\n      <td>644.000000</td>\n      <td>35.000000</td>\n      <td>2.000000</td>\n      <td>6.000000</td>\n      <td>6.000000</td>\n      <td>6.000000</td>\n      <td>6.000000</td>\n      <td>7.000000</td>\n      <td>7.000000</td>\n      <td>6.000000</td>\n      <td>6.000000</td>\n      <td>2.000000</td>\n    </tr>\n    <tr>\n      <th>max</th>\n      <td>5339.000000</td>\n      <td>60.0</td>\n      <td>32.093994</td>\n      <td>2506.000000</td>\n      <td>55.000000</td>\n      <td>4.000000</td>\n      <td>7.000000</td>\n      <td>7.000000</td>\n      <td>7.000000</td>\n      <td>7.000000</td>\n      <td>7.000000</td>\n      <td>7.000000</td>\n      <td>7.000000</td>\n      <td>7.000000</td>\n      <td>5.000000</td>\n    </tr>\n  </tbody>\n</table>\n</div>"
     },
     "execution_count": 262,
     "metadata": {},
     "output_type": "execute_result"
    }
   ],
   "source": [
    "# Mean and Average of the Ages\n",
    "df.describe()"
   ],
   "metadata": {
    "collapsed": false,
    "pycharm": {
     "name": "#%%\n"
    }
   }
  },
  {
   "cell_type": "code",
   "execution_count": 263,
   "outputs": [
    {
     "data": {
      "text/plain": "  Ages  count  Percentile\n0  20s     16   17.977528\n1  30s     65   73.033708\n2  40s      6    6.741573\n3  50s      2    2.247191",
      "text/html": "<div>\n<style scoped>\n    .dataframe tbody tr th:only-of-type {\n        vertical-align: middle;\n    }\n\n    .dataframe tbody tr th {\n        vertical-align: top;\n    }\n\n    .dataframe thead th {\n        text-align: right;\n    }\n</style>\n<table border=\"1\" class=\"dataframe\">\n  <thead>\n    <tr style=\"text-align: right;\">\n      <th></th>\n      <th>Ages</th>\n      <th>count</th>\n      <th>Percentile</th>\n    </tr>\n  </thead>\n  <tbody>\n    <tr>\n      <th>0</th>\n      <td>20s</td>\n      <td>16</td>\n      <td>17.977528</td>\n    </tr>\n    <tr>\n      <th>1</th>\n      <td>30s</td>\n      <td>65</td>\n      <td>73.033708</td>\n    </tr>\n    <tr>\n      <th>2</th>\n      <td>40s</td>\n      <td>6</td>\n      <td>6.741573</td>\n    </tr>\n    <tr>\n      <th>3</th>\n      <td>50s</td>\n      <td>2</td>\n      <td>2.247191</td>\n    </tr>\n  </tbody>\n</table>\n</div>"
     },
     "execution_count": 263,
     "metadata": {},
     "output_type": "execute_result"
    }
   ],
   "source": [
    "tmp = df.groupby('Ages')['Ages'].agg(['count']).reset_index()\n",
    "tmp['Percentile'] = tmp['count'] / tmp['count'].sum() * 100\n",
    "tmp"
   ],
   "metadata": {
    "collapsed": false,
    "pycharm": {
     "name": "#%%\n"
    }
   }
  },
  {
   "cell_type": "code",
   "execution_count": 264,
   "outputs": [
    {
     "data": {
      "text/plain": "   GF_PlayFrequency  count  Percentile\n0                 0      1    1.123596\n1                 1     44   49.438202\n2                 2     34   38.202247\n3                 3      6    6.741573\n4                 4      4    4.494382",
      "text/html": "<div>\n<style scoped>\n    .dataframe tbody tr th:only-of-type {\n        vertical-align: middle;\n    }\n\n    .dataframe tbody tr th {\n        vertical-align: top;\n    }\n\n    .dataframe thead th {\n        text-align: right;\n    }\n</style>\n<table border=\"1\" class=\"dataframe\">\n  <thead>\n    <tr style=\"text-align: right;\">\n      <th></th>\n      <th>GF_PlayFrequency</th>\n      <th>count</th>\n      <th>Percentile</th>\n    </tr>\n  </thead>\n  <tbody>\n    <tr>\n      <th>0</th>\n      <td>0</td>\n      <td>1</td>\n      <td>1.123596</td>\n    </tr>\n    <tr>\n      <th>1</th>\n      <td>1</td>\n      <td>44</td>\n      <td>49.438202</td>\n    </tr>\n    <tr>\n      <th>2</th>\n      <td>2</td>\n      <td>34</td>\n      <td>38.202247</td>\n    </tr>\n    <tr>\n      <th>3</th>\n      <td>3</td>\n      <td>6</td>\n      <td>6.741573</td>\n    </tr>\n    <tr>\n      <th>4</th>\n      <td>4</td>\n      <td>4</td>\n      <td>4.494382</td>\n    </tr>\n  </tbody>\n</table>\n</div>"
     },
     "execution_count": 264,
     "metadata": {},
     "output_type": "execute_result"
    }
   ],
   "source": [
    "tmp = df.groupby('GF_PlayFrequency')['GF_PlayFrequency'].agg(['count']).reset_index()\n",
    "tmp['Percentile'] = tmp['count'] / tmp['count'].sum() * 100\n",
    "tmp"
   ],
   "metadata": {
    "collapsed": false,
    "pycharm": {
     "name": "#%%\n"
    }
   }
  },
  {
   "cell_type": "code",
   "execution_count": 265,
   "outputs": [
    {
     "data": {
      "text/plain": "  GF_PlayTime  count  Percentile\n0           A      6    6.741573\n1           B     51   57.303371\n2           C     32   35.955056",
      "text/html": "<div>\n<style scoped>\n    .dataframe tbody tr th:only-of-type {\n        vertical-align: middle;\n    }\n\n    .dataframe tbody tr th {\n        vertical-align: top;\n    }\n\n    .dataframe thead th {\n        text-align: right;\n    }\n</style>\n<table border=\"1\" class=\"dataframe\">\n  <thead>\n    <tr style=\"text-align: right;\">\n      <th></th>\n      <th>GF_PlayTime</th>\n      <th>count</th>\n      <th>Percentile</th>\n    </tr>\n  </thead>\n  <tbody>\n    <tr>\n      <th>0</th>\n      <td>A</td>\n      <td>6</td>\n      <td>6.741573</td>\n    </tr>\n    <tr>\n      <th>1</th>\n      <td>B</td>\n      <td>51</td>\n      <td>57.303371</td>\n    </tr>\n    <tr>\n      <th>2</th>\n      <td>C</td>\n      <td>32</td>\n      <td>35.955056</td>\n    </tr>\n  </tbody>\n</table>\n</div>"
     },
     "execution_count": 265,
     "metadata": {},
     "output_type": "execute_result"
    }
   ],
   "source": [
    "tmp = df.groupby('GF_PlayTime')['GF_PlayTime'].agg(['count']).reset_index()\n",
    "tmp['Percentile'] = tmp['count'] / tmp['count'].sum() * 100\n",
    "tmp"
   ],
   "metadata": {
    "collapsed": false,
    "pycharm": {
     "name": "#%%\n"
    }
   }
  },
  {
   "cell_type": "code",
   "execution_count": 266,
   "outputs": [
    {
     "data": {
      "text/plain": "           Method  count  Percentile\n0  MCTS_Knowledge     27   30.337079\n1      MCTS_Score     29   32.584270\n2          Random     33   37.078652",
      "text/html": "<div>\n<style scoped>\n    .dataframe tbody tr th:only-of-type {\n        vertical-align: middle;\n    }\n\n    .dataframe tbody tr th {\n        vertical-align: top;\n    }\n\n    .dataframe thead th {\n        text-align: right;\n    }\n</style>\n<table border=\"1\" class=\"dataframe\">\n  <thead>\n    <tr style=\"text-align: right;\">\n      <th></th>\n      <th>Method</th>\n      <th>count</th>\n      <th>Percentile</th>\n    </tr>\n  </thead>\n  <tbody>\n    <tr>\n      <th>0</th>\n      <td>MCTS_Knowledge</td>\n      <td>27</td>\n      <td>30.337079</td>\n    </tr>\n    <tr>\n      <th>1</th>\n      <td>MCTS_Score</td>\n      <td>29</td>\n      <td>32.584270</td>\n    </tr>\n    <tr>\n      <th>2</th>\n      <td>Random</td>\n      <td>33</td>\n      <td>37.078652</td>\n    </tr>\n  </tbody>\n</table>\n</div>"
     },
     "execution_count": 266,
     "metadata": {},
     "output_type": "execute_result"
    }
   ],
   "source": [
    "tmp = df.groupby('Method')['Method'].agg(['count']).reset_index()\n",
    "tmp['Percentile'] = tmp['count'] / tmp['count'].sum() * 100\n",
    "tmp"
   ],
   "metadata": {
    "collapsed": false,
    "pycharm": {
     "name": "#%%\n"
    }
   }
  },
  {
   "cell_type": "code",
   "execution_count": 267,
   "outputs": [],
   "source": [
    "df = full_df[full_df['L_Step'] == 60]"
   ],
   "metadata": {
    "collapsed": false,
    "pycharm": {
     "name": "#%%\n"
    }
   }
  },
  {
   "cell_type": "code",
   "execution_count": 268,
   "outputs": [
    {
     "data": {
      "text/plain": "        Unnamed: 0  L_Step  L_DecisionTime      PCGTime        Age  \\\ncount    89.000000    89.0       89.000000    89.000000  89.000000   \nmean   2699.000000    60.0        6.296361   405.224719  32.730337   \nstd    1550.161282     0.0        5.046417   564.090373   6.106561   \nmin      59.000000    60.0        0.131714     0.000000  21.000000   \n25%    1379.000000    60.0        3.331116     0.000000  30.000000   \n50%    2699.000000    60.0        4.754395   169.000000  32.000000   \n75%    4019.000000    60.0        8.731934   644.000000  35.000000   \nmax    5339.000000    60.0       32.093994  2506.000000  55.000000   \n\n       GF_PlayFrequency  GF_TutorialHelpful  GF_BasicMechanicTime  \\\ncount         89.000000           89.000000             89.000000   \nmean           1.640449            5.382022              5.258427   \nstd            0.815297            1.473290              1.473463   \nmin            0.000000            1.000000              1.000000   \n25%            1.000000            5.000000              4.000000   \n50%            1.000000            6.000000              6.000000   \n75%            2.000000            6.000000              6.000000   \nmax            4.000000            7.000000              7.000000   \n\n       GF_SpecialSkillTime  GF_TutorialHelpRemember  GF_LearnedAllSkill  \\\ncount            89.000000                89.000000           89.000000   \nmean              5.426966                 5.303371            5.337079   \nstd               1.460757                 1.417460            1.566291   \nmin               1.000000                 1.000000            1.000000   \n25%               5.000000                 5.000000            4.000000   \n50%               6.000000                 6.000000            6.000000   \n75%               6.000000                 6.000000            7.000000   \nmax               7.000000                 7.000000            7.000000   \n\n       GF_InvolvedInGame  GF_NewBlockSame  GF_HintUseless      Q_Sum  \ncount          89.000000        89.000000       89.000000  89.000000  \nmean            5.471910         5.123596        4.606742   1.337079  \nstd             1.574584         1.558118        1.957607   1.107247  \nmin             1.000000         2.000000        1.000000   0.000000  \n25%             5.000000         4.000000        3.000000   1.000000  \n50%             6.000000         5.000000        5.000000   1.000000  \n75%             7.000000         6.000000        6.000000   2.000000  \nmax             7.000000         7.000000        7.000000   5.000000  ",
      "text/html": "<div>\n<style scoped>\n    .dataframe tbody tr th:only-of-type {\n        vertical-align: middle;\n    }\n\n    .dataframe tbody tr th {\n        vertical-align: top;\n    }\n\n    .dataframe thead th {\n        text-align: right;\n    }\n</style>\n<table border=\"1\" class=\"dataframe\">\n  <thead>\n    <tr style=\"text-align: right;\">\n      <th></th>\n      <th>Unnamed: 0</th>\n      <th>L_Step</th>\n      <th>L_DecisionTime</th>\n      <th>PCGTime</th>\n      <th>Age</th>\n      <th>GF_PlayFrequency</th>\n      <th>GF_TutorialHelpful</th>\n      <th>GF_BasicMechanicTime</th>\n      <th>GF_SpecialSkillTime</th>\n      <th>GF_TutorialHelpRemember</th>\n      <th>GF_LearnedAllSkill</th>\n      <th>GF_InvolvedInGame</th>\n      <th>GF_NewBlockSame</th>\n      <th>GF_HintUseless</th>\n      <th>Q_Sum</th>\n    </tr>\n  </thead>\n  <tbody>\n    <tr>\n      <th>count</th>\n      <td>89.000000</td>\n      <td>89.0</td>\n      <td>89.000000</td>\n      <td>89.000000</td>\n      <td>89.000000</td>\n      <td>89.000000</td>\n      <td>89.000000</td>\n      <td>89.000000</td>\n      <td>89.000000</td>\n      <td>89.000000</td>\n      <td>89.000000</td>\n      <td>89.000000</td>\n      <td>89.000000</td>\n      <td>89.000000</td>\n      <td>89.000000</td>\n    </tr>\n    <tr>\n      <th>mean</th>\n      <td>2699.000000</td>\n      <td>60.0</td>\n      <td>6.296361</td>\n      <td>405.224719</td>\n      <td>32.730337</td>\n      <td>1.640449</td>\n      <td>5.382022</td>\n      <td>5.258427</td>\n      <td>5.426966</td>\n      <td>5.303371</td>\n      <td>5.337079</td>\n      <td>5.471910</td>\n      <td>5.123596</td>\n      <td>4.606742</td>\n      <td>1.337079</td>\n    </tr>\n    <tr>\n      <th>std</th>\n      <td>1550.161282</td>\n      <td>0.0</td>\n      <td>5.046417</td>\n      <td>564.090373</td>\n      <td>6.106561</td>\n      <td>0.815297</td>\n      <td>1.473290</td>\n      <td>1.473463</td>\n      <td>1.460757</td>\n      <td>1.417460</td>\n      <td>1.566291</td>\n      <td>1.574584</td>\n      <td>1.558118</td>\n      <td>1.957607</td>\n      <td>1.107247</td>\n    </tr>\n    <tr>\n      <th>min</th>\n      <td>59.000000</td>\n      <td>60.0</td>\n      <td>0.131714</td>\n      <td>0.000000</td>\n      <td>21.000000</td>\n      <td>0.000000</td>\n      <td>1.000000</td>\n      <td>1.000000</td>\n      <td>1.000000</td>\n      <td>1.000000</td>\n      <td>1.000000</td>\n      <td>1.000000</td>\n      <td>2.000000</td>\n      <td>1.000000</td>\n      <td>0.000000</td>\n    </tr>\n    <tr>\n      <th>25%</th>\n      <td>1379.000000</td>\n      <td>60.0</td>\n      <td>3.331116</td>\n      <td>0.000000</td>\n      <td>30.000000</td>\n      <td>1.000000</td>\n      <td>5.000000</td>\n      <td>4.000000</td>\n      <td>5.000000</td>\n      <td>5.000000</td>\n      <td>4.000000</td>\n      <td>5.000000</td>\n      <td>4.000000</td>\n      <td>3.000000</td>\n      <td>1.000000</td>\n    </tr>\n    <tr>\n      <th>50%</th>\n      <td>2699.000000</td>\n      <td>60.0</td>\n      <td>4.754395</td>\n      <td>169.000000</td>\n      <td>32.000000</td>\n      <td>1.000000</td>\n      <td>6.000000</td>\n      <td>6.000000</td>\n      <td>6.000000</td>\n      <td>6.000000</td>\n      <td>6.000000</td>\n      <td>6.000000</td>\n      <td>5.000000</td>\n      <td>5.000000</td>\n      <td>1.000000</td>\n    </tr>\n    <tr>\n      <th>75%</th>\n      <td>4019.000000</td>\n      <td>60.0</td>\n      <td>8.731934</td>\n      <td>644.000000</td>\n      <td>35.000000</td>\n      <td>2.000000</td>\n      <td>6.000000</td>\n      <td>6.000000</td>\n      <td>6.000000</td>\n      <td>6.000000</td>\n      <td>7.000000</td>\n      <td>7.000000</td>\n      <td>6.000000</td>\n      <td>6.000000</td>\n      <td>2.000000</td>\n    </tr>\n    <tr>\n      <th>max</th>\n      <td>5339.000000</td>\n      <td>60.0</td>\n      <td>32.093994</td>\n      <td>2506.000000</td>\n      <td>55.000000</td>\n      <td>4.000000</td>\n      <td>7.000000</td>\n      <td>7.000000</td>\n      <td>7.000000</td>\n      <td>7.000000</td>\n      <td>7.000000</td>\n      <td>7.000000</td>\n      <td>7.000000</td>\n      <td>7.000000</td>\n      <td>5.000000</td>\n    </tr>\n  </tbody>\n</table>\n</div>"
     },
     "execution_count": 268,
     "metadata": {},
     "output_type": "execute_result"
    }
   ],
   "source": [
    "df.describe()"
   ],
   "metadata": {
    "collapsed": false,
    "pycharm": {
     "name": "#%%\n"
    }
   }
  },
  {
   "cell_type": "code",
   "execution_count": 269,
   "outputs": [
    {
     "data": {
      "text/plain": "                count\nMethod               \nMCTS_Knowledge     27\nMCTS_Score         29\nRandom             33",
      "text/html": "<div>\n<style scoped>\n    .dataframe tbody tr th:only-of-type {\n        vertical-align: middle;\n    }\n\n    .dataframe tbody tr th {\n        vertical-align: top;\n    }\n\n    .dataframe thead th {\n        text-align: right;\n    }\n</style>\n<table border=\"1\" class=\"dataframe\">\n  <thead>\n    <tr style=\"text-align: right;\">\n      <th></th>\n      <th>count</th>\n    </tr>\n    <tr>\n      <th>Method</th>\n      <th></th>\n    </tr>\n  </thead>\n  <tbody>\n    <tr>\n      <th>MCTS_Knowledge</th>\n      <td>27</td>\n    </tr>\n    <tr>\n      <th>MCTS_Score</th>\n      <td>29</td>\n    </tr>\n    <tr>\n      <th>Random</th>\n      <td>33</td>\n    </tr>\n  </tbody>\n</table>\n</div>"
     },
     "execution_count": 269,
     "metadata": {},
     "output_type": "execute_result"
    }
   ],
   "source": [
    "df.groupby('Method')['Method'].agg(['count'])"
   ],
   "metadata": {
    "collapsed": false,
    "pycharm": {
     "name": "#%%\n"
    }
   }
  },
  {
   "cell_type": "code",
   "execution_count": 270,
   "outputs": [
    {
     "data": {
      "text/plain": "               GF_TutorialHelpful           GF_BasicMechanicTime            \\\n                             mean       std                 mean       std   \nMethod                                                                       \nMCTS_Knowledge           5.518519  1.503083             5.407407  1.393923   \nMCTS_Score               5.103448  1.588909             5.172414  1.364576   \nRandom                   5.515152  1.349102             5.212121  1.653738   \n\n               GF_SpecialSkillTime           GF_TutorialHelpRemember  \\\n                              mean       std                    mean   \nMethod                                                                 \nMCTS_Knowledge            5.777778  1.339728                5.333333   \nMCTS_Score                4.965517  1.569412                5.310345   \nRandom                    5.545455  1.393981                5.272727   \n\n                         GF_LearnedAllSkill           GF_InvolvedInGame  \\\n                     std               mean       std              mean   \nMethod                                                                    \nMCTS_Knowledge  1.493576           5.518519  1.626000          5.666667   \nMCTS_Score      1.198316           5.275862  1.461324          5.137931   \nRandom          1.566699           5.242424  1.639937          5.606061   \n\n                         GF_NewBlockSame           GF_HintUseless            \n                     std            mean       std           mean       std  \nMethod                                                                       \nMCTS_Knowledge  1.208941        5.407407  1.393923       4.407407  2.170772  \nMCTS_Score      1.922129        5.275862  1.623412       4.551724  1.681543  \nRandom          1.498737        4.757576  1.601373       4.818182  2.037991  ",
      "text/html": "<div>\n<style scoped>\n    .dataframe tbody tr th:only-of-type {\n        vertical-align: middle;\n    }\n\n    .dataframe tbody tr th {\n        vertical-align: top;\n    }\n\n    .dataframe thead tr th {\n        text-align: left;\n    }\n\n    .dataframe thead tr:last-of-type th {\n        text-align: right;\n    }\n</style>\n<table border=\"1\" class=\"dataframe\">\n  <thead>\n    <tr>\n      <th></th>\n      <th colspan=\"2\" halign=\"left\">GF_TutorialHelpful</th>\n      <th colspan=\"2\" halign=\"left\">GF_BasicMechanicTime</th>\n      <th colspan=\"2\" halign=\"left\">GF_SpecialSkillTime</th>\n      <th colspan=\"2\" halign=\"left\">GF_TutorialHelpRemember</th>\n      <th colspan=\"2\" halign=\"left\">GF_LearnedAllSkill</th>\n      <th colspan=\"2\" halign=\"left\">GF_InvolvedInGame</th>\n      <th colspan=\"2\" halign=\"left\">GF_NewBlockSame</th>\n      <th colspan=\"2\" halign=\"left\">GF_HintUseless</th>\n    </tr>\n    <tr>\n      <th></th>\n      <th>mean</th>\n      <th>std</th>\n      <th>mean</th>\n      <th>std</th>\n      <th>mean</th>\n      <th>std</th>\n      <th>mean</th>\n      <th>std</th>\n      <th>mean</th>\n      <th>std</th>\n      <th>mean</th>\n      <th>std</th>\n      <th>mean</th>\n      <th>std</th>\n      <th>mean</th>\n      <th>std</th>\n    </tr>\n    <tr>\n      <th>Method</th>\n      <th></th>\n      <th></th>\n      <th></th>\n      <th></th>\n      <th></th>\n      <th></th>\n      <th></th>\n      <th></th>\n      <th></th>\n      <th></th>\n      <th></th>\n      <th></th>\n      <th></th>\n      <th></th>\n      <th></th>\n      <th></th>\n    </tr>\n  </thead>\n  <tbody>\n    <tr>\n      <th>MCTS_Knowledge</th>\n      <td>5.518519</td>\n      <td>1.503083</td>\n      <td>5.407407</td>\n      <td>1.393923</td>\n      <td>5.777778</td>\n      <td>1.339728</td>\n      <td>5.333333</td>\n      <td>1.493576</td>\n      <td>5.518519</td>\n      <td>1.626000</td>\n      <td>5.666667</td>\n      <td>1.208941</td>\n      <td>5.407407</td>\n      <td>1.393923</td>\n      <td>4.407407</td>\n      <td>2.170772</td>\n    </tr>\n    <tr>\n      <th>MCTS_Score</th>\n      <td>5.103448</td>\n      <td>1.588909</td>\n      <td>5.172414</td>\n      <td>1.364576</td>\n      <td>4.965517</td>\n      <td>1.569412</td>\n      <td>5.310345</td>\n      <td>1.198316</td>\n      <td>5.275862</td>\n      <td>1.461324</td>\n      <td>5.137931</td>\n      <td>1.922129</td>\n      <td>5.275862</td>\n      <td>1.623412</td>\n      <td>4.551724</td>\n      <td>1.681543</td>\n    </tr>\n    <tr>\n      <th>Random</th>\n      <td>5.515152</td>\n      <td>1.349102</td>\n      <td>5.212121</td>\n      <td>1.653738</td>\n      <td>5.545455</td>\n      <td>1.393981</td>\n      <td>5.272727</td>\n      <td>1.566699</td>\n      <td>5.242424</td>\n      <td>1.639937</td>\n      <td>5.606061</td>\n      <td>1.498737</td>\n      <td>4.757576</td>\n      <td>1.601373</td>\n      <td>4.818182</td>\n      <td>2.037991</td>\n    </tr>\n  </tbody>\n</table>\n</div>"
     },
     "execution_count": 270,
     "metadata": {},
     "output_type": "execute_result"
    }
   ],
   "source": [
    "df.groupby('Method')[questions].agg(['mean', 'std'])"
   ],
   "metadata": {
    "collapsed": false,
    "pycharm": {
     "name": "#%%\n"
    }
   }
  },
  {
   "cell_type": "code",
   "execution_count": 271,
   "outputs": [
    {
     "data": {
      "text/plain": "           Method      mean     Result\n0  MCTS_Knowledge  1.629630  27.160494\n1      MCTS_Score  1.310345  21.839080\n2          Random  1.121212  18.686869",
      "text/html": "<div>\n<style scoped>\n    .dataframe tbody tr th:only-of-type {\n        vertical-align: middle;\n    }\n\n    .dataframe tbody tr th {\n        vertical-align: top;\n    }\n\n    .dataframe thead th {\n        text-align: right;\n    }\n</style>\n<table border=\"1\" class=\"dataframe\">\n  <thead>\n    <tr style=\"text-align: right;\">\n      <th></th>\n      <th>Method</th>\n      <th>mean</th>\n      <th>Result</th>\n    </tr>\n  </thead>\n  <tbody>\n    <tr>\n      <th>0</th>\n      <td>MCTS_Knowledge</td>\n      <td>1.629630</td>\n      <td>27.160494</td>\n    </tr>\n    <tr>\n      <th>1</th>\n      <td>MCTS_Score</td>\n      <td>1.310345</td>\n      <td>21.839080</td>\n    </tr>\n    <tr>\n      <th>2</th>\n      <td>Random</td>\n      <td>1.121212</td>\n      <td>18.686869</td>\n    </tr>\n  </tbody>\n</table>\n</div>"
     },
     "execution_count": 271,
     "metadata": {},
     "output_type": "execute_result"
    }
   ],
   "source": [
    "result = df.groupby('Method')['Q_Sum'].agg(['mean']).reset_index()\n",
    "result['Result'] = result['mean'] / 6 * 100\n",
    "result"
   ],
   "metadata": {
    "collapsed": false,
    "pycharm": {
     "name": "#%%\n"
    }
   }
  },
  {
   "cell_type": "code",
   "execution_count": 272,
   "outputs": [
    {
     "name": "stderr",
     "output_type": "stream",
     "text": [
      "C:\\Users\\GIST\\.conda\\envs\\mlagents\\lib\\site-packages\\ipykernel_launcher.py:1: SettingWithCopyWarning: \n",
      "A value is trying to be set on a copy of a slice from a DataFrame.\n",
      "Try using .loc[row_indexer,col_indexer] = value instead\n",
      "\n",
      "See the caveats in the documentation: https://pandas.pydata.org/pandas-docs/stable/user_guide/indexing.html#returning-a-view-versus-a-copy\n",
      "  \"\"\"Entry point for launching an IPython kernel.\n"
     ]
    },
    {
     "data": {
      "text/plain": "           Method       mean        std\n0  MCTS_Knowledge  27.160494  16.761364\n1      MCTS_Score  21.839080  20.462630\n2          Random  18.686869  17.558224",
      "text/html": "<div>\n<style scoped>\n    .dataframe tbody tr th:only-of-type {\n        vertical-align: middle;\n    }\n\n    .dataframe tbody tr th {\n        vertical-align: top;\n    }\n\n    .dataframe thead th {\n        text-align: right;\n    }\n</style>\n<table border=\"1\" class=\"dataframe\">\n  <thead>\n    <tr style=\"text-align: right;\">\n      <th></th>\n      <th>Method</th>\n      <th>mean</th>\n      <th>std</th>\n    </tr>\n  </thead>\n  <tbody>\n    <tr>\n      <th>0</th>\n      <td>MCTS_Knowledge</td>\n      <td>27.160494</td>\n      <td>16.761364</td>\n    </tr>\n    <tr>\n      <th>1</th>\n      <td>MCTS_Score</td>\n      <td>21.839080</td>\n      <td>20.462630</td>\n    </tr>\n    <tr>\n      <th>2</th>\n      <td>Random</td>\n      <td>18.686869</td>\n      <td>17.558224</td>\n    </tr>\n  </tbody>\n</table>\n</div>"
     },
     "execution_count": 272,
     "metadata": {},
     "output_type": "execute_result"
    }
   ],
   "source": [
    "df['Q_Percentile'] = df['Q_Sum'] / 6 * 100\n",
    "\n",
    "result = df.groupby('Method')['Q_Percentile'].agg(['mean', 'std']).reset_index()\n",
    "result"
   ],
   "metadata": {
    "collapsed": false,
    "pycharm": {
     "name": "#%%\n"
    }
   }
  },
  {
   "cell_type": "code",
   "execution_count": 272,
   "outputs": [],
   "source": [],
   "metadata": {
    "collapsed": false,
    "pycharm": {
     "name": "#%%\n"
    }
   }
  },
  {
   "cell_type": "code",
   "execution_count": 273,
   "outputs": [
    {
     "data": {
      "text/plain": "<AxesSubplot:xlabel='Method', ylabel='Q_Percentile'>"
     },
     "execution_count": 273,
     "metadata": {},
     "output_type": "execute_result"
    },
    {
     "data": {
      "text/plain": "<Figure size 640x480 with 1 Axes>",
      "image/png": "[encoded data removed]"
     },
     "metadata": {},
     "output_type": "display_data"
    }
   ],
   "source": [
    "sns.boxplot(x='Method', y='Q_Percentile', data=df, orient='v', width=0.2)\n"
   ],
   "metadata": {
    "collapsed": false,
    "pycharm": {
     "name": "#%%\n"
    }
   }
  },
  {
   "cell_type": "raw",
   "source": [
    "groups = set(df['GF_PlayTime'].values)\n",
    "\n",
    "for group in groups:\n",
    "    _df = df[df['GF_PlayTime'] == group]\n",
    "    result = _df.groupby('Method')['Q_Sum'].agg(['mean', 'count']).reset_index()\n",
    "    result['Result'] = result['mean'] / 6 * 100\n",
    "    print(group, '\\n', result, end='\\n\\n')\n"
   ],
   "metadata": {
    "collapsed": false,
    "pycharm": {
     "name": "#%% raw\n"
    }
   }
  },
  {
   "cell_type": "markdown",
   "source": [
    "labels = ['Q_Sum', 'Q_BombPiece', 'Q_CrossPiece', 'Q_HorizontalPiece', 'Q_RainbowPiece', 'Q_RocketPiece', 'Q_VerticalPiece']\n",
    "\n",
    "for label in labels:\n",
    "    result = df.groupby('Method')[label].agg(['mean']).reset_index()\n",
    "    result['Result'] = result['mean'] / 6 * 100\n",
    "    print(label, '\\n', result, end='\\n\\n')"
   ],
   "metadata": {
    "collapsed": false,
    "pycharm": {
     "name": "#%% md\n"
    }
   }
  },
  {
   "cell_type": "code",
   "execution_count": 274,
   "outputs": [
    {
     "name": "stdout",
     "output_type": "stream",
     "text": [
      "Q_Sum \n",
      "            Method      mean     Result\n",
      "0  MCTS_Knowledge  1.629630  27.160494\n",
      "1      MCTS_Score  1.310345  21.839080\n",
      "2          Random  1.121212  18.686869\n",
      "\n",
      "Q_BombPiece \n",
      "            Method      mean     Result\n",
      "0  MCTS_Knowledge  0.259259  25.925926\n",
      "1      MCTS_Score  0.137931  13.793103\n",
      "2          Random  0.212121  21.212121\n",
      "\n",
      "Q_CrossPiece \n",
      "            Method      mean     Result\n",
      "0  MCTS_Knowledge  0.333333  33.333333\n",
      "1      MCTS_Score  0.137931  13.793103\n",
      "2          Random  0.090909   9.090909\n",
      "\n",
      "Q_HorizontalPiece \n",
      "            Method      mean     Result\n",
      "0  MCTS_Knowledge  0.111111  11.111111\n",
      "1      MCTS_Score  0.172414  17.241379\n",
      "2          Random  0.212121  21.212121\n",
      "\n",
      "Q_RainbowPiece \n",
      "            Method      mean     Result\n",
      "0  MCTS_Knowledge  0.481481  48.148148\n",
      "1      MCTS_Score  0.517241  51.724138\n",
      "2          Random  0.363636  36.363636\n",
      "\n",
      "Q_RocketPiece \n",
      "            Method      mean    Result\n",
      "0  MCTS_Knowledge  0.037037  3.703704\n",
      "1      MCTS_Score  0.034483  3.448276\n",
      "2          Random  0.000000  0.000000\n",
      "\n",
      "Q_VerticalPiece \n",
      "            Method      mean     Result\n",
      "0  MCTS_Knowledge  0.407407  40.740741\n",
      "1      MCTS_Score  0.310345  31.034483\n",
      "2          Random  0.242424  24.242424\n",
      "\n"
     ]
    }
   ],
   "source": [
    "labels = ['Q_Sum', 'Q_BombPiece', 'Q_CrossPiece', 'Q_HorizontalPiece', 'Q_RainbowPiece', 'Q_RocketPiece', 'Q_VerticalPiece']\n",
    "\n",
    "\n",
    "for label in labels:\n",
    "    result = df.groupby('Method')[label].agg(['mean']).reset_index()\n",
    "    result['Result'] = (result['mean'] / 6 * 100) if label == 'Q_Sum' else result['mean'] * 100\n",
    "    print(label, '\\n', result, end='\\n\\n')\n",
    "    result.to_html(f'{label}.html')"
   ],
   "metadata": {
    "collapsed": false,
    "pycharm": {
     "name": "#%%\n"
    }
   }
  },
  {
   "cell_type": "code",
   "execution_count": 275,
   "outputs": [
    {
     "name": "stderr",
     "output_type": "stream",
     "text": [
      "C:\\Users\\GIST\\.conda\\envs\\mlagents\\lib\\site-packages\\ipykernel_launcher.py:1: SettingWithCopyWarning: \n",
      "A value is trying to be set on a copy of a slice from a DataFrame.\n",
      "Try using .loc[row_indexer,col_indexer] = value instead\n",
      "\n",
      "See the caveats in the documentation: https://pandas.pydata.org/pandas-docs/stable/user_guide/indexing.html#returning-a-view-versus-a-copy\n",
      "  \"\"\"Entry point for launching an IPython kernel.\n"
     ]
    },
    {
     "data": {
      "text/plain": "                     mean        std\nMethod                              \nMCTS_Knowledge  27.160494  16.761364\nMCTS_Score      21.839080  20.462630\nRandom          18.686869  17.558224",
      "text/html": "<div>\n<style scoped>\n    .dataframe tbody tr th:only-of-type {\n        vertical-align: middle;\n    }\n\n    .dataframe tbody tr th {\n        vertical-align: top;\n    }\n\n    .dataframe thead th {\n        text-align: right;\n    }\n</style>\n<table border=\"1\" class=\"dataframe\">\n  <thead>\n    <tr style=\"text-align: right;\">\n      <th></th>\n      <th>mean</th>\n      <th>std</th>\n    </tr>\n    <tr>\n      <th>Method</th>\n      <th></th>\n      <th></th>\n    </tr>\n  </thead>\n  <tbody>\n    <tr>\n      <th>MCTS_Knowledge</th>\n      <td>27.160494</td>\n      <td>16.761364</td>\n    </tr>\n    <tr>\n      <th>MCTS_Score</th>\n      <td>21.839080</td>\n      <td>20.462630</td>\n    </tr>\n    <tr>\n      <th>Random</th>\n      <td>18.686869</td>\n      <td>17.558224</td>\n    </tr>\n  </tbody>\n</table>\n</div>"
     },
     "execution_count": 275,
     "metadata": {},
     "output_type": "execute_result"
    }
   ],
   "source": [
    "df['Q_Sum_Percentile'] = df['Q_Sum'] / 6 * 100\n",
    "\n",
    "df.groupby(['Method'])['Q_Sum_Percentile'].agg(['mean', 'std'])\n",
    "# plt.figure(figsize=(3, 3))"
   ],
   "metadata": {
    "collapsed": false,
    "pycharm": {
     "name": "#%%\n"
    }
   }
  },
  {
   "cell_type": "markdown",
   "source": [
    "# Draw linegraph with L_Step and L_* as x-axis\n",
    "PieceTypes = ['BombPiece', 'CrossPiece', 'HorizontalPiece', 'RainbowPiece', 'RocketPiece', 'VerticalPiece']\n",
    "for piece in PieceTypes:\n",
    "    sns.lineplot(x='L_Step', y='L_' + piece, hue='Method', data=full_df)\n",
    "    plt.show()"
   ],
   "metadata": {
    "collapsed": false,
    "pycharm": {
     "name": "#%% md\n"
    }
   },
   "outputs": [
    {
     "ename": "NameError",
     "evalue": "name 'sns' is not defined",
     "output_type": "error",
     "traceback": [
      "\u001B[1;31m---------------------------------------------------------------------------\u001B[0m",
      "\u001B[1;31mNameError\u001B[0m                                 Traceback (most recent call last)",
      "Cell \u001B[1;32mIn[1], line 4\u001B[0m\n\u001B[0;32m      2\u001B[0m PieceTypes \u001B[38;5;241m=\u001B[39m [\u001B[38;5;124m'\u001B[39m\u001B[38;5;124mBombPiece\u001B[39m\u001B[38;5;124m'\u001B[39m, \u001B[38;5;124m'\u001B[39m\u001B[38;5;124mCrossPiece\u001B[39m\u001B[38;5;124m'\u001B[39m, \u001B[38;5;124m'\u001B[39m\u001B[38;5;124mHorizontalPiece\u001B[39m\u001B[38;5;124m'\u001B[39m, \u001B[38;5;124m'\u001B[39m\u001B[38;5;124mRainbowPiece\u001B[39m\u001B[38;5;124m'\u001B[39m, \u001B[38;5;124m'\u001B[39m\u001B[38;5;124mRocketPiece\u001B[39m\u001B[38;5;124m'\u001B[39m, \u001B[38;5;124m'\u001B[39m\u001B[38;5;124mVerticalPiece\u001B[39m\u001B[38;5;124m'\u001B[39m]\n\u001B[0;32m      3\u001B[0m \u001B[38;5;28;01mfor\u001B[39;00m piece \u001B[38;5;129;01min\u001B[39;00m PieceTypes:\n\u001B[1;32m----> 4\u001B[0m     \u001B[43msns\u001B[49m\u001B[38;5;241m.\u001B[39mlineplot(x\u001B[38;5;241m=\u001B[39m\u001B[38;5;124m'\u001B[39m\u001B[38;5;124mL_Step\u001B[39m\u001B[38;5;124m'\u001B[39m, y\u001B[38;5;241m=\u001B[39m\u001B[38;5;124m'\u001B[39m\u001B[38;5;124mL_\u001B[39m\u001B[38;5;124m'\u001B[39m \u001B[38;5;241m+\u001B[39m piece, hue\u001B[38;5;241m=\u001B[39m\u001B[38;5;124m'\u001B[39m\u001B[38;5;124mMethod\u001B[39m\u001B[38;5;124m'\u001B[39m, data\u001B[38;5;241m=\u001B[39mfull_df)\n\u001B[0;32m      5\u001B[0m     plt\u001B[38;5;241m.\u001B[39mshow()\n",
      "\u001B[1;31mNameError\u001B[0m: name 'sns' is not defined"
     ]
    }
   ],
   "execution_count": 1
  },
  {
   "cell_type": "code",
   "execution_count": 276,
   "outputs": [],
   "source": [
    "PieceTypes = ['BombPiece', 'CrossPiece', 'HorizontalPiece', 'RainbowPiece', 'RocketPiece', 'VerticalPiece']"
   ],
   "metadata": {
    "collapsed": false,
    "pycharm": {
     "name": "#%%\n"
    }
   }
  },
  {
   "cell_type": "raw",
   "source": [
    "# draw all in a single graph\n",
    "\n",
    "# Melt it first\n",
    "melted_df = pd.melt(full_df, id_vars=['User', 'Method', 'L_Step'],\n",
    "                  value_vars=[f'L_{piece}' for piece in PieceTypes],\n",
    "                  var_name='PieceType', value_name='Learned')\n",
    "# melt it!\n",
    "\n",
    "\n",
    "melted_df = melted_df[melted_df['PieceType'].isin(['L_BombPiece', 'L_HorizontalPiece', 'L_RainbowPiece'])]\n",
    "\n",
    "sns.lineplot(x='L_Step', y='Learned', hue='Method', style=\"PieceType\", data=melted_df)\n",
    "plt.show()\n",
    "\n"
   ],
   "metadata": {
    "collapsed": false,
    "pycharm": {
     "name": "#%% raw\n"
    }
   }
  },
  {
   "cell_type": "raw",
   "source": [
    "# Get Confuse Matrix\n",
    "labels = ['Method'] + [f'L_{piece}' for piece in PieceTypes]\n",
    "melted_df = full_df.groupby(['Method', 'L_Step'])[labels].agg(['mean']).reset_index()\n",
    "# Remove second column level\n",
    "melted_df.columns = melted_df.columns.droplevel(1)\n",
    "\n",
    "melted_df = pd.melt(melted_df, id_vars=['Method', 'L_Step'],\n",
    "                  value_vars=[f'L_{piece}' for piece in PieceTypes],\n",
    "                  var_name='PieceType', value_name='Learned')\n",
    "sns.lineplot(x='L_Step', y='Learned', hue='Method', style=\"PieceType\", data=melted_df)\n",
    "plt.show()\n"
   ],
   "metadata": {
    "collapsed": false,
    "pycharm": {
     "name": "#%% raw\n"
    }
   }
  },
  {
   "cell_type": "code",
   "execution_count": 323,
   "outputs": [
    {
     "name": "stdout",
     "output_type": "stream",
     "text": [
      "BombPiece\n",
      "Confusion Matrix:\n",
      "Predicted  False  True\n",
      "Actual                \n",
      "False         41    30\n",
      "True          11     7\n",
      "\n",
      "Accuracy: 0.54\n",
      "Precision: 0.19\n",
      "Recall: 0.39\n",
      "F1-Score: 0.25\n",
      "\n",
      "CrossPiece\n",
      "Confusion Matrix:\n",
      "Predicted  False  True\n",
      "Actual                \n",
      "False         59    14\n",
      "True           8     8\n",
      "\n",
      "Accuracy: 0.75\n",
      "Precision: 0.36\n",
      "Recall: 0.50\n",
      "F1-Score: 0.42\n",
      "\n",
      "HorizontalPiece\n",
      "Confusion Matrix:\n",
      "Predicted  False  True\n",
      "Actual                \n",
      "False          4    70\n",
      "True           0    15\n",
      "\n",
      "Accuracy: 0.21\n",
      "Precision: 0.18\n",
      "Recall: 1.00\n",
      "F1-Score: 0.30\n",
      "\n",
      "RainbowPiece\n",
      "Confusion Matrix:\n",
      "Predicted  False  True\n",
      "Actual                \n",
      "False         30    19\n",
      "True          22    18\n",
      "\n",
      "Accuracy: 0.54\n",
      "Precision: 0.49\n",
      "Recall: 0.45\n",
      "F1-Score: 0.47\n",
      "\n",
      "RocketPiece\n",
      "Confusion Matrix:\n",
      "Predicted  False  True\n",
      "Actual                \n",
      "False         32    55\n",
      "True           0     2\n",
      "\n",
      "Accuracy: 0.38\n",
      "Precision: 0.04\n",
      "Recall: 1.00\n",
      "F1-Score: 0.07\n",
      "\n",
      "VerticalPiece\n",
      "Confusion Matrix:\n",
      "Predicted  False  True\n",
      "Actual                \n",
      "False          4    57\n",
      "True           5    23\n",
      "\n",
      "Accuracy: 0.30\n",
      "Precision: 0.29\n",
      "Recall: 0.82\n",
      "F1-Score: 0.43\n",
      "\n"
     ]
    },
    {
     "data": {
      "text/plain": "             Skill      Acc.  Precision    Recall  F1-Score\n0        BombPiece  0.539326   0.189189  0.388889  0.254545\n1       CrossPiece  0.752809   0.363636  0.500000  0.421053\n2  HorizontalPiece  0.213483   0.176471  1.000000  0.300000\n3     RainbowPiece  0.539326   0.486486  0.450000  0.467532\n4      RocketPiece  0.382022   0.035088  1.000000  0.067797\n5    VerticalPiece  0.303371   0.287500  0.821429  0.425926",
      "text/html": "<div>\n<style scoped>\n    .dataframe tbody tr th:only-of-type {\n        vertical-align: middle;\n    }\n\n    .dataframe tbody tr th {\n        vertical-align: top;\n    }\n\n    .dataframe thead th {\n        text-align: right;\n    }\n</style>\n<table border=\"1\" class=\"dataframe\">\n  <thead>\n    <tr style=\"text-align: right;\">\n      <th></th>\n      <th>Skill</th>\n      <th>Acc.</th>\n      <th>Precision</th>\n      <th>Recall</th>\n      <th>F1-Score</th>\n    </tr>\n  </thead>\n  <tbody>\n    <tr>\n      <th>0</th>\n      <td>BombPiece</td>\n      <td>0.539326</td>\n      <td>0.189189</td>\n      <td>0.388889</td>\n      <td>0.254545</td>\n    </tr>\n    <tr>\n      <th>1</th>\n      <td>CrossPiece</td>\n      <td>0.752809</td>\n      <td>0.363636</td>\n      <td>0.500000</td>\n      <td>0.421053</td>\n    </tr>\n    <tr>\n      <th>2</th>\n      <td>HorizontalPiece</td>\n      <td>0.213483</td>\n      <td>0.176471</td>\n      <td>1.000000</td>\n      <td>0.300000</td>\n    </tr>\n    <tr>\n      <th>3</th>\n      <td>RainbowPiece</td>\n      <td>0.539326</td>\n      <td>0.486486</td>\n      <td>0.450000</td>\n      <td>0.467532</td>\n    </tr>\n    <tr>\n      <th>4</th>\n      <td>RocketPiece</td>\n      <td>0.382022</td>\n      <td>0.035088</td>\n      <td>1.000000</td>\n      <td>0.067797</td>\n    </tr>\n    <tr>\n      <th>5</th>\n      <td>VerticalPiece</td>\n      <td>0.303371</td>\n      <td>0.287500</td>\n      <td>0.821429</td>\n      <td>0.425926</td>\n    </tr>\n  </tbody>\n</table>\n</div>"
     },
     "execution_count": 323,
     "metadata": {},
     "output_type": "execute_result"
    }
   ],
   "source": [
    "from sklearn.metrics import confusion_matrix, accuracy_score, precision_score, recall_score, f1_score\n",
    "\n",
    "# Create data dictionary for my DataFrame (the prediction is L- started piece and the actual is Q- learned piece)\n",
    "# write for loop to get all the data\n",
    "def print_confusion_matrix(prediction: list, label: list):\n",
    "    data = {\n",
    "        'Label': label,\n",
    "        'Prediction': prediction\n",
    "    }\n",
    "\n",
    "    corr_df = pd.DataFrame(data)\n",
    "    corr_df['Correct'] = corr_df['Label'] == corr_df['Prediction']\n",
    "\n",
    "    cm = confusion_matrix(corr_df['Label'], corr_df['Prediction'])\n",
    "    confusion_matrix_df = pd.crosstab(corr_df['Label'], corr_df['Prediction'], rownames=['Actual'], colnames=['Predicted'])\n",
    "\n",
    "    accuracy = accuracy_score(corr_df['Label'], corr_df['Prediction'])\n",
    "    precision = precision_score(corr_df['Label'], corr_df['Prediction'])\n",
    "    recall = recall_score(corr_df['Label'], corr_df['Prediction'])\n",
    "    f1 = f1_score(corr_df['Label'], corr_df['Prediction'])\n",
    "\n",
    "    # Print the confusion matrix and metrics\n",
    "    print(\"Confusion Matrix:\")\n",
    "    print(confusion_matrix_df)\n",
    "\n",
    "    print(f\"\\nAccuracy: {accuracy:.2f}\")\n",
    "    print(f\"Precision: {precision:.2f}\")\n",
    "    print(f\"Recall: {recall:.2f}\")\n",
    "    print(f\"F1-Score: {f1:.2f}\")\n",
    "    print()\n",
    "\n",
    "    return accuracy, precision, recall, f1\n",
    "\n",
    "df_data = list()\n",
    "prediction, label = list(), list()\n",
    "for piece in PieceTypes:\n",
    "    print(piece)\n",
    "    prediction = df[f'L_{piece}'].values\n",
    "    label = df[f'Q_{piece}'].values\n",
    "\n",
    "    accuracy, precision, recall, f1 = print_confusion_matrix(prediction, label)\n",
    "    df_data.append({'Skill': piece, 'Acc.': accuracy, 'Precision': precision, 'Recall': recall, 'F1-Score': f1})\n",
    "\n",
    "df_student_model = pd.DataFrame(df_data)\n",
    "df_student_model"
   ],
   "metadata": {
    "collapsed": false,
    "pycharm": {
     "name": "#%%\n"
    }
   }
  },
  {
   "cell_type": "code",
   "execution_count": null,
   "outputs": [],
   "source": [
    "\n",
    "\n"
   ],
   "metadata": {
    "collapsed": false,
    "pycharm": {
     "name": "#%%\n"
    }
   }
  },
  {
   "cell_type": "code",
   "execution_count": 278,
   "outputs": [
    {
     "name": "stderr",
     "output_type": "stream",
     "text": [
      "C:\\Users\\GIST\\.conda\\envs\\mlagents\\lib\\site-packages\\ipykernel_launcher.py:6: SettingWithCopyWarning: \n",
      "A value is trying to be set on a copy of a slice from a DataFrame.\n",
      "Try using .loc[row_indexer,col_indexer] = value instead\n",
      "\n",
      "See the caveats in the documentation: https://pandas.pydata.org/pandas-docs/stable/user_guide/indexing.html#returning-a-view-versus-a-copy\n",
      "  \n"
     ]
    },
    {
     "data": {
      "text/plain": "      Unnamed: 0      User          Method  L_Step  L_DecisionTime  PCGTime  \\\n179          179  211700f2  MCTS_Knowledge      60        9.817749      592   \n239          239  2602d813  MCTS_Knowledge      60        6.833435     1757   \n359          359  32e399ef  MCTS_Knowledge      60        3.566650      250   \n839          839  62f0f29a  MCTS_Knowledge      60       10.995361      945   \n2099        2099  3b834540      MCTS_Score      60        9.222046      391   \n2159        2159  4014ce4e      MCTS_Score      60        0.992920     1083   \n2219        2219  420e418d      MCTS_Score      60        5.454834      575   \n2519        2519  692e437f      MCTS_Score      60        4.189880      644   \n2579        2579  6e7fdf0d      MCTS_Score      60        2.214966      156   \n2939        2939  8e76acc4      MCTS_Score      60        0.189087     2165   \n3179        3179  cb2679f5      MCTS_Score      60        2.184082      197   \n3599        3599  1f89ce40          Random      60        2.533020        0   \n3719        3719  2ef9e3fc          Random      60        3.403198        0   \n3839        3839  3b6cbcf4          Random      60        2.866089        0   \n3959        3959  616f7be1          Random      60        5.434021        0   \n4019        4019  6e1f1dc2          Random      60       14.368958        0   \n4139        4139  8ca3670c          Random      60        2.585083        0   \n4739        4739  bdefdf74          Random      60        7.522705        0   \n4979        4979  e251b4cb          Random      60        4.589996        0   \n5219        5219  f6a7f177          Random      60        9.988770        0   \n5339        5339  fda381bb          Random      60        3.671997        0   \n\n                         Time  L_BombPiece  L_CrossPiece  L_HorizontalPiece  \\\n179   2023-08-04 04:19:35.971        False         False              False   \n239   2023-08-04 05:05:51.131        False         False               True   \n359   2023-08-04 03:55:14.152         True         False               True   \n839   2023-08-04 01:31:15.515        False         False               True   \n2099  2023-08-04 03:40:26.005        False          True               True   \n2159  2023-08-04 04:34:21.416        False         False               True   \n2219  2023-08-04 04:36:55.107        False         False               True   \n2519  2023-08-04 04:28:09.550        False          True               True   \n2579  2023-08-04 04:42:58.998         True         False               True   \n2939  2023-08-04 04:36:27.798         True         False               True   \n3179  2023-08-04 14:38:08.699         True         False               True   \n3599  2023-08-04 04:33:11.642        False         False               True   \n3719  2023-08-04 04:41:00.931        False          True               True   \n3839  2023-08-04 04:25:17.420        False          True               True   \n3959  2023-08-04 01:24:15.440        False         False               True   \n4019  2023-08-04 01:33:43.301        False         False               True   \n4139  2023-08-04 04:26:07.673        False         False               True   \n4739  2023-08-04 04:27:40.676        False         False               True   \n4979  2023-07-28 20:14:13.239        False         False               True   \n5219  2023-08-04 03:47:46.004        False          True               True   \n5339  2023-08-04 04:26:42.783         True         False               True   \n\n      ...  GF_SpecialSkillTime  GF_TutorialHelpRemember  GF_LearnedAllSkill  \\\n179   ...                    4                        4                   4   \n239   ...                    7                        6                   7   \n359   ...                    6                        6                   6   \n839   ...                    6                        6                   6   \n2099  ...                    6                        6                   6   \n2159  ...                    6                        5                   6   \n2219  ...                    5                        7                   5   \n2519  ...                    2                        3                   2   \n2579  ...                    7                        6                   7   \n2939  ...                    5                        4                   6   \n3179  ...                    5                        6                   6   \n3599  ...                    7                        6                   7   \n3719  ...                    2                        3                   2   \n3839  ...                    6                        5                   6   \n3959  ...                    5                        7                   4   \n4019  ...                    5                        7                   6   \n4139  ...                    7                        7                   7   \n4739  ...                    5                        3                   5   \n4979  ...                    6                        7                   6   \n5219  ...                    7                        4                   6   \n5339  ...                    5                        3                   5   \n\n      GF_InvolvedInGame  GF_NewBlockSame  GF_HintUseless  Ages  Q_Sum  \\\n179                   5                5               4   30s      0   \n239                   7                7               7   30s      0   \n359                   7                6               1   30s      0   \n839                   6                5               6   20s      0   \n2099                  6                6               6   20s      0   \n2159                  5                6               5   30s      0   \n2219                  6                7               5   20s      0   \n2519                  3                3               2   30s      0   \n2579                  6                7               6   30s      0   \n2939                  7                6               4   30s      0   \n3179                  7                5               6   30s      0   \n3599                  6                7               6   30s      0   \n3719                  2                2               2   30s      0   \n3839                  5                5               5   30s      0   \n3959                  7                5               6   30s      0   \n4019                  7                6               3   20s      0   \n4139                  6                7               7   20s      0   \n4739                  4                5               2   30s      0   \n4979                  6                6               7   30s      0   \n5219                  4                3               6   30s      0   \n5339                  7                3               1   30s      0   \n\n      Q_Percentile Q_Sum_Percentile  \n179            0.0              0.0  \n239            0.0              0.0  \n359            0.0              0.0  \n839            0.0              0.0  \n2099           0.0              0.0  \n2159           0.0              0.0  \n2219           0.0              0.0  \n2519           0.0              0.0  \n2579           0.0              0.0  \n2939           0.0              0.0  \n3179           0.0              0.0  \n3599           0.0              0.0  \n3719           0.0              0.0  \n3839           0.0              0.0  \n3959           0.0              0.0  \n4019           0.0              0.0  \n4139           0.0              0.0  \n4739           0.0              0.0  \n4979           0.0              0.0  \n5219           0.0              0.0  \n5339           0.0              0.0  \n\n[21 rows x 36 columns]",
      "text/html": "<div>\n<style scoped>\n    .dataframe tbody tr th:only-of-type {\n        vertical-align: middle;\n    }\n\n    .dataframe tbody tr th {\n        vertical-align: top;\n    }\n\n    .dataframe thead th {\n        text-align: right;\n    }\n</style>\n<table border=\"1\" class=\"dataframe\">\n  <thead>\n    <tr style=\"text-align: right;\">\n      <th></th>\n      <th>Unnamed: 0</th>\n      <th>User</th>\n      <th>Method</th>\n      <th>L_Step</th>\n      <th>L_DecisionTime</th>\n      <th>PCGTime</th>\n      <th>Time</th>\n      <th>L_BombPiece</th>\n      <th>L_CrossPiece</th>\n      <th>L_HorizontalPiece</th>\n      <th>...</th>\n      <th>GF_SpecialSkillTime</th>\n      <th>GF_TutorialHelpRemember</th>\n      <th>GF_LearnedAllSkill</th>\n      <th>GF_InvolvedInGame</th>\n      <th>GF_NewBlockSame</th>\n      <th>GF_HintUseless</th>\n      <th>Ages</th>\n      <th>Q_Sum</th>\n      <th>Q_Percentile</th>\n      <th>Q_Sum_Percentile</th>\n    </tr>\n  </thead>\n  <tbody>\n    <tr>\n      <th>179</th>\n      <td>179</td>\n      <td>211700f2</td>\n      <td>MCTS_Knowledge</td>\n      <td>60</td>\n      <td>9.817749</td>\n      <td>592</td>\n      <td>2023-08-04 04:19:35.971</td>\n      <td>False</td>\n      <td>False</td>\n      <td>False</td>\n      <td>...</td>\n      <td>4</td>\n      <td>4</td>\n      <td>4</td>\n      <td>5</td>\n      <td>5</td>\n      <td>4</td>\n      <td>30s</td>\n      <td>0</td>\n      <td>0.0</td>\n      <td>0.0</td>\n    </tr>\n    <tr>\n      <th>239</th>\n      <td>239</td>\n      <td>2602d813</td>\n      <td>MCTS_Knowledge</td>\n      <td>60</td>\n      <td>6.833435</td>\n      <td>1757</td>\n      <td>2023-08-04 05:05:51.131</td>\n      <td>False</td>\n      <td>False</td>\n      <td>True</td>\n      <td>...</td>\n      <td>7</td>\n      <td>6</td>\n      <td>7</td>\n      <td>7</td>\n      <td>7</td>\n      <td>7</td>\n      <td>30s</td>\n      <td>0</td>\n      <td>0.0</td>\n      <td>0.0</td>\n    </tr>\n    <tr>\n      <th>359</th>\n      <td>359</td>\n      <td>32e399ef</td>\n      <td>MCTS_Knowledge</td>\n      <td>60</td>\n      <td>3.566650</td>\n      <td>250</td>\n      <td>2023-08-04 03:55:14.152</td>\n      <td>True</td>\n      <td>False</td>\n      <td>True</td>\n      <td>...</td>\n      <td>6</td>\n      <td>6</td>\n      <td>6</td>\n      <td>7</td>\n      <td>6</td>\n      <td>1</td>\n      <td>30s</td>\n      <td>0</td>\n      <td>0.0</td>\n      <td>0.0</td>\n    </tr>\n    <tr>\n      <th>839</th>\n      <td>839</td>\n      <td>62f0f29a</td>\n      <td>MCTS_Knowledge</td>\n      <td>60</td>\n      <td>10.995361</td>\n      <td>945</td>\n      <td>2023-08-04 01:31:15.515</td>\n      <td>False</td>\n      <td>False</td>\n      <td>True</td>\n      <td>...</td>\n      <td>6</td>\n      <td>6</td>\n      <td>6</td>\n      <td>6</td>\n      <td>5</td>\n      <td>6</td>\n      <td>20s</td>\n      <td>0</td>\n      <td>0.0</td>\n      <td>0.0</td>\n    </tr>\n    <tr>\n      <th>2099</th>\n      <td>2099</td>\n      <td>3b834540</td>\n      <td>MCTS_Score</td>\n      <td>60</td>\n      <td>9.222046</td>\n      <td>391</td>\n      <td>2023-08-04 03:40:26.005</td>\n      <td>False</td>\n      <td>True</td>\n      <td>True</td>\n      <td>...</td>\n      <td>6</td>\n      <td>6</td>\n      <td>6</td>\n      <td>6</td>\n      <td>6</td>\n      <td>6</td>\n      <td>20s</td>\n      <td>0</td>\n      <td>0.0</td>\n      <td>0.0</td>\n    </tr>\n    <tr>\n      <th>2159</th>\n      <td>2159</td>\n      <td>4014ce4e</td>\n      <td>MCTS_Score</td>\n      <td>60</td>\n      <td>0.992920</td>\n      <td>1083</td>\n      <td>2023-08-04 04:34:21.416</td>\n      <td>False</td>\n      <td>False</td>\n      <td>True</td>\n      <td>...</td>\n      <td>6</td>\n      <td>5</td>\n      <td>6</td>\n      <td>5</td>\n      <td>6</td>\n      <td>5</td>\n      <td>30s</td>\n      <td>0</td>\n      <td>0.0</td>\n      <td>0.0</td>\n    </tr>\n    <tr>\n      <th>2219</th>\n      <td>2219</td>\n      <td>420e418d</td>\n      <td>MCTS_Score</td>\n      <td>60</td>\n      <td>5.454834</td>\n      <td>575</td>\n      <td>2023-08-04 04:36:55.107</td>\n      <td>False</td>\n      <td>False</td>\n      <td>True</td>\n      <td>...</td>\n      <td>5</td>\n      <td>7</td>\n      <td>5</td>\n      <td>6</td>\n      <td>7</td>\n      <td>5</td>\n      <td>20s</td>\n      <td>0</td>\n      <td>0.0</td>\n      <td>0.0</td>\n    </tr>\n    <tr>\n      <th>2519</th>\n      <td>2519</td>\n      <td>692e437f</td>\n      <td>MCTS_Score</td>\n      <td>60</td>\n      <td>4.189880</td>\n      <td>644</td>\n      <td>2023-08-04 04:28:09.550</td>\n      <td>False</td>\n      <td>True</td>\n      <td>True</td>\n      <td>...</td>\n      <td>2</td>\n      <td>3</td>\n      <td>2</td>\n      <td>3</td>\n      <td>3</td>\n      <td>2</td>\n      <td>30s</td>\n      <td>0</td>\n      <td>0.0</td>\n      <td>0.0</td>\n    </tr>\n    <tr>\n      <th>2579</th>\n      <td>2579</td>\n      <td>6e7fdf0d</td>\n      <td>MCTS_Score</td>\n      <td>60</td>\n      <td>2.214966</td>\n      <td>156</td>\n      <td>2023-08-04 04:42:58.998</td>\n      <td>True</td>\n      <td>False</td>\n      <td>True</td>\n      <td>...</td>\n      <td>7</td>\n      <td>6</td>\n      <td>7</td>\n      <td>6</td>\n      <td>7</td>\n      <td>6</td>\n      <td>30s</td>\n      <td>0</td>\n      <td>0.0</td>\n      <td>0.0</td>\n    </tr>\n    <tr>\n      <th>2939</th>\n      <td>2939</td>\n      <td>8e76acc4</td>\n      <td>MCTS_Score</td>\n      <td>60</td>\n      <td>0.189087</td>\n      <td>2165</td>\n      <td>2023-08-04 04:36:27.798</td>\n      <td>True</td>\n      <td>False</td>\n      <td>True</td>\n      <td>...</td>\n      <td>5</td>\n      <td>4</td>\n      <td>6</td>\n      <td>7</td>\n      <td>6</td>\n      <td>4</td>\n      <td>30s</td>\n      <td>0</td>\n      <td>0.0</td>\n      <td>0.0</td>\n    </tr>\n    <tr>\n      <th>3179</th>\n      <td>3179</td>\n      <td>cb2679f5</td>\n      <td>MCTS_Score</td>\n      <td>60</td>\n      <td>2.184082</td>\n      <td>197</td>\n      <td>2023-08-04 14:38:08.699</td>\n      <td>True</td>\n      <td>False</td>\n      <td>True</td>\n      <td>...</td>\n      <td>5</td>\n      <td>6</td>\n      <td>6</td>\n      <td>7</td>\n      <td>5</td>\n      <td>6</td>\n      <td>30s</td>\n      <td>0</td>\n      <td>0.0</td>\n      <td>0.0</td>\n    </tr>\n    <tr>\n      <th>3599</th>\n      <td>3599</td>\n      <td>1f89ce40</td>\n      <td>Random</td>\n      <td>60</td>\n      <td>2.533020</td>\n      <td>0</td>\n      <td>2023-08-04 04:33:11.642</td>\n      <td>False</td>\n      <td>False</td>\n      <td>True</td>\n      <td>...</td>\n      <td>7</td>\n      <td>6</td>\n      <td>7</td>\n      <td>6</td>\n      <td>7</td>\n      <td>6</td>\n      <td>30s</td>\n      <td>0</td>\n      <td>0.0</td>\n      <td>0.0</td>\n    </tr>\n    <tr>\n      <th>3719</th>\n      <td>3719</td>\n      <td>2ef9e3fc</td>\n      <td>Random</td>\n      <td>60</td>\n      <td>3.403198</td>\n      <td>0</td>\n      <td>2023-08-04 04:41:00.931</td>\n      <td>False</td>\n      <td>True</td>\n      <td>True</td>\n      <td>...</td>\n      <td>2</td>\n      <td>3</td>\n      <td>2</td>\n      <td>2</td>\n      <td>2</td>\n      <td>2</td>\n      <td>30s</td>\n      <td>0</td>\n      <td>0.0</td>\n      <td>0.0</td>\n    </tr>\n    <tr>\n      <th>3839</th>\n      <td>3839</td>\n      <td>3b6cbcf4</td>\n      <td>Random</td>\n      <td>60</td>\n      <td>2.866089</td>\n      <td>0</td>\n      <td>2023-08-04 04:25:17.420</td>\n      <td>False</td>\n      <td>True</td>\n      <td>True</td>\n      <td>...</td>\n      <td>6</td>\n      <td>5</td>\n      <td>6</td>\n      <td>5</td>\n      <td>5</td>\n      <td>5</td>\n      <td>30s</td>\n      <td>0</td>\n      <td>0.0</td>\n      <td>0.0</td>\n    </tr>\n    <tr>\n      <th>3959</th>\n      <td>3959</td>\n      <td>616f7be1</td>\n      <td>Random</td>\n      <td>60</td>\n      <td>5.434021</td>\n      <td>0</td>\n      <td>2023-08-04 01:24:15.440</td>\n      <td>False</td>\n      <td>False</td>\n      <td>True</td>\n      <td>...</td>\n      <td>5</td>\n      <td>7</td>\n      <td>4</td>\n      <td>7</td>\n      <td>5</td>\n      <td>6</td>\n      <td>30s</td>\n      <td>0</td>\n      <td>0.0</td>\n      <td>0.0</td>\n    </tr>\n    <tr>\n      <th>4019</th>\n      <td>4019</td>\n      <td>6e1f1dc2</td>\n      <td>Random</td>\n      <td>60</td>\n      <td>14.368958</td>\n      <td>0</td>\n      <td>2023-08-04 01:33:43.301</td>\n      <td>False</td>\n      <td>False</td>\n      <td>True</td>\n      <td>...</td>\n      <td>5</td>\n      <td>7</td>\n      <td>6</td>\n      <td>7</td>\n      <td>6</td>\n      <td>3</td>\n      <td>20s</td>\n      <td>0</td>\n      <td>0.0</td>\n      <td>0.0</td>\n    </tr>\n    <tr>\n      <th>4139</th>\n      <td>4139</td>\n      <td>8ca3670c</td>\n      <td>Random</td>\n      <td>60</td>\n      <td>2.585083</td>\n      <td>0</td>\n      <td>2023-08-04 04:26:07.673</td>\n      <td>False</td>\n      <td>False</td>\n      <td>True</td>\n      <td>...</td>\n      <td>7</td>\n      <td>7</td>\n      <td>7</td>\n      <td>6</td>\n      <td>7</td>\n      <td>7</td>\n      <td>20s</td>\n      <td>0</td>\n      <td>0.0</td>\n      <td>0.0</td>\n    </tr>\n    <tr>\n      <th>4739</th>\n      <td>4739</td>\n      <td>bdefdf74</td>\n      <td>Random</td>\n      <td>60</td>\n      <td>7.522705</td>\n      <td>0</td>\n      <td>2023-08-04 04:27:40.676</td>\n      <td>False</td>\n      <td>False</td>\n      <td>True</td>\n      <td>...</td>\n      <td>5</td>\n      <td>3</td>\n      <td>5</td>\n      <td>4</td>\n      <td>5</td>\n      <td>2</td>\n      <td>30s</td>\n      <td>0</td>\n      <td>0.0</td>\n      <td>0.0</td>\n    </tr>\n    <tr>\n      <th>4979</th>\n      <td>4979</td>\n      <td>e251b4cb</td>\n      <td>Random</td>\n      <td>60</td>\n      <td>4.589996</td>\n      <td>0</td>\n      <td>2023-07-28 20:14:13.239</td>\n      <td>False</td>\n      <td>False</td>\n      <td>True</td>\n      <td>...</td>\n      <td>6</td>\n      <td>7</td>\n      <td>6</td>\n      <td>6</td>\n      <td>6</td>\n      <td>7</td>\n      <td>30s</td>\n      <td>0</td>\n      <td>0.0</td>\n      <td>0.0</td>\n    </tr>\n    <tr>\n      <th>5219</th>\n      <td>5219</td>\n      <td>f6a7f177</td>\n      <td>Random</td>\n      <td>60</td>\n      <td>9.988770</td>\n      <td>0</td>\n      <td>2023-08-04 03:47:46.004</td>\n      <td>False</td>\n      <td>True</td>\n      <td>True</td>\n      <td>...</td>\n      <td>7</td>\n      <td>4</td>\n      <td>6</td>\n      <td>4</td>\n      <td>3</td>\n      <td>6</td>\n      <td>30s</td>\n      <td>0</td>\n      <td>0.0</td>\n      <td>0.0</td>\n    </tr>\n    <tr>\n      <th>5339</th>\n      <td>5339</td>\n      <td>fda381bb</td>\n      <td>Random</td>\n      <td>60</td>\n      <td>3.671997</td>\n      <td>0</td>\n      <td>2023-08-04 04:26:42.783</td>\n      <td>True</td>\n      <td>False</td>\n      <td>True</td>\n      <td>...</td>\n      <td>5</td>\n      <td>3</td>\n      <td>5</td>\n      <td>7</td>\n      <td>3</td>\n      <td>1</td>\n      <td>30s</td>\n      <td>0</td>\n      <td>0.0</td>\n      <td>0.0</td>\n    </tr>\n  </tbody>\n</table>\n<p>21 rows × 36 columns</p>\n</div>"
     },
     "execution_count": 278,
     "metadata": {},
     "output_type": "execute_result"
    }
   ],
   "source": [
    "# Function to compute the accuracy, precision, recall, and F1 score\n",
    "\n",
    "labels = ['Q_BombPiece', 'Q_CrossPiece', 'Q_HorizontalPiece', 'Q_RainbowPiece', 'Q_RocketPiece', 'Q_VerticalPiece']\n",
    "\n",
    "# Add summed up column of the labels\n",
    "df['Q_Sum'] = df[labels].sum(axis=1)\n",
    "df[df['Q_Sum'] == 0]"
   ],
   "metadata": {
    "collapsed": false,
    "pycharm": {
     "name": "#%%\n"
    }
   }
  },
  {
   "cell_type": "code",
   "execution_count": 279,
   "outputs": [
    {
     "data": {
      "text/plain": "        User          Method       Time\n0   14c0e24b  MCTS_Knowledge   8.307133\n1   1a1b31b1  MCTS_Knowledge  12.910100\n2   211700f2  MCTS_Knowledge  23.649183\n3   2602d813  MCTS_Knowledge  11.687050\n4   2b767f12  MCTS_Knowledge  16.891083\n..       ...             ...        ...\n84  e76665a7          Random   9.621100\n85  f2585b45          Random   7.923483\n86  f6a7f177          Random  17.963417\n87  fab90c3f          Random  13.257100\n88  fda381bb          Random   7.434983\n\n[89 rows x 3 columns]",
      "text/html": "<div>\n<style scoped>\n    .dataframe tbody tr th:only-of-type {\n        vertical-align: middle;\n    }\n\n    .dataframe tbody tr th {\n        vertical-align: top;\n    }\n\n    .dataframe thead th {\n        text-align: right;\n    }\n</style>\n<table border=\"1\" class=\"dataframe\">\n  <thead>\n    <tr style=\"text-align: right;\">\n      <th></th>\n      <th>User</th>\n      <th>Method</th>\n      <th>Time</th>\n    </tr>\n  </thead>\n  <tbody>\n    <tr>\n      <th>0</th>\n      <td>14c0e24b</td>\n      <td>MCTS_Knowledge</td>\n      <td>8.307133</td>\n    </tr>\n    <tr>\n      <th>1</th>\n      <td>1a1b31b1</td>\n      <td>MCTS_Knowledge</td>\n      <td>12.910100</td>\n    </tr>\n    <tr>\n      <th>2</th>\n      <td>211700f2</td>\n      <td>MCTS_Knowledge</td>\n      <td>23.649183</td>\n    </tr>\n    <tr>\n      <th>3</th>\n      <td>2602d813</td>\n      <td>MCTS_Knowledge</td>\n      <td>11.687050</td>\n    </tr>\n    <tr>\n      <th>4</th>\n      <td>2b767f12</td>\n      <td>MCTS_Knowledge</td>\n      <td>16.891083</td>\n    </tr>\n    <tr>\n      <th>...</th>\n      <td>...</td>\n      <td>...</td>\n      <td>...</td>\n    </tr>\n    <tr>\n      <th>84</th>\n      <td>e76665a7</td>\n      <td>Random</td>\n      <td>9.621100</td>\n    </tr>\n    <tr>\n      <th>85</th>\n      <td>f2585b45</td>\n      <td>Random</td>\n      <td>7.923483</td>\n    </tr>\n    <tr>\n      <th>86</th>\n      <td>f6a7f177</td>\n      <td>Random</td>\n      <td>17.963417</td>\n    </tr>\n    <tr>\n      <th>87</th>\n      <td>fab90c3f</td>\n      <td>Random</td>\n      <td>13.257100</td>\n    </tr>\n    <tr>\n      <th>88</th>\n      <td>fda381bb</td>\n      <td>Random</td>\n      <td>7.434983</td>\n    </tr>\n  </tbody>\n</table>\n<p>89 rows × 3 columns</p>\n</div>"
     },
     "execution_count": 279,
     "metadata": {},
     "output_type": "execute_result"
    }
   ],
   "source": [
    "tmp_df = full_df.copy()\n",
    "tmp_df['Time'] = pd.to_datetime(tmp_df['Time'])\n",
    "\n",
    "# Filter the DataFrame to include only rows with 'L_Step' values 60 or -1\n",
    "filtered_df = tmp_df[tmp_df['L_Step'].isin([60, 1])]\n",
    "\n",
    "# Create a new DataFrame to store the playtime for each user\n",
    "playtime_df = pd.DataFrame(columns=['User', 'Method', 'Time'])\n",
    "\n",
    "# Iterate through each user and calculate their playtime\n",
    "for user in filtered_df['User'].unique():\n",
    "    user_data = filtered_df[filtered_df['User'] == user]\n",
    "    l_step_60_time = user_data[user_data['L_Step'] == 60]['Time'].iloc[0]\n",
    "    l_step_minus_1_time = user_data[user_data['L_Step'] == 1]['Time'].iloc[0]\n",
    "    playtime = l_step_60_time - l_step_minus_1_time\n",
    "    playtime_in_minutes = playtime.total_seconds() / 60.0\n",
    "    playtime_df = playtime_df.append({'User': user, 'Method': user_data['Method'].iloc[0], 'Time': playtime_in_minutes}, ignore_index=True)\n",
    "\n",
    "playtime_df"
   ],
   "metadata": {
    "collapsed": false,
    "pycharm": {
     "name": "#%%\n"
    }
   }
  },
  {
   "cell_type": "code",
   "execution_count": 280,
   "outputs": [
    {
     "data": {
      "text/plain": "                     mean        std\nMethod                              \nMCTS_Knowledge  12.834204   5.956119\nMCTS_Score      14.826306  10.496828\nRandom          10.935630   5.595789",
      "text/html": "<div>\n<style scoped>\n    .dataframe tbody tr th:only-of-type {\n        vertical-align: middle;\n    }\n\n    .dataframe tbody tr th {\n        vertical-align: top;\n    }\n\n    .dataframe thead th {\n        text-align: right;\n    }\n</style>\n<table border=\"1\" class=\"dataframe\">\n  <thead>\n    <tr style=\"text-align: right;\">\n      <th></th>\n      <th>mean</th>\n      <th>std</th>\n    </tr>\n    <tr>\n      <th>Method</th>\n      <th></th>\n      <th></th>\n    </tr>\n  </thead>\n  <tbody>\n    <tr>\n      <th>MCTS_Knowledge</th>\n      <td>12.834204</td>\n      <td>5.956119</td>\n    </tr>\n    <tr>\n      <th>MCTS_Score</th>\n      <td>14.826306</td>\n      <td>10.496828</td>\n    </tr>\n    <tr>\n      <th>Random</th>\n      <td>10.935630</td>\n      <td>5.595789</td>\n    </tr>\n  </tbody>\n</table>\n</div>"
     },
     "execution_count": 280,
     "metadata": {},
     "output_type": "execute_result"
    }
   ],
   "source": [
    "result_df = playtime_df.groupby(['Method'])['Time'].agg(['mean', 'std'])\n",
    "result_df"
   ],
   "metadata": {
    "collapsed": false,
    "pycharm": {
     "name": "#%%\n"
    }
   }
  },
  {
   "cell_type": "code",
   "execution_count": 281,
   "outputs": [
    {
     "data": {
      "text/plain": "12.779350561797752"
     },
     "execution_count": 281,
     "metadata": {},
     "output_type": "execute_result"
    }
   ],
   "source": [
    "playtime_df['Time'].mean() # 평균 플레이 타임"
   ],
   "metadata": {
    "collapsed": false,
    "pycharm": {
     "name": "#%%\n"
    }
   }
  },
  {
   "cell_type": "code",
   "execution_count": 282,
   "outputs": [
    {
     "data": {
      "text/plain": "7.718981165380918"
     },
     "execution_count": 282,
     "metadata": {},
     "output_type": "execute_result"
    }
   ],
   "source": [
    "playtime_df['Time'].std()"
   ],
   "metadata": {
    "collapsed": false,
    "pycharm": {
     "name": "#%%\n"
    }
   }
  },
  {
   "cell_type": "code",
   "execution_count": 283,
   "outputs": [
    {
     "data": {
      "text/plain": "                    mean       std\nMethod                            \nMCTS_Knowledge  2.050437  1.597041\nMCTS_Score      1.772113  1.468305\nRandom          1.462945  0.506729",
      "text/html": "<div>\n<style scoped>\n    .dataframe tbody tr th:only-of-type {\n        vertical-align: middle;\n    }\n\n    .dataframe tbody tr th {\n        vertical-align: top;\n    }\n\n    .dataframe thead th {\n        text-align: right;\n    }\n</style>\n<table border=\"1\" class=\"dataframe\">\n  <thead>\n    <tr style=\"text-align: right;\">\n      <th></th>\n      <th>mean</th>\n      <th>std</th>\n    </tr>\n    <tr>\n      <th>Method</th>\n      <th></th>\n      <th></th>\n    </tr>\n  </thead>\n  <tbody>\n    <tr>\n      <th>MCTS_Knowledge</th>\n      <td>2.050437</td>\n      <td>1.597041</td>\n    </tr>\n    <tr>\n      <th>MCTS_Score</th>\n      <td>1.772113</td>\n      <td>1.468305</td>\n    </tr>\n    <tr>\n      <th>Random</th>\n      <td>1.462945</td>\n      <td>0.506729</td>\n    </tr>\n  </tbody>\n</table>\n</div>"
     },
     "execution_count": 283,
     "metadata": {},
     "output_type": "execute_result"
    }
   ],
   "source": [
    "\n",
    "\n",
    "quiz_raw_df = pd.read_csv('quiz_raw.csv')\n",
    "# quiz_raw_df = quiz_raw_df.sort_values(['User', 'QuestionNumber'])\n",
    "\n",
    "quiz_raw_df['Time'] = pd.to_datetime(quiz_raw_df['Time'])\n",
    "# Filter the DataFrame to include only rows with 'L_Step' values 60 or -1\n",
    "filtered_df = quiz_raw_df[quiz_raw_df['QuestionNumber'].isin([0, 11])]\n",
    "\n",
    "# Create a new DataFrame to store the playtime for each user\n",
    "playtime_df = pd.DataFrame(columns=['User',  'Playtime'])\n",
    "\n",
    "# Iterate through each user and calculate their playtime\n",
    "for user in filtered_df['User'].unique():\n",
    "    user_data = filtered_df[filtered_df['User'] == user]\n",
    "    l_step_60_time = user_data[user_data['QuestionNumber'] == 11]['Time'].iloc[0]\n",
    "    l_step_minus_1_time = user_data[user_data['QuestionNumber'] == 0]['Time'].iloc[0]\n",
    "    playtime = l_step_60_time - l_step_minus_1_time\n",
    "    playtime_in_minutes = playtime.total_seconds() / 60.0\n",
    "    playtime_df = playtime_df.append({'User': user, 'Method': user_data['Method'].iloc[0], 'Playtime': playtime_in_minutes}, ignore_index=True)\n",
    "\n",
    "result_df = playtime_df.groupby(['Method'])['Playtime'].agg(['mean', 'std'])\n",
    "result_df"
   ],
   "metadata": {
    "collapsed": false,
    "pycharm": {
     "name": "#%%\n"
    }
   }
  },
  {
   "cell_type": "code",
   "execution_count": 284,
   "outputs": [
    {
     "data": {
      "text/plain": "1.74191329588015"
     },
     "execution_count": 284,
     "metadata": {},
     "output_type": "execute_result"
    }
   ],
   "source": [
    "playtime_df['Playtime'].mean() # 평균 플레이 타임"
   ],
   "metadata": {
    "collapsed": false,
    "pycharm": {
     "name": "#%%\n"
    }
   }
  },
  {
   "cell_type": "code",
   "execution_count": 285,
   "outputs": [
    {
     "data": {
      "text/plain": "1.2615882418011364"
     },
     "execution_count": 285,
     "metadata": {},
     "output_type": "execute_result"
    }
   ],
   "source": [
    "playtime_df['Playtime'].std()"
   ],
   "metadata": {
    "collapsed": false,
    "pycharm": {
     "name": "#%%\n"
    }
   }
  },
  {
   "cell_type": "code",
   "execution_count": 286,
   "outputs": [
    {
     "name": "stderr",
     "output_type": "stream",
     "text": [
      "C:\\Users\\GIST\\.conda\\envs\\mlagents\\lib\\site-packages\\ipykernel_launcher.py:5: SettingWithCopyWarning: \n",
      "A value is trying to be set on a copy of a slice from a DataFrame.\n",
      "Try using .loc[row_indexer,col_indexer] = value instead\n",
      "\n",
      "See the caveats in the documentation: https://pandas.pydata.org/pandas-docs/stable/user_guide/indexing.html#returning-a-view-versus-a-copy\n",
      "  \"\"\"\n",
      "C:\\Users\\GIST\\.conda\\envs\\mlagents\\lib\\site-packages\\ipykernel_launcher.py:6: SettingWithCopyWarning: \n",
      "A value is trying to be set on a copy of a slice from a DataFrame.\n",
      "Try using .loc[row_indexer,col_indexer] = value instead\n",
      "\n",
      "See the caveats in the documentation: https://pandas.pydata.org/pandas-docs/stable/user_guide/indexing.html#returning-a-view-versus-a-copy\n",
      "  \n"
     ]
    },
    {
     "data": {
      "text/plain": "                     mean        std  count\nMethod                                     \nMCTS_Knowledge  60.493827  23.637282     27\nMCTS_Score      59.770115  19.167827     29\nRandom          58.585859  20.883777     33",
      "text/html": "<div>\n<style scoped>\n    .dataframe tbody tr th:only-of-type {\n        vertical-align: middle;\n    }\n\n    .dataframe tbody tr th {\n        vertical-align: top;\n    }\n\n    .dataframe thead th {\n        text-align: right;\n    }\n</style>\n<table border=\"1\" class=\"dataframe\">\n  <thead>\n    <tr style=\"text-align: right;\">\n      <th></th>\n      <th>mean</th>\n      <th>std</th>\n      <th>count</th>\n    </tr>\n    <tr>\n      <th>Method</th>\n      <th></th>\n      <th></th>\n      <th></th>\n    </tr>\n  </thead>\n  <tbody>\n    <tr>\n      <th>MCTS_Knowledge</th>\n      <td>60.493827</td>\n      <td>23.637282</td>\n      <td>27</td>\n    </tr>\n    <tr>\n      <th>MCTS_Score</th>\n      <td>59.770115</td>\n      <td>19.167827</td>\n      <td>29</td>\n    </tr>\n    <tr>\n      <th>Random</th>\n      <td>58.585859</td>\n      <td>20.883777</td>\n      <td>33</td>\n    </tr>\n  </tbody>\n</table>\n</div>"
     },
     "execution_count": 286,
     "metadata": {},
     "output_type": "execute_result"
    }
   ],
   "source": [
    "estimated_cols = \"L_BombPiece,L_CrossPiece,L_HorizontalPiece,L_RainbowPiece,L_RocketPiece,L_VerticalPiece\".split(',')\n",
    "\n",
    "\n",
    "estimated_df = df[estimated_cols + ['Method', 'GF_PlayTime']]\n",
    "estimated_df['L_Sum'] = estimated_df[estimated_cols].sum(axis=1)\n",
    "estimated_df['L_Sum_Percentile'] = estimated_df['L_Sum'] / 6 * 100\n",
    "\n",
    "estimated_df.groupby(['Method'])['L_Sum_Percentile'].agg(['mean', 'std', 'count'])"
   ],
   "metadata": {
    "collapsed": false,
    "pycharm": {
     "name": "#%%\n"
    }
   }
  },
  {
   "cell_type": "code",
   "execution_count": 290,
   "outputs": [
    {
     "data": {
      "text/plain": "0          0\n1       2153\n2       1170\n3        188\n4        165\n        ... \n5335       0\n5336       0\n5337       0\n5338       0\n5339       0\nName: PCGTime, Length: 5340, dtype: int64"
     },
     "execution_count": 290,
     "metadata": {},
     "output_type": "execute_result"
    }
   ],
   "source": [
    "full_df['PCGTime']"
   ],
   "metadata": {
    "collapsed": false,
    "pycharm": {
     "name": "#%%\n"
    }
   }
  },
  {
   "cell_type": "code",
   "source": [
    "# Generating time\n",
    "pcgtime_df = full_df[full_df['L_Step'] != 1]\n",
    "\n",
    "\n",
    "pcgtime_df.groupby(['Method'])['PCGTime'].agg(['mean', 'std'])"
   ],
   "metadata": {
    "collapsed": false,
    "pycharm": {
     "name": "#%%\n"
    }
   },
   "execution_count": 307,
   "outputs": [
    {
     "data": {
      "text/plain": "                      mean         std\nMethod                                \nMCTS_Knowledge  740.741996  728.932447\nMCTS_Score      907.379895  862.344419\nRandom            0.000514    0.022663",
      "text/html": "<div>\n<style scoped>\n    .dataframe tbody tr th:only-of-type {\n        vertical-align: middle;\n    }\n\n    .dataframe tbody tr th {\n        vertical-align: top;\n    }\n\n    .dataframe thead th {\n        text-align: right;\n    }\n</style>\n<table border=\"1\" class=\"dataframe\">\n  <thead>\n    <tr style=\"text-align: right;\">\n      <th></th>\n      <th>mean</th>\n      <th>std</th>\n    </tr>\n    <tr>\n      <th>Method</th>\n      <th></th>\n      <th></th>\n    </tr>\n  </thead>\n  <tbody>\n    <tr>\n      <th>MCTS_Knowledge</th>\n      <td>740.741996</td>\n      <td>728.932447</td>\n    </tr>\n    <tr>\n      <th>MCTS_Score</th>\n      <td>907.379895</td>\n      <td>862.344419</td>\n    </tr>\n    <tr>\n      <th>Random</th>\n      <td>0.000514</td>\n      <td>0.022663</td>\n    </tr>\n  </tbody>\n</table>\n</div>"
     },
     "execution_count": 307,
     "metadata": {},
     "output_type": "execute_result"
    }
   ]
  },
  {
   "cell_type": "raw",
   "source": [
    "sns.boxplot(data=pcgtime_df, x=\"Method\", y=\"PCGTime\", width=0.3)"
   ],
   "metadata": {
    "collapsed": false,
    "pycharm": {
     "name": "#%% raw\n"
    }
   }
  },
  {
   "cell_type": "raw",
   "source": [
    "# Calculate the first and third quartiles (Q1 and Q3) and the Interquartile Range (IQR)\n",
    "Q1 = pcgtime_df['PCGTime'].quantile(0.25)\n",
    "Q3 = pcgtime_df['PCGTime'].quantile(0.75)\n",
    "IQR = Q3 - Q1\n",
    "\n",
    "# Define the lower and upper bounds to filter out outliers\n",
    "lower_bound = Q1 - 1.5 * IQR\n",
    "upper_bound = Q3 + 1.5 * IQR\n",
    "\n",
    "# Filter the DataFrame to remove outliers from \"PCGTime\"\n",
    "pcgtime_df_filtered = pcgtime_df[(pcgtime_df['PCGTime'] >= lower_bound) & (pcgtime_df['PCGTime'] <= upper_bound)]\n",
    "pcgtime_df_filtered.groupby(['Method'])['PCGTime'].agg(['mean', 'std'])"
   ],
   "metadata": {
    "collapsed": false,
    "pycharm": {
     "name": "#%% raw\n"
    }
   }
  },
  {
   "cell_type": "code",
   "source": [
    "import numpy as np\n",
    "z_scores = np.abs((pcgtime_df['PCGTime'] - pcgtime_df['PCGTime'].mean()) / pcgtime_df['PCGTime'].std())\n",
    "\n",
    "# Define the Z-score threshold for outlier detection\n",
    "z_score_threshold = 2.0  # You can adjust this threshold as needed, e.g., 2.0 or 3.0\n",
    "\n",
    "# Filter the DataFrame to remove outliers from \"PCGTime\"\n",
    "pcgtime_df_filtered = pcgtime_df[z_scores <= z_score_threshold]\n",
    "pcgtime_df_filtered.groupby(['Method'])['PCGTime'].agg(['mean', 'std'])\n"
   ],
   "metadata": {
    "collapsed": false,
    "pycharm": {
     "name": "#%%\n"
    }
   },
   "execution_count": 308,
   "outputs": [
    {
     "data": {
      "text/plain": "                      mean         std\nMethod                                \nMCTS_Knowledge  622.130060  513.502232\nMCTS_Score      688.069661  533.759387\nRandom            0.000514    0.022663",
      "text/html": "<div>\n<style scoped>\n    .dataframe tbody tr th:only-of-type {\n        vertical-align: middle;\n    }\n\n    .dataframe tbody tr th {\n        vertical-align: top;\n    }\n\n    .dataframe thead th {\n        text-align: right;\n    }\n</style>\n<table border=\"1\" class=\"dataframe\">\n  <thead>\n    <tr style=\"text-align: right;\">\n      <th></th>\n      <th>mean</th>\n      <th>std</th>\n    </tr>\n    <tr>\n      <th>Method</th>\n      <th></th>\n      <th></th>\n    </tr>\n  </thead>\n  <tbody>\n    <tr>\n      <th>MCTS_Knowledge</th>\n      <td>622.130060</td>\n      <td>513.502232</td>\n    </tr>\n    <tr>\n      <th>MCTS_Score</th>\n      <td>688.069661</td>\n      <td>533.759387</td>\n    </tr>\n    <tr>\n      <th>Random</th>\n      <td>0.000514</td>\n      <td>0.022663</td>\n    </tr>\n  </tbody>\n</table>\n</div>"
     },
     "execution_count": 308,
     "metadata": {},
     "output_type": "execute_result"
    }
   ]
  },
  {
   "cell_type": "code",
   "execution_count": null,
   "outputs": [],
   "source": [
    "sns.boxplot(data=pcgtime_df_filtered, x=\"Method\", y=\"PCGTime\", width=0.3)"
   ],
   "metadata": {
    "collapsed": false,
    "pycharm": {
     "name": "#%%\n"
    }
   }
  }
 ],
 "metadata": {
  "kernelspec": {
   "display_name": "Python 3",
   "language": "python",
   "name": "python3"
  },
  "language_info": {
   "codemirror_mode": {
    "name": "ipython",
    "version": 2
   },
   "file_extension": ".py",
   "mimetype": "text/x-python",
   "name": "python",
   "nbconvert_exporter": "python",
   "pygments_lexer": "ipython2",
   "version": "2.7.6"
  }
 },
 "nbformat": 4,
 "nbformat_minor": 0
}