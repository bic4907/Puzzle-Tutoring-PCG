{
 "cells": [
  {
   "cell_type": "code",
   "execution_count": 415,
   "metadata": {
    "collapsed": true
   },
   "outputs": [],
   "source": [
    "import pandas as pd\n",
    "import matplotlib.pyplot as plt\n",
    "from sklearn.manifold import TSNE\n",
    "import seaborn as sns\n",
    "import re\n",
    "from os import path\n",
    "from glob import glob\n",
    "from tqdm import tqdm\n",
    "import numpy as np\n",
    "from matplotlib import cm\n",
    "from pprint import pprint\n",
    "from plotting_utils import get_legend_name, remove_outliers"
   ]
  },
  {
   "cell_type": "code",
   "execution_count": 416,
   "metadata": {
    "collapsed": false,
    "pycharm": {
     "name": "#%%\n"
    }
   },
   "outputs": [],
   "source": [
    "ROOT_PATH = '\\\\\\\\CILab_NAS_Data/homes/inchang/PuzzlePCG/Runtime'"
   ]
  },
  {
   "cell_type": "code",
   "execution_count": 417,
   "metadata": {
    "collapsed": false,
    "pycharm": {
     "name": "#%%\n"
    }
   },
   "outputs": [],
   "source": [
    "files = glob(path.join(ROOT_PATH, '*', 'MatchResult_*.csv'))\n"
   ]
  },
  {
   "cell_type": "code",
   "execution_count": 418,
   "metadata": {
    "collapsed": false,
    "pycharm": {
     "name": "#%%\n"
    }
   },
   "outputs": [],
   "source": [
    "StatisticsColumns = [\n",
    "    'ReachedKnowledgeStep',\n",
    "    'Matched_HorizontalPiece', 'Matched_VerticalPiece', 'Matched_CrossPiece', 'Matched_RocketPiece', 'Matched_BombPiece', 'Matched_RainbowPiece']"
   ]
  },
  {
   "cell_type": "code",
   "execution_count": 419,
   "metadata": {
    "collapsed": false,
    "pycharm": {
     "name": "#%%\n"
    }
   },
   "outputs": [],
   "source": [
    "replacements = {\n",
    "    'met': 'method',\n",
    "    'pla': 'player',\n",
    "    'eff': 'simpleEffect',\n",
    "    'obj': 'objective',\n",
    "    'sim': 'simulation',\n",
    "    'rat': 'almostRatio',\n",
    "    'pdep': 'playerDepth',\n",
    "}\n",
    "\n",
    "def parse_filename(data):\n",
    "    result = dict()\n",
    "    for i in range(0, len(data), 2):\n",
    "        if data[i] in replacements.keys():\n",
    "            data[i] = replacements[data[i]]\n",
    "\n",
    "        result[data[i]] = data[i+1]\n",
    "\n",
    "    return result"
   ]
  },
  {
   "cell_type": "code",
   "metadata": {
    "collapsed": false,
    "pycharm": {
     "name": "#%%\n"
    }
   },
   "source": [
    "dfs = []\n",
    "for file_path in tqdm(files):\n",
    "    # print(file_path)\n",
    "    file_name = path.basename(file_path)\n",
    "\n",
    "    _file_name = file_name.split('_')[1:-1]\n",
    "    args = parse_filename(_file_name)\n",
    "\n",
    "    df = pd.read_csv(file_path)\n",
    "\n",
    "    for key, value in args.items():\n",
    "        df[key] = value\n",
    "    dfs.append(df)\n",
    "\n",
    "original_df = pd.concat(dfs)\n",
    "\n",
    "original_df['Sum_Matched'] = original_df['Matched_HorizontalPiece'] + original_df['Matched_HorizontalPiece'] + original_df['Matched_HorizontalPiece']  + \\\n",
    "    original_df['Matched_HorizontalPiece'] + original_df['Matched_HorizontalPiece'] + original_df['Matched_HorizontalPiece']\n",
    "original_df.loc[original_df['method'] == 'random', 'simulation'] = 0\n",
    "\n",
    "original_df['simpleEffect'] = original_df['simpleEffect'].replace(np.nan, 0)\n",
    "original_df['objective'] = original_df['objective'].replace(np.nan, '-')\n",
    "\n",
    "original_df.loc[original_df['method'] == 'random', 'playerDepth'] = '-'\n",
    "original_df.loc[original_df['method'] == 'sampling', 'playerDepth'] = '-'\n",
    "original_df.loc[original_df['method'] == 'ga', 'playerDepth'] = '-'\n",
    "original_df.loc[original_df['method'] == 'ga2', 'playerDepth'] = '-'\n",
    "original_df.loc[original_df['method'] == 'random', 'simulation'] = '-'\n",
    "original_df.loc[original_df['method'] == 'ga', 'simulation'] = '-'\n",
    "original_df.loc[original_df['method'] == 'ga2', 'simulation'] = '-'\n",
    "# original_df.loc[original_df['method'] == 'sampling', 'simulation'] = '-'\n",
    "original_df.loc[original_df['method'] == 'random', 'almostRatio'] = '-'\n",
    "original_df.loc[original_df['method'] == 'sampling', 'almostRatio'] = '-'\n",
    "original_df.loc[original_df['method'] == 'ga', 'almostRatio'] = '-'\n",
    "original_df.loc[original_df['objective'] == 'kp', 'almostRatio'] = '-'\n",
    "original_df.loc[original_df['objective'] == 'score', 'almostRatio'] = '-'\n",
    "original_df.loc[original_df['method'] == 'ga', 'simulation'] = original_df.loc[original_df['method'] == 'ga', 'evo']"
   ],
   "execution_count": 432,
   "outputs": [
    {
     "name": "stderr",
     "output_type": "stream",
     "text": [
      "100%|██████████| 13/13 [00:00<00:00, 76.10it/s]\n"
     ]
    }
   ]
  },
  {
   "cell_type": "code",
   "execution_count": 421,
   "outputs": [
    {
     "data": {
      "text/plain": "   EpisodeCount  StepCount                     Time InstanceUUID  SettleCount  \\\n0             1        200  2023-06-06 16:10:00.559     36ce7add            0   \n0             1        200  2023-06-06 15:54:00.481     2aaed08c            0   \n0             1        200  2023-06-06 15:48:29.290     d1cbfc26            0   \n0             1        200  2023-06-06 16:16:17.061     86672895            0   \n0             1        200  2023-06-06 15:25:35.926     9f7fd6a4            0   \n0             1        200  2023-06-06 15:31:49.095     a01bc9dc            0   \n0             1        200  2023-06-06 15:30:47.957     32d9fd56            0   \n0             1        200  2023-06-06 15:49:39.714     c25b742c            0   \n0             1        200  2023-06-06 15:23:52.986     72685cfb            0   \n0             1        200  2023-06-06 15:34:27.284     f0bc56a5            0   \n0             1        200  2023-06-06 15:29:01.119     d11bb8d3            0   \n0             1        200  2023-06-06 16:23:57.941     91e416dd            0   \n0             1        200  2023-06-06 16:33:45.236     13fb8ff0            1   \n\n   ChangedCount  MeanGenerateRuntimes  StdGenerateRuntimes  \\\n0             0              3.554892         2.227754e+00   \n0             0              4.445067         2.827114e+00   \n0             0              5.039569         3.391899e+00   \n0             0              6.001655         3.883866e+00   \n0             0              0.232345         1.955789e-01   \n0             0              0.122924         1.142682e-01   \n0             0              0.234448         1.777326e-01   \n0             0              0.150261         1.724586e-01   \n0             0              0.000001         8.996043e-07   \n0             0              0.538796         3.068706e-02   \n0             0              1.135450         4.965578e-02   \n0             0              1.715889         7.761779e-02   \n0             0              2.277447         9.270971e-02   \n\n   MeanGenerateScores  StdGenerateScores  ...  Target_RainbowPiece    method  \\\n0            0.095534           0.272751  ...                    3        ga   \n0            0.082062           0.248286  ...                    3        ga   \n0            0.081353           0.257645  ...                    3        ga   \n0            0.093908           0.264847  ...                    3        ga   \n0            0.116032           0.298178  ...                    3      mcts   \n0            0.110777           0.298781  ...                    3      mcts   \n0            0.089986           0.256608  ...                    3      mcts   \n0            0.092220           0.264419  ...                    3      mcts   \n0            0.000000           0.000000  ...                    3    random   \n0            0.139918           0.317690  ...                    3  sampling   \n0            0.119522           0.301509  ...                    3  sampling   \n0            0.130791           0.312073  ...                    3  sampling   \n0            0.105041           0.276846  ...                    3  sampling   \n\n   player  simpleEffect  objective  evo  simulation  almostRatio  playerDepth  \\\n0       1             1  knowledge   10           -            -            -   \n0       1             1  knowledge   20           -            -            -   \n0       1             1  knowledge   30           -            -            -   \n0       1             1  knowledge   40           -            -            -   \n0       1             1  knowledge  NaN        1000          1.0            1   \n0       1             1  knowledge  NaN         100          1.0            1   \n0       1             1  knowledge  NaN         200          1.0            1   \n0       1             1  knowledge  NaN         400          1.0            1   \n0       1             1          -  NaN           -            -            -   \n0       1             1          -  NaN          10            -            -   \n0       1             1          -  NaN          20            -            -   \n0       1             1          -  NaN          30            -            -   \n0       1             1          -  NaN          40            -            -   \n\n   Sum_Matched  \n0          156  \n0          228  \n0          234  \n0          210  \n0          324  \n0           78  \n0          330  \n0          156  \n0          294  \n0          120  \n0          234  \n0          120  \n0          192  \n\n[13 rows x 35 columns]",
      "text/html": "<div>\n<style scoped>\n    .dataframe tbody tr th:only-of-type {\n        vertical-align: middle;\n    }\n\n    .dataframe tbody tr th {\n        vertical-align: top;\n    }\n\n    .dataframe thead th {\n        text-align: right;\n    }\n</style>\n<table border=\"1\" class=\"dataframe\">\n  <thead>\n    <tr style=\"text-align: right;\">\n      <th></th>\n      <th>EpisodeCount</th>\n      <th>StepCount</th>\n      <th>Time</th>\n      <th>InstanceUUID</th>\n      <th>SettleCount</th>\n      <th>ChangedCount</th>\n      <th>MeanGenerateRuntimes</th>\n      <th>StdGenerateRuntimes</th>\n      <th>MeanGenerateScores</th>\n      <th>StdGenerateScores</th>\n      <th>...</th>\n      <th>Target_RainbowPiece</th>\n      <th>method</th>\n      <th>player</th>\n      <th>simpleEffect</th>\n      <th>objective</th>\n      <th>evo</th>\n      <th>simulation</th>\n      <th>almostRatio</th>\n      <th>playerDepth</th>\n      <th>Sum_Matched</th>\n    </tr>\n  </thead>\n  <tbody>\n    <tr>\n      <th>0</th>\n      <td>1</td>\n      <td>200</td>\n      <td>2023-06-06 16:10:00.559</td>\n      <td>36ce7add</td>\n      <td>0</td>\n      <td>0</td>\n      <td>3.554892</td>\n      <td>2.227754e+00</td>\n      <td>0.095534</td>\n      <td>0.272751</td>\n      <td>...</td>\n      <td>3</td>\n      <td>ga</td>\n      <td>1</td>\n      <td>1</td>\n      <td>knowledge</td>\n      <td>10</td>\n      <td>-</td>\n      <td>-</td>\n      <td>-</td>\n      <td>156</td>\n    </tr>\n    <tr>\n      <th>0</th>\n      <td>1</td>\n      <td>200</td>\n      <td>2023-06-06 15:54:00.481</td>\n      <td>2aaed08c</td>\n      <td>0</td>\n      <td>0</td>\n      <td>4.445067</td>\n      <td>2.827114e+00</td>\n      <td>0.082062</td>\n      <td>0.248286</td>\n      <td>...</td>\n      <td>3</td>\n      <td>ga</td>\n      <td>1</td>\n      <td>1</td>\n      <td>knowledge</td>\n      <td>20</td>\n      <td>-</td>\n      <td>-</td>\n      <td>-</td>\n      <td>228</td>\n    </tr>\n    <tr>\n      <th>0</th>\n      <td>1</td>\n      <td>200</td>\n      <td>2023-06-06 15:48:29.290</td>\n      <td>d1cbfc26</td>\n      <td>0</td>\n      <td>0</td>\n      <td>5.039569</td>\n      <td>3.391899e+00</td>\n      <td>0.081353</td>\n      <td>0.257645</td>\n      <td>...</td>\n      <td>3</td>\n      <td>ga</td>\n      <td>1</td>\n      <td>1</td>\n      <td>knowledge</td>\n      <td>30</td>\n      <td>-</td>\n      <td>-</td>\n      <td>-</td>\n      <td>234</td>\n    </tr>\n    <tr>\n      <th>0</th>\n      <td>1</td>\n      <td>200</td>\n      <td>2023-06-06 16:16:17.061</td>\n      <td>86672895</td>\n      <td>0</td>\n      <td>0</td>\n      <td>6.001655</td>\n      <td>3.883866e+00</td>\n      <td>0.093908</td>\n      <td>0.264847</td>\n      <td>...</td>\n      <td>3</td>\n      <td>ga</td>\n      <td>1</td>\n      <td>1</td>\n      <td>knowledge</td>\n      <td>40</td>\n      <td>-</td>\n      <td>-</td>\n      <td>-</td>\n      <td>210</td>\n    </tr>\n    <tr>\n      <th>0</th>\n      <td>1</td>\n      <td>200</td>\n      <td>2023-06-06 15:25:35.926</td>\n      <td>9f7fd6a4</td>\n      <td>0</td>\n      <td>0</td>\n      <td>0.232345</td>\n      <td>1.955789e-01</td>\n      <td>0.116032</td>\n      <td>0.298178</td>\n      <td>...</td>\n      <td>3</td>\n      <td>mcts</td>\n      <td>1</td>\n      <td>1</td>\n      <td>knowledge</td>\n      <td>NaN</td>\n      <td>1000</td>\n      <td>1.0</td>\n      <td>1</td>\n      <td>324</td>\n    </tr>\n    <tr>\n      <th>0</th>\n      <td>1</td>\n      <td>200</td>\n      <td>2023-06-06 15:31:49.095</td>\n      <td>a01bc9dc</td>\n      <td>0</td>\n      <td>0</td>\n      <td>0.122924</td>\n      <td>1.142682e-01</td>\n      <td>0.110777</td>\n      <td>0.298781</td>\n      <td>...</td>\n      <td>3</td>\n      <td>mcts</td>\n      <td>1</td>\n      <td>1</td>\n      <td>knowledge</td>\n      <td>NaN</td>\n      <td>100</td>\n      <td>1.0</td>\n      <td>1</td>\n      <td>78</td>\n    </tr>\n    <tr>\n      <th>0</th>\n      <td>1</td>\n      <td>200</td>\n      <td>2023-06-06 15:30:47.957</td>\n      <td>32d9fd56</td>\n      <td>0</td>\n      <td>0</td>\n      <td>0.234448</td>\n      <td>1.777326e-01</td>\n      <td>0.089986</td>\n      <td>0.256608</td>\n      <td>...</td>\n      <td>3</td>\n      <td>mcts</td>\n      <td>1</td>\n      <td>1</td>\n      <td>knowledge</td>\n      <td>NaN</td>\n      <td>200</td>\n      <td>1.0</td>\n      <td>1</td>\n      <td>330</td>\n    </tr>\n    <tr>\n      <th>0</th>\n      <td>1</td>\n      <td>200</td>\n      <td>2023-06-06 15:49:39.714</td>\n      <td>c25b742c</td>\n      <td>0</td>\n      <td>0</td>\n      <td>0.150261</td>\n      <td>1.724586e-01</td>\n      <td>0.092220</td>\n      <td>0.264419</td>\n      <td>...</td>\n      <td>3</td>\n      <td>mcts</td>\n      <td>1</td>\n      <td>1</td>\n      <td>knowledge</td>\n      <td>NaN</td>\n      <td>400</td>\n      <td>1.0</td>\n      <td>1</td>\n      <td>156</td>\n    </tr>\n    <tr>\n      <th>0</th>\n      <td>1</td>\n      <td>200</td>\n      <td>2023-06-06 15:23:52.986</td>\n      <td>72685cfb</td>\n      <td>0</td>\n      <td>0</td>\n      <td>0.000001</td>\n      <td>8.996043e-07</td>\n      <td>0.000000</td>\n      <td>0.000000</td>\n      <td>...</td>\n      <td>3</td>\n      <td>random</td>\n      <td>1</td>\n      <td>1</td>\n      <td>-</td>\n      <td>NaN</td>\n      <td>-</td>\n      <td>-</td>\n      <td>-</td>\n      <td>294</td>\n    </tr>\n    <tr>\n      <th>0</th>\n      <td>1</td>\n      <td>200</td>\n      <td>2023-06-06 15:34:27.284</td>\n      <td>f0bc56a5</td>\n      <td>0</td>\n      <td>0</td>\n      <td>0.538796</td>\n      <td>3.068706e-02</td>\n      <td>0.139918</td>\n      <td>0.317690</td>\n      <td>...</td>\n      <td>3</td>\n      <td>sampling</td>\n      <td>1</td>\n      <td>1</td>\n      <td>-</td>\n      <td>NaN</td>\n      <td>10</td>\n      <td>-</td>\n      <td>-</td>\n      <td>120</td>\n    </tr>\n    <tr>\n      <th>0</th>\n      <td>1</td>\n      <td>200</td>\n      <td>2023-06-06 15:29:01.119</td>\n      <td>d11bb8d3</td>\n      <td>0</td>\n      <td>0</td>\n      <td>1.135450</td>\n      <td>4.965578e-02</td>\n      <td>0.119522</td>\n      <td>0.301509</td>\n      <td>...</td>\n      <td>3</td>\n      <td>sampling</td>\n      <td>1</td>\n      <td>1</td>\n      <td>-</td>\n      <td>NaN</td>\n      <td>20</td>\n      <td>-</td>\n      <td>-</td>\n      <td>234</td>\n    </tr>\n    <tr>\n      <th>0</th>\n      <td>1</td>\n      <td>200</td>\n      <td>2023-06-06 16:23:57.941</td>\n      <td>91e416dd</td>\n      <td>0</td>\n      <td>0</td>\n      <td>1.715889</td>\n      <td>7.761779e-02</td>\n      <td>0.130791</td>\n      <td>0.312073</td>\n      <td>...</td>\n      <td>3</td>\n      <td>sampling</td>\n      <td>1</td>\n      <td>1</td>\n      <td>-</td>\n      <td>NaN</td>\n      <td>30</td>\n      <td>-</td>\n      <td>-</td>\n      <td>120</td>\n    </tr>\n    <tr>\n      <th>0</th>\n      <td>1</td>\n      <td>200</td>\n      <td>2023-06-06 16:33:45.236</td>\n      <td>13fb8ff0</td>\n      <td>1</td>\n      <td>0</td>\n      <td>2.277447</td>\n      <td>9.270971e-02</td>\n      <td>0.105041</td>\n      <td>0.276846</td>\n      <td>...</td>\n      <td>3</td>\n      <td>sampling</td>\n      <td>1</td>\n      <td>1</td>\n      <td>-</td>\n      <td>NaN</td>\n      <td>40</td>\n      <td>-</td>\n      <td>-</td>\n      <td>192</td>\n    </tr>\n  </tbody>\n</table>\n<p>13 rows × 35 columns</p>\n</div>"
     },
     "execution_count": 421,
     "metadata": {},
     "output_type": "execute_result"
    }
   ],
   "source": [
    "original_df"
   ],
   "metadata": {
    "collapsed": false,
    "pycharm": {
     "name": "#%%\n"
    }
   }
  },
  {
   "cell_type": "code",
   "execution_count": 422,
   "outputs": [],
   "source": [
    "# 완료하지 못했을 경우, 에피소드 최대길이로 설정\n",
    "original_df['ReachedKnowledgeStep'] = original_df['ReachedKnowledgeStep'].replace(-1, 200)\n",
    "original_df['Q1ReachedKnowledgeStep'] = original_df['Q1ReachedKnowledgeStep'].replace(-1, 200)\n",
    "original_df['Q2ReachedKnowledgeStep'] = original_df['Q2ReachedKnowledgeStep'].replace(-1, 200)\n",
    "original_df['Q3ReachedKnowledgeStep'] = original_df['Q3ReachedKnowledgeStep'].replace(-1, 200)\n"
   ],
   "metadata": {
    "collapsed": false,
    "pycharm": {
     "name": "#%%\n"
    }
   }
  },
  {
   "cell_type": "raw",
   "metadata": {
    "collapsed": false,
    "pycharm": {
     "name": "#%% raw\n"
    }
   },
   "source": [
    "\n",
    "pd.set_option('display.max_rows', None)\n",
    "match_result = original_df.groupby(['player', 'method', 'objective', 'playerDepth', 'almostRatio', 'simulation'])[\n",
    "                                      'method',\n",
    "                                      'Matched_HorizontalPiece',\n",
    "                                      'Matched_VerticalPiece',\n",
    "                                      'Matched_CrossPiece',\n",
    "                                      'Matched_RocketPiece',\n",
    "                                      'Matched_BombPiece',\n",
    "                                      'Matched_RainbowPiece',\n",
    "                                      'Q1ReachedKnowledgeStep',\n",
    "                                      'Q2ReachedKnowledgeStep',\n",
    "                                      'Q3ReachedKnowledgeStep',\n",
    "                                      'ReachedKnowledgeStep',\n",
    "                                      'Sum_Matched'].agg(\n",
    "    {\n",
    "        'method': ['count'],\n",
    "        'Q1ReachedKnowledgeStep': ['mean'],\n",
    "        'Q2ReachedKnowledgeStep': ['mean'],\n",
    "        'Q3ReachedKnowledgeStep': ['mean'],\n",
    "        'ReachedKnowledgeStep': ['mean'],\n",
    "        'Matched_HorizontalPiece':['mean'],\n",
    "        'Matched_VerticalPiece':['mean'],\n",
    "        'Matched_CrossPiece':['mean'],\n",
    "        'Matched_RocketPiece':['mean'],\n",
    "        'Matched_BombPiece':['mean'],\n",
    "        'Matched_RainbowPiece':['mean'],\n",
    "        'Sum_Matched':['mean'],\n",
    "     }\n",
    ")\n",
    "\n",
    "\n"
   ]
  },
  {
   "cell_type": "code",
   "execution_count": 423,
   "outputs": [],
   "source": [
    "for i in range(5):\n",
    "    original_df['playerDepth'] = original_df['playerDepth'].replace(str(i), i)\n",
    "for i in range(100, 1000, 100):\n",
    "    original_df['simulation'] = original_df['simulation'].replace(str(i), i)"
   ],
   "metadata": {
    "collapsed": false,
    "pycharm": {
     "name": "#%%\n"
    }
   }
  },
  {
   "cell_type": "code",
   "execution_count": 433,
   "outputs": [
    {
     "name": "stderr",
     "output_type": "stream",
     "text": [
      "C:\\Users\\GIST\\.conda\\envs\\mlagents\\lib\\site-packages\\ipykernel_launcher.py:2: FutureWarning: Indexing with multiple keys (implicitly converted to a tuple of keys) will be deprecated, use a list instead.\n",
      "  \n"
     ]
    },
    {
     "data": {
      "text/plain": "                                          MeanGenerateRuntimes  \\\n                                                          mean   \nmethod   objective playerDepth simulation                        \nga       knowledge -           10                     3.554892   \n                               20                     4.445067   \n                               30                     5.039569   \n                               40                     6.001655   \nmcts     knowledge 1           100                    0.122924   \n                               1000                   0.232345   \n                               200                    0.234448   \n                               400                    0.150261   \nrandom   -         -           -                      0.000001   \nsampling -         -           10                     0.538796   \n                               20                     1.135450   \n                               30                     1.715889   \n                               40                     2.277447   \n\n                                          StdGenerateRuntimes  \n                                                         mean  \nmethod   objective playerDepth simulation                      \nga       knowledge -           10                2.227754e+00  \n                               20                2.827114e+00  \n                               30                3.391899e+00  \n                               40                3.883866e+00  \nmcts     knowledge 1           100               1.142682e-01  \n                               1000              1.955789e-01  \n                               200               1.777326e-01  \n                               400               1.724586e-01  \nrandom   -         -           -                 8.996043e-07  \nsampling -         -           10                3.068706e-02  \n                               20                4.965578e-02  \n                               30                7.761779e-02  \n                               40                9.270971e-02  ",
      "text/html": "<div>\n<style scoped>\n    .dataframe tbody tr th:only-of-type {\n        vertical-align: middle;\n    }\n\n    .dataframe tbody tr th {\n        vertical-align: top;\n    }\n\n    .dataframe thead tr th {\n        text-align: left;\n    }\n\n    .dataframe thead tr:last-of-type th {\n        text-align: right;\n    }\n</style>\n<table border=\"1\" class=\"dataframe\">\n  <thead>\n    <tr>\n      <th></th>\n      <th></th>\n      <th></th>\n      <th></th>\n      <th>MeanGenerateRuntimes</th>\n      <th>StdGenerateRuntimes</th>\n    </tr>\n    <tr>\n      <th></th>\n      <th></th>\n      <th></th>\n      <th></th>\n      <th>mean</th>\n      <th>mean</th>\n    </tr>\n    <tr>\n      <th>method</th>\n      <th>objective</th>\n      <th>playerDepth</th>\n      <th>simulation</th>\n      <th></th>\n      <th></th>\n    </tr>\n  </thead>\n  <tbody>\n    <tr>\n      <th rowspan=\"4\" valign=\"top\">ga</th>\n      <th rowspan=\"4\" valign=\"top\">knowledge</th>\n      <th rowspan=\"4\" valign=\"top\">-</th>\n      <th>10</th>\n      <td>3.554892</td>\n      <td>2.227754e+00</td>\n    </tr>\n    <tr>\n      <th>20</th>\n      <td>4.445067</td>\n      <td>2.827114e+00</td>\n    </tr>\n    <tr>\n      <th>30</th>\n      <td>5.039569</td>\n      <td>3.391899e+00</td>\n    </tr>\n    <tr>\n      <th>40</th>\n      <td>6.001655</td>\n      <td>3.883866e+00</td>\n    </tr>\n    <tr>\n      <th rowspan=\"4\" valign=\"top\">mcts</th>\n      <th rowspan=\"4\" valign=\"top\">knowledge</th>\n      <th rowspan=\"4\" valign=\"top\">1</th>\n      <th>100</th>\n      <td>0.122924</td>\n      <td>1.142682e-01</td>\n    </tr>\n    <tr>\n      <th>1000</th>\n      <td>0.232345</td>\n      <td>1.955789e-01</td>\n    </tr>\n    <tr>\n      <th>200</th>\n      <td>0.234448</td>\n      <td>1.777326e-01</td>\n    </tr>\n    <tr>\n      <th>400</th>\n      <td>0.150261</td>\n      <td>1.724586e-01</td>\n    </tr>\n    <tr>\n      <th>random</th>\n      <th>-</th>\n      <th>-</th>\n      <th>-</th>\n      <td>0.000001</td>\n      <td>8.996043e-07</td>\n    </tr>\n    <tr>\n      <th rowspan=\"4\" valign=\"top\">sampling</th>\n      <th rowspan=\"4\" valign=\"top\">-</th>\n      <th rowspan=\"4\" valign=\"top\">-</th>\n      <th>10</th>\n      <td>0.538796</td>\n      <td>3.068706e-02</td>\n    </tr>\n    <tr>\n      <th>20</th>\n      <td>1.135450</td>\n      <td>4.965578e-02</td>\n    </tr>\n    <tr>\n      <th>30</th>\n      <td>1.715889</td>\n      <td>7.761779e-02</td>\n    </tr>\n    <tr>\n      <th>40</th>\n      <td>2.277447</td>\n      <td>9.270971e-02</td>\n    </tr>\n  </tbody>\n</table>\n</div>"
     },
     "execution_count": 433,
     "metadata": {},
     "output_type": "execute_result"
    }
   ],
   "source": [
    "match_result = original_df.groupby(['method', 'objective', 'playerDepth', 'simulation'])[\n",
    "                                      'method',\n",
    "                                      'MeanGenerateRuntimes','StdGenerateRuntimes'].agg(\n",
    "    {\n",
    "        'MeanGenerateRuntimes': ['mean'],\n",
    "        'StdGenerateRuntimes': ['mean'],\n",
    "     }\n",
    ")\n",
    "match_result\n",
    "\n",
    "\n"
   ],
   "metadata": {
    "collapsed": false,
    "pycharm": {
     "name": "#%%\n"
    }
   }
  },
  {
   "cell_type": "markdown",
   "source": [
    "### Full Result"
   ],
   "metadata": {
    "collapsed": false,
    "pycharm": {
     "name": "#%% md\n"
    }
   }
  },
  {
   "cell_type": "code",
   "execution_count": 425,
   "outputs": [
    {
     "name": "stderr",
     "output_type": "stream",
     "text": [
      "C:\\Users\\GIST\\.conda\\envs\\mlagents\\lib\\site-packages\\ipykernel_launcher.py:24: FutureWarning: Indexing with multiple keys (implicitly converted to a tuple of keys) will be deprecated, use a list instead.\n"
     ]
    },
    {
     "data": {
      "text/plain": "                                                     method\n                                                      count\nmethod simpleEffect objective playerDepth simulation       \nga     1            knowledge -           -               4",
      "text/html": "<div>\n<style scoped>\n    .dataframe tbody tr th:only-of-type {\n        vertical-align: middle;\n    }\n\n    .dataframe tbody tr th {\n        vertical-align: top;\n    }\n\n    .dataframe thead tr th {\n        text-align: left;\n    }\n\n    .dataframe thead tr:last-of-type th {\n        text-align: right;\n    }\n</style>\n<table border=\"1\" class=\"dataframe\">\n  <thead>\n    <tr>\n      <th></th>\n      <th></th>\n      <th></th>\n      <th></th>\n      <th></th>\n      <th>method</th>\n    </tr>\n    <tr>\n      <th></th>\n      <th></th>\n      <th></th>\n      <th></th>\n      <th></th>\n      <th>count</th>\n    </tr>\n    <tr>\n      <th>method</th>\n      <th>simpleEffect</th>\n      <th>objective</th>\n      <th>playerDepth</th>\n      <th>simulation</th>\n      <th></th>\n    </tr>\n  </thead>\n  <tbody>\n    <tr>\n      <th>ga</th>\n      <th>1</th>\n      <th>knowledge</th>\n      <th>-</th>\n      <th>-</th>\n      <td>4</td>\n    </tr>\n  </tbody>\n</table>\n</div>"
     },
     "execution_count": 425,
     "metadata": {},
     "output_type": "execute_result"
    }
   ],
   "source": [
    "# Drop outliers\n",
    "match_result = original_df.copy()\n",
    "\n",
    "match_result = match_result[~match_result['almostRatio'].isin(['0.75'])]\n",
    "# match_result = match_result[~match_result['playerDepth'].isin([2])]\n",
    "# match_result = match_result[~match_result['simulation'].isin([100, 400])]\n",
    "\n",
    "\n",
    "\n",
    "columns_to_remove_outliers = ['Q1ReachedKnowledgeStep',\n",
    "                              'Q2ReachedKnowledgeStep',\n",
    "                              'Q3ReachedKnowledgeStep',\n",
    "                              'ReachedKnowledgeStep']\n",
    "\n",
    "for column in columns_to_remove_outliers:\n",
    "    match_result[column] = match_result.groupby(['method', 'simpleEffect', 'objective', 'playerDepth', 'simulation'])[column].transform(remove_outliers)\n",
    "    match_result = match_result[match_result[column] != -9999]\n",
    "\n",
    "match_result_noout = match_result.copy()\n",
    "\n",
    "# print(set(match_result['playerDepth']))\n",
    "# pd.set_option('display.max_rows', None)\n",
    "match_result = match_result.groupby(['method', 'simpleEffect','objective', 'playerDepth', 'simulation'])[\n",
    "                                      'method',\n",
    "                                      'Matched_HorizontalPiece',\n",
    "                                      'Matched_VerticalPiece',\n",
    "                                      'Matched_CrossPiece',\n",
    "                                      'Matched_RocketPiece',\n",
    "                                      'Matched_BombPiece',\n",
    "                                      'Matched_RainbowPiece',\n",
    "                                      'Q1ReachedKnowledgeStep',\n",
    "                                      'Q2ReachedKnowledgeStep',\n",
    "                                      'Q3ReachedKnowledgeStep',\n",
    "                                      'ReachedKnowledgeStep',\n",
    "                                      'Sum_Matched'].agg(\n",
    "    {\n",
    "        'method': ['count']\n",
    "     }\n",
    ")\n",
    "match_result\n"
   ],
   "metadata": {
    "collapsed": false,
    "pycharm": {
     "name": "#%%\n"
    }
   }
  },
  {
   "cell_type": "markdown",
   "source": [
    "### Depth 1 Result"
   ],
   "metadata": {
    "collapsed": false
   }
  },
  {
   "cell_type": "code",
   "execution_count": 426,
   "outputs": [
    {
     "name": "stderr",
     "output_type": "stream",
     "text": [
      "C:\\Users\\GIST\\.conda\\envs\\mlagents\\lib\\site-packages\\ipykernel_launcher.py:31: FutureWarning: Indexing with multiple keys (implicitly converted to a tuple of keys) will be deprecated, use a list instead.\n"
     ]
    },
    {
     "data": {
      "text/plain": "                            Sum_Matched    25%    50%    75%   100%\n                                   mean   mean   mean   mean   mean\nmethod objective simulation                                        \nga     knowledge -                207.0  31.25  47.75  62.75  63.75",
      "text/html": "<div>\n<style scoped>\n    .dataframe tbody tr th:only-of-type {\n        vertical-align: middle;\n    }\n\n    .dataframe tbody tr th {\n        vertical-align: top;\n    }\n\n    .dataframe thead tr th {\n        text-align: left;\n    }\n\n    .dataframe thead tr:last-of-type th {\n        text-align: right;\n    }\n</style>\n<table border=\"1\" class=\"dataframe\">\n  <thead>\n    <tr>\n      <th></th>\n      <th></th>\n      <th></th>\n      <th>Sum_Matched</th>\n      <th>25%</th>\n      <th>50%</th>\n      <th>75%</th>\n      <th>100%</th>\n    </tr>\n    <tr>\n      <th></th>\n      <th></th>\n      <th></th>\n      <th>mean</th>\n      <th>mean</th>\n      <th>mean</th>\n      <th>mean</th>\n      <th>mean</th>\n    </tr>\n    <tr>\n      <th>method</th>\n      <th>objective</th>\n      <th>simulation</th>\n      <th></th>\n      <th></th>\n      <th></th>\n      <th></th>\n      <th></th>\n    </tr>\n  </thead>\n  <tbody>\n    <tr>\n      <th>ga</th>\n      <th>knowledge</th>\n      <th>-</th>\n      <td>207.0</td>\n      <td>31.25</td>\n      <td>47.75</td>\n      <td>62.75</td>\n      <td>63.75</td>\n    </tr>\n  </tbody>\n</table>\n</div>"
     },
     "execution_count": 426,
     "metadata": {},
     "output_type": "execute_result"
    }
   ],
   "source": [
    "# Drop outliers\n",
    "match_result = original_df.copy()\n",
    "\n",
    "match_result = match_result[~match_result['almostRatio'].isin(['0.75'])]\n",
    "match_result = match_result[~match_result['playerDepth'].isin([2, 3])]\n",
    "match_result = match_result[~match_result['objective'].isin([2, 3])]\n",
    "match_result = match_result[~match_result['simulation'].isin([200])]\n",
    "\n",
    "\n",
    "columns_to_remove_outliers = ['Q1ReachedKnowledgeStep',\n",
    "                              'Q2ReachedKnowledgeStep',\n",
    "                              'Q3ReachedKnowledgeStep',\n",
    "                              'ReachedKnowledgeStep']\n",
    "\n",
    "for column in columns_to_remove_outliers:\n",
    "    match_result[column] = match_result.groupby(['method', 'simpleEffect', 'objective', 'playerDepth', 'simulation'])[column].transform(remove_outliers)\n",
    "    match_result = match_result[match_result[column] != -9999]\n",
    "\n",
    "# print(set(match_result['playerDepth']))\n",
    "# pd.set_option('display.max_rows', None)\n",
    "\n",
    "match_result.rename(columns={\n",
    "                            'ReachedKnowledgeStep': '100%',\n",
    "                            'Q1ReachedKnowledgeStep': '25%',\n",
    "                            'Q2ReachedKnowledgeStep': '50%',\n",
    "                            'Q3ReachedKnowledgeStep': '75%'\n",
    "                            }, inplace=True)\n",
    "\n",
    "\n",
    "match_result = match_result.groupby(['method', 'objective', 'simulation'])[\n",
    "                                      '25%',\n",
    "                                      '50%',\n",
    "                                      '75%',\n",
    "                                      '100%',\n",
    "                                      'Sum_Matched'].agg(\n",
    "    {\n",
    "        'Sum_Matched': ['mean',],\n",
    "        '25%': ['mean'],\n",
    "        '50%': ['mean'],\n",
    "        '75%': ['mean'],\n",
    "        '100%': ['mean'],\n",
    "     }\n",
    ")\n",
    "match_result"
   ],
   "metadata": {
    "collapsed": false,
    "pycharm": {
     "name": "#%%\n"
    }
   }
  },
  {
   "cell_type": "code",
   "execution_count": 427,
   "outputs": [],
   "source": [
    "match_result.to_latex('match_count_table.tex', float_format=\"%.3f\", escape=True)\n"
   ],
   "metadata": {
    "collapsed": false,
    "pycharm": {
     "name": "#%%\n"
    }
   }
  },
  {
   "cell_type": "code",
   "execution_count": 428,
   "outputs": [],
   "source": [
    "display_graphs = ['random', 'ga',\n",
    "                  'sampling_20',\n",
    "                   'mcts_knowledge_1.0_1000_1',\n",
    "                   'mcts_score_1000_1']"
   ],
   "metadata": {
    "collapsed": false,
    "pycharm": {
     "name": "#%%\n"
    }
   }
  },
  {
   "cell_type": "code",
   "metadata": {
    "collapsed": false,
    "pycharm": {
     "name": "#%% md raw\n"
    }
   },
   "source": [
    "melted_df = match_result_noout.copy()\n",
    "\n",
    "melted_df['concat_method'] = melted_df.agg(lambda x: get_legend_name(x), axis=1)\n",
    "pprint(set(melted_df['concat_method']))\n",
    "# Display Target\n",
    "melted_df = melted_df[melted_df['concat_method'].isin(['random', 'ga',\n",
    "                                                       'sampling_20',\n",
    "                                                       'mcts_knowledge_1.0_1000_1',\n",
    "                                                       'mcts_score_1000_1'])]\n",
    "\n",
    "plt.figure(figsize=(7, 5))\n",
    "melted_df = pd.melt(melted_df, id_vars=['EpisodeCount', 'objective', 'concat_method', 'simulation', 'player'],\n",
    "                    value_vars=[*StatisticsColumns], ignore_index=False)\n",
    "\n",
    "melted_df['x'] = melted_df['variable']\n",
    "melted_df['x'] = melted_df['x'].str.replace('ReachedKnowledgeStep', 'r_step')\n",
    "melted_df['x'] = melted_df['x'].str.replace('Matched_HorizontalPiece', 'b0')\n",
    "melted_df['x'] = melted_df['x'].str.replace('Matched_VerticalPiece', 'b1')\n",
    "melted_df['x'] = melted_df['x'].str.replace('Matched_CrossPiece', 'b2')\n",
    "melted_df['x'] = melted_df['x'].str.replace('Matched_RocketPiece', 'b3')\n",
    "melted_df['x'] = melted_df['x'].str.replace('Matched_BombPiece', 'b4')\n",
    "melted_df['x'] = melted_df['x'].str.replace('Matched_RainbowPiece', 'b5')\n",
    "\n",
    "ax = sns.boxplot(x=\"x\", y=\"value\", hue=\"concat_method\", data=melted_df, linewidth=0.8)\n",
    "plt.xticks(rotation=45)\n",
    "plt.tight_layout()\n",
    "plt.savefig('matched_block.png')"
   ],
   "execution_count": 429,
   "outputs": [
    {
     "name": "stdout",
     "output_type": "stream",
     "text": [
      "{'ga'}\n"
     ]
    },
    {
     "data": {
      "text/plain": "<Figure size 700x500 with 1 Axes>",
      "image/png": "[encoded data removed]"
     },
     "metadata": {},
     "output_type": "display_data"
    }
   ]
  },
  {
   "cell_type": "code",
   "execution_count": 430,
   "outputs": [],
   "source": [
    "from statannot import add_stat_annotation\n",
    "from itertools import combinations"
   ],
   "metadata": {
    "collapsed": false,
    "pycharm": {
     "name": "#%%\n"
    }
   }
  },
  {
   "cell_type": "code",
   "execution_count": 431,
   "outputs": [
    {
     "ename": "NameError",
     "evalue": "name 'player_no' is not defined",
     "output_type": "error",
     "traceback": [
      "\u001B[1;31m---------------------------------------------------------------------------\u001B[0m",
      "\u001B[1;31mNameError\u001B[0m                                 Traceback (most recent call last)",
      "\u001B[1;32m~\\AppData\\Local\\Temp\\ipykernel_676856\\2682014339.py\u001B[0m in \u001B[0;36m<module>\u001B[1;34m\u001B[0m\n\u001B[1;32m----> 1\u001B[1;33m \u001B[0mplayer_df\u001B[0m \u001B[1;33m=\u001B[0m \u001B[0mmatch_result_noout\u001B[0m\u001B[1;33m[\u001B[0m\u001B[0mmatch_result_noout\u001B[0m\u001B[1;33m[\u001B[0m\u001B[1;34m'player'\u001B[0m\u001B[1;33m]\u001B[0m \u001B[1;33m==\u001B[0m \u001B[0mstr\u001B[0m\u001B[1;33m(\u001B[0m\u001B[0mplayer_no\u001B[0m\u001B[1;33m)\u001B[0m\u001B[1;33m]\u001B[0m\u001B[1;33m\u001B[0m\u001B[1;33m\u001B[0m\u001B[0m\n\u001B[0m\u001B[0;32m      2\u001B[0m \u001B[0mmelted_df\u001B[0m \u001B[1;33m=\u001B[0m \u001B[0mplayer_df\u001B[0m\u001B[1;33m.\u001B[0m\u001B[0mcopy\u001B[0m\u001B[1;33m(\u001B[0m\u001B[1;33m)\u001B[0m\u001B[1;33m\u001B[0m\u001B[1;33m\u001B[0m\u001B[0m\n\u001B[0;32m      3\u001B[0m \u001B[1;33m\u001B[0m\u001B[0m\n\u001B[0;32m      4\u001B[0m melted_df.rename(columns={\n\u001B[0;32m      5\u001B[0m     \u001B[1;34m'ReachedKnowledgeStep'\u001B[0m\u001B[1;33m:\u001B[0m\u001B[1;34m'100'\u001B[0m\u001B[1;33m,\u001B[0m\u001B[1;33m\u001B[0m\u001B[1;33m\u001B[0m\u001B[0m\n",
      "\u001B[1;31mNameError\u001B[0m: name 'player_no' is not defined"
     ]
    }
   ],
   "source": [
    "player_df = match_result_noout[match_result_noout['player'] == str(player_no)]\n",
    "melted_df = player_df.copy()\n",
    "\n",
    "melted_df.rename(columns={\n",
    "    'ReachedKnowledgeStep':'100',\n",
    "    'Q1ReachedKnowledgeStep':'25',\n",
    "    'Q2ReachedKnowledgeStep':'50',\n",
    "    'Q3ReachedKnowledgeStep':'75'\n",
    "}, inplace=True)\n",
    "\n",
    "_columns = ['25', '50', '75', '100']\n",
    "\n",
    "sns.set_palette('Set2')\n",
    "# melted_df = melted_df.groupby(['player', 'method', 'objective', 'playerDepth', 'simulation']).sample(n=300, random_state=1)\n",
    "melted_df['concat_method'] = melted_df.agg(lambda x: get_legend_name(x), axis=1)\n",
    "melted_df = pd.melt(melted_df, id_vars=['EpisodeCount', 'objective', 'concat_method', 'simulation', 'player'], value_vars=[*_columns], ignore_index=False)\n",
    "\n",
    "melted_df = melted_df[melted_df['concat_method'].isin(display_graphs)]\n",
    "\n",
    "plt.figure(figsize=(7, 4))\n",
    "plt.clf()\n",
    "ax = sns.boxplot(x=\"variable\", y=\"value\", hue=\"concat_method\", data=melted_df, dodge=True, linewidth=0.8)\n",
    "\n",
    "pairs = list()\n",
    "for i in range(25, 101, 25):\n",
    "    pairs.append(((str(i), 'mcts_knowledge_1.0_1000_1'), (str(i), 'mcts_score_1000_1')))\n",
    "    pairs.append(((str(i), 'mcts_knowledge_1.0_1000_1'), (str(i), 'random')))\n",
    "    pairs.append(((str(i), 'random'), (str(i), 'mcts_score_1000_1')))\n",
    "    pairs.append(((str(i), 'random'), (str(i), 'sampling_20')))\n",
    "    pairs.append(((str(i), 'mcts_score_1000_1'), (str(i), 'sampling_20')))\n",
    "    pairs.append(((str(i), 'mcts_knowledge_1.0_1000_1'), (str(i), 'sampling_20')))\n",
    "\n",
    "add_stat_annotation(ax, x=\"variable\", y=\"value\", hue=\"concat_method\", data=melted_df,\n",
    "                    box_pairs=pairs,\n",
    "                    test='t-test_ind', text_format='star', loc='inside', verbose=1)\n",
    "\n",
    "plt.legend(loc='upper left', bbox_to_anchor=(1.0, 0.5))\n",
    "ax.set_title(f'Required Steps for Learning Skill (Player: {player_no})')\n",
    "ax.set_xlabel('Progress (%)')\n",
    "ax.set_ylabel('Step')\n",
    "plt.tight_layout()\n",
    "plt.savefig(f'./figures/learning_steps_p{player_no}', dpi=300)\n",
    "    # plt.show()"
   ],
   "metadata": {
    "collapsed": false,
    "pycharm": {
     "name": "#%%                                                                                                                                                                                                                                                                                                                                                                                                                                                                                                                                                                                                                                                                                                                                                                                                                                                                                                                                                                                                                                                                                                                                                                                                                                                                                                                                                                                                                                                                                                                                                                                                                                                                                                      for player_no in range(0, 11):\n"
    }
   }
  },
  {
   "cell_type": "code",
   "execution_count": null,
   "outputs": [],
   "source": [
    "\n",
    "melted_df = match_result_noout.copy()\n",
    "\n",
    "melted_df.rename(columns={\n",
    "    'ReachedKnowledgeStep':'100',\n",
    "    'Q1ReachedKnowledgeStep':'25',\n",
    "    'Q2ReachedKnowledgeStep':'50',\n",
    "    'Q3ReachedKnowledgeStep':'75'\n",
    "}, inplace=True)\n",
    "\n",
    "_columns = ['25', '50', '75', '100']\n",
    "\n",
    "sns.set_palette('Set3')\n",
    "# melted_df = melted_df.groupby(['player', 'method', 'objective', 'playerDepth', 'simulation']).sample(n=300, random_state=1)\n",
    "melted_df['concat_method'] = melted_df.agg(lambda x: get_legend_name(x), axis=1)\n",
    "melted_df = pd.melt(melted_df, id_vars=['EpisodeCount', 'objective', 'concat_method', 'simulation', 'player'], value_vars=[*_columns], ignore_index=False)\n",
    "\n",
    "melted_df = melted_df[melted_df['concat_method'].isin(display_graphs)]\n",
    "\n",
    "\n",
    "plt.figure(figsize=(7, 4))\n",
    "plt.clf()\n",
    "ax = sns.boxplot(x=\"variable\", y=\"value\", hue=\"concat_method\", data=melted_df, dodge=True, linewidth=0.8)\n",
    "\n",
    "pairs = list()\n",
    "for i in range(25, 101, 25):\n",
    "    pairs.append(((str(i), 'mcts_knowledge_1.0_1000_1'), (str(i), 'mcts_score_1000_1')))\n",
    "    pairs.append(((str(i), 'mcts_knowledge_1.0_1000_1'), (str(i), 'random')))\n",
    "    pairs.append(((str(i), 'random'), (str(i), 'mcts_score_1000_1')))\n",
    "    pairs.append(((str(i), 'random'), (str(i), 'sampling_20')))\n",
    "    pairs.append(((str(i), 'mcts_score_1000_1'), (str(i), 'sampling_20')))\n",
    "    pairs.append(((str(i), 'mcts_knowledge_1.0_1000_1'), (str(i), 'sampling_20')))\n",
    "\n",
    "add_stat_annotation(ax, x=\"variable\", y=\"value\", hue=\"concat_method\", data=melted_df,\n",
    "                    box_pairs=pairs,\n",
    "                    test='t-test_ind', text_format='star', loc='inside', verbose=1)\n",
    "\n",
    "plt.legend(loc='upper left', bbox_to_anchor=(1.0, 0.5))\n",
    "ax.set_title(f'Required Steps for Learning Skill (Player: All)')\n",
    "ax.set_xlabel('Progress (%)')\n",
    "ax.set_ylabel('Step')\n",
    "plt.savefig(f'./figures/learning_steps_pA', dpi=300)\n",
    "# plt.show()"
   ],
   "metadata": {
    "collapsed": false,
    "pycharm": {
     "name": "#%%\n"
    }
   }
  }
 ],
 "metadata": {
  "kernelspec": {
   "name": "python3",
   "language": "python",
   "display_name": "Python 3 (ipykernel)"
  },
  "language_info": {
   "codemirror_mode": {
    "name": "ipython",
    "version": 2
   },
   "file_extension": ".py",
   "mimetype": "text/x-python",
   "name": "python",
   "nbconvert_exporter": "python",
   "pygments_lexer": "ipython2",
   "version": "2.7.6"
  }
 },
 "nbformat": 4,
 "nbformat_minor": 0
}